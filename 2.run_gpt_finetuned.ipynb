{
 "cells": [
  {
   "cell_type": "code",
   "execution_count": 12,
   "metadata": {
    "executionInfo": {
     "elapsed": 2656,
     "status": "ok",
     "timestamp": 1702671298025,
     "user": {
      "displayName": "Yutaro Tanaka",
      "userId": "07520261851707681449"
     },
     "user_tz": 300
    },
    "id": "I5OFeklvAnNn"
   },
   "outputs": [],
   "source": [
    "from bs4 import BeautifulSoup\n",
    "import pandas as pd\n",
    "import numpy as np\n",
    "from glob import glob\n",
    "from tqdm import tqdm\n",
    "import os\n",
    "import requests\n",
    "import json\n",
    "#change to appropriate home folder\n",
    "folder = os.getcwd() + '/'"
   ]
  },
  {
   "cell_type": "code",
   "execution_count": 2,
   "metadata": {},
   "outputs": [],
   "source": [
    "from openai import AzureOpenAI\n",
    "import os\n",
    "import openai\n",
    "from openai import OpenAI"
   ]
  },
  {
   "cell_type": "code",
   "execution_count": 9,
   "metadata": {},
   "outputs": [],
   "source": [
    "def extract_ade_terms_gpt4(text):\n",
    "  \n",
    "  AZURE_OPENAI_KEY = \"1cc983d783784fcf9564848ea6cb7cc4\"\n",
    "  AZURE_OPENAI_ENDPOINT = \"https://onsides-gpt-finetuning.openai.azure.com/\"\n",
    "    \n",
    "  client = AzureOpenAI(\n",
    "      api_key = AZURE_OPENAI_KEY,  \n",
    "      api_version = \"2023-05-15\",\n",
    "      azure_endpoint = AZURE_OPENAI_ENDPOINT\n",
    "    )\n",
    "\n",
    "  chat_completion = client.chat.completions.create(\n",
    "      messages=[\n",
    "          {\"role\": \"system\", \"content\": \"You are an expert in pharmacology.\"},\n",
    "          {\n",
    "              \"role\": \"user\",\n",
    "              \"content\": \"The following is an excerpt of a drug label. \"\\\n",
    "          \"Your task is to find the adverse drug event terms in this text. \"\\\n",
    "          \"Maximize RECALL if possible.\" \\\n",
    "          \"Return only the terms as a comma-separated list. \"\\\n",
    "          \"The input is {}\".format(text)\n",
    "          }\n",
    "      ],\n",
    "      model=\"gpt-35-finetuned-bottomlabels\"\n",
    "  )\n",
    "  term = chat_completion.choices[0].message.content\n",
    "  return term"
   ]
  },
  {
   "cell_type": "markdown",
   "metadata": {
    "id": "8j8YqKK3A9It"
   },
   "source": [
    "---"
   ]
  },
  {
   "cell_type": "markdown",
   "metadata": {
    "id": "8j8YqKK3A9It"
   },
   "source": [
    "---"
   ]
  },
  {
   "cell_type": "markdown",
   "metadata": {
    "id": "DXVva_K7EjUV"
   },
   "source": [
    "---"
   ]
  },
  {
   "cell_type": "code",
   "execution_count": 4,
   "metadata": {
    "colab": {
     "base_uri": "https://localhost:8080/",
     "height": 81
    },
    "executionInfo": {
     "elapsed": 150,
     "status": "ok",
     "timestamp": 1702670701904,
     "user": {
      "displayName": "Yutaro Tanaka",
      "userId": "07520261851707681449"
     },
     "user_tz": 300
    },
    "id": "AWKTqpvKBvOd",
    "outputId": "53ca1550-7bb9-4ec9-ebaf-64bf1275ca8b"
   },
   "outputs": [
    {
     "data": {
      "text/html": [
       "<div>\n",
       "<style scoped>\n",
       "    .dataframe tbody tr th:only-of-type {\n",
       "        vertical-align: middle;\n",
       "    }\n",
       "\n",
       "    .dataframe tbody tr th {\n",
       "        vertical-align: top;\n",
       "    }\n",
       "\n",
       "    .dataframe thead th {\n",
       "        text-align: right;\n",
       "    }\n",
       "</style>\n",
       "<table border=\"1\" class=\"dataframe\">\n",
       "  <thead>\n",
       "    <tr style=\"text-align: right;\">\n",
       "      <th></th>\n",
       "      <th>drug_name</th>\n",
       "      <th>section_name</th>\n",
       "      <th>section_text</th>\n",
       "      <th>section_text_removed</th>\n",
       "    </tr>\n",
       "  </thead>\n",
       "  <tbody>\n",
       "    <tr>\n",
       "      <th>0</th>\n",
       "      <td>KYPROLIS</td>\n",
       "      <td>adverse reactions</td>\n",
       "      <td>6 ADVERSE REACTIONS\\n\\n  The following adv...</td>\n",
       "      <td>The following adverse reactions are discussed ...</td>\n",
       "    </tr>\n",
       "  </tbody>\n",
       "</table>\n",
       "</div>"
      ],
      "text/plain": [
       "  drug_name       section_name  \\\n",
       "0  KYPROLIS  adverse reactions   \n",
       "\n",
       "                                        section_text  \\\n",
       "0      6 ADVERSE REACTIONS\\n\\n  The following adv...   \n",
       "\n",
       "                                section_text_removed  \n",
       "0  The following adverse reactions are discussed ...  "
      ]
     },
     "execution_count": 4,
     "metadata": {},
     "output_type": "execute_result"
    }
   ],
   "source": [
    "train_drug = pd.read_csv(folder+'train_drug_label_text_remove_unnecessary_info.csv')\n",
    "train_drug.head(1)"
   ]
  },
  {
   "cell_type": "code",
   "execution_count": 10,
   "metadata": {
    "colab": {
     "base_uri": "https://localhost:8080/",
     "height": 99
    },
    "executionInfo": {
     "elapsed": 539443,
     "status": "ok",
     "timestamp": 1702671244153,
     "user": {
      "displayName": "Yutaro Tanaka",
      "userId": "07520261851707681449"
     },
     "user_tz": 300
    },
    "id": "l5WcmYJ-B67d",
    "outputId": "17664384-1057-4ba4-b993-9cfd26bb5177"
   },
   "outputs": [
    {
     "name": "stderr",
     "output_type": "stream",
     "text": [
      "239it [06:03,  1.52s/it]\n"
     ]
    },
    {
     "data": {
      "text/html": [
       "<div>\n",
       "<style scoped>\n",
       "    .dataframe tbody tr th:only-of-type {\n",
       "        vertical-align: middle;\n",
       "    }\n",
       "\n",
       "    .dataframe tbody tr th {\n",
       "        vertical-align: top;\n",
       "    }\n",
       "\n",
       "    .dataframe thead th {\n",
       "        text-align: right;\n",
       "    }\n",
       "</style>\n",
       "<table border=\"1\" class=\"dataframe\">\n",
       "  <thead>\n",
       "    <tr style=\"text-align: right;\">\n",
       "      <th></th>\n",
       "      <th>drug_name</th>\n",
       "      <th>section_name</th>\n",
       "      <th>gpt4_output</th>\n",
       "    </tr>\n",
       "  </thead>\n",
       "  <tbody>\n",
       "    <tr>\n",
       "      <th>0</th>\n",
       "      <td>KYPROLIS</td>\n",
       "      <td>adverse reactions</td>\n",
       "      <td>None</td>\n",
       "    </tr>\n",
       "  </tbody>\n",
       "</table>\n",
       "</div>"
      ],
      "text/plain": [
       "  drug_name       section_name gpt4_output\n",
       "0  KYPROLIS  adverse reactions        None"
      ]
     },
     "execution_count": 10,
     "metadata": {},
     "output_type": "execute_result"
    }
   ],
   "source": [
    "gpt4_output = []\n",
    "for i, row in tqdm(train_drug.iterrows()):\n",
    "  name, section= row['drug_name'], row['section_name']\n",
    "  text = row['section_text']\n",
    "  try:\n",
    "    gpt_out = extract_ade_terms_gpt4(text)\n",
    "  except:\n",
    "    gpt_out = None\n",
    "  gpt4_output.append([name, section, gpt_out])\n",
    "gpt4_output = pd.DataFrame(gpt4_output, columns=['drug_name', 'section_name', 'gpt4_output'])\n",
    "gpt4_output.to_csv(folder+'train_drug_label_gpt35_finetuned_output_3.csv', index= False)\n",
    "gpt4_output.head(1)"
   ]
  },
  {
   "cell_type": "code",
   "execution_count": 6,
   "metadata": {},
   "outputs": [
    {
     "data": {
      "text/html": [
       "<div>\n",
       "<style scoped>\n",
       "    .dataframe tbody tr th:only-of-type {\n",
       "        vertical-align: middle;\n",
       "    }\n",
       "\n",
       "    .dataframe tbody tr th {\n",
       "        vertical-align: top;\n",
       "    }\n",
       "\n",
       "    .dataframe thead th {\n",
       "        text-align: right;\n",
       "    }\n",
       "</style>\n",
       "<table border=\"1\" class=\"dataframe\">\n",
       "  <thead>\n",
       "    <tr style=\"text-align: right;\">\n",
       "      <th></th>\n",
       "      <th>drug_name</th>\n",
       "      <th>section_name</th>\n",
       "      <th>gpt4_output</th>\n",
       "    </tr>\n",
       "  </thead>\n",
       "  <tbody>\n",
       "    <tr>\n",
       "      <th>0</th>\n",
       "      <td>KYPROLIS</td>\n",
       "      <td>adverse reactions</td>\n",
       "      <td>NaN</td>\n",
       "    </tr>\n",
       "    <tr>\n",
       "      <th>1</th>\n",
       "      <td>KYPROLIS</td>\n",
       "      <td>warnings and precautions</td>\n",
       "      <td>Cardiac failure, myocardial infarction, myocar...</td>\n",
       "    </tr>\n",
       "    <tr>\n",
       "      <th>2</th>\n",
       "      <td>MULTAQ</td>\n",
       "      <td>adverse reactions</td>\n",
       "      <td>New or worsening heart failure, Liver Injury, ...</td>\n",
       "    </tr>\n",
       "    <tr>\n",
       "      <th>3</th>\n",
       "      <td>MULTAQ</td>\n",
       "      <td>boxed warnings</td>\n",
       "      <td>increased risk of death, stroke, heart failure...</td>\n",
       "    </tr>\n",
       "    <tr>\n",
       "      <th>4</th>\n",
       "      <td>MULTAQ</td>\n",
       "      <td>warnings and precautions</td>\n",
       "      <td>Cardiac rhythm, AF, hepatic injury, pulmonary ...</td>\n",
       "    </tr>\n",
       "    <tr>\n",
       "      <th>5</th>\n",
       "      <td>JUBLIA</td>\n",
       "      <td>adverse reactions</td>\n",
       "      <td>ingrown toenails, application site dermatitis,...</td>\n",
       "    </tr>\n",
       "    <tr>\n",
       "      <th>6</th>\n",
       "      <td>TEFLARO</td>\n",
       "      <td>adverse reactions</td>\n",
       "      <td>hypersensitivity reactions, clostridium diffic...</td>\n",
       "    </tr>\n",
       "    <tr>\n",
       "      <th>7</th>\n",
       "      <td>TEFLARO</td>\n",
       "      <td>warnings and precautions</td>\n",
       "      <td>hypersensitivity reactions, anaphylactic react...</td>\n",
       "    </tr>\n",
       "    <tr>\n",
       "      <th>8</th>\n",
       "      <td>DATSCAN</td>\n",
       "      <td>adverse reactions</td>\n",
       "      <td>Hypersensitivity, injection site reactions, he...</td>\n",
       "    </tr>\n",
       "    <tr>\n",
       "      <th>9</th>\n",
       "      <td>DATSCAN</td>\n",
       "      <td>warnings and precautions</td>\n",
       "      <td>Hypersensitivity reactions, anaphylactic, hype...</td>\n",
       "    </tr>\n",
       "  </tbody>\n",
       "</table>\n",
       "</div>"
      ],
      "text/plain": [
       "  drug_name              section_name  \\\n",
       "0  KYPROLIS         adverse reactions   \n",
       "1  KYPROLIS  warnings and precautions   \n",
       "2    MULTAQ         adverse reactions   \n",
       "3    MULTAQ            boxed warnings   \n",
       "4    MULTAQ  warnings and precautions   \n",
       "5    JUBLIA         adverse reactions   \n",
       "6   TEFLARO         adverse reactions   \n",
       "7   TEFLARO  warnings and precautions   \n",
       "8   DATSCAN         adverse reactions   \n",
       "9   DATSCAN  warnings and precautions   \n",
       "\n",
       "                                         gpt4_output  \n",
       "0                                                NaN  \n",
       "1  Cardiac failure, myocardial infarction, myocar...  \n",
       "2  New or worsening heart failure, Liver Injury, ...  \n",
       "3  increased risk of death, stroke, heart failure...  \n",
       "4  Cardiac rhythm, AF, hepatic injury, pulmonary ...  \n",
       "5  ingrown toenails, application site dermatitis,...  \n",
       "6  hypersensitivity reactions, clostridium diffic...  \n",
       "7  hypersensitivity reactions, anaphylactic react...  \n",
       "8  Hypersensitivity, injection site reactions, he...  \n",
       "9  Hypersensitivity reactions, anaphylactic, hype...  "
      ]
     },
     "execution_count": 6,
     "metadata": {},
     "output_type": "execute_result"
    }
   ],
   "source": [
    "test_df = pd.read_csv(folder+'train_drug_label_gpt35_finetuned_output.csv')\n",
    "test_df.head(10)"
   ]
  },
  {
   "cell_type": "code",
   "execution_count": 7,
   "metadata": {
    "colab": {
     "base_uri": "https://localhost:8080/",
     "height": 81
    },
    "executionInfo": {
     "elapsed": 26,
     "status": "ok",
     "timestamp": 1702671315027,
     "user": {
      "displayName": "Yutaro Tanaka",
      "userId": "07520261851707681449"
     },
     "user_tz": 300
    },
    "id": "PQ2BFVHzFMiP",
    "outputId": "549640e6-72a8-428d-a2cd-f4b45d1928af"
   },
   "outputs": [
    {
     "data": {
      "text/html": [
       "<div>\n",
       "<style scoped>\n",
       "    .dataframe tbody tr th:only-of-type {\n",
       "        vertical-align: middle;\n",
       "    }\n",
       "\n",
       "    .dataframe tbody tr th {\n",
       "        vertical-align: top;\n",
       "    }\n",
       "\n",
       "    .dataframe thead th {\n",
       "        text-align: right;\n",
       "    }\n",
       "</style>\n",
       "<table border=\"1\" class=\"dataframe\">\n",
       "  <thead>\n",
       "    <tr style=\"text-align: right;\">\n",
       "      <th></th>\n",
       "      <th>drug_name</th>\n",
       "      <th>section_name</th>\n",
       "      <th>section_text</th>\n",
       "      <th>section_text_removed</th>\n",
       "    </tr>\n",
       "  </thead>\n",
       "  <tbody>\n",
       "    <tr>\n",
       "      <th>0</th>\n",
       "      <td>IMPAVIDO</td>\n",
       "      <td>adverse reactions</td>\n",
       "      <td>6 ADVERSE REACTIONS\\n\\n  Because clinical ...</td>\n",
       "      <td>EXCERPT:    *    Adverse reactions occurring i...</td>\n",
       "    </tr>\n",
       "  </tbody>\n",
       "</table>\n",
       "</div>"
      ],
      "text/plain": [
       "  drug_name       section_name  \\\n",
       "0  IMPAVIDO  adverse reactions   \n",
       "\n",
       "                                        section_text  \\\n",
       "0      6 ADVERSE REACTIONS\\n\\n  Because clinical ...   \n",
       "\n",
       "                                section_text_removed  \n",
       "0  EXCERPT:    *    Adverse reactions occurring i...  "
      ]
     },
     "execution_count": 7,
     "metadata": {},
     "output_type": "execute_result"
    }
   ],
   "source": [
    "test_drug = pd.read_csv(folder+'test_drug_label_text_remove_unnecessary_info.csv')\n",
    "test_drug.head(1)"
   ]
  },
  {
   "cell_type": "code",
   "execution_count": 8,
   "metadata": {
    "colab": {
     "base_uri": "https://localhost:8080/",
     "height": 99
    },
    "executionInfo": {
     "elapsed": 487489,
     "status": "ok",
     "timestamp": 1702671802496,
     "user": {
      "displayName": "Yutaro Tanaka",
      "userId": "07520261851707681449"
     },
     "user_tz": 300
    },
    "id": "BFGmQmHyFPc3",
    "outputId": "ccec18eb-a178-47d3-b0d1-4d1064ca0421"
   },
   "outputs": [
    {
     "name": "stderr",
     "output_type": "stream",
     "text": [
      "237it [05:18,  1.34s/it]\n"
     ]
    },
    {
     "data": {
      "text/html": [
       "<div>\n",
       "<style scoped>\n",
       "    .dataframe tbody tr th:only-of-type {\n",
       "        vertical-align: middle;\n",
       "    }\n",
       "\n",
       "    .dataframe tbody tr th {\n",
       "        vertical-align: top;\n",
       "    }\n",
       "\n",
       "    .dataframe thead th {\n",
       "        text-align: right;\n",
       "    }\n",
       "</style>\n",
       "<table border=\"1\" class=\"dataframe\">\n",
       "  <thead>\n",
       "    <tr style=\"text-align: right;\">\n",
       "      <th></th>\n",
       "      <th>drug_name</th>\n",
       "      <th>section_name</th>\n",
       "      <th>gpt4_output</th>\n",
       "    </tr>\n",
       "  </thead>\n",
       "  <tbody>\n",
       "    <tr>\n",
       "      <th>0</th>\n",
       "      <td>IMPAVIDO</td>\n",
       "      <td>adverse reactions</td>\n",
       "      <td>nausea, vomiting, diarrhea, headache, decrease...</td>\n",
       "    </tr>\n",
       "  </tbody>\n",
       "</table>\n",
       "</div>"
      ],
      "text/plain": [
       "  drug_name       section_name  \\\n",
       "0  IMPAVIDO  adverse reactions   \n",
       "\n",
       "                                         gpt4_output  \n",
       "0  nausea, vomiting, diarrhea, headache, decrease...  "
      ]
     },
     "execution_count": 8,
     "metadata": {},
     "output_type": "execute_result"
    }
   ],
   "source": [
    "gpt4_output = []\n",
    "for i, row in tqdm(test_drug.iterrows()):\n",
    "  name, section = row['drug_name'], row['section_name']\n",
    "  text = row['section_text']\n",
    "  try:\n",
    "    gpt_out = extract_ade_terms_gpt4(text)\n",
    "  except:\n",
    "    gpt_out = None\n",
    "  gpt4_output.append([name, section, gpt_out])\n",
    "gpt4_output = pd.DataFrame(gpt4_output, columns=['drug_name', 'section_name', 'gpt4_output'])\n",
    "gpt4_output.to_csv(folder+'test_drug_label_gpt35_finetuned_output_2.csv', index= False)\n",
    "gpt4_output.head(1)"
   ]
  },
  {
   "cell_type": "markdown",
   "metadata": {
    "id": "E25UJ6I-FTJ7"
   },
   "source": [
    "----"
   ]
  }
 ],
 "metadata": {
  "colab": {
   "authorship_tag": "ABX9TyOWU6ej8+CycnT0M6yYlTFQ",
   "mount_file_id": "1k-o-zBfImVykvmq43b77n-zEco0VpK67",
   "provenance": []
  },
  "kernelspec": {
   "display_name": "Python 3 (ipykernel)",
   "language": "python",
   "name": "python3"
  },
  "language_info": {
   "codemirror_mode": {
    "name": "ipython",
    "version": 3
   },
   "file_extension": ".py",
   "mimetype": "text/x-python",
   "name": "python",
   "nbconvert_exporter": "python",
   "pygments_lexer": "ipython3",
   "version": "3.10.11"
  }
 },
 "nbformat": 4,
 "nbformat_minor": 4
}
