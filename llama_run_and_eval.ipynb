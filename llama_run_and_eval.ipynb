{
 "cells": [
  {
   "cell_type": "code",
   "execution_count": 1,
   "id": "706f8453-d366-4e8c-976c-90b59cf58197",
   "metadata": {},
   "outputs": [],
   "source": [
    "import os\n",
    "import time\n",
    "import json\n",
    "import requests\n",
    "import pandas as pd\n",
    "from tqdm import tqdm\n",
    "from openai import OpenAI\n",
    "from evaluation_functions import evaluate"
   ]
  },
  {
   "cell_type": "markdown",
   "id": "9db80a89-6744-4602-936e-c5457d547d20",
   "metadata": {},
   "source": [
    "## Set Up"
   ]
  },
  {
   "cell_type": "markdown",
   "id": "8759fb31-5cee-46e8-a65f-36bf14b08730",
   "metadata": {},
   "source": [
    "### Functions"
   ]
  },
  {
   "cell_type": "code",
   "execution_count": 15,
   "id": "2ed0377f",
   "metadata": {},
   "outputs": [],
   "source": [
    "def perform_extraction(model, prompt, text, temperature, max_length):\n",
    "    # ssh -N -f -L localhost:5000:localhost:5000 username@10.19.2.120\n",
    "    llamasgard_endpoint = \"http://localhost:5000/predict\"\n",
    "\n",
    "    # model = codellama/CodeLlama-34b-Instruct-hf\n",
    "    # Define the payload\n",
    "    payload = {\n",
    "        \"input\": prompt.format(text),\n",
    "        \"model_id\": model,\n",
    "        \"parameters\": {\n",
    "            \"temperature\": temperature,\n",
    "            \"max_length\": max_length\n",
    "        }\n",
    "    }\n",
    "    \n",
    "    #print(prompt.format(text))\n",
    "\n",
    "    response = requests.post(llamasgard_endpoint, json=payload)\n",
    "\n",
    "    # Check the response status code\n",
    "    if response.status_code != 200:\n",
    "        print(\"Error:\", response.json())\n",
    "\n",
    "    #print(\"\\n\\n\" + str(response.json()) + \"\\n\")\n",
    "    return response.json().get('response')\n",
    "\n",
    "def perform_cleanup(extraction, openai_api):\n",
    "    client = OpenAI(api_key=openai_api)\n",
    "    \n",
    "    chat_completion = client.chat.completions.create(\n",
    "        messages=[\n",
    "            {\"role\": \"system\", \"content\": \"\"},\n",
    "            {\n",
    "                \"role\": \"user\",\n",
    "                \"content\": \"\"\"The following text is an extraction of adverse event terms from a drug label. Please remove any preamble or postamble from the list and turn the list of ADEs into a comma separated list. \n",
    "The text: {}\"\"\".format(extraction)\n",
    "            }\n",
    "        ],\n",
    "        model=\"gpt-3.5-turbo-16k\",\n",
    "        temperature=0,\n",
    "    )\n",
    "    term = chat_completion.choices[0].message.content\n",
    "    return term"
   ]
  },
  {
   "cell_type": "code",
   "execution_count": 16,
   "id": "57ec29cf",
   "metadata": {},
   "outputs": [],
   "source": [
    "# row['section_text']\n",
    "# perform_extraction(\"google/gemma-7b\", system_content, prompt, row['section_text'], 0)\n"
   ]
  },
  {
   "cell_type": "code",
   "execution_count": 4,
   "id": "98fa878b-b40a-4895-808e-9574b7d004c7",
   "metadata": {},
   "outputs": [],
   "source": [
    "# function for extracting \n",
    "def extract_ade_terms(config, model, prompt, text, temperature, max_length):\n",
    "  extraction = perform_extraction(model, prompt, text, temperature, max_length)\n",
    "  if extraction is None:\n",
    "    raise Exception(f\"perform_extraction() return None for {model}\")\n",
    "  else:\n",
    "    extraction = perform_cleanup(extraction, config['OpenAI']['openai_api_key'])\n",
    "    return extraction\n"
   ]
  },
  {
   "cell_type": "markdown",
   "id": "37930311-07c7-4762-abd1-cb249c5bd25d",
   "metadata": {},
   "source": [
    "### Variables"
   ]
  },
  {
   "cell_type": "code",
   "execution_count": 7,
   "id": "ed8cc025-3af6-4bea-826b-962eb8b36f14",
   "metadata": {},
   "outputs": [],
   "source": [
    "drug_file = 'data/TAC2017/train_drug_label_text.csv'\n",
    "manual_file = 'data/TAC2017/train_drug_label_text_manual_ades.csv'\n",
    "my_max = 10000"
   ]
  },
  {
   "cell_type": "code",
   "execution_count": 23,
   "id": "22518e4d-ec19-4a56-9914-cd969a50cbc3",
   "metadata": {},
   "outputs": [],
   "source": [
    "drugs = pd.read_csv(drug_file)\n",
    "manual_ades = pd.read_csv(manual_file)\n",
    "set_type = drug_file.split('/')[2].split('_')[0] # assuming file follows format \"train_...\" or \"test....\"\n",
    "\n",
    "all_sections = drugs.query(\"section_name != 'all-concat'\").groupby('drug_name')['section_text'].apply(' '.join).reset_index()\n",
    "all_sections.insert(1, \"section_name\", [\"all-concat\" for _ in range(all_sections.shape[0])])\n",
    "drugs = pd.concat([drugs, all_sections])"
   ]
  },
  {
   "cell_type": "markdown",
   "id": "e82ae7da-2a0e-4755-ae4d-4bced5f7f5a2",
   "metadata": {},
   "source": [
    "## Run Llama"
   ]
  },
  {
   "cell_type": "code",
   "execution_count": 24,
   "id": "e618b1c1",
   "metadata": {},
   "outputs": [],
   "source": [
    "outputs = {}"
   ]
  },
  {
   "cell_type": "code",
   "execution_count": 25,
   "id": "f6f04e8a-be72-4ad8-abfe-7b5d60c03a46",
   "metadata": {},
   "outputs": [],
   "source": [
    "config = json.load(open('./config.json'))\n",
    "\n",
    "# gpt_model = 'code-llama-34b'\n",
    "# model_id = \"codellama/CodeLlama-34b-Instruct-hf\"\n",
    "# model_id = \"google/gemma-7b\"\n",
    "model_id = \"mistralai/Mixtral-8x7B-Instruct-v0.1\"\n",
    "\n",
    "model_name = model_id.split('/')[1]\n",
    "\n",
    "max_length = 5000"
   ]
  },
  {
   "cell_type": "code",
   "execution_count": 26,
   "id": "b4b1bbd7-3b6c-42f5-a2af-04391ea86537",
   "metadata": {},
   "outputs": [
    {
     "name": "stdout",
     "output_type": "stream",
     "text": [
      "Modifying the prompt to include instruction tags.\n"
     ]
    },
    {
     "data": {
      "text/plain": [
       "'Mixtral-8x7B-Instruct-v0.1_fatal-prompt-v2_pharmexpert-v0_temp0_train'"
      ]
     },
     "execution_count": 26,
     "metadata": {},
     "output_type": "execute_result"
    }
   ],
   "source": [
    "nruns = 1\n",
    "temperature = 0\n",
    "\n",
    "system_options = {\n",
    "    \"no-system-prompt\": \"\",\n",
    "    \"pharmexpert-v0\": \"You are an expert in pharmacology.\",\n",
    "    \"pharmexpert-v1\": \"You are an expert in medical natural language processing, adverse drug reactions, pharmacology, and clinical trials.\"\n",
    "}\n",
    "\n",
    "prompt_options = {\n",
    "    \"fatal-prompt-v2\": \"\"\"\n",
    "Extract all adverse reactions as they appear, including all synonyms.\n",
    "mentioned in the text and provide them as a comma-separated list.\n",
    "If a fatal event is listed add 'death' to the list.\n",
    "The text is :'{}' \n",
    "\"\"\"\n",
    "}\n",
    "\n",
    "system_name = \"pharmexpert-v0\"\n",
    "system_content = system_options[system_name]\n",
    "\n",
    "user_prompt_name = \"fatal-prompt-v2\"\n",
    "user_prompt = prompt_options[user_prompt_name]\n",
    "\n",
    "gpt_params = [f\"temp{temperature}\"]\n",
    "\n",
    "if model_id.split('/')[0] in (\"codellama\", \"mistralai\"):\n",
    "    print(\"Modifying the prompt to include instruction tags.\")\n",
    "    prefix = \"\"\n",
    "    prompt = f\"<s>[INST] <<SYS>>\\\\n{system_content}\\\\n<</SYS>>\\\\n\\\\n{user_prompt}[/INST]{prefix}\"\n",
    "else:\n",
    "    prompt = system_content + '\\n' + user_prompt\n",
    "\n",
    "output_file_basename = '{}_{}_{}_{}_{}'.format(model_name, user_prompt_name, system_name, '-'.join(gpt_params), set_type)\n",
    "output_file_basename"
   ]
  },
  {
   "cell_type": "code",
   "execution_count": 31,
   "id": "492d7e82-894f-4c0f-bbf1-4de819b94b55",
   "metadata": {},
   "outputs": [
    {
     "name": "stdout",
     "output_type": "stream",
     "text": [
      "Mixtral-8x7B-Instruct-v0.1_fatal-prompt-v2_pharmexpert-v0_temp0_train_run0\n",
      "Run Mixtral-8x7B-Instruct-v0.1_fatal-prompt-v2_pharmexpert-v0_temp0_train_run0 already started will pick up from where it was left off.\n"
     ]
    },
    {
     "name": "stderr",
     "output_type": "stream",
     "text": [
      "100%|██████████| 340/340 [45:24<00:00,  8.01s/it]  "
     ]
    },
    {
     "name": "stdout",
     "output_type": "stream",
     "text": [
      "Run: Mixtral-8x7B-Instruct-v0.1_fatal-prompt-v2_pharmexpert-v0_temp0_train_run0, time elapsed: 2724.8942399024963s.\n"
     ]
    },
    {
     "name": "stderr",
     "output_type": "stream",
     "text": [
      "\n"
     ]
    }
   ],
   "source": [
    "# run Llama\n",
    "for i in range(nruns):\n",
    "    run_key = \"{}_run{}\".format(output_file_basename, i)\n",
    "    print(run_key)\n",
    "    if run_key in outputs:\n",
    "        print(f\"Run {run_key} already started will pick up from where it was left off.\")\n",
    "    elif os.path.exists('results/extract/{}.csv'.format(run_key)):\n",
    "        gpt_output = pd.read_csv('results/extract/{}.csv'.format(run_key))\n",
    "        outputs[run_key] = gpt_output\n",
    "        print(f\"Run {run_key} started, loading from disk and pick up from where it was left off.\")\n",
    "    \n",
    "    start = time.time()\n",
    "    results = list()\n",
    "    for _, row in tqdm(drugs.iterrows(), total=drugs.shape[0]):\n",
    "        name, section = row['drug_name'], row['section_name']\n",
    "\n",
    "        if run_key in outputs:\n",
    "            prev_run_results = outputs[run_key].query(f\"drug_name == '{name}'\").query(f\"section_name == '{section}'\")\n",
    "            if prev_run_results.shape[0]==1:\n",
    "                results.append([name, section, prev_run_results.gpt_output.values[0]])\n",
    "                continue\n",
    "        \n",
    "        text = row['section_text'][:15000]\n",
    "        try:\n",
    "            gpt_out = extract_ade_terms(config, model_id, prompt, text, temperature, max_length)\n",
    "            results.append([name, section, gpt_out])    \n",
    "        except Exception as err:\n",
    "            print(f\"Encountered an exception for row: {name} {section}. Error message below:\")\n",
    "            print(f\"Failed for prompt: {prompt.format(text)}\")\n",
    "            raise err\n",
    "            continue\n",
    "    \n",
    "    gpt_output = pd.DataFrame(\n",
    "        [r for r in results if r is not None],\n",
    "        columns=['drug_name', 'section_name', 'gpt_output']\n",
    "    )\n",
    "    end = time.time()\n",
    "    \n",
    "    if gpt_output.shape[0] > 0:\n",
    "        outputs[run_key] = gpt_output\n",
    "        gpt_output.to_csv('results/extract/{}.csv'.format(run_key))\n",
    "    \n",
    "    print(f\"Run: {run_key}, time elapsed: {end-start}s.\")"
   ]
  },
  {
   "cell_type": "markdown",
   "id": "7986085b",
   "metadata": {},
   "source": [
    "## Evaluation"
   ]
  },
  {
   "cell_type": "code",
   "execution_count": 28,
   "id": "787d7804",
   "metadata": {},
   "outputs": [
    {
     "name": "stdout",
     "output_type": "stream",
     "text": [
      "Running strict evaluation and saving results to disk.\n",
      "code-llama-34b_fatal-prompt-v2_pharmexpert-v0_temp0_train_run0\n"
     ]
    },
    {
     "name": "stderr",
     "output_type": "stream",
     "text": [
      "100%|██████████| 101/101 [00:02<00:00, 50.13it/s]\n"
     ]
    },
    {
     "name": "stdout",
     "output_type": "stream",
     "text": [
      "Running lenient evaluation and saving results to disk.\n",
      "code-llama-34b_fatal-prompt-v2_pharmexpert-v0_temp0_train_run0\n"
     ]
    },
    {
     "name": "stderr",
     "output_type": "stream",
     "text": [
      "100%|██████████| 101/101 [00:15<00:00,  6.50it/s]\n"
     ]
    }
   ],
   "source": [
    "evaluate(outputs, manual_ades, 'strict')\n",
    "evaluate(outputs, manual_ades, 'lenient')"
   ]
  },
  {
   "cell_type": "code",
   "execution_count": 14,
   "id": "b1744345",
   "metadata": {},
   "outputs": [
    {
     "data": {
      "text/plain": [
       "'    6 ADVERSE REACTIONS\\n\\n  The following adverse reactions to XEOMIN are discussed in greater detail in other sections of the labeling:\\n\\n\\n\\n *  Hypersensitivity [ see  Contraindications (4)  and  Warnings and Precautions (5.3)  ]  \\n *  Dysphagia and Breathing Difficulties in Treatment of cervical dystonia [ see  Warnings and Precautions (5.4)   ] \\n *  Spread of Effects from Toxin [see  Warnings and Precautions (5.1)  ]  \\n      EXCERPT:     Cervical Dystonia:  The most commonly observed adverse reactions (>=5% of patients and > placebo) are dysphagia, neck pain, muscle weakness, injection site pain, and musculoskeletal pain (  6.1  ).\\n \\n\\n   Blepharospasm:  The most commonly observed adverse reactions (>=5% of patients and > placebo) are eyelid ptosis, dry eye, dry mouth, diarrhea, headache, visual impairment, dyspnea, nasopharyngitis, and respiratory tract infection (  6.1  ).\\n\\n\\n\\n   Glabellar Lines:  The most commonly observed adverse reaction (>1% of patients and > placebo) is headache (  6.1  ).\\n\\n\\n\\n   To report SUSPECTED ADVERSE REACTIONS, contact Merz Pharmaceuticals, LLC at 888-493-6646 or FDA at 1-800-FDA-1088 or  www.fda.gov/medwatch.    \\n\\n\\n\\n \\n\\n  6.1 Clinical Trials Experience\\n\\n  Because clinical trials are conducted under widely varying conditions, adverse reaction rates observed in the clinical trials of a drug cannot be directly compared to rates in the clinical trials of another drug, and may not reflect the rates observed in practice.\\n\\n\\n\\n     Cervical Dystonia  \\n\\n\\n\\n The data described below reflect exposure to a single intramuscular dose of XEOMIN in a placebo-controlled, Phase 3 trial in patients with cervical dystonia [  see  Clinical Studies (14.1)    ]. In this study, 159 patients received XEOMIN (78 were randomized to receive a total dose of 120 Units, and 81 were randomized to receive a total dose of 240 Units). XEOMIN-treated patients were 18 to 79 years old (mean 53 years), and were predominantly female (66%) and Caucasian (91%). At study baseline, approximately 25% had mild, 50% had moderate, and 25% had severe cervical dystonia. Approximately 61% of XEOMIN-treated patients had previously received another botulinum toxin type A product. Common adverse events (>=5% in any XEOMIN treatment group) observed in patients who received XEOMIN (120 Units or 240 Units) included dysphagia, neck pain, muscle weakness, injection site pain, and musculoskeletal pain.\\n\\n\\n\\n Table 2: Most Common TEAEs (>=5%) and Greater than Placebo: Double-Blind Phase of Clinical Trial \\n                                     Double-Blind Phase       \\n System Organ ClassPreferred Term    XEOMIN 120 Units(N=77)  XEOMIN 240 Units(N=82)  Placebo(N=74)            \\n  \\n Any TEAEs                           57%                     55%                     42%                      \\n Musculoskeletal and connective tissue disorders  23%                     32%                     11%                      \\n   Neck pain                         7%                      15%                     4%                       \\n   Muscular weakness                 7%                      11%                     1%                       \\n   Musculoskeletal pain              7%                      4%                      1%                       \\n Gastrointestinal disorders          18%                     24%                     4%                       \\n   Dysphagia                         13%                     18%                     3%                       \\n Nervous system disorders            16%                     17%                     7%                       \\n General disorders and administration site conditions  16%                     11%                     11%                      \\n   Injection site pain               9%                      4%                      7%                       \\n Infections and infestations         14%                     13%                     11%                      \\n Respiratory, thoracic and mediastinal disorders  13%                     10%                     3%                       \\n              Blepharospasm  \\n \\n\\n In the placebo-controlled Phase 3 trial in patients with blepharospasm previously treated with onabotulinumtoxinA (Botox)  [see  Clinical Studies (14.2)  ]  , 74 patients received XEOMIN at a mean dose of approximately 33 Units per eye (minimum 10 Units, maximum 50 Units). XEOMIN-treated patients were 22 to 79 years of age (mean 62 years), predominantly female (65%), Caucasian (79%), and had a mean time since diagnosis of approximately 5 years.\\n\\n\\n\\n The adverse events occurring in >=5% of XEOMIN-treated patients and greater than placebo in the Phase 3 study were eyelid ptosis, dry eye, dry mouth, diarrhea, headache, visual impairment, dyspnea, nasopharyngitis, and respiratory tract infection. No serious adverse events occurred in patients who received XEOMIN; one placebo-treated patient experienced a serious adverse event (dyspnea).\\n\\n\\n\\n Table 3: Most Common TEAEs (>=5%) and Greater than Placebo: Double-Blind Phase of Clinical Trial \\n                                                        Double-Blind Phase       \\n System Organ Class  Preferred Term                        XEOMIN(N=74)               Placebo(N=34)         \\n  \\n Subjects with TEAEs                                            70%                        62%              \\n Eye disorders                                                  38%                        21%              \\n   Eyelid ptosis                                                19%                        9%               \\n   Dry eye                                                      16%                        12%              \\n   Visual impairment                                            12%                        6%               \\n Gastrointestinal disorders                                     30%                        15%              \\n   Dry mouth                                                    16%                        3%               \\n   Diarrhoea                                                    8%                          -               \\n Infections and infestations                                    20%                        15%              \\n   Nasopharyngitis                                              5%                         3%               \\n Respiratory tract infection                                    5%                         3%               \\n Nervous system disorders                                       14%                        9%               \\n   Headache                                                     7%                         3%               \\n General disorders and administration site conditions             11%                        9%               \\n Respiratory, thoracic and mediastinal disorders                11%                        3%               \\n   Dyspnoea                                                     5%                         3%               \\n             Glabellar Lines  \\n \\n\\n In three placebo-controlled trials in 803 subjects with glabellar lines, 535 subjects received a single dose of 20 Units XEOMIN and 268 subjects received placebo. XEOMIN treated subjects were 24 to 74 years old, and were predominantly female (88%). The most frequent adverse reactions in XEOMIN treated subjects were: headache 29 (5.4%), facial paresis 4 (0.7%), injection site hematoma 3 (0.6%) and eyelid edema 2 (0.4%). Four serious adverse events occurred in two placebo-treated subjects. Six XEOMIN treated subjects experienced six serious adverse events. All serious adverse events were assessed as unrelated to study drug.\\n\\n\\n\\n The adverse reactions below reflect exposure to XEOMIN with glabellar lines in placebo-controlled studies. Adverse reactions are adverse events in which there is some basis to believe there is a causal relationship between the drug and the occurrence of the adverse event.\\n\\n\\n\\n Because clinical trials are conducted under widely varying conditions, adverse reaction rates observed in the clinical trials of a drug cannot be directly compared to rates in the clinical trials of another drug and may not reflect the rates observed in practice.\\n\\n\\n\\n Table 4: Adverse Reactions in Placebo-Controlled Trials \\n           Adverse reactions                    XEOMIN(N=535) (%)               Placebo(N=268) (%)          \\n  \\n        Nervous system disorders                    33 (6.1)                          6 (2.2)               \\n             Headache  1                            29 (5.4)                          6 (2.2)               \\n      Facial paresis (brow ptosis)                   4 (0.7)                             0                  \\n   General disorders and administration site conditions                5 (0.9)                          2 (0.7)               \\n        Injection site hematoma                      3 (0.6)                             0                  \\n          Injection site pain                        1 (0.2)                             0                  \\n              Facial pain                            1 (0.2)                             0                  \\n        Injection site swelling                         0                             1 (0.4)               \\n         Sensation of pressure                          0                             1 (0.4)               \\n             Eye disorders                           5 (0.9)                             0                  \\n              Eyelid edema                           2 (0.4)                             0                  \\n             Blepharospasm                           1 (0.2)                             0                  \\n              Eye disorder                           1(0.2)                              0                  \\n             Eyelid ptosis                           1(0.2)                              0                  \\n         In open label, multiple dose trials, adverse reactions were reported for 105 of the 800 subjects (13.1%). Headache was the most common adverse reaction, reported for 57 subjects (7.1%), followed by injection site hematoma in 8 subjects (1.0%). Adverse reactions reported in less than 1% of subjects were: facial paresis (brow ptosis), muscle disorder (elevation of eyebrow), injection site pain, and eyelid edema.\\n \\n\\n   6.2 Immunogenicity\\n\\n  As with all therapeutic proteins, there is a potential for immunogenicity.\\n\\n\\n\\n The incidence of antibody formation is highly dependent on the sensitivity and specificity of the assay. In addition, the observed incidence of antibody positivity in an assay may be influenced by several factors including assay methodology, sample handling, timing of sample collection, concomitant medications, and underlying disease. For these reasons, comparison of the incidence of antibodies across products in this class may be misleading.\\n\\n\\n\\n   6.3 Postmarketing Experience\\n\\n  The following adverse reactions have been reported during post-approval use with XEOMIN. Because these reactions are reported voluntarily from a population of uncertain size, it is not always possible to reliably estimate their frequency or establish a causal relationship to drug exposure: eye swelling, eyelid edema, dysphagia, nausea, flu-like symptoms, injection site pain, injection site reaction, allergic dermatitis, localized allergic reactions like swelling, edema, erythema, pruritus or rash, herpes zoster, muscular weakness, muscle spasm, dysarthria, myalgia and hypersensitivity.\\n'"
      ]
     },
     "execution_count": 14,
     "metadata": {},
     "output_type": "execute_result"
    }
   ],
   "source": [
    "text"
   ]
  },
  {
   "cell_type": "code",
   "execution_count": null,
   "id": "e6d06f37",
   "metadata": {},
   "outputs": [],
   "source": []
  }
 ],
 "metadata": {
  "kernelspec": {
   "display_name": "Python 3 (ipykernel)",
   "language": "python",
   "name": "python3"
  },
  "language_info": {
   "codemirror_mode": {
    "name": "ipython",
    "version": 3
   },
   "file_extension": ".py",
   "mimetype": "text/x-python",
   "name": "python",
   "nbconvert_exporter": "python",
   "pygments_lexer": "ipython3",
   "version": "3.10.0"
  }
 },
 "nbformat": 4,
 "nbformat_minor": 5
}
