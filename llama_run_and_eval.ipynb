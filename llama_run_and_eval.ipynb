{
 "cells": [
  {
   "cell_type": "code",
   "execution_count": 58,
   "id": "706f8453-d366-4e8c-976c-90b59cf58197",
   "metadata": {},
   "outputs": [],
   "source": [
    "import os\n",
    "import time\n",
    "import json\n",
    "import requests\n",
    "import pandas as pd\n",
    "from tqdm import tqdm\n",
    "from openai import OpenAI\n",
    "from evaluation_functions import evaluate\n",
    "from sentence_transformers import SentenceTransformer\n",
    "\n",
    "from collections import defaultdict"
   ]
  },
  {
   "cell_type": "markdown",
   "id": "9db80a89-6744-4602-936e-c5457d547d20",
   "metadata": {},
   "source": [
    "## Set Up"
   ]
  },
  {
   "cell_type": "markdown",
   "id": "8759fb31-5cee-46e8-a65f-36bf14b08730",
   "metadata": {},
   "source": [
    "### Functions"
   ]
  },
  {
   "cell_type": "code",
   "execution_count": 38,
   "id": "2ed0377f",
   "metadata": {},
   "outputs": [],
   "source": [
    "def perform_extraction(model, prompt, text, temperature, max_length):\n",
    "    # ssh -N -f -L localhost:5000:localhost:5000 username@10.19.2.120\n",
    "    llamasgard_endpoint = \"http://localhost:5000/predict\"\n",
    "\n",
    "    # model = codellama/CodeLlama-34b-Instruct-hf\n",
    "    # Define the payload\n",
    "    payload = {\n",
    "        \"input\": prompt.format(text),\n",
    "        \"model_id\": model,\n",
    "        \"parameters\": {\n",
    "            \"temperature\": temperature,\n",
    "            \"max_length\": max_length\n",
    "        }\n",
    "    }\n",
    "    \n",
    "    #print(prompt.format(text))\n",
    "\n",
    "    response = requests.post(llamasgard_endpoint, json=payload)\n",
    "\n",
    "    # Check the response status code\n",
    "    if response.status_code != 200:\n",
    "        print(\"Error:\", response.json())\n",
    "\n",
    "    #print(\"\\n\\n\" + str(response.json()) + \"\\n\")\n",
    "    return response.json().get('response')\n",
    "\n",
    "def perform_cleanup(extraction, openai_api):\n",
    "    client = OpenAI(api_key=openai_api)\n",
    "    \n",
    "    chat_completion = client.chat.completions.create(\n",
    "        messages=[\n",
    "            {\"role\": \"system\", \"content\": \"\"},\n",
    "            {\n",
    "                \"role\": \"user\",\n",
    "                \"content\": \"\"\"The following text is an extraction of adverse event terms from a drug label. Please remove any preamble or postamble from the list and turn the list of ADEs into a comma separated list. \n",
    "The text: {}\"\"\".format(extraction)\n",
    "            }\n",
    "        ],\n",
    "        model=\"gpt-3.5-turbo-16k\",\n",
    "        temperature=0,\n",
    "    )\n",
    "    term = chat_completion.choices[0].message.content\n",
    "    return term"
   ]
  },
  {
   "cell_type": "code",
   "execution_count": 39,
   "id": "57ec29cf",
   "metadata": {},
   "outputs": [],
   "source": [
    "# row['section_text']\n",
    "# perform_extraction(\"google/gemma-7b\", system_content, prompt, row['section_text'], 0)\n"
   ]
  },
  {
   "cell_type": "code",
   "execution_count": 40,
   "id": "98fa878b-b40a-4895-808e-9574b7d004c7",
   "metadata": {},
   "outputs": [],
   "source": [
    "# function for extracting \n",
    "def extract_ade_terms(config, model, prompt, text, temperature, max_length):\n",
    "  extraction = perform_extraction(model, prompt, text, temperature, max_length)\n",
    "  if extraction is None:\n",
    "    raise Exception(f\"perform_extraction() return None for {model}\")\n",
    "  else:\n",
    "    extraction = perform_cleanup(extraction, config['OpenAI']['openai_api_key'])\n",
    "    return extraction\n"
   ]
  },
  {
   "cell_type": "markdown",
   "id": "37930311-07c7-4762-abd1-cb249c5bd25d",
   "metadata": {},
   "source": [
    "### Variables"
   ]
  },
  {
   "cell_type": "code",
   "execution_count": 41,
   "id": "ed8cc025-3af6-4bea-826b-962eb8b36f14",
   "metadata": {},
   "outputs": [],
   "source": [
    "drug_file = 'data/TAC2017/train_drug_label_text.csv'\n",
    "manual_file = 'data/TAC2017/train_drug_label_text_manual_ades.csv'\n",
    "my_max = 10000"
   ]
  },
  {
   "cell_type": "code",
   "execution_count": 42,
   "id": "22518e4d-ec19-4a56-9914-cd969a50cbc3",
   "metadata": {},
   "outputs": [],
   "source": [
    "drugs = pd.read_csv(drug_file)\n",
    "manual_ades = pd.read_csv(manual_file)\n",
    "set_type = drug_file.split('/')[2].split('_')[0] # assuming file follows format \"train_...\" or \"test....\"\n",
    "\n",
    "all_sections = drugs.query(\"section_name != 'all-concat'\").groupby('drug_name')['section_text'].apply(' '.join).reset_index()\n",
    "all_sections.insert(1, \"section_name\", [\"all-concat\" for _ in range(all_sections.shape[0])])\n",
    "drugs = pd.concat([drugs, all_sections])"
   ]
  },
  {
   "cell_type": "markdown",
   "id": "e82ae7da-2a0e-4755-ae4d-4bced5f7f5a2",
   "metadata": {},
   "source": [
    "## Run Llama"
   ]
  },
  {
   "cell_type": "code",
   "execution_count": 43,
   "id": "e618b1c1",
   "metadata": {},
   "outputs": [],
   "source": [
    "outputs = {}"
   ]
  },
  {
   "cell_type": "code",
   "execution_count": 44,
   "id": "f6f04e8a-be72-4ad8-abfe-7b5d60c03a46",
   "metadata": {},
   "outputs": [],
   "source": [
    "config = json.load(open('./config.json'))\n",
    "\n",
    "# gpt_model = 'code-llama-34b'\n",
    "# model_id = \"codellama/CodeLlama-34b-Instruct-hf\"\n",
    "# model_id = \"google/gemma-7b\"\n",
    "model_id = \"mistralai/Mixtral-8x7B-Instruct-v0.1\"\n",
    "\n",
    "model_name = model_id.split('/')[1]\n",
    "\n",
    "max_length = 5000"
   ]
  },
  {
   "cell_type": "code",
   "execution_count": 45,
   "id": "b4b1bbd7-3b6c-42f5-a2af-04391ea86537",
   "metadata": {},
   "outputs": [
    {
     "name": "stdout",
     "output_type": "stream",
     "text": [
      "Modifying the prompt to include instruction tags.\n"
     ]
    },
    {
     "data": {
      "text/plain": [
       "'Mixtral-8x7B-Instruct-v0.1_fatal-prompt-v2_pharmexpert-v1_temp0_train'"
      ]
     },
     "execution_count": 45,
     "metadata": {},
     "output_type": "execute_result"
    }
   ],
   "source": [
    "nruns = 1\n",
    "temperature = 0\n",
    "\n",
    "system_options = {\n",
    "    \"no-system-prompt\": \"\",\n",
    "    \"pharmexpert-v0\": \"You are an expert in pharmacology.\",\n",
    "    \"pharmexpert-v1\": \"You are an expert in medical natural language processing, adverse drug reactions, pharmacology, and clinical trials.\"\n",
    "}\n",
    "\n",
    "prompt_options = {\n",
    "    \"fatal-prompt-v2\": \"\"\"\n",
    "Extract all adverse reactions as they appear, including all synonyms.\n",
    "mentioned in the text and provide them as a comma-separated list.\n",
    "If a fatal event is listed add 'death' to the list.\n",
    "The text is :'{}' \n",
    "\"\"\"\n",
    "}\n",
    "\n",
    "system_name = \"pharmexpert-v1\"\n",
    "system_content = system_options[system_name]\n",
    "\n",
    "user_prompt_name = \"fatal-prompt-v2\"\n",
    "user_prompt = prompt_options[user_prompt_name]\n",
    "\n",
    "gpt_params = [f\"temp{temperature}\"]\n",
    "\n",
    "if model_id.split('/')[0] in (\"codellama\", \"mistralai\"):\n",
    "    print(\"Modifying the prompt to include instruction tags.\")\n",
    "    prefix = \"\"\n",
    "    prompt = f\"<s>[INST] <<SYS>>\\\\n{system_content}\\\\n<</SYS>>\\\\n\\\\n{user_prompt}[/INST]{prefix}\"\n",
    "else:\n",
    "    prompt = system_content + '\\n' + user_prompt\n",
    "\n",
    "output_file_basename = '{}_{}_{}_{}_{}'.format(model_name, user_prompt_name, system_name, '-'.join(gpt_params), set_type)\n",
    "output_file_basename"
   ]
  },
  {
   "cell_type": "code",
   "execution_count": 64,
   "id": "ae503391",
   "metadata": {},
   "outputs": [],
   "source": [
    "max_tries = 2\n",
    "num_tries = defaultdict(int)"
   ]
  },
  {
   "cell_type": "code",
   "execution_count": 69,
   "id": "492d7e82-894f-4c0f-bbf1-4de819b94b55",
   "metadata": {},
   "outputs": [
    {
     "name": "stdout",
     "output_type": "stream",
     "text": [
      "Mixtral-8x7B-Instruct-v0.1_fatal-prompt-v2_pharmexpert-v1_temp0_train_run0\n",
      "Run Mixtral-8x7B-Instruct-v0.1_fatal-prompt-v2_pharmexpert-v1_temp0_train_run0 already started will pick up from where it was left off.\n"
     ]
    },
    {
     "name": "stderr",
     "output_type": "stream",
     "text": [
      " 36%|███▌      | 121/340 [00:00<00:00, 1200.94it/s]"
     ]
    },
    {
     "name": "stdout",
     "output_type": "stream",
     "text": [
      "Skipping run ('Mixtral-8x7B-Instruct-v0.1_fatal-prompt-v2_pharmexpert-v1_temp0_train_run0', 0) because we have tried it 2 times.\n",
      "Skipping run ('Mixtral-8x7B-Instruct-v0.1_fatal-prompt-v2_pharmexpert-v1_temp0_train_run0', 192) because we have tried it 2 times.\n",
      "Skipping run ('Mixtral-8x7B-Instruct-v0.1_fatal-prompt-v2_pharmexpert-v1_temp0_train_run0', 0) because we have tried it 2 times.\n"
     ]
    },
    {
     "name": "stderr",
     "output_type": "stream",
     "text": [
      "100%|██████████| 340/340 [48:23<00:00,  8.54s/it]  "
     ]
    },
    {
     "name": "stdout",
     "output_type": "stream",
     "text": [
      "Run: Mixtral-8x7B-Instruct-v0.1_fatal-prompt-v2_pharmexpert-v1_temp0_train_run0, time elapsed: 2903.6596310138702s.\n"
     ]
    },
    {
     "name": "stderr",
     "output_type": "stream",
     "text": [
      "\n"
     ]
    }
   ],
   "source": [
    "# run local model\n",
    "for i in range(nruns):\n",
    "    run_key = \"{}_run{}\".format(output_file_basename, i)\n",
    "    print(run_key)\n",
    "    \n",
    "    if run_key in outputs:\n",
    "        print(f\"Run {run_key} already started will pick up from where it was left off.\")\n",
    "    elif os.path.exists('results/extract/{}.csv'.format(run_key)):\n",
    "        gpt_output = pd.read_csv('results/extract/{}.csv'.format(run_key))\n",
    "        outputs[run_key] = gpt_output\n",
    "        print(f\"Run {run_key} started, loading from disk and pick up from where it was left off.\")\n",
    "    \n",
    "    start = time.time()\n",
    "    results = list()\n",
    "    for i, row in tqdm(drugs.iterrows(), total=drugs.shape[0]):\n",
    "\n",
    "        if num_tries[(run_key,i)] >= max_tries:\n",
    "            print(f\"Skipping run {(run_key,i)} because we have tried it {max_tries} times.\")\n",
    "            continue\n",
    "        \n",
    "        name, section = row['drug_name'], row['section_name']\n",
    "\n",
    "        if run_key in outputs:\n",
    "            prev_run_results = outputs[run_key].query(f\"drug_name == '{name}'\").query(f\"section_name == '{section}'\")\n",
    "            if prev_run_results.shape[0]==1:\n",
    "                results.append([name, section, prev_run_results.gpt_output.values[0]])\n",
    "                continue\n",
    "        \n",
    "        text = row['section_text'][:14500]\n",
    "        try:\n",
    "            gpt_out = extract_ade_terms(config, model_id, prompt, text, temperature, max_length)\n",
    "            results.append([name, section, gpt_out])    \n",
    "        except Exception as err:\n",
    "            num_tries[(run_key,i)] += 1\n",
    "            print(f\"Encountered an exception for row: {name} {section}.\")\n",
    "            print(f\"This is the {num_tries[(run_key,i)]} time we have tried to run this. Will try {max_tries} times and then skip.\")\n",
    "            print(f\"Will save progress, so you can restart from where we left off.\")\n",
    "            gpt_output = pd.DataFrame(\n",
    "                [r for r in results if r is not None],\n",
    "                columns=['drug_name', 'section_name', 'gpt_output']\n",
    "            )\n",
    "            if gpt_output.shape[0] > 0:\n",
    "                print(\"Saved progress successfully.\")\n",
    "                outputs[run_key] = gpt_output\n",
    "                gpt_output.to_csv('results/extract/{}.csv'.format(run_key))\n",
    "            \n",
    "            print(f\"Failed for prompt: {prompt.format(text)}\")\n",
    "            raise err\n",
    "            continue\n",
    "    \n",
    "    gpt_output = pd.DataFrame(\n",
    "        [r for r in results if r is not None],\n",
    "        columns=['drug_name', 'section_name', 'gpt_output']\n",
    "    )\n",
    "    end = time.time()\n",
    "    \n",
    "    if gpt_output.shape[0] > 0:\n",
    "        outputs[run_key] = gpt_output\n",
    "        gpt_output.to_csv('results/extract/{}.csv'.format(run_key))\n",
    "    \n",
    "    print(f\"Run: {run_key}, time elapsed: {end-start}s.\")"
   ]
  },
  {
   "cell_type": "markdown",
   "id": "7986085b",
   "metadata": {},
   "source": [
    "## Evaluation"
   ]
  },
  {
   "cell_type": "code",
   "execution_count": 70,
   "id": "787d7804",
   "metadata": {},
   "outputs": [
    {
     "name": "stderr",
     "output_type": "stream",
     "text": [
      "/Users/TatonettiN/Projects/onsides-task1/evaluation_functions.py:42: FutureWarning: The default value of regex will change from True to False in a future version. In addition, single character regular expressions will *not* be treated as literal strings when regex=True.\n",
      "  output['gpt_output'] = output['gpt_output'].str.lower().str.replace('.', '').str.replace('\\n-', ', ').str.split(', ')\n"
     ]
    },
    {
     "name": "stdout",
     "output_type": "stream",
     "text": [
      "Running strict evaluation and saving results to disk.\n",
      "Mixtral-8x7B-Instruct-v0.1_fatal-prompt-v2_pharmexpert-v1_temp0_train_run0\n",
      "saving results to results/evals/Mixtral-8x7B-Instruct-v0.1_fatal-prompt-v2_pharmexpert-v1_temp0_train_run0_strict_granular.csv and results/evals/Mixtral-8x7B-Instruct-v0.1_fatal-prompt-v2_pharmexpert-v1_temp0_train_run0_strict_overall.csv\n"
     ]
    },
    {
     "name": "stderr",
     "output_type": "stream",
     "text": [
      "100%|██████████| 101/101 [00:01<00:00, 52.37it/s]\n",
      "/Users/TatonettiN/Projects/onsides-task1/evaluation_functions.py:42: FutureWarning: The default value of regex will change from True to False in a future version. In addition, single character regular expressions will *not* be treated as literal strings when regex=True.\n",
      "  output['gpt_output'] = output['gpt_output'].str.lower().str.replace('.', '').str.replace('\\n-', ', ').str.split(', ')\n"
     ]
    },
    {
     "name": "stdout",
     "output_type": "stream",
     "text": [
      "Running lenient evaluation and saving results to disk.\n",
      "Mixtral-8x7B-Instruct-v0.1_fatal-prompt-v2_pharmexpert-v1_temp0_train_run0\n",
      "saving results to results/evals/Mixtral-8x7B-Instruct-v0.1_fatal-prompt-v2_pharmexpert-v1_temp0_train_run0_lenient_granular.csv and results/evals/Mixtral-8x7B-Instruct-v0.1_fatal-prompt-v2_pharmexpert-v1_temp0_train_run0_lenient_overall.csv\n"
     ]
    },
    {
     "name": "stderr",
     "output_type": "stream",
     "text": [
      "100%|██████████| 101/101 [00:16<00:00,  6.03it/s]\n"
     ]
    }
   ],
   "source": [
    "evaluate(outputs, manual_ades, 'strict')\n",
    "evaluate(outputs, manual_ades, 'lenient')"
   ]
  },
  {
   "cell_type": "code",
   "execution_count": 72,
   "id": "b1744345",
   "metadata": {},
   "outputs": [],
   "source": [
    "# if using embeddings -- run this once:\n",
    "# get embeddings for manual annotation --- this part is slow -- but should take <5 min\n",
    "embed_model_name = 'llmrails/ember-v1'\n",
    "embed_model = SentenceTransformer(embed_model_name)\n",
    "man_embeds = embed_model.encode(manual_ades['reaction_string'].tolist())\n",
    "manual_ades['embeds'] = list(man_embeds)"
   ]
  },
  {
   "cell_type": "code",
   "execution_count": 73,
   "id": "e6d06f37",
   "metadata": {},
   "outputs": [
    {
     "name": "stdout",
     "output_type": "stream",
     "text": [
      "Running embed evaluation and saving results to disk.\n",
      "Mixtral-8x7B-Instruct-v0.1_fatal-prompt-v2_pharmexpert-v1_temp0_train_run0\n",
      "saving results to results/evals/Mixtral-8x7B-Instruct-v0.1_fatal-prompt-v2_pharmexpert-v1_temp0_train_run0_ember-v1_granular.csv and results/evals/Mixtral-8x7B-Instruct-v0.1_fatal-prompt-v2_pharmexpert-v1_temp0_train_run0_ember-v1_overall.csv\n"
     ]
    },
    {
     "name": "stderr",
     "output_type": "stream",
     "text": [
      "/Users/TatonettiN/Projects/onsides-task1/evaluation_functions.py:42: FutureWarning: The default value of regex will change from True to False in a future version. In addition, single character regular expressions will *not* be treated as literal strings when regex=True.\n",
      "  output['gpt_output'] = output['gpt_output'].str.lower().str.replace('.', '').str.replace('\\n-', ', ').str.split(', ')\n",
      "100%|██████████| 101/101 [01:22<00:00,  1.22it/s]\n"
     ]
    }
   ],
   "source": [
    "evaluate(outputs, manual_ades, 'embed', embed_model=embed_model, embed_model_name=embed_model_name)"
   ]
  }
 ],
 "metadata": {
  "kernelspec": {
   "display_name": "Python 3 (ipykernel)",
   "language": "python",
   "name": "python3"
  },
  "language_info": {
   "codemirror_mode": {
    "name": "ipython",
    "version": 3
   },
   "file_extension": ".py",
   "mimetype": "text/x-python",
   "name": "python",
   "nbconvert_exporter": "python",
   "pygments_lexer": "ipython3",
   "version": "3.10.0"
  }
 },
 "nbformat": 4,
 "nbformat_minor": 5
}
