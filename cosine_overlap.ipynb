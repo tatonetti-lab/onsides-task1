{
 "cells": [
  {
   "cell_type": "code",
   "execution_count": 2,
   "metadata": {},
   "outputs": [],
   "source": [
    "import csv\n",
    "import random\n",
    "import numpy as np\n",
    "import pandas as pd\n",
    "from sentence_transformers import SentenceTransformer\n",
    "from sentence_transformers.util import cos_sim\n",
    "import concurrent\n",
    "from tqdm import tqdm"
   ]
  },
  {
   "cell_type": "code",
   "execution_count": 3,
   "metadata": {},
   "outputs": [
    {
     "name": "stderr",
     "output_type": "stream",
     "text": [
      "/Users/undinagisladottir/opt/anaconda3/envs/llm_cpus/lib/python3.11/site-packages/bitsandbytes/cextension.py:34: UserWarning: The installed version of bitsandbytes was compiled without GPU support. 8-bit optimizers, 8-bit multiplication, and GPU quantization are unavailable.\n",
      "  warn(\"The installed version of bitsandbytes was compiled without GPU support. \"\n"
     ]
    },
    {
     "name": "stdout",
     "output_type": "stream",
     "text": [
      "'NoneType' object has no attribute 'cadam32bit_grad_fp32'\n"
     ]
    }
   ],
   "source": [
    "model_name = 'llmrails/ember-v1'\n",
    "model = SentenceTransformer(model_name)"
   ]
  },
  {
   "cell_type": "markdown",
   "metadata": {},
   "source": [
    "## Overlapping Dataset"
   ]
  },
  {
   "cell_type": "code",
   "execution_count": 4,
   "metadata": {},
   "outputs": [
    {
     "data": {
      "text/html": [
       "<div>\n",
       "<style scoped>\n",
       "    .dataframe tbody tr th:only-of-type {\n",
       "        vertical-align: middle;\n",
       "    }\n",
       "\n",
       "    .dataframe tbody tr th {\n",
       "        vertical-align: top;\n",
       "    }\n",
       "\n",
       "    .dataframe thead th {\n",
       "        text-align: right;\n",
       "    }\n",
       "</style>\n",
       "<table border=\"1\" class=\"dataframe\">\n",
       "  <thead>\n",
       "    <tr style=\"text-align: right;\">\n",
       "      <th></th>\n",
       "      <th>drug</th>\n",
       "      <th>adverse_event</th>\n",
       "      <th>comp_term</th>\n",
       "      <th>is_overlapping</th>\n",
       "    </tr>\n",
       "  </thead>\n",
       "  <tbody>\n",
       "    <tr>\n",
       "      <th>0</th>\n",
       "      <td>XEOMIN</td>\n",
       "      <td>Hypersensitivity</td>\n",
       "      <td>Precautions Dysphagia and</td>\n",
       "      <td>0</td>\n",
       "    </tr>\n",
       "    <tr>\n",
       "      <th>1</th>\n",
       "      <td>XEOMIN</td>\n",
       "      <td>Hypersensitivity</td>\n",
       "      <td>reactions to XEOMIN are discussed in greater d...</td>\n",
       "      <td>0</td>\n",
       "    </tr>\n",
       "    <tr>\n",
       "      <th>2</th>\n",
       "      <td>XEOMIN</td>\n",
       "      <td>Dysphagia</td>\n",
       "      <td>Dysphagia and Breathing Difficulties in Treatment</td>\n",
       "      <td>1</td>\n",
       "    </tr>\n",
       "    <tr>\n",
       "      <th>3</th>\n",
       "      <td>XEOMIN</td>\n",
       "      <td>Dysphagia</td>\n",
       "      <td>Dysphagia and</td>\n",
       "      <td>1</td>\n",
       "    </tr>\n",
       "    <tr>\n",
       "      <th>5</th>\n",
       "      <td>XEOMIN</td>\n",
       "      <td>Dysphagia</td>\n",
       "      <td>Dysphagia and Breathing</td>\n",
       "      <td>1</td>\n",
       "    </tr>\n",
       "  </tbody>\n",
       "</table>\n",
       "</div>"
      ],
      "text/plain": [
       "     drug     adverse_event  \\\n",
       "0  XEOMIN  Hypersensitivity   \n",
       "1  XEOMIN  Hypersensitivity   \n",
       "2  XEOMIN         Dysphagia   \n",
       "3  XEOMIN         Dysphagia   \n",
       "5  XEOMIN         Dysphagia   \n",
       "\n",
       "                                           comp_term  is_overlapping  \n",
       "0                          Precautions Dysphagia and               0  \n",
       "1  reactions to XEOMIN are discussed in greater d...               0  \n",
       "2  Dysphagia and Breathing Difficulties in Treatment               1  \n",
       "3                                      Dysphagia and               1  \n",
       "5                            Dysphagia and Breathing               1  "
      ]
     },
     "execution_count": 4,
     "metadata": {},
     "output_type": "execute_result"
    }
   ],
   "source": [
    "overlap_data = pd.read_csv('data/overlap_data.csv').drop_duplicates()\n",
    "overlap_data.head()"
   ]
  },
  {
   "cell_type": "raw",
   "metadata": {},
   "source": [
    "similarities = []\n",
    "for ind, row in enumerate(overlap_data.itertuples()):\n",
    "    if ind > 100:\n",
    "        break\n",
    "    ade_embed = model.encode(row.adverse_event)\n",
    "    comp_term = model.encode(row.comp_term)\n",
    "    similarities.append(cos_sim(ade_embed, comp_term))"
   ]
  },
  {
   "cell_type": "code",
   "execution_count": 25,
   "metadata": {},
   "outputs": [],
   "source": [
    "def run_iteration(row):\n",
    "    try:\n",
    "        ade_embed = model.encode(row.adverse_event)\n",
    "        comp_term = model.encode(row.comp_term)\n",
    "        similarity = cos_sim(ade_embed, comp_term)[0]\n",
    "        return [row.drug, row.adverse_event, row.comp_term, row.is_overlapping, float(similarity)]\n",
    "    except:\n",
    "        return None"
   ]
  },
  {
   "cell_type": "code",
   "execution_count": 1,
   "metadata": {},
   "outputs": [
    {
     "ename": "NameError",
     "evalue": "name 'overlap_data' is not defined",
     "output_type": "error",
     "traceback": [
      "\u001b[0;31m---------------------------------------------------------------------------\u001b[0m",
      "\u001b[0;31mNameError\u001b[0m                                 Traceback (most recent call last)",
      "Cell \u001b[0;32mIn[1], line 1\u001b[0m\n\u001b[0;32m----> 1\u001b[0m \u001b[38;5;28;01mfor\u001b[39;00m drug \u001b[38;5;129;01min\u001b[39;00m overlap_data\u001b[38;5;241m.\u001b[39mdrug\u001b[38;5;241m.\u001b[39munique():\n\u001b[1;32m      2\u001b[0m     \u001b[38;5;28mprint\u001b[39m(drug)\n",
      "\u001b[0;31mNameError\u001b[0m: name 'overlap_data' is not defined"
     ]
    }
   ],
   "source": []
  },
  {
   "cell_type": "code",
   "execution_count": 37,
   "metadata": {},
   "outputs": [
    {
     "data": {
      "text/plain": [
       "['XEOMIN',\n",
       " 'Hypersensitivity',\n",
       " 'Precautions Dysphagia and',\n",
       " 0,\n",
       " 0.5108517408370972]"
      ]
     },
     "execution_count": 37,
     "metadata": {},
     "output_type": "execute_result"
    }
   ],
   "source": [
    "run_iteration(overlap_data.iloc[0])"
   ]
  },
  {
   "cell_type": "code",
   "execution_count": 49,
   "metadata": {},
   "outputs": [
    {
     "name": "stderr",
     "output_type": "stream",
     "text": [
      " 48%|████▊     | 22419/46840 [16:54:00<18:24:33,  2.71s/it]     \n"
     ]
    },
    {
     "ename": "KeyboardInterrupt",
     "evalue": "",
     "output_type": "error",
     "traceback": [
      "\u001b[0;31m---------------------------------------------------------------------------\u001b[0m",
      "\u001b[0;31mKeyboardInterrupt\u001b[0m                         Traceback (most recent call last)",
      "Cell \u001b[0;32mIn[49], line 2\u001b[0m\n\u001b[1;32m      1\u001b[0m \u001b[38;5;28;01mwith\u001b[39;00m concurrent\u001b[38;5;241m.\u001b[39mfutures\u001b[38;5;241m.\u001b[39mThreadPoolExecutor() \u001b[38;5;28;01mas\u001b[39;00m exec:\n\u001b[0;32m----> 2\u001b[0m     results \u001b[38;5;241m=\u001b[39m \u001b[38;5;28mlist\u001b[39m(tqdm(\n\u001b[1;32m      3\u001b[0m \t\texec\u001b[38;5;241m.\u001b[39mmap(run_iteration, overlap_data\u001b[38;5;241m.\u001b[39mitertuples()), \n\u001b[1;32m      4\u001b[0m \t\ttotal\u001b[38;5;241m=\u001b[39m\u001b[38;5;28mlen\u001b[39m(overlap_data)\n\u001b[1;32m      5\u001b[0m \t))\n",
      "File \u001b[0;32m~/opt/anaconda3/envs/llm_cpus/lib/python3.11/site-packages/tqdm/std.py:1195\u001b[0m, in \u001b[0;36mtqdm.__iter__\u001b[0;34m(self)\u001b[0m\n\u001b[1;32m   1192\u001b[0m time \u001b[38;5;241m=\u001b[39m \u001b[38;5;28mself\u001b[39m\u001b[38;5;241m.\u001b[39m_time\n\u001b[1;32m   1194\u001b[0m \u001b[38;5;28;01mtry\u001b[39;00m:\n\u001b[0;32m-> 1195\u001b[0m     \u001b[38;5;28;01mfor\u001b[39;00m obj \u001b[38;5;129;01min\u001b[39;00m iterable:\n\u001b[1;32m   1196\u001b[0m         \u001b[38;5;28;01myield\u001b[39;00m obj\n\u001b[1;32m   1197\u001b[0m         \u001b[38;5;66;03m# Update and possibly print the progressbar.\u001b[39;00m\n\u001b[1;32m   1198\u001b[0m         \u001b[38;5;66;03m# Note: does not call self.update(1) for speed optimisation.\u001b[39;00m\n",
      "File \u001b[0;32m~/opt/anaconda3/envs/llm_cpus/lib/python3.11/concurrent/futures/_base.py:619\u001b[0m, in \u001b[0;36mExecutor.map.<locals>.result_iterator\u001b[0;34m()\u001b[0m\n\u001b[1;32m    616\u001b[0m \u001b[38;5;28;01mwhile\u001b[39;00m fs:\n\u001b[1;32m    617\u001b[0m     \u001b[38;5;66;03m# Careful not to keep a reference to the popped future\u001b[39;00m\n\u001b[1;32m    618\u001b[0m     \u001b[38;5;28;01mif\u001b[39;00m timeout \u001b[38;5;129;01mis\u001b[39;00m \u001b[38;5;28;01mNone\u001b[39;00m:\n\u001b[0;32m--> 619\u001b[0m         \u001b[38;5;28;01myield\u001b[39;00m _result_or_cancel(fs\u001b[38;5;241m.\u001b[39mpop())\n\u001b[1;32m    620\u001b[0m     \u001b[38;5;28;01melse\u001b[39;00m:\n\u001b[1;32m    621\u001b[0m         \u001b[38;5;28;01myield\u001b[39;00m _result_or_cancel(fs\u001b[38;5;241m.\u001b[39mpop(), end_time \u001b[38;5;241m-\u001b[39m time\u001b[38;5;241m.\u001b[39mmonotonic())\n",
      "File \u001b[0;32m~/opt/anaconda3/envs/llm_cpus/lib/python3.11/concurrent/futures/_base.py:317\u001b[0m, in \u001b[0;36m_result_or_cancel\u001b[0;34m(***failed resolving arguments***)\u001b[0m\n\u001b[1;32m    315\u001b[0m \u001b[38;5;28;01mtry\u001b[39;00m:\n\u001b[1;32m    316\u001b[0m     \u001b[38;5;28;01mtry\u001b[39;00m:\n\u001b[0;32m--> 317\u001b[0m         \u001b[38;5;28;01mreturn\u001b[39;00m fut\u001b[38;5;241m.\u001b[39mresult(timeout)\n\u001b[1;32m    318\u001b[0m     \u001b[38;5;28;01mfinally\u001b[39;00m:\n\u001b[1;32m    319\u001b[0m         fut\u001b[38;5;241m.\u001b[39mcancel()\n",
      "File \u001b[0;32m~/opt/anaconda3/envs/llm_cpus/lib/python3.11/concurrent/futures/_base.py:451\u001b[0m, in \u001b[0;36mFuture.result\u001b[0;34m(self, timeout)\u001b[0m\n\u001b[1;32m    448\u001b[0m \u001b[38;5;28;01melif\u001b[39;00m \u001b[38;5;28mself\u001b[39m\u001b[38;5;241m.\u001b[39m_state \u001b[38;5;241m==\u001b[39m FINISHED:\n\u001b[1;32m    449\u001b[0m     \u001b[38;5;28;01mreturn\u001b[39;00m \u001b[38;5;28mself\u001b[39m\u001b[38;5;241m.\u001b[39m__get_result()\n\u001b[0;32m--> 451\u001b[0m \u001b[38;5;28mself\u001b[39m\u001b[38;5;241m.\u001b[39m_condition\u001b[38;5;241m.\u001b[39mwait(timeout)\n\u001b[1;32m    453\u001b[0m \u001b[38;5;28;01mif\u001b[39;00m \u001b[38;5;28mself\u001b[39m\u001b[38;5;241m.\u001b[39m_state \u001b[38;5;129;01min\u001b[39;00m [CANCELLED, CANCELLED_AND_NOTIFIED]:\n\u001b[1;32m    454\u001b[0m     \u001b[38;5;28;01mraise\u001b[39;00m CancelledError()\n",
      "File \u001b[0;32m~/opt/anaconda3/envs/llm_cpus/lib/python3.11/threading.py:327\u001b[0m, in \u001b[0;36mCondition.wait\u001b[0;34m(self, timeout)\u001b[0m\n\u001b[1;32m    325\u001b[0m \u001b[38;5;28;01mtry\u001b[39;00m:    \u001b[38;5;66;03m# restore state no matter what (e.g., KeyboardInterrupt)\u001b[39;00m\n\u001b[1;32m    326\u001b[0m     \u001b[38;5;28;01mif\u001b[39;00m timeout \u001b[38;5;129;01mis\u001b[39;00m \u001b[38;5;28;01mNone\u001b[39;00m:\n\u001b[0;32m--> 327\u001b[0m         waiter\u001b[38;5;241m.\u001b[39macquire()\n\u001b[1;32m    328\u001b[0m         gotit \u001b[38;5;241m=\u001b[39m \u001b[38;5;28;01mTrue\u001b[39;00m\n\u001b[1;32m    329\u001b[0m     \u001b[38;5;28;01melse\u001b[39;00m:\n",
      "\u001b[0;31mKeyboardInterrupt\u001b[0m: "
     ]
    },
    {
     "ename": "",
     "evalue": "",
     "output_type": "error",
     "traceback": [
      "\u001b[1;31mThe Kernel crashed while executing code in the current cell or a previous cell. \n",
      "\u001b[1;31mPlease review the code in the cell(s) to identify a possible cause of the failure. \n",
      "\u001b[1;31mClick <a href='https://aka.ms/vscodeJupyterKernelCrash'>here</a> for more info. \n",
      "\u001b[1;31mView Jupyter <a href='command:jupyter.viewOutput'>log</a> for further details."
     ]
    }
   ],
   "source": [
    "with concurrent.futures.ThreadPoolExecutor() as exec:\n",
    "    results = list(tqdm(\n",
    "\t\texec.map(run_iteration, overlap_data.itertuples()), \n",
    "\t\ttotal=len(overlap_data)\n",
    "\t))"
   ]
  },
  {
   "cell_type": "code",
   "execution_count": 47,
   "metadata": {},
   "outputs": [],
   "source": [
    "res_sim = pd.DataFrame(\n",
    "    results,\n",
    "    columns=['drug_name', 'adverse_event', 'comp_term', 'is_overlapping', 'similarity']\n",
    ")"
   ]
  },
  {
   "cell_type": "code",
   "execution_count": 48,
   "metadata": {},
   "outputs": [
    {
     "data": {
      "text/html": [
       "<div>\n",
       "<style scoped>\n",
       "    .dataframe tbody tr th:only-of-type {\n",
       "        vertical-align: middle;\n",
       "    }\n",
       "\n",
       "    .dataframe tbody tr th {\n",
       "        vertical-align: top;\n",
       "    }\n",
       "\n",
       "    .dataframe thead th {\n",
       "        text-align: right;\n",
       "    }\n",
       "</style>\n",
       "<table border=\"1\" class=\"dataframe\">\n",
       "  <thead>\n",
       "    <tr style=\"text-align: right;\">\n",
       "      <th></th>\n",
       "      <th>drug_name</th>\n",
       "      <th>adverse_event</th>\n",
       "      <th>comp_term</th>\n",
       "      <th>is_overlapping</th>\n",
       "      <th>similarity</th>\n",
       "    </tr>\n",
       "  </thead>\n",
       "  <tbody>\n",
       "    <tr>\n",
       "      <th>0</th>\n",
       "      <td>XEOMIN</td>\n",
       "      <td>Hypersensitivity</td>\n",
       "      <td>Precautions Dysphagia and</td>\n",
       "      <td>0</td>\n",
       "      <td>0.510852</td>\n",
       "    </tr>\n",
       "    <tr>\n",
       "      <th>1</th>\n",
       "      <td>XEOMIN</td>\n",
       "      <td>Hypersensitivity</td>\n",
       "      <td>reactions to XEOMIN are discussed in greater d...</td>\n",
       "      <td>0</td>\n",
       "      <td>0.554153</td>\n",
       "    </tr>\n",
       "    <tr>\n",
       "      <th>2</th>\n",
       "      <td>XEOMIN</td>\n",
       "      <td>Dysphagia</td>\n",
       "      <td>Dysphagia and Breathing Difficulties in Treatment</td>\n",
       "      <td>1</td>\n",
       "      <td>0.766292</td>\n",
       "    </tr>\n",
       "    <tr>\n",
       "      <th>3</th>\n",
       "      <td>XEOMIN</td>\n",
       "      <td>Dysphagia</td>\n",
       "      <td>Dysphagia and</td>\n",
       "      <td>1</td>\n",
       "      <td>0.864872</td>\n",
       "    </tr>\n",
       "    <tr>\n",
       "      <th>4</th>\n",
       "      <td>XEOMIN</td>\n",
       "      <td>Dysphagia</td>\n",
       "      <td>Dysphagia and Breathing</td>\n",
       "      <td>1</td>\n",
       "      <td>0.821762</td>\n",
       "    </tr>\n",
       "    <tr>\n",
       "      <th>...</th>\n",
       "      <td>...</td>\n",
       "      <td>...</td>\n",
       "      <td>...</td>\n",
       "      <td>...</td>\n",
       "      <td>...</td>\n",
       "    </tr>\n",
       "    <tr>\n",
       "      <th>95</th>\n",
       "      <td>XEOMIN</td>\n",
       "      <td>dysphagia</td>\n",
       "      <td>Units or Units dysphagia neck pain muscle weak...</td>\n",
       "      <td>1</td>\n",
       "      <td>0.672436</td>\n",
       "    </tr>\n",
       "    <tr>\n",
       "      <th>96</th>\n",
       "      <td>XEOMIN</td>\n",
       "      <td>neck pain</td>\n",
       "      <td>included neck</td>\n",
       "      <td>1</td>\n",
       "      <td>0.661478</td>\n",
       "    </tr>\n",
       "    <tr>\n",
       "      <th>97</th>\n",
       "      <td>XEOMIN</td>\n",
       "      <td>neck pain</td>\n",
       "      <td>Units</td>\n",
       "      <td>0</td>\n",
       "      <td>0.441835</td>\n",
       "    </tr>\n",
       "    <tr>\n",
       "      <th>98</th>\n",
       "      <td>XEOMIN</td>\n",
       "      <td>neck pain</td>\n",
       "      <td>Units or Units included neck</td>\n",
       "      <td>1</td>\n",
       "      <td>0.609689</td>\n",
       "    </tr>\n",
       "    <tr>\n",
       "      <th>99</th>\n",
       "      <td>XEOMIN</td>\n",
       "      <td>neck pain</td>\n",
       "      <td>and musculoskeletal pain Table</td>\n",
       "      <td>0</td>\n",
       "      <td>0.574043</td>\n",
       "    </tr>\n",
       "  </tbody>\n",
       "</table>\n",
       "<p>100 rows × 5 columns</p>\n",
       "</div>"
      ],
      "text/plain": [
       "   drug_name     adverse_event  \\\n",
       "0     XEOMIN  Hypersensitivity   \n",
       "1     XEOMIN  Hypersensitivity   \n",
       "2     XEOMIN         Dysphagia   \n",
       "3     XEOMIN         Dysphagia   \n",
       "4     XEOMIN         Dysphagia   \n",
       "..       ...               ...   \n",
       "95    XEOMIN         dysphagia   \n",
       "96    XEOMIN         neck pain   \n",
       "97    XEOMIN         neck pain   \n",
       "98    XEOMIN         neck pain   \n",
       "99    XEOMIN         neck pain   \n",
       "\n",
       "                                            comp_term  is_overlapping  \\\n",
       "0                           Precautions Dysphagia and               0   \n",
       "1   reactions to XEOMIN are discussed in greater d...               0   \n",
       "2   Dysphagia and Breathing Difficulties in Treatment               1   \n",
       "3                                       Dysphagia and               1   \n",
       "4                             Dysphagia and Breathing               1   \n",
       "..                                                ...             ...   \n",
       "95  Units or Units dysphagia neck pain muscle weak...               1   \n",
       "96                                      included neck               1   \n",
       "97                                              Units               0   \n",
       "98                       Units or Units included neck               1   \n",
       "99                     and musculoskeletal pain Table               0   \n",
       "\n",
       "    similarity  \n",
       "0     0.510852  \n",
       "1     0.554153  \n",
       "2     0.766292  \n",
       "3     0.864872  \n",
       "4     0.821762  \n",
       "..         ...  \n",
       "95    0.672436  \n",
       "96    0.661478  \n",
       "97    0.441835  \n",
       "98    0.609689  \n",
       "99    0.574043  \n",
       "\n",
       "[100 rows x 5 columns]"
      ]
     },
     "execution_count": 48,
     "metadata": {},
     "output_type": "execute_result"
    }
   ],
   "source": [
    "res_sim"
   ]
  },
  {
   "cell_type": "code",
   "execution_count": 17,
   "metadata": {},
   "outputs": [
    {
     "name": "stderr",
     "output_type": "stream",
     "text": [
      "/var/folders/sv/s1jkxt011xn9v02w3w30vx640000gn/T/ipykernel_33216/904460465.py:2: SettingWithCopyWarning: \n",
      "A value is trying to be set on a copy of a slice from a DataFrame.\n",
      "Try using .loc[row_indexer,col_indexer] = value instead\n",
      "\n",
      "See the caveats in the documentation: https://pandas.pydata.org/pandas-docs/stable/user_guide/indexing.html#returning-a-view-versus-a-copy\n",
      "  temp['similarity'] = [float(x[0]) for x in similarities]\n"
     ]
    },
    {
     "data": {
      "text/html": [
       "<div>\n",
       "<style scoped>\n",
       "    .dataframe tbody tr th:only-of-type {\n",
       "        vertical-align: middle;\n",
       "    }\n",
       "\n",
       "    .dataframe tbody tr th {\n",
       "        vertical-align: top;\n",
       "    }\n",
       "\n",
       "    .dataframe thead th {\n",
       "        text-align: right;\n",
       "    }\n",
       "</style>\n",
       "<table border=\"1\" class=\"dataframe\">\n",
       "  <thead>\n",
       "    <tr style=\"text-align: right;\">\n",
       "      <th></th>\n",
       "      <th>drug</th>\n",
       "      <th>adverse_event</th>\n",
       "      <th>comp_term</th>\n",
       "      <th>is_overlapping</th>\n",
       "      <th>similarity</th>\n",
       "    </tr>\n",
       "  </thead>\n",
       "  <tbody>\n",
       "    <tr>\n",
       "      <th>0</th>\n",
       "      <td>XEOMIN</td>\n",
       "      <td>Hypersensitivity</td>\n",
       "      <td>Precautions Dysphagia and</td>\n",
       "      <td>0</td>\n",
       "      <td>0.510852</td>\n",
       "    </tr>\n",
       "    <tr>\n",
       "      <th>1</th>\n",
       "      <td>XEOMIN</td>\n",
       "      <td>Hypersensitivity</td>\n",
       "      <td>reactions to XEOMIN are discussed in greater d...</td>\n",
       "      <td>0</td>\n",
       "      <td>0.554153</td>\n",
       "    </tr>\n",
       "    <tr>\n",
       "      <th>2</th>\n",
       "      <td>XEOMIN</td>\n",
       "      <td>Dysphagia</td>\n",
       "      <td>Dysphagia and Breathing Difficulties in Treatment</td>\n",
       "      <td>1</td>\n",
       "      <td>0.766292</td>\n",
       "    </tr>\n",
       "    <tr>\n",
       "      <th>3</th>\n",
       "      <td>XEOMIN</td>\n",
       "      <td>Dysphagia</td>\n",
       "      <td>Dysphagia and</td>\n",
       "      <td>1</td>\n",
       "      <td>0.864872</td>\n",
       "    </tr>\n",
       "    <tr>\n",
       "      <th>5</th>\n",
       "      <td>XEOMIN</td>\n",
       "      <td>Dysphagia</td>\n",
       "      <td>Dysphagia and Breathing</td>\n",
       "      <td>1</td>\n",
       "      <td>0.821762</td>\n",
       "    </tr>\n",
       "  </tbody>\n",
       "</table>\n",
       "</div>"
      ],
      "text/plain": [
       "     drug     adverse_event  \\\n",
       "0  XEOMIN  Hypersensitivity   \n",
       "1  XEOMIN  Hypersensitivity   \n",
       "2  XEOMIN         Dysphagia   \n",
       "3  XEOMIN         Dysphagia   \n",
       "5  XEOMIN         Dysphagia   \n",
       "\n",
       "                                           comp_term  is_overlapping  \\\n",
       "0                          Precautions Dysphagia and               0   \n",
       "1  reactions to XEOMIN are discussed in greater d...               0   \n",
       "2  Dysphagia and Breathing Difficulties in Treatment               1   \n",
       "3                                      Dysphagia and               1   \n",
       "5                            Dysphagia and Breathing               1   \n",
       "\n",
       "   similarity  \n",
       "0    0.510852  \n",
       "1    0.554153  \n",
       "2    0.766292  \n",
       "3    0.864872  \n",
       "5    0.821762  "
      ]
     },
     "execution_count": 17,
     "metadata": {},
     "output_type": "execute_result"
    }
   ],
   "source": [
    "temp = overlap_data[:(ind)]\n",
    "temp['similarity'] = [float(x[0]) for x in similarities]\n",
    "temp.head()"
   ]
  },
  {
   "cell_type": "code",
   "execution_count": 53,
   "metadata": {},
   "outputs": [
    {
     "ename": "KeyboardInterrupt",
     "evalue": "",
     "output_type": "error",
     "traceback": [
      "\u001b[0;31m---------------------------------------------------------------------------\u001b[0m",
      "\u001b[0;31mKeyboardInterrupt\u001b[0m                         Traceback (most recent call last)",
      "Cell \u001b[0;32mIn[53], line 2\u001b[0m\n\u001b[1;32m      1\u001b[0m overlap_data[\u001b[38;5;124m'\u001b[39m\u001b[38;5;124made_embed\u001b[39m\u001b[38;5;124m'\u001b[39m] \u001b[38;5;241m=\u001b[39m \u001b[38;5;28mlist\u001b[39m(model\u001b[38;5;241m.\u001b[39mencode(overlap_data[\u001b[38;5;124m'\u001b[39m\u001b[38;5;124madverse_event\u001b[39m\u001b[38;5;124m'\u001b[39m]\u001b[38;5;241m.\u001b[39mtolist()))\n\u001b[0;32m----> 2\u001b[0m overlap_data[\u001b[38;5;124m'\u001b[39m\u001b[38;5;124mcomp_embed\u001b[39m\u001b[38;5;124m'\u001b[39m] \u001b[38;5;241m=\u001b[39m \u001b[38;5;28mlist\u001b[39m(model\u001b[38;5;241m.\u001b[39mencode(overlap_data[\u001b[38;5;124m'\u001b[39m\u001b[38;5;124mcomp_term\u001b[39m\u001b[38;5;124m'\u001b[39m]\u001b[38;5;241m.\u001b[39mtolist()))\n\u001b[1;32m      3\u001b[0m overlap_data\u001b[38;5;241m.\u001b[39mhead()\n",
      "File \u001b[0;32m~/opt/anaconda3/envs/llm_cpus/lib/python3.11/site-packages/sentence_transformers/SentenceTransformer.py:307\u001b[0m, in \u001b[0;36mSentenceTransformer.encode\u001b[0;34m(self, sentences, batch_size, show_progress_bar, output_value, convert_to_numpy, convert_to_tensor, device, normalize_embeddings)\u001b[0m\n\u001b[1;32m    305\u001b[0m             \u001b[38;5;66;03m# fixes for #522 and #487 to avoid oom problems on gpu with large datasets\u001b[39;00m\n\u001b[1;32m    306\u001b[0m             \u001b[38;5;28;01mif\u001b[39;00m convert_to_numpy:\n\u001b[0;32m--> 307\u001b[0m                 embeddings \u001b[38;5;241m=\u001b[39m embeddings\u001b[38;5;241m.\u001b[39mcpu()\n\u001b[1;32m    309\u001b[0m         all_embeddings\u001b[38;5;241m.\u001b[39mextend(embeddings)\n\u001b[1;32m    311\u001b[0m all_embeddings \u001b[38;5;241m=\u001b[39m [all_embeddings[idx] \u001b[38;5;28;01mfor\u001b[39;00m idx \u001b[38;5;129;01min\u001b[39;00m np\u001b[38;5;241m.\u001b[39margsort(length_sorted_idx)]\n",
      "\u001b[0;31mKeyboardInterrupt\u001b[0m: "
     ]
    }
   ],
   "source": [
    "overlap_data['ade_embed'] = list(model.encode(overlap_data['adverse_event'].tolist()))\n",
    "overlap_data['comp_embed'] = list(model.encode(overlap_data['comp_term'].tolist()))\n",
    "overlap_data.head()"
   ]
  },
  {
   "cell_type": "code",
   "execution_count": null,
   "metadata": {},
   "outputs": [],
   "source": []
  },
  {
   "cell_type": "markdown",
   "metadata": {},
   "source": [
    "## GPT output compared to manual"
   ]
  },
  {
   "cell_type": "code",
   "execution_count": 39,
   "metadata": {},
   "outputs": [
    {
     "data": {
      "text/html": [
       "<div>\n",
       "<style scoped>\n",
       "    .dataframe tbody tr th:only-of-type {\n",
       "        vertical-align: middle;\n",
       "    }\n",
       "\n",
       "    .dataframe tbody tr th {\n",
       "        vertical-align: top;\n",
       "    }\n",
       "\n",
       "    .dataframe thead th {\n",
       "        text-align: right;\n",
       "    }\n",
       "</style>\n",
       "<table border=\"1\" class=\"dataframe\">\n",
       "  <thead>\n",
       "    <tr style=\"text-align: right;\">\n",
       "      <th></th>\n",
       "      <th>drug_name</th>\n",
       "      <th>section_name</th>\n",
       "      <th>gpt_output</th>\n",
       "    </tr>\n",
       "  </thead>\n",
       "  <tbody>\n",
       "    <tr>\n",
       "      <th>0</th>\n",
       "      <td>KYPROLIS</td>\n",
       "      <td>adverse reactions</td>\n",
       "      <td>Cardiac Toxicities</td>\n",
       "    </tr>\n",
       "    <tr>\n",
       "      <th>1</th>\n",
       "      <td>KYPROLIS</td>\n",
       "      <td>adverse reactions</td>\n",
       "      <td>Acute Renal Failure</td>\n",
       "    </tr>\n",
       "    <tr>\n",
       "      <th>2</th>\n",
       "      <td>KYPROLIS</td>\n",
       "      <td>adverse reactions</td>\n",
       "      <td>Tumor Lysis Syndrome</td>\n",
       "    </tr>\n",
       "    <tr>\n",
       "      <th>3</th>\n",
       "      <td>KYPROLIS</td>\n",
       "      <td>adverse reactions</td>\n",
       "      <td>Pulmonary Toxicity</td>\n",
       "    </tr>\n",
       "    <tr>\n",
       "      <th>4</th>\n",
       "      <td>KYPROLIS</td>\n",
       "      <td>adverse reactions</td>\n",
       "      <td>Pulmonary Hypertension</td>\n",
       "    </tr>\n",
       "  </tbody>\n",
       "</table>\n",
       "</div>"
      ],
      "text/plain": [
       "  drug_name       section_name              gpt_output\n",
       "0  KYPROLIS  adverse reactions      Cardiac Toxicities\n",
       "1  KYPROLIS  adverse reactions     Acute Renal Failure\n",
       "2  KYPROLIS  adverse reactions    Tumor Lysis Syndrome\n",
       "3  KYPROLIS  adverse reactions      Pulmonary Toxicity\n",
       "4  KYPROLIS  adverse reactions  Pulmonary Hypertension"
      ]
     },
     "execution_count": 39,
     "metadata": {},
     "output_type": "execute_result"
    }
   ],
   "source": [
    "gpt_output = pd.read_csv('results/OpenAI_gpt-3.5-turbo-0125_fatal-prompt-v2_pharmexpert-v0_train_run0.csv',\n",
    "                         usecols = ['drug_name', 'section_name', 'gpt_output'])\n",
    "gpt_output['gpt_output'] = gpt_output['gpt_output'].str.replace('.', '').str.split(', ')\n",
    "gpt_output = gpt_output.explode('gpt_output').reset_index(drop = True).drop_duplicates()\n",
    "manual_file = pd.read_csv('data/train_drug_label_text_manual_ades.csv',\n",
    "                          usecols = ['drug_name', 'reaction_string', 'meddra_pt', 'section_name',\n",
    "                                     'discontinuous_term', 'negated_term', 'meddra_exact_term']).drop_duplicates()\n",
    "gpt_output.head()"
   ]
  },
  {
   "cell_type": "code",
   "execution_count": 41,
   "metadata": {},
   "outputs": [],
   "source": [
    "gpt_embeds = model.encode(gpt_output['gpt_output'].tolist())\n",
    "gpt_output['embeds'] = list(gpt_embeds)"
   ]
  },
  {
   "cell_type": "code",
   "execution_count": 42,
   "metadata": {},
   "outputs": [],
   "source": [
    "man_embeds = model.encode(manual_file['reaction_string'].tolist())\n",
    "manual_file['embeds'] = list(man_embeds)"
   ]
  },
  {
   "cell_type": "code",
   "execution_count": 30,
   "metadata": {},
   "outputs": [
    {
     "data": {
      "text/html": [
       "<div>\n",
       "<style scoped>\n",
       "    .dataframe tbody tr th:only-of-type {\n",
       "        vertical-align: middle;\n",
       "    }\n",
       "\n",
       "    .dataframe tbody tr th {\n",
       "        vertical-align: top;\n",
       "    }\n",
       "\n",
       "    .dataframe thead th {\n",
       "        text-align: right;\n",
       "    }\n",
       "</style>\n",
       "<table border=\"1\" class=\"dataframe\">\n",
       "  <thead>\n",
       "    <tr style=\"text-align: right;\">\n",
       "      <th></th>\n",
       "      <th>drug_name</th>\n",
       "      <th>section_name</th>\n",
       "      <th>gpt_output</th>\n",
       "      <th>embeds</th>\n",
       "    </tr>\n",
       "  </thead>\n",
       "  <tbody>\n",
       "    <tr>\n",
       "      <th>0</th>\n",
       "      <td>KYPROLIS</td>\n",
       "      <td>adverse reactions</td>\n",
       "      <td>Cardiac Toxicities</td>\n",
       "      <td>[-0.11013074, 0.6761941, 0.7869268, 0.3508221,...</td>\n",
       "    </tr>\n",
       "    <tr>\n",
       "      <th>1</th>\n",
       "      <td>KYPROLIS</td>\n",
       "      <td>adverse reactions</td>\n",
       "      <td>Acute Renal Failure</td>\n",
       "      <td>[0.010086697, 0.9340907, -0.20226005, -0.00631...</td>\n",
       "    </tr>\n",
       "    <tr>\n",
       "      <th>2</th>\n",
       "      <td>KYPROLIS</td>\n",
       "      <td>adverse reactions</td>\n",
       "      <td>Tumor Lysis Syndrome</td>\n",
       "      <td>[0.768426, -0.20337762, 0.062222198, 0.8446492...</td>\n",
       "    </tr>\n",
       "    <tr>\n",
       "      <th>3</th>\n",
       "      <td>KYPROLIS</td>\n",
       "      <td>adverse reactions</td>\n",
       "      <td>Pulmonary Toxicity</td>\n",
       "      <td>[-0.09318504, 0.15409195, 0.7109283, -0.237119...</td>\n",
       "    </tr>\n",
       "    <tr>\n",
       "      <th>4</th>\n",
       "      <td>KYPROLIS</td>\n",
       "      <td>adverse reactions</td>\n",
       "      <td>Pulmonary Hypertension</td>\n",
       "      <td>[-0.39612737, 0.2627319, -0.0540106, -0.066323...</td>\n",
       "    </tr>\n",
       "  </tbody>\n",
       "</table>\n",
       "</div>"
      ],
      "text/plain": [
       "  drug_name       section_name              gpt_output  \\\n",
       "0  KYPROLIS  adverse reactions      Cardiac Toxicities   \n",
       "1  KYPROLIS  adverse reactions     Acute Renal Failure   \n",
       "2  KYPROLIS  adverse reactions    Tumor Lysis Syndrome   \n",
       "3  KYPROLIS  adverse reactions      Pulmonary Toxicity   \n",
       "4  KYPROLIS  adverse reactions  Pulmonary Hypertension   \n",
       "\n",
       "                                              embeds  \n",
       "0  [-0.11013074, 0.6761941, 0.7869268, 0.3508221,...  \n",
       "1  [0.010086697, 0.9340907, -0.20226005, -0.00631...  \n",
       "2  [0.768426, -0.20337762, 0.062222198, 0.8446492...  \n",
       "3  [-0.09318504, 0.15409195, 0.7109283, -0.237119...  \n",
       "4  [-0.39612737, 0.2627319, -0.0540106, -0.066323...  "
      ]
     },
     "execution_count": 30,
     "metadata": {},
     "output_type": "execute_result"
    }
   ],
   "source": [
    "for drug in gpt_output.drug_name.unique():\n",
    "    gpt_sub = gpt_output.loc[gpt_output.drug_name == drug]"
   ]
  },
  {
   "cell_type": "code",
   "execution_count": null,
   "metadata": {},
   "outputs": [],
   "source": []
  }
 ],
 "metadata": {
  "kernelspec": {
   "display_name": "llm_cpus",
   "language": "python",
   "name": "python3"
  },
  "language_info": {
   "codemirror_mode": {
    "name": "ipython",
    "version": 3
   },
   "file_extension": ".py",
   "mimetype": "text/x-python",
   "name": "python",
   "nbconvert_exporter": "python",
   "pygments_lexer": "ipython3",
   "version": "3.11.7"
  }
 },
 "nbformat": 4,
 "nbformat_minor": 2
}
