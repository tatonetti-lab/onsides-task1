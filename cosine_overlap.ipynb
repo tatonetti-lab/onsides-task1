{
 "cells": [
  {
   "cell_type": "code",
   "execution_count": 48,
   "metadata": {},
   "outputs": [],
   "source": [
    "import csv\n",
    "import random\n",
    "import numpy as np\n",
    "import pandas as pd\n",
    "from sentence_transformers import SentenceTransformer\n",
    "from sentence_transformers.util import cos_sim\n",
    "import concurrent\n",
    "from tqdm import tqdm\n",
    "import json\n",
    "import pickle"
   ]
  },
  {
   "cell_type": "code",
   "execution_count": 3,
   "metadata": {},
   "outputs": [
    {
     "name": "stderr",
     "output_type": "stream",
     "text": [
      "/Users/undinagisladottir/opt/anaconda3/envs/llm_cpus/lib/python3.11/site-packages/bitsandbytes/cextension.py:34: UserWarning: The installed version of bitsandbytes was compiled without GPU support. 8-bit optimizers, 8-bit multiplication, and GPU quantization are unavailable.\n",
      "  warn(\"The installed version of bitsandbytes was compiled without GPU support. \"\n"
     ]
    },
    {
     "name": "stdout",
     "output_type": "stream",
     "text": [
      "'NoneType' object has no attribute 'cadam32bit_grad_fp32'\n"
     ]
    }
   ],
   "source": [
    "model_name = 'llmrails/ember-v1'\n",
    "model = SentenceTransformer(model_name)"
   ]
  },
  {
   "cell_type": "markdown",
   "metadata": {},
   "source": [
    "## Overlapping Dataset"
   ]
  },
  {
   "cell_type": "code",
   "execution_count": 4,
   "metadata": {},
   "outputs": [
    {
     "data": {
      "text/html": [
       "<div>\n",
       "<style scoped>\n",
       "    .dataframe tbody tr th:only-of-type {\n",
       "        vertical-align: middle;\n",
       "    }\n",
       "\n",
       "    .dataframe tbody tr th {\n",
       "        vertical-align: top;\n",
       "    }\n",
       "\n",
       "    .dataframe thead th {\n",
       "        text-align: right;\n",
       "    }\n",
       "</style>\n",
       "<table border=\"1\" class=\"dataframe\">\n",
       "  <thead>\n",
       "    <tr style=\"text-align: right;\">\n",
       "      <th></th>\n",
       "      <th>drug</th>\n",
       "      <th>adverse_event</th>\n",
       "      <th>comp_term</th>\n",
       "      <th>is_overlapping</th>\n",
       "    </tr>\n",
       "  </thead>\n",
       "  <tbody>\n",
       "    <tr>\n",
       "      <th>0</th>\n",
       "      <td>XEOMIN</td>\n",
       "      <td>Hypersensitivity</td>\n",
       "      <td>Precautions Dysphagia and</td>\n",
       "      <td>0</td>\n",
       "    </tr>\n",
       "    <tr>\n",
       "      <th>1</th>\n",
       "      <td>XEOMIN</td>\n",
       "      <td>Hypersensitivity</td>\n",
       "      <td>reactions to XEOMIN are discussed in greater d...</td>\n",
       "      <td>0</td>\n",
       "    </tr>\n",
       "    <tr>\n",
       "      <th>2</th>\n",
       "      <td>XEOMIN</td>\n",
       "      <td>Dysphagia</td>\n",
       "      <td>Dysphagia and Breathing Difficulties in Treatment</td>\n",
       "      <td>1</td>\n",
       "    </tr>\n",
       "    <tr>\n",
       "      <th>3</th>\n",
       "      <td>XEOMIN</td>\n",
       "      <td>Dysphagia</td>\n",
       "      <td>Dysphagia and</td>\n",
       "      <td>1</td>\n",
       "    </tr>\n",
       "    <tr>\n",
       "      <th>5</th>\n",
       "      <td>XEOMIN</td>\n",
       "      <td>Dysphagia</td>\n",
       "      <td>Dysphagia and Breathing</td>\n",
       "      <td>1</td>\n",
       "    </tr>\n",
       "  </tbody>\n",
       "</table>\n",
       "</div>"
      ],
      "text/plain": [
       "     drug     adverse_event  \\\n",
       "0  XEOMIN  Hypersensitivity   \n",
       "1  XEOMIN  Hypersensitivity   \n",
       "2  XEOMIN         Dysphagia   \n",
       "3  XEOMIN         Dysphagia   \n",
       "5  XEOMIN         Dysphagia   \n",
       "\n",
       "                                           comp_term  is_overlapping  \n",
       "0                          Precautions Dysphagia and               0  \n",
       "1  reactions to XEOMIN are discussed in greater d...               0  \n",
       "2  Dysphagia and Breathing Difficulties in Treatment               1  \n",
       "3                                      Dysphagia and               1  \n",
       "5                            Dysphagia and Breathing               1  "
      ]
     },
     "execution_count": 4,
     "metadata": {},
     "output_type": "execute_result"
    }
   ],
   "source": [
    "overlap_data = pd.read_csv('data/overlap_data.csv').drop_duplicates()\n",
    "overlap_data.head()"
   ]
  },
  {
   "cell_type": "code",
   "execution_count": 6,
   "metadata": {},
   "outputs": [
    {
     "data": {
      "text/plain": [
       "(46840, 4)"
      ]
     },
     "execution_count": 6,
     "metadata": {},
     "output_type": "execute_result"
    }
   ],
   "source": [
    "overlap_data.shape"
   ]
  },
  {
   "cell_type": "code",
   "execution_count": 7,
   "metadata": {},
   "outputs": [],
   "source": [
    "similarities = []\n",
    "for ind, row in enumerate(overlap_data.itertuples()):\n",
    "    if ind > 10:\n",
    "        break\n",
    "    ade_embed = model.encode(row.adverse_event)\n",
    "    comp_term = model.encode(row.comp_term)\n",
    "    similarities.append(cos_sim(ade_embed, comp_term))"
   ]
  },
  {
   "cell_type": "code",
   "execution_count": 11,
   "metadata": {},
   "outputs": [],
   "source": [
    "ade_100 = model.encode(overlap_data.adverse_event.unique()[:1000])"
   ]
  },
  {
   "cell_type": "code",
   "execution_count": 19,
   "metadata": {},
   "outputs": [
    {
     "name": "stderr",
     "output_type": "stream",
     "text": [
      "100%|██████████| 101/101 [46:31<00:00, 27.64s/it]\n"
     ]
    }
   ],
   "source": [
    "drug_ade_embed = {}\n",
    "for drug in tqdm(overlap_data.drug.unique()):\n",
    "    sub_data = overlap_data[overlap_data.drug == drug]\n",
    "    ade_list = list(sub_data.adverse_event.unique())\n",
    "    comp_list = list(sub_data.comp_term.unique())\n",
    "    all_list = ade_list + comp_list\n",
    "    all_embed = model.encode(all_list)\n",
    "    drug_ade_embed[drug] = dict(zip(all_list, all_embed))\n",
    "    "
   ]
  },
  {
   "cell_type": "code",
   "execution_count": 32,
   "metadata": {},
   "outputs": [
    {
     "name": "stderr",
     "output_type": "stream",
     "text": [
      "  3%|▎         | 3/101 [00:00<00:09, 10.69it/s]"
     ]
    },
    {
     "name": "stderr",
     "output_type": "stream",
     "text": [
      "100%|██████████| 101/101 [00:05<00:00, 16.90it/s]\n"
     ]
    }
   ],
   "source": [
    "new_embed = {}\n",
    "for drug, embed_dict in tqdm(drug_ade_embed.items()):\n",
    "    new_embed[drug] = {}\n",
    "    for term, embed in embed_dict.items():\n",
    "        new_embed[drug][term] = [float(x) for x in embed]"
   ]
  },
  {
   "cell_type": "code",
   "execution_count": 34,
   "metadata": {},
   "outputs": [],
   "source": [
    "json.dump(new_embed, open('data/drug_ade_embed.json', 'w'))"
   ]
  },
  {
   "cell_type": "code",
   "execution_count": 40,
   "metadata": {},
   "outputs": [],
   "source": [
    "pickle.dump(drug_ade_embed, open('data/drug_ade_embed.pkl', 'wb'))"
   ]
  },
  {
   "cell_type": "code",
   "execution_count": 43,
   "metadata": {},
   "outputs": [],
   "source": [
    "loaded_embeds = pickle.load(open('data/drug_ade_embed.pkl', 'rb'))"
   ]
  },
  {
   "cell_type": "code",
   "execution_count": 35,
   "metadata": {},
   "outputs": [],
   "source": [
    "loaded_embeds = json.load(open('data/drug_ade_embed.json'))"
   ]
  },
  {
   "cell_type": "code",
   "execution_count": 44,
   "metadata": {},
   "outputs": [],
   "source": [
    "similarities = []\n",
    "for row in overlap_data.itertuples():\n",
    "    drug = row.drug\n",
    "    ade = row.adverse_event\n",
    "    comp = row.comp_term\n",
    "    ade_embed = loaded_embeds[drug][ade]\n",
    "    comp_embed = loaded_embeds[drug][comp]\n",
    "    similarities.append(float(cos_sim(ade_embed, comp_embed)))"
   ]
  },
  {
   "cell_type": "code",
   "execution_count": 46,
   "metadata": {},
   "outputs": [],
   "source": [
    "overlap_data['similarity'] = similarities\n",
    "overlap_data.to_csv('data/overlap_data_w_similarity.csv', index=False)"
   ]
  },
  {
   "cell_type": "markdown",
   "metadata": {},
   "source": [
    "## GPT output compared to manual"
   ]
  },
  {
   "cell_type": "code",
   "execution_count": 52,
   "metadata": {},
   "outputs": [],
   "source": [
    "THRESHOLD = 0.6163216"
   ]
  },
  {
   "cell_type": "code",
   "execution_count": 49,
   "metadata": {},
   "outputs": [
    {
     "data": {
      "text/html": [
       "<div>\n",
       "<style scoped>\n",
       "    .dataframe tbody tr th:only-of-type {\n",
       "        vertical-align: middle;\n",
       "    }\n",
       "\n",
       "    .dataframe tbody tr th {\n",
       "        vertical-align: top;\n",
       "    }\n",
       "\n",
       "    .dataframe thead th {\n",
       "        text-align: right;\n",
       "    }\n",
       "</style>\n",
       "<table border=\"1\" class=\"dataframe\">\n",
       "  <thead>\n",
       "    <tr style=\"text-align: right;\">\n",
       "      <th></th>\n",
       "      <th>drug_name</th>\n",
       "      <th>section_name</th>\n",
       "      <th>gpt_output</th>\n",
       "    </tr>\n",
       "  </thead>\n",
       "  <tbody>\n",
       "    <tr>\n",
       "      <th>0</th>\n",
       "      <td>KYPROLIS</td>\n",
       "      <td>adverse reactions</td>\n",
       "      <td>Cardiac Toxicities</td>\n",
       "    </tr>\n",
       "    <tr>\n",
       "      <th>1</th>\n",
       "      <td>KYPROLIS</td>\n",
       "      <td>adverse reactions</td>\n",
       "      <td>Acute Renal Failure</td>\n",
       "    </tr>\n",
       "    <tr>\n",
       "      <th>2</th>\n",
       "      <td>KYPROLIS</td>\n",
       "      <td>adverse reactions</td>\n",
       "      <td>Tumor Lysis Syndrome</td>\n",
       "    </tr>\n",
       "    <tr>\n",
       "      <th>3</th>\n",
       "      <td>KYPROLIS</td>\n",
       "      <td>adverse reactions</td>\n",
       "      <td>Pulmonary Toxicity</td>\n",
       "    </tr>\n",
       "    <tr>\n",
       "      <th>4</th>\n",
       "      <td>KYPROLIS</td>\n",
       "      <td>adverse reactions</td>\n",
       "      <td>Pulmonary Hypertension</td>\n",
       "    </tr>\n",
       "  </tbody>\n",
       "</table>\n",
       "</div>"
      ],
      "text/plain": [
       "  drug_name       section_name              gpt_output\n",
       "0  KYPROLIS  adverse reactions      Cardiac Toxicities\n",
       "1  KYPROLIS  adverse reactions     Acute Renal Failure\n",
       "2  KYPROLIS  adverse reactions    Tumor Lysis Syndrome\n",
       "3  KYPROLIS  adverse reactions      Pulmonary Toxicity\n",
       "4  KYPROLIS  adverse reactions  Pulmonary Hypertension"
      ]
     },
     "execution_count": 49,
     "metadata": {},
     "output_type": "execute_result"
    }
   ],
   "source": [
    "gpt_output = pd.read_csv('results/OpenAI_gpt-4-1106-preview_fatal-prompt-v2_pharmexpert-v1_temp0_train_run0.csv',\n",
    "                         usecols = ['drug_name', 'section_name', 'gpt_output'])\n",
    "gpt_output['gpt_output'] = gpt_output['gpt_output'].str.replace('.', '').str.split(', ')\n",
    "gpt_output = gpt_output.explode('gpt_output').reset_index(drop = True).drop_duplicates()\n",
    "manual_file = pd.read_csv('data/train_drug_label_text_manual_ades.csv',\n",
    "                          usecols = ['drug_name', 'reaction_string', 'meddra_pt', 'section_name',\n",
    "                                     'discontinuous_term', 'negated_term', 'meddra_exact_term']).drop_duplicates()\n",
    "gpt_output.head()"
   ]
  },
  {
   "cell_type": "code",
   "execution_count": 50,
   "metadata": {},
   "outputs": [],
   "source": [
    "gpt_embeds = model.encode(gpt_output['gpt_output'].tolist())\n",
    "gpt_output['embeds'] = list(gpt_embeds)"
   ]
  },
  {
   "cell_type": "code",
   "execution_count": 51,
   "metadata": {},
   "outputs": [],
   "source": [
    "man_embeds = model.encode(manual_file['reaction_string'].tolist())\n",
    "manual_file['embeds'] = list(man_embeds)"
   ]
  },
  {
   "cell_type": "code",
   "execution_count": null,
   "metadata": {},
   "outputs": [],
   "source": []
  },
  {
   "cell_type": "code",
   "execution_count": 30,
   "metadata": {},
   "outputs": [
    {
     "data": {
      "text/html": [
       "<div>\n",
       "<style scoped>\n",
       "    .dataframe tbody tr th:only-of-type {\n",
       "        vertical-align: middle;\n",
       "    }\n",
       "\n",
       "    .dataframe tbody tr th {\n",
       "        vertical-align: top;\n",
       "    }\n",
       "\n",
       "    .dataframe thead th {\n",
       "        text-align: right;\n",
       "    }\n",
       "</style>\n",
       "<table border=\"1\" class=\"dataframe\">\n",
       "  <thead>\n",
       "    <tr style=\"text-align: right;\">\n",
       "      <th></th>\n",
       "      <th>drug_name</th>\n",
       "      <th>section_name</th>\n",
       "      <th>gpt_output</th>\n",
       "      <th>embeds</th>\n",
       "    </tr>\n",
       "  </thead>\n",
       "  <tbody>\n",
       "    <tr>\n",
       "      <th>0</th>\n",
       "      <td>KYPROLIS</td>\n",
       "      <td>adverse reactions</td>\n",
       "      <td>Cardiac Toxicities</td>\n",
       "      <td>[-0.11013074, 0.6761941, 0.7869268, 0.3508221,...</td>\n",
       "    </tr>\n",
       "    <tr>\n",
       "      <th>1</th>\n",
       "      <td>KYPROLIS</td>\n",
       "      <td>adverse reactions</td>\n",
       "      <td>Acute Renal Failure</td>\n",
       "      <td>[0.010086697, 0.9340907, -0.20226005, -0.00631...</td>\n",
       "    </tr>\n",
       "    <tr>\n",
       "      <th>2</th>\n",
       "      <td>KYPROLIS</td>\n",
       "      <td>adverse reactions</td>\n",
       "      <td>Tumor Lysis Syndrome</td>\n",
       "      <td>[0.768426, -0.20337762, 0.062222198, 0.8446492...</td>\n",
       "    </tr>\n",
       "    <tr>\n",
       "      <th>3</th>\n",
       "      <td>KYPROLIS</td>\n",
       "      <td>adverse reactions</td>\n",
       "      <td>Pulmonary Toxicity</td>\n",
       "      <td>[-0.09318504, 0.15409195, 0.7109283, -0.237119...</td>\n",
       "    </tr>\n",
       "    <tr>\n",
       "      <th>4</th>\n",
       "      <td>KYPROLIS</td>\n",
       "      <td>adverse reactions</td>\n",
       "      <td>Pulmonary Hypertension</td>\n",
       "      <td>[-0.39612737, 0.2627319, -0.0540106, -0.066323...</td>\n",
       "    </tr>\n",
       "  </tbody>\n",
       "</table>\n",
       "</div>"
      ],
      "text/plain": [
       "  drug_name       section_name              gpt_output  \\\n",
       "0  KYPROLIS  adverse reactions      Cardiac Toxicities   \n",
       "1  KYPROLIS  adverse reactions     Acute Renal Failure   \n",
       "2  KYPROLIS  adverse reactions    Tumor Lysis Syndrome   \n",
       "3  KYPROLIS  adverse reactions      Pulmonary Toxicity   \n",
       "4  KYPROLIS  adverse reactions  Pulmonary Hypertension   \n",
       "\n",
       "                                              embeds  \n",
       "0  [-0.11013074, 0.6761941, 0.7869268, 0.3508221,...  \n",
       "1  [0.010086697, 0.9340907, -0.20226005, -0.00631...  \n",
       "2  [0.768426, -0.20337762, 0.062222198, 0.8446492...  \n",
       "3  [-0.09318504, 0.15409195, 0.7109283, -0.237119...  \n",
       "4  [-0.39612737, 0.2627319, -0.0540106, -0.066323...  "
      ]
     },
     "execution_count": 30,
     "metadata": {},
     "output_type": "execute_result"
    }
   ],
   "source": [
    "def get_similarities(row):"
   ]
  },
  {
   "cell_type": "code",
   "execution_count": 82,
   "metadata": {},
   "outputs": [
    {
     "name": "stdout",
     "output_type": "stream",
     "text": [
      "85 0 3\n",
      "precision: 1.0\n",
      "recall: 0.9659090909090909\n",
      "f1: 0.9826589595375723\n"
     ]
    }
   ],
   "source": [
    "for drug in manual_file.drug_name.unique():\n",
    "    sub_man = manual_file[manual_file.drug_name == drug]\n",
    "    sub_gpt = gpt_output[gpt_output.drug_name == drug]\n",
    "    TP = 0\n",
    "    FP = 0\n",
    "    FN = 0\n",
    "    for row in sub_man.itertuples():\n",
    "        sims = [cos_sim(row.embeds, gpt_emb) for gpt_emb in sub_gpt.embeds]\n",
    "        # print(drug, row.reaction_string, sub_gpt.gpt_output.values[np.argmax(sims)], np.max(sims))\n",
    "        if np.max(sims) > THRESHOLD:\n",
    "            TP += 1\n",
    "        else:\n",
    "            FN += 1\n",
    "        \n",
    "    for row in sub_gpt.itertuples():\n",
    "        sims = [cos_sim(row.embeds, man_emb) for man_emb in sub_man.embeds]\n",
    "        if np.max(sims) < THRESHOLD:\n",
    "            FP += 1\n",
    "    print(TP, FP, FN)\n",
    "    print('precision:', TP / (TP + FP))\n",
    "    print('recall:', TP / (TP + FN))\n",
    "    print('f1:', 2 * (TP / (TP + FP)) * (TP / (TP + FN)) / ((TP / (TP + FP)) + (TP / (TP + FN))))\n",
    "    break\n",
    "    "
   ]
  },
  {
   "cell_type": "code",
   "execution_count": null,
   "metadata": {},
   "outputs": [],
   "source": [
    "105,XEOMIN,all,46,41,41,0.0,5,1.0,0.8913043478260869,0.9425287356321839"
   ]
  }
 ],
 "metadata": {
  "kernelspec": {
   "display_name": "llm_cpus",
   "language": "python",
   "name": "python3"
  },
  "language_info": {
   "codemirror_mode": {
    "name": "ipython",
    "version": 3
   },
   "file_extension": ".py",
   "mimetype": "text/x-python",
   "name": "python",
   "nbconvert_exporter": "python",
   "pygments_lexer": "ipython3",
   "version": "3.11.7"
  }
 },
 "nbformat": 4,
 "nbformat_minor": 2
}
