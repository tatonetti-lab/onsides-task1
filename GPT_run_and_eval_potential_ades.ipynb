{
 "cells": [
  {
   "cell_type": "code",
   "execution_count": 2,
   "id": "706f8453-d366-4e8c-976c-90b59cf58197",
   "metadata": {},
   "outputs": [],
   "source": [
    "from tqdm import tqdm\n",
    "import pandas as pd\n",
    "from openai import OpenAI\n",
    "import openai\n",
    "import constants\n",
    "import csv\n",
    "import numpy as np\n",
    "import concurrent\n",
    "import time"
   ]
  },
  {
   "cell_type": "markdown",
   "id": "9db80a89-6744-4602-936e-c5457d547d20",
   "metadata": {},
   "source": [
    "## Set Up"
   ]
  },
  {
   "cell_type": "markdown",
   "id": "8759fb31-5cee-46e8-a65f-36bf14b08730",
   "metadata": {},
   "source": [
    "### Functions"
   ]
  },
  {
   "cell_type": "code",
   "execution_count": 3,
   "id": "98fa878b-b40a-4895-808e-9574b7d004c7",
   "metadata": {},
   "outputs": [],
   "source": [
    "# function for running GPT\n",
    "def extract_ade_terms(gpt_model, prompt, text, openai_api):\n",
    "  client = OpenAI(api_key=openai_api,)\n",
    "  chat_completion = client.chat.completions.create(\n",
    "      messages=[\n",
    "          {\"role\": \"system\", \"content\": \"You are an expert in pharmacology.\"},\n",
    "          {\n",
    "              \"role\": \"user\",\n",
    "              \"content\": prompt.format(text)\n",
    "          }\n",
    "      ],\n",
    "      model=gpt_model,\n",
    "  )\n",
    "  term = chat_completion.choices[0].message.content\n",
    "  return term"
   ]
  },
  {
   "cell_type": "code",
   "execution_count": 4,
   "id": "1bdb19ac-282a-47f0-8538-a0af057570cf",
   "metadata": {},
   "outputs": [],
   "source": [
    "def evaluation(manual_ades, gpt_output, limit = 1000):\n",
    "    drugs = gpt_output['drug_name'].unique()\n",
    "    drugs_set = set()\n",
    "    results = []\n",
    "    for drug in tqdm(drugs):\n",
    "        drugs_set.add(drug)\n",
    "        if len(drugs_set) > limit:\n",
    "            break\n",
    "        \n",
    "        drug_df = manual_ades.query(\"(drug_name == '{}') & (section_name == 'adverse reactions')\".format(drug))\n",
    "        manual = set(drug_df['reaction_string'].to_list())\n",
    "        gpt_drug = (gpt_output[\n",
    "            (gpt_output['drug_name'] == drug)\n",
    "            &\n",
    "            (gpt_output['section_name'] == \"adverse reactions\")\n",
    "            ][\"gpt_output\"].astype(str)\n",
    "            .str.lower()\n",
    "            .str.replace('\\n-', ', ')\n",
    "            .str.split(\",\").tolist())\n",
    "    \n",
    "        try:\n",
    "            gpt_drug = [x.strip() for x in gpt_drug[0]]\n",
    "            gpt_drug = set(gpt_drug)\n",
    "        except:\n",
    "            results.append([drug, len(manual), len(gpt_drug), np.nan, np.nan,\n",
    "                             np.nan, np.nan, np.nan, np.nan])\n",
    "            continue\n",
    "\n",
    "        TP = len(manual.intersection(gpt_drug))\n",
    "        FP = len(gpt_drug.difference(manual))\n",
    "        FN = len(manual.difference(gpt_drug))\n",
    "        precision = TP/(TP+FP)\n",
    "        recall = TP/(TP+FN)\n",
    "        if precision != 0 and recall != 0:\n",
    "            f1 = (2 * precision * recall)/(precision + recall)# 2*TP/(2*TP+FP+FN)\n",
    "        else:\n",
    "            f1 = np.NAN\n",
    "\n",
    "        results.append([drug, len(manual), len(gpt_drug), TP, FP, FN, precision, recall, f1])\n",
    "    results = pd.DataFrame(results, columns=['drug_name', 'n_manual', 'n_gpt', 'tp', 'fp', 'fn', 'precision', 'recall', 'f1'])\n",
    "    return results"
   ]
  },
  {
   "cell_type": "code",
   "execution_count": 5,
   "id": "f6f04e8a-be72-4ad8-abfe-7b5d60c03a46",
   "metadata": {},
   "outputs": [],
   "source": [
    "openai.organization = \"\"\n",
    "openai.api_key = '' #constants.AZURE_OPENAI_KEY"
   ]
  },
  {
   "cell_type": "markdown",
   "id": "37930311-07c7-4762-abd1-cb249c5bd25d",
   "metadata": {},
   "source": [
    "### Variables"
   ]
  },
  {
   "cell_type": "code",
   "execution_count": 99,
   "id": "ed8cc025-3af6-4bea-826b-962eb8b36f14",
   "metadata": {},
   "outputs": [],
   "source": [
    "drug_file = 'train_drug_label_text_potential_terms.csv'\n",
    "manual_file = 'train_drug_label_text_manual_ades.csv'\n",
    "my_max = 10000\n",
    "gpt_model = 'gpt-4-1106-preview'"
   ]
  },
  {
   "cell_type": "code",
   "execution_count": 100,
   "id": "b4b1bbd7-3b6c-42f5-a2af-04391ea86537",
   "metadata": {},
   "outputs": [],
   "source": [
    "prompt_name = 'potential-terms-v3'\n",
    "prompt = \"\"\"\n",
    "Extract all adverse reactions, including all synonyms, mentioned in the text and provide them as a comma-separated list. \n",
    "Use the list of potential adverse reactions as a starting point, but add any that are missing and remove any incorrect terms. \n",
    "If a fatal event is listed add 'death' to the list.\n",
    "The list is :{l}. The text is :{t}. \n",
    "\"\"\""
   ]
  },
  {
   "cell_type": "markdown",
   "id": "e82ae7da-2a0e-4755-ae4d-4bced5f7f5a2",
   "metadata": {},
   "source": [
    "## Run GPT"
   ]
  },
  {
   "cell_type": "code",
   "execution_count": 101,
   "id": "22518e4d-ec19-4a56-9914-cd969a50cbc3",
   "metadata": {},
   "outputs": [
    {
     "name": "stdout",
     "output_type": "stream",
     "text": [
      "gpt-4-1106-preview_potential-terms-v3_train.csv\n"
     ]
    }
   ],
   "source": [
    "drugs = pd.read_csv(drug_file)\n",
    "import ast\n",
    "drugs['str_match'] = drugs['str_match'].apply(lambda x: ', '.join(ast.literal_eval(x)))\n",
    "manual_ades = pd.read_csv(manual_file)\n",
    "set_type = drug_file.split('_')[0] # assuming file follows format \"train_...\" or \"test....\"\n",
    "print('{}_{}_{}.csv'.format(gpt_model, prompt_name, set_type))"
   ]
  },
  {
   "cell_type": "code",
   "execution_count": 102,
   "id": "cdb9c192-ba44-4135-8d3c-7b6ba6644563",
   "metadata": {},
   "outputs": [],
   "source": [
    "# if there is a max\n",
    "new_rows = list()\n",
    "unique_drugs = set()\n",
    "for i, row in drugs.iterrows():\n",
    "    unique_drugs.add(row[\"drug_name\"])\n",
    "    if len(unique_drugs) > my_max: \n",
    "        break\n",
    "    if row['section_name'] != 'adverse reactions':\n",
    "        continue\n",
    "\n",
    "    new_rows.append(row)"
   ]
  },
  {
   "cell_type": "code",
   "execution_count": 103,
   "id": "d488ebee",
   "metadata": {},
   "outputs": [],
   "source": [
    "# function for running GPT\n",
    "def extract_ade_terms(gpt_model, prompt, text, openai_api, potential_terms):\n",
    "  client = OpenAI(api_key=openai_api,)\n",
    "  chat_completion = client.chat.completions.create(\n",
    "      messages=[\n",
    "          {\"role\": \"system\", \"content\": \"You are an expert in pharmacology.\"},\n",
    "          {\n",
    "              \"role\": \"user\",\n",
    "              \"content\": prompt.format(t = text, l = potential_terms)\n",
    "          }\n",
    "      ],\n",
    "      model=gpt_model,\n",
    "  )\n",
    "  term = chat_completion.choices[0].message.content\n",
    "  return term\n",
    "\n",
    "import ast\n",
    "def run_iteration(row):\n",
    "    name, section = row['drug_name'], row['section_name']\n",
    "    text = row['section_text']\n",
    "    potential_terms = row['str_match']\n",
    "    #try:\n",
    "    gpt_out = extract_ade_terms(gpt_model, prompt, text, openai.api_key, potential_terms)\n",
    "    return [name, section, gpt_out]\n",
    "    #except:\n",
    "    #    return None"
   ]
  },
  {
   "cell_type": "code",
   "execution_count": 104,
   "id": "492d7e82-894f-4c0f-bbf1-4de819b94b55",
   "metadata": {},
   "outputs": [
    {
     "name": "stderr",
     "output_type": "stream",
     "text": [
      "  0%|          | 0/101 [00:00<?, ?it/s]"
     ]
    },
    {
     "name": "stderr",
     "output_type": "stream",
     "text": [
      "100%|██████████| 101/101 [02:28<00:00,  1.47s/it]\n"
     ]
    }
   ],
   "source": [
    "# run GPT    \n",
    "start = time.time()\n",
    "        \n",
    "with concurrent.futures.ThreadPoolExecutor(max_workers=10) as exec:\n",
    "    results = list(tqdm(\n",
    "\t\texec.map(run_iteration, new_rows), \n",
    "\t\ttotal=len(new_rows)\n",
    "\t))\n",
    "\n",
    "gpt_output = pd.DataFrame(\n",
    "    [r for r in results if r is not None],\n",
    "    columns=['drug_name', 'section_name', 'gpt_output']\n",
    ")\n",
    "gpt_output.to_csv('{}_{}_{}.csv'.format(gpt_model, prompt_name, set_type))\n",
    "end = time.time()"
   ]
  },
  {
   "cell_type": "code",
   "execution_count": 105,
   "id": "9ded0abf-414e-49b9-aeaf-d3e6854d9d66",
   "metadata": {},
   "outputs": [
    {
     "name": "stdout",
     "output_type": "stream",
     "text": [
      "148.34500002861023\n"
     ]
    }
   ],
   "source": [
    "print(end - start)"
   ]
  },
  {
   "cell_type": "code",
   "execution_count": 106,
   "id": "3f2a47f6-5f13-4058-b22d-b58327818ac8",
   "metadata": {},
   "outputs": [
    {
     "name": "stderr",
     "output_type": "stream",
     "text": [
      "100%|██████████| 101/101 [00:00<00:00, 552.90it/s]\n"
     ]
    }
   ],
   "source": [
    "results = evaluation(manual_ades, gpt_output)"
   ]
  },
  {
   "cell_type": "code",
   "execution_count": 107,
   "id": "1913b5d8-28c5-4fd7-99c5-d0b104cbafa7",
   "metadata": {},
   "outputs": [
    {
     "name": "stdout",
     "output_type": "stream",
     "text": [
      "prompt: potential-terms-v3\n",
      "precision: 0.8615080237414816\n",
      "recall: 0.7343076634813566\n",
      "f1: 0.7928383572729112\n"
     ]
    }
   ],
   "source": [
    "[tp_total, fp_total, fn_total] =  results[['tp', 'fp', 'fn']].sum()\n",
    "precision = tp_total/(tp_total+fp_total)\n",
    "recall =  tp_total/(tp_total+fn_total)\n",
    "f1 = (2 * precision * recall)/(precision + recall) # 2*tp_total/(2*tp_total+fp_total+fn_total) \n",
    "print(\"prompt: {}\".format(prompt_name))\n",
    "print(\"precision: {}\\nrecall: {}\\nf1: {}\".format(precision, recall, f1)) "
   ]
  },
  {
   "cell_type": "code",
   "execution_count": 39,
   "id": "f7cf4f90-c471-4294-95e1-304dba7a32e3",
   "metadata": {},
   "outputs": [],
   "source": [
    "# model, data, prompt, precision, recall, f1\n",
    "with open('gpt_model_results.csv', 'a') as file:\n",
    "    file.write('{}, {}, {}, {}, {}, {}\\n'.format(gpt_model, set_type, prompt_name, precision, recall, f1))"
   ]
  },
  {
   "cell_type": "code",
   "execution_count": null,
   "id": "e9d3d2ea-acbc-49bb-a7e4-348ad0ab472e",
   "metadata": {},
   "outputs": [],
   "source": []
  }
 ],
 "metadata": {
  "kernelspec": {
   "display_name": "Python 3 (ipykernel)",
   "language": "python",
   "name": "python3"
  },
  "language_info": {
   "codemirror_mode": {
    "name": "ipython",
    "version": 3
   },
   "file_extension": ".py",
   "mimetype": "text/x-python",
   "name": "python",
   "nbconvert_exporter": "python",
   "pygments_lexer": "ipython3",
   "version": "3.11.4"
  }
 },
 "nbformat": 4,
 "nbformat_minor": 5
}
