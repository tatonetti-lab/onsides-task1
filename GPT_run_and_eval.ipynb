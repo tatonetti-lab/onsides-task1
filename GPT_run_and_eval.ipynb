{
 "cells": [
  {
   "cell_type": "code",
   "execution_count": 1,
   "id": "706f8453-d366-4e8c-976c-90b59cf58197",
   "metadata": {},
   "outputs": [],
   "source": [
    "import os\n",
    "from tqdm import tqdm\n",
    "import pandas as pd\n",
    "from openai import OpenAI\n",
    "import openai\n",
    "import constants\n",
    "import csv\n",
    "import numpy as np\n",
    "import concurrent\n",
    "import time\n",
    "import json"
   ]
  },
  {
   "cell_type": "markdown",
   "id": "9db80a89-6744-4602-936e-c5457d547d20",
   "metadata": {},
   "source": [
    "## Set Up"
   ]
  },
  {
   "cell_type": "markdown",
   "id": "8759fb31-5cee-46e8-a65f-36bf14b08730",
   "metadata": {},
   "source": [
    "### Functions"
   ]
  },
  {
   "cell_type": "code",
   "execution_count": 2,
   "id": "98fa878b-b40a-4895-808e-9574b7d004c7",
   "metadata": {},
   "outputs": [],
   "source": [
    "# function for running GPT\n",
    "def extract_ade_terms(gpt_model, system_content, prompt, text, openai_api):\n",
    "  client = OpenAI(api_key=openai_api,)\n",
    "  chat_completion = client.chat.completions.create(\n",
    "      messages=[\n",
    "          {\"role\": \"system\", \"content\": system_content},\n",
    "          {\n",
    "              \"role\": \"user\",\n",
    "              \"content\": prompt.format(text)\n",
    "          }\n",
    "      ],\n",
    "      model=gpt_model,\n",
    "  )\n",
    "  term = chat_completion.choices[0].message.content\n",
    "  return term"
   ]
  },
  {
   "cell_type": "code",
   "execution_count": 3,
   "id": "fd0bffb7",
   "metadata": {},
   "outputs": [],
   "source": [
    "def evaluation_subtype(manual_ades, gpt_output, drug, subtype = 'all'):\n",
    "    '''\n",
    "    For a given drug, evaluate the performance of GPT on a given subtype of ADEs. \n",
    "    '''\n",
    "    \n",
    "    drug_df = manual_ades.query(\"(drug_name == '{}') & (section_name == 'adverse reactions')\".format(drug))\n",
    "    if subtype == 'exact-meddra': drug_df = drug_df[drug_df.meddra_exact_term == 1]\n",
    "    if subtype == 'non-meddra': drug_df = drug_df[drug_df.meddra_exact_term == 0]\n",
    "    if subtype == 'negated': drug_df = drug_df[drug_df.negated_term == 1]\n",
    "    if subtype == 'discontinuous': drug_df = drug_df[drug_df.discontinuous_term == 1]\n",
    "\n",
    "    manual = set(drug_df['reaction_string'].to_list())\n",
    "    gpt_drug = (gpt_output[\n",
    "        (gpt_output['drug_name'] == drug)\n",
    "        &\n",
    "        (gpt_output['section_name'] == \"adverse reactions\")\n",
    "        ][\"gpt_output\"].astype(str)\n",
    "        .str.lower()\n",
    "        .str.replace('\\n-', ', ')\n",
    "        .str.split(\",\").tolist())\n",
    "\n",
    "    try:\n",
    "        gpt_drug = [x.strip() for x in gpt_drug[0]]\n",
    "        gpt_drug = set(gpt_drug)\n",
    "    except:\n",
    "        return [drug, subtype, len(manual), len(gpt_drug), np.nan, np.nan, np.nan, np.nan, np.nan, np.nan]\n",
    "    \n",
    "    #overall\n",
    "    TP = len(manual.intersection(gpt_drug))\n",
    "    FP = len(gpt_drug.difference(manual))\n",
    "    FN = len(manual.difference(gpt_drug))\n",
    "    if TP == 0 and FP == 0:\n",
    "        precision = np.NAN\n",
    "    else:\n",
    "        precision = TP/(TP+FP)\n",
    "    if TP == 0 and FN == 0:\n",
    "        recall = np.NAN\n",
    "    else:\n",
    "        recall = TP/(TP+FN)\n",
    "    if precision != 0 and recall != 0:\n",
    "        f1 = (2 * precision * recall)/(precision + recall)# 2*TP/(2*TP+FP+FN)\n",
    "    else:\n",
    "        f1 = np.NAN\n",
    "    \n",
    "    if subtype != 'all':\n",
    "        # these can't be computed for the subtypes\n",
    "        precision = np.nan\n",
    "        f1 = np.nan\n",
    "        FP = np.nan\n",
    "    \n",
    "    return [drug, subtype, len(manual), len(gpt_drug), TP, FP, FN, precision, recall, f1]"
   ]
  },
  {
   "cell_type": "code",
   "execution_count": 4,
   "id": "c8c6cc82",
   "metadata": {},
   "outputs": [],
   "source": [
    "def evaluation(manual_ades, gpt_output, limit = 1000):\n",
    "    drugs = gpt_output['drug_name'].unique()\n",
    "    drugs_set = set()\n",
    "    results = []\n",
    "    for drug in tqdm(drugs):\n",
    "\n",
    "        results.append(evaluation_subtype(manual_ades, gpt_output, drug))\n",
    "        \n",
    "    results = pd.DataFrame(results, columns=['drug_name', 'exclude', 'n_manual', 'n_gpt', 'tp', 'fp', 'fn', 'precision', 'recall', 'f1'])\n",
    "    return results"
   ]
  },
  {
   "cell_type": "code",
   "execution_count": 5,
   "id": "d669d0b0",
   "metadata": {},
   "outputs": [],
   "source": [
    "def evaluation_granular(manual_ades, gpt_output, limit = 1000):\n",
    "    drugs = gpt_output['drug_name'].unique()\n",
    "    drugs_set = set()\n",
    "    results = []\n",
    "    for drug in tqdm(drugs):\n",
    "        drugs_set.add(drug)\n",
    "        if len(drugs_set) > limit:\n",
    "            break\n",
    "        \n",
    "        results.append(evaluation_subtype(manual_ades, gpt_output, drug, subtype = 'all'))\n",
    "        results.append(evaluation_subtype(manual_ades, gpt_output, drug, subtype = 'exact-meddra'))\n",
    "        results.append(evaluation_subtype(manual_ades, gpt_output, drug, subtype = 'non-meddra'))\n",
    "        results.append(evaluation_subtype(manual_ades, gpt_output, drug, subtype = 'negated'))\n",
    "        results.append(evaluation_subtype(manual_ades, gpt_output, drug, subtype = 'discontinuous'))\n",
    "\n",
    "    results = pd.DataFrame(results, columns=['drug_name', 'ade_type', 'n_manual', 'n_gpt', 'tp', 'fp', 'fn', 'precision', 'recall', 'f1'])\n",
    "    return results"
   ]
  },
  {
   "cell_type": "code",
   "execution_count": 6,
   "id": "f6f04e8a-be72-4ad8-abfe-7b5d60c03a46",
   "metadata": {},
   "outputs": [],
   "source": [
    "config = json.load(open('./config.json'))\n",
    "\n",
    "openai.organization = \"\"\n",
    "openai.api_key = config['openai_api_key'] #constants.AZURE_OPENAI_KEY"
   ]
  },
  {
   "cell_type": "markdown",
   "id": "37930311-07c7-4762-abd1-cb249c5bd25d",
   "metadata": {},
   "source": [
    "### Variables"
   ]
  },
  {
   "cell_type": "code",
   "execution_count": 7,
   "id": "ed8cc025-3af6-4bea-826b-962eb8b36f14",
   "metadata": {},
   "outputs": [],
   "source": [
    "drug_file = 'data/train_drug_label_text.csv'\n",
    "manual_file = 'data/train_drug_label_text_manual_ades.csv'\n",
    "my_max = 10000"
   ]
  },
  {
   "cell_type": "code",
   "execution_count": 8,
   "id": "22518e4d-ec19-4a56-9914-cd969a50cbc3",
   "metadata": {},
   "outputs": [],
   "source": [
    "drugs = pd.read_csv(drug_file)\n",
    "manual_ades = pd.read_csv(manual_file)\n",
    "set_type = drug_file.split('/')[1].split('_')[0] # assuming file follows format \"train_...\" or \"test....\""
   ]
  },
  {
   "cell_type": "code",
   "execution_count": 9,
   "id": "e618b1c1",
   "metadata": {},
   "outputs": [],
   "source": [
    "outputs = {}"
   ]
  },
  {
   "cell_type": "markdown",
   "id": "e82ae7da-2a0e-4755-ae4d-4bced5f7f5a2",
   "metadata": {},
   "source": [
    "## Run GPT"
   ]
  },
  {
   "cell_type": "code",
   "execution_count": 10,
   "id": "b4b1bbd7-3b6c-42f5-a2af-04391ea86537",
   "metadata": {},
   "outputs": [
    {
     "data": {
      "text/plain": [
       "'gpt-3.5-turbo-0125_fatal-prompt-v2_pharmexpert-v0_train'"
      ]
     },
     "execution_count": 10,
     "metadata": {},
     "output_type": "execute_result"
    }
   ],
   "source": [
    "# gpt_model = 'gpt-4-1106-preview'\n",
    "gpt_model = 'gpt-3.5-turbo-0125'\n",
    "nruns = 15\n",
    "\n",
    "system_options = {\n",
    "    \"pharmexpert-v0\": \"You are an expert in pharmacology.\",\n",
    "    \"pharmexpert-v1\": \"You are an expert in adverse drug reactions, pharmacology, and clinical trials.\"\n",
    "}\n",
    "\n",
    "prompt_options = {\n",
    "    \"fatal-prompt-v2\": \"\"\"\n",
    "Extract all adverse reactions as they appear, including all synonyms.\n",
    "mentioned in the text and provide them as a comma-separated list.\n",
    "If a fatal event is listed add 'death' to the list.\n",
    "The text is :'{}' \n",
    "\"\"\"\n",
    "}\n",
    "\n",
    "system_name = \"pharmexpert-v0\"\n",
    "system_content = system_options[system_name]\n",
    "\n",
    "prompt_name = \"fatal-prompt-v2\"\n",
    "prompt = prompt_options[prompt_name]\n",
    "\n",
    "output_file_basename = '{}_{}_{}_{}'.format(gpt_model, prompt_name, system_name, set_type)\n",
    "output_file_basename"
   ]
  },
  {
   "cell_type": "code",
   "execution_count": 11,
   "id": "cdb9c192-ba44-4135-8d3c-7b6ba6644563",
   "metadata": {},
   "outputs": [],
   "source": [
    "# if there is a max\n",
    "new_rows = list()\n",
    "unique_drugs = set()\n",
    "for i, row in drugs.iterrows():\n",
    "    unique_drugs.add(row[\"drug_name\"])\n",
    "    if len(unique_drugs) > my_max: \n",
    "        break\n",
    "    if row['section_name'] != 'adverse reactions':\n",
    "        continue\n",
    "\n",
    "    new_rows.append(row)"
   ]
  },
  {
   "cell_type": "code",
   "execution_count": 12,
   "id": "492d7e82-894f-4c0f-bbf1-4de819b94b55",
   "metadata": {},
   "outputs": [
    {
     "name": "stderr",
     "output_type": "stream",
     "text": [
      "  0%|          | 0/101 [00:00<?, ?it/s]"
     ]
    },
    {
     "name": "stderr",
     "output_type": "stream",
     "text": [
      "  1%|          | 1/101 [00:10<17:56, 10.77s/it]"
     ]
    }
   ],
   "source": [
    "# run GPT\n",
    "for i in range(nruns):\n",
    "    if f\"gpt{i}\" in outputs:\n",
    "        print(f\"Run {i} already completed and stored. Skipping.\")\n",
    "        continue\n",
    "    \n",
    "    if os.path.exists('results/{}_run{}.csv'.format(output_file_basename, i)):\n",
    "        gpt_output = pd.read_csv('results/{}_run{}.csv'.format(output_file_basename, i))\n",
    "        outputs[f\"gpt{i}\"] = gpt_output\n",
    "        print(f\"Run {i} already completed and loaded from disk.\")\n",
    "        continue\n",
    "    \n",
    "    start = time.time()\n",
    "    def run_iteration(row):\n",
    "        name, section = row['drug_name'], row['section_name']\n",
    "        text = row['section_text']\n",
    "        try:\n",
    "            gpt_out = extract_ade_terms(gpt_model, system_content, prompt, text, openai.api_key)\n",
    "            return [name, section, gpt_out]\n",
    "        except Exception as err:\n",
    "            print(err)\n",
    "            return None\n",
    "            \n",
    "    with concurrent.futures.ThreadPoolExecutor(max_workers=10) as exec:\n",
    "        results = list(tqdm(\n",
    "            exec.map(run_iteration, new_rows), \n",
    "            total=len(new_rows)\n",
    "        ))\n",
    "\n",
    "    gpt_output = pd.DataFrame(\n",
    "        [r for r in results if r is not None],\n",
    "        columns=['drug_name', 'section_name', 'gpt_output']\n",
    "    )\n",
    "    gpt_output.to_csv('results/{}_run{}.csv'.format(output_file_basename, i))\n",
    "    end = time.time()\n",
    "\n",
    "    outputs[f\"gpt{i}\"] = gpt_output\n",
    "    \n",
    "    print(f\"Run: {i}, time elapsed: {end-start}s.\")"
   ]
  },
  {
   "cell_type": "markdown",
   "id": "79125bf3",
   "metadata": {},
   "source": [
    "## Exact Match Algorithm"
   ]
  },
  {
   "cell_type": "code",
   "execution_count": 179,
   "id": "dfc01112",
   "metadata": {},
   "outputs": [],
   "source": [
    "exact_match_run = True"
   ]
  },
  {
   "cell_type": "code",
   "execution_count": 180,
   "id": "704c226e",
   "metadata": {},
   "outputs": [],
   "source": [
    "if not exact_match_run:\n",
    "    # load the meddra terms\n",
    "    fh = open('meddra_llt_pt_map.txt')\n",
    "    reader = csv.reader(fh, delimiter='|')\n",
    "    header = next(reader)\n",
    "\n",
    "    meddra_llt_terms = set()\n",
    "    meddra_pt_terms = set()\n",
    "\n",
    "    for row in reader:\n",
    "        meddra_llt_terms.add(row[1].lower())\n",
    "        meddra_pt_terms.add(row[4].lower())\n",
    "\n",
    "    fh.close()\n",
    "\n",
    "    meddra_terms = meddra_llt_terms | meddra_pt_terms\n",
    "    len(meddra_llt_terms), len(meddra_pt_terms), len(meddra_terms)\n",
    "\n",
    "    results = list()\n",
    "    for row in tqdm(new_rows):\n",
    "        name, section = row['drug_name'], row['section_name']\n",
    "        text = row['section_text'].lower()\n",
    "        \n",
    "        found_terms = set()\n",
    "        for term in meddra_terms:\n",
    "            if text.find(term) != -1:\n",
    "                found_terms.add(term)\n",
    "        \n",
    "        exact_out = ', '.join(list(found_terms))\n",
    "        \n",
    "        results.append([name, section, exact_out])\n",
    "\n",
    "    exact_output = pd.DataFrame(\n",
    "        [r for r in results if r is not None],\n",
    "        columns=['drug_name', 'section_name', 'gpt_output']\n",
    "    )\n",
    "    outputs['exact'] = exact_output"
   ]
  },
  {
   "cell_type": "markdown",
   "id": "7986085b",
   "metadata": {},
   "source": [
    "## Evaluation"
   ]
  },
  {
   "cell_type": "code",
   "execution_count": 181,
   "id": "787d7804",
   "metadata": {},
   "outputs": [
    {
     "name": "stderr",
     "output_type": "stream",
     "text": [
      "100%|██████████| 101/101 [00:00<00:00, 149.61it/s]\n",
      "/var/folders/l5/4jn07y290nncb4wnyhsq33hh0000gt/T/ipykernel_77570/2659214344.py:3: FutureWarning: Indexing with multiple keys (implicitly converted to a tuple of keys) will be deprecated, use a list instead.\n",
      "  overall_results = results_granular.groupby('ade_type')['tp', 'fp', 'fn'].apply(sum)\n",
      "/var/folders/l5/4jn07y290nncb4wnyhsq33hh0000gt/T/ipykernel_77570/2659214344.py:7: FutureWarning: Indexing with multiple keys (implicitly converted to a tuple of keys) will be deprecated, use a list instead.\n",
      "  macro_results = results_granular.groupby('ade_type')['precision', 'recall', 'f1'].apply(np.mean)\n",
      "/Library/Frameworks/Python.framework/Versions/3.10/lib/python3.10/site-packages/numpy/core/fromnumeric.py:3502: FutureWarning: In a future version, DataFrame.mean(axis=None) will return a scalar mean over the entire DataFrame. To retain the old behavior, use 'frame.mean(axis=0)' or just 'frame.mean()'\n",
      "  return mean(axis=axis, dtype=dtype, out=out, **kwargs)\n",
      "/Library/Frameworks/Python.framework/Versions/3.10/lib/python3.10/site-packages/numpy/core/fromnumeric.py:3502: FutureWarning: In a future version, DataFrame.mean(axis=None) will return a scalar mean over the entire DataFrame. To retain the old behavior, use 'frame.mean(axis=0)' or just 'frame.mean()'\n",
      "  return mean(axis=axis, dtype=dtype, out=out, **kwargs)\n",
      "/Library/Frameworks/Python.framework/Versions/3.10/lib/python3.10/site-packages/numpy/core/fromnumeric.py:3502: FutureWarning: In a future version, DataFrame.mean(axis=None) will return a scalar mean over the entire DataFrame. To retain the old behavior, use 'frame.mean(axis=0)' or just 'frame.mean()'\n",
      "  return mean(axis=axis, dtype=dtype, out=out, **kwargs)\n",
      "/Library/Frameworks/Python.framework/Versions/3.10/lib/python3.10/site-packages/numpy/core/fromnumeric.py:3502: FutureWarning: In a future version, DataFrame.mean(axis=None) will return a scalar mean over the entire DataFrame. To retain the old behavior, use 'frame.mean(axis=0)' or just 'frame.mean()'\n",
      "  return mean(axis=axis, dtype=dtype, out=out, **kwargs)\n",
      "/Library/Frameworks/Python.framework/Versions/3.10/lib/python3.10/site-packages/numpy/core/fromnumeric.py:3502: FutureWarning: In a future version, DataFrame.mean(axis=None) will return a scalar mean over the entire DataFrame. To retain the old behavior, use 'frame.mean(axis=0)' or just 'frame.mean()'\n",
      "  return mean(axis=axis, dtype=dtype, out=out, **kwargs)\n"
     ]
    },
    {
     "name": "stdout",
     "output_type": "stream",
     "text": [
      "gpt0\n",
      "                   tp     fp      fn  micro_precision  micro_recall  micro_f1  \\\n",
      "ade_type                                                                        \n",
      "all            3849.0  473.0  1488.0          0.89056      0.721192  0.796977   \n",
      "discontinuous    37.0    0.0   351.0          1.00000      0.095361  0.174118   \n",
      "exact-meddra   3431.0    0.0   732.0          1.00000      0.824165  0.903608   \n",
      "negated          16.0    0.0    16.0          1.00000      0.500000  0.666667   \n",
      "non-meddra      418.0    0.0   757.0          1.00000      0.355745  0.524796   \n",
      "\n",
      "               macro_precision  macro_recall  macro_f1  \n",
      "ade_type                                                \n",
      "all                    0.87551      0.756264  0.812291  \n",
      "discontinuous              NaN      0.097744       NaN  \n",
      "exact-meddra               NaN      0.850229       NaN  \n",
      "negated                    NaN      0.472222       NaN  \n",
      "non-meddra                 NaN      0.445092       NaN  \n"
     ]
    },
    {
     "name": "stderr",
     "output_type": "stream",
     "text": [
      "100%|██████████| 101/101 [00:00<00:00, 147.39it/s]\n",
      "/var/folders/l5/4jn07y290nncb4wnyhsq33hh0000gt/T/ipykernel_77570/2659214344.py:3: FutureWarning: Indexing with multiple keys (implicitly converted to a tuple of keys) will be deprecated, use a list instead.\n",
      "  overall_results = results_granular.groupby('ade_type')['tp', 'fp', 'fn'].apply(sum)\n",
      "/var/folders/l5/4jn07y290nncb4wnyhsq33hh0000gt/T/ipykernel_77570/2659214344.py:7: FutureWarning: Indexing with multiple keys (implicitly converted to a tuple of keys) will be deprecated, use a list instead.\n",
      "  macro_results = results_granular.groupby('ade_type')['precision', 'recall', 'f1'].apply(np.mean)\n",
      "/Library/Frameworks/Python.framework/Versions/3.10/lib/python3.10/site-packages/numpy/core/fromnumeric.py:3502: FutureWarning: In a future version, DataFrame.mean(axis=None) will return a scalar mean over the entire DataFrame. To retain the old behavior, use 'frame.mean(axis=0)' or just 'frame.mean()'\n",
      "  return mean(axis=axis, dtype=dtype, out=out, **kwargs)\n",
      "/Library/Frameworks/Python.framework/Versions/3.10/lib/python3.10/site-packages/numpy/core/fromnumeric.py:3502: FutureWarning: In a future version, DataFrame.mean(axis=None) will return a scalar mean over the entire DataFrame. To retain the old behavior, use 'frame.mean(axis=0)' or just 'frame.mean()'\n",
      "  return mean(axis=axis, dtype=dtype, out=out, **kwargs)\n",
      "/Library/Frameworks/Python.framework/Versions/3.10/lib/python3.10/site-packages/numpy/core/fromnumeric.py:3502: FutureWarning: In a future version, DataFrame.mean(axis=None) will return a scalar mean over the entire DataFrame. To retain the old behavior, use 'frame.mean(axis=0)' or just 'frame.mean()'\n",
      "  return mean(axis=axis, dtype=dtype, out=out, **kwargs)\n",
      "/Library/Frameworks/Python.framework/Versions/3.10/lib/python3.10/site-packages/numpy/core/fromnumeric.py:3502: FutureWarning: In a future version, DataFrame.mean(axis=None) will return a scalar mean over the entire DataFrame. To retain the old behavior, use 'frame.mean(axis=0)' or just 'frame.mean()'\n",
      "  return mean(axis=axis, dtype=dtype, out=out, **kwargs)\n",
      "/Library/Frameworks/Python.framework/Versions/3.10/lib/python3.10/site-packages/numpy/core/fromnumeric.py:3502: FutureWarning: In a future version, DataFrame.mean(axis=None) will return a scalar mean over the entire DataFrame. To retain the old behavior, use 'frame.mean(axis=0)' or just 'frame.mean()'\n",
      "  return mean(axis=axis, dtype=dtype, out=out, **kwargs)\n"
     ]
    },
    {
     "name": "stdout",
     "output_type": "stream",
     "text": [
      "gpt1\n",
      "                   tp     fp      fn  micro_precision  micro_recall  micro_f1  \\\n",
      "ade_type                                                                        \n",
      "all            3904.0  510.0  1433.0         0.884459      0.731497  0.800738   \n",
      "discontinuous    52.0    0.0   336.0         1.000000      0.134021  0.236364   \n",
      "exact-meddra   3465.0    0.0   698.0         1.000000      0.832332  0.908495   \n",
      "negated          17.0    0.0    15.0         1.000000      0.531250  0.693878   \n",
      "non-meddra      439.0    0.0   736.0         1.000000      0.373617  0.543990   \n",
      "\n",
      "               macro_precision  macro_recall  macro_f1  \n",
      "ade_type                                                \n",
      "all                   0.872065      0.766317  0.816463  \n",
      "discontinuous              NaN      0.160105       NaN  \n",
      "exact-meddra               NaN      0.858389       NaN  \n",
      "negated                    NaN      0.523810       NaN  \n",
      "non-meddra                 NaN      0.484580       NaN  \n"
     ]
    },
    {
     "name": "stderr",
     "output_type": "stream",
     "text": [
      "100%|██████████| 101/101 [00:00<00:00, 145.25it/s]\n",
      "/var/folders/l5/4jn07y290nncb4wnyhsq33hh0000gt/T/ipykernel_77570/2659214344.py:3: FutureWarning: Indexing with multiple keys (implicitly converted to a tuple of keys) will be deprecated, use a list instead.\n",
      "  overall_results = results_granular.groupby('ade_type')['tp', 'fp', 'fn'].apply(sum)\n",
      "/var/folders/l5/4jn07y290nncb4wnyhsq33hh0000gt/T/ipykernel_77570/2659214344.py:7: FutureWarning: Indexing with multiple keys (implicitly converted to a tuple of keys) will be deprecated, use a list instead.\n",
      "  macro_results = results_granular.groupby('ade_type')['precision', 'recall', 'f1'].apply(np.mean)\n",
      "/Library/Frameworks/Python.framework/Versions/3.10/lib/python3.10/site-packages/numpy/core/fromnumeric.py:3502: FutureWarning: In a future version, DataFrame.mean(axis=None) will return a scalar mean over the entire DataFrame. To retain the old behavior, use 'frame.mean(axis=0)' or just 'frame.mean()'\n",
      "  return mean(axis=axis, dtype=dtype, out=out, **kwargs)\n",
      "/Library/Frameworks/Python.framework/Versions/3.10/lib/python3.10/site-packages/numpy/core/fromnumeric.py:3502: FutureWarning: In a future version, DataFrame.mean(axis=None) will return a scalar mean over the entire DataFrame. To retain the old behavior, use 'frame.mean(axis=0)' or just 'frame.mean()'\n",
      "  return mean(axis=axis, dtype=dtype, out=out, **kwargs)\n",
      "/Library/Frameworks/Python.framework/Versions/3.10/lib/python3.10/site-packages/numpy/core/fromnumeric.py:3502: FutureWarning: In a future version, DataFrame.mean(axis=None) will return a scalar mean over the entire DataFrame. To retain the old behavior, use 'frame.mean(axis=0)' or just 'frame.mean()'\n",
      "  return mean(axis=axis, dtype=dtype, out=out, **kwargs)\n",
      "/Library/Frameworks/Python.framework/Versions/3.10/lib/python3.10/site-packages/numpy/core/fromnumeric.py:3502: FutureWarning: In a future version, DataFrame.mean(axis=None) will return a scalar mean over the entire DataFrame. To retain the old behavior, use 'frame.mean(axis=0)' or just 'frame.mean()'\n",
      "  return mean(axis=axis, dtype=dtype, out=out, **kwargs)\n",
      "/Library/Frameworks/Python.framework/Versions/3.10/lib/python3.10/site-packages/numpy/core/fromnumeric.py:3502: FutureWarning: In a future version, DataFrame.mean(axis=None) will return a scalar mean over the entire DataFrame. To retain the old behavior, use 'frame.mean(axis=0)' or just 'frame.mean()'\n",
      "  return mean(axis=axis, dtype=dtype, out=out, **kwargs)\n"
     ]
    },
    {
     "name": "stdout",
     "output_type": "stream",
     "text": [
      "gpt2\n",
      "                   tp     fp      fn  micro_precision  micro_recall  micro_f1  \\\n",
      "ade_type                                                                        \n",
      "all            3920.0  472.0  1417.0         0.892532      0.734495  0.805838   \n",
      "discontinuous    42.0    0.0   346.0         1.000000      0.108247  0.195349   \n",
      "exact-meddra   3490.0    0.0   673.0         1.000000      0.838338  0.912061   \n",
      "negated          17.0    0.0    15.0         1.000000      0.531250  0.693878   \n",
      "non-meddra      430.0    0.0   745.0         1.000000      0.365957  0.535826   \n",
      "\n",
      "               macro_precision  macro_recall  macro_f1  \n",
      "ade_type                                                \n",
      "all                    0.86646      0.756071  0.815931  \n",
      "discontinuous              NaN      0.109462       NaN  \n",
      "exact-meddra               NaN      0.846832       NaN  \n",
      "negated                    NaN      0.519841       NaN  \n",
      "non-meddra                 NaN      0.471401       NaN  \n"
     ]
    },
    {
     "name": "stderr",
     "output_type": "stream",
     "text": [
      "100%|██████████| 101/101 [00:00<00:00, 150.77it/s]\n",
      "/var/folders/l5/4jn07y290nncb4wnyhsq33hh0000gt/T/ipykernel_77570/2659214344.py:3: FutureWarning: Indexing with multiple keys (implicitly converted to a tuple of keys) will be deprecated, use a list instead.\n",
      "  overall_results = results_granular.groupby('ade_type')['tp', 'fp', 'fn'].apply(sum)\n",
      "/var/folders/l5/4jn07y290nncb4wnyhsq33hh0000gt/T/ipykernel_77570/2659214344.py:7: FutureWarning: Indexing with multiple keys (implicitly converted to a tuple of keys) will be deprecated, use a list instead.\n",
      "  macro_results = results_granular.groupby('ade_type')['precision', 'recall', 'f1'].apply(np.mean)\n",
      "/Library/Frameworks/Python.framework/Versions/3.10/lib/python3.10/site-packages/numpy/core/fromnumeric.py:3502: FutureWarning: In a future version, DataFrame.mean(axis=None) will return a scalar mean over the entire DataFrame. To retain the old behavior, use 'frame.mean(axis=0)' or just 'frame.mean()'\n",
      "  return mean(axis=axis, dtype=dtype, out=out, **kwargs)\n",
      "/Library/Frameworks/Python.framework/Versions/3.10/lib/python3.10/site-packages/numpy/core/fromnumeric.py:3502: FutureWarning: In a future version, DataFrame.mean(axis=None) will return a scalar mean over the entire DataFrame. To retain the old behavior, use 'frame.mean(axis=0)' or just 'frame.mean()'\n",
      "  return mean(axis=axis, dtype=dtype, out=out, **kwargs)\n",
      "/Library/Frameworks/Python.framework/Versions/3.10/lib/python3.10/site-packages/numpy/core/fromnumeric.py:3502: FutureWarning: In a future version, DataFrame.mean(axis=None) will return a scalar mean over the entire DataFrame. To retain the old behavior, use 'frame.mean(axis=0)' or just 'frame.mean()'\n",
      "  return mean(axis=axis, dtype=dtype, out=out, **kwargs)\n",
      "/Library/Frameworks/Python.framework/Versions/3.10/lib/python3.10/site-packages/numpy/core/fromnumeric.py:3502: FutureWarning: In a future version, DataFrame.mean(axis=None) will return a scalar mean over the entire DataFrame. To retain the old behavior, use 'frame.mean(axis=0)' or just 'frame.mean()'\n",
      "  return mean(axis=axis, dtype=dtype, out=out, **kwargs)\n",
      "/Library/Frameworks/Python.framework/Versions/3.10/lib/python3.10/site-packages/numpy/core/fromnumeric.py:3502: FutureWarning: In a future version, DataFrame.mean(axis=None) will return a scalar mean over the entire DataFrame. To retain the old behavior, use 'frame.mean(axis=0)' or just 'frame.mean()'\n",
      "  return mean(axis=axis, dtype=dtype, out=out, **kwargs)\n"
     ]
    },
    {
     "name": "stdout",
     "output_type": "stream",
     "text": [
      "gpt3\n",
      "                   tp     fp      fn  micro_precision  micro_recall  micro_f1  \\\n",
      "ade_type                                                                        \n",
      "all            3898.0  451.0  1439.0         0.896298      0.730373  0.804873   \n",
      "discontinuous    33.0    0.0   355.0         1.000000      0.085052  0.156770   \n",
      "exact-meddra   3472.0    0.0   691.0         1.000000      0.834014  0.909496   \n",
      "negated          17.0    0.0    15.0         1.000000      0.531250  0.693878   \n",
      "non-meddra      426.0    0.0   749.0         1.000000      0.362553  0.532167   \n",
      "\n",
      "               macro_precision  macro_recall  macro_f1  \n",
      "ade_type                                                \n",
      "all                    0.87195      0.755393  0.818401  \n",
      "discontinuous              NaN      0.091599       NaN  \n",
      "exact-meddra               NaN      0.850562       NaN  \n",
      "negated                    NaN      0.452381       NaN  \n",
      "non-meddra                 NaN      0.462978       NaN  \n"
     ]
    },
    {
     "name": "stderr",
     "output_type": "stream",
     "text": [
      "100%|██████████| 101/101 [00:00<00:00, 155.31it/s]\n",
      "/var/folders/l5/4jn07y290nncb4wnyhsq33hh0000gt/T/ipykernel_77570/2659214344.py:3: FutureWarning: Indexing with multiple keys (implicitly converted to a tuple of keys) will be deprecated, use a list instead.\n",
      "  overall_results = results_granular.groupby('ade_type')['tp', 'fp', 'fn'].apply(sum)\n",
      "/var/folders/l5/4jn07y290nncb4wnyhsq33hh0000gt/T/ipykernel_77570/2659214344.py:7: FutureWarning: Indexing with multiple keys (implicitly converted to a tuple of keys) will be deprecated, use a list instead.\n",
      "  macro_results = results_granular.groupby('ade_type')['precision', 'recall', 'f1'].apply(np.mean)\n",
      "/Library/Frameworks/Python.framework/Versions/3.10/lib/python3.10/site-packages/numpy/core/fromnumeric.py:3502: FutureWarning: In a future version, DataFrame.mean(axis=None) will return a scalar mean over the entire DataFrame. To retain the old behavior, use 'frame.mean(axis=0)' or just 'frame.mean()'\n",
      "  return mean(axis=axis, dtype=dtype, out=out, **kwargs)\n",
      "/Library/Frameworks/Python.framework/Versions/3.10/lib/python3.10/site-packages/numpy/core/fromnumeric.py:3502: FutureWarning: In a future version, DataFrame.mean(axis=None) will return a scalar mean over the entire DataFrame. To retain the old behavior, use 'frame.mean(axis=0)' or just 'frame.mean()'\n",
      "  return mean(axis=axis, dtype=dtype, out=out, **kwargs)\n",
      "/Library/Frameworks/Python.framework/Versions/3.10/lib/python3.10/site-packages/numpy/core/fromnumeric.py:3502: FutureWarning: In a future version, DataFrame.mean(axis=None) will return a scalar mean over the entire DataFrame. To retain the old behavior, use 'frame.mean(axis=0)' or just 'frame.mean()'\n",
      "  return mean(axis=axis, dtype=dtype, out=out, **kwargs)\n",
      "/Library/Frameworks/Python.framework/Versions/3.10/lib/python3.10/site-packages/numpy/core/fromnumeric.py:3502: FutureWarning: In a future version, DataFrame.mean(axis=None) will return a scalar mean over the entire DataFrame. To retain the old behavior, use 'frame.mean(axis=0)' or just 'frame.mean()'\n",
      "  return mean(axis=axis, dtype=dtype, out=out, **kwargs)\n",
      "/Library/Frameworks/Python.framework/Versions/3.10/lib/python3.10/site-packages/numpy/core/fromnumeric.py:3502: FutureWarning: In a future version, DataFrame.mean(axis=None) will return a scalar mean over the entire DataFrame. To retain the old behavior, use 'frame.mean(axis=0)' or just 'frame.mean()'\n",
      "  return mean(axis=axis, dtype=dtype, out=out, **kwargs)\n"
     ]
    },
    {
     "name": "stdout",
     "output_type": "stream",
     "text": [
      "gpt4\n",
      "                   tp     fp      fn  micro_precision  micro_recall  micro_f1  \\\n",
      "ade_type                                                                        \n",
      "all            3918.0  440.0  1419.0         0.899036      0.734120  0.808252   \n",
      "discontinuous    57.0    0.0   331.0         1.000000      0.146907  0.256180   \n",
      "exact-meddra   3469.0    0.0   694.0         1.000000      0.833293  0.909067   \n",
      "negated          17.0    0.0    15.0         1.000000      0.531250  0.693878   \n",
      "non-meddra      449.0    0.0   726.0         1.000000      0.382128  0.552956   \n",
      "\n",
      "               macro_precision  macro_recall  macro_f1  \n",
      "ade_type                                                \n",
      "all                   0.873001      0.756857  0.820757  \n",
      "discontinuous              NaN      0.125330       NaN  \n",
      "exact-meddra               NaN      0.849240       NaN  \n",
      "negated                    NaN      0.523810       NaN  \n",
      "non-meddra                 NaN      0.487961       NaN  \n"
     ]
    },
    {
     "name": "stderr",
     "output_type": "stream",
     "text": [
      "100%|██████████| 101/101 [00:00<00:00, 155.55it/s]\n",
      "/var/folders/l5/4jn07y290nncb4wnyhsq33hh0000gt/T/ipykernel_77570/2659214344.py:3: FutureWarning: Indexing with multiple keys (implicitly converted to a tuple of keys) will be deprecated, use a list instead.\n",
      "  overall_results = results_granular.groupby('ade_type')['tp', 'fp', 'fn'].apply(sum)\n",
      "/var/folders/l5/4jn07y290nncb4wnyhsq33hh0000gt/T/ipykernel_77570/2659214344.py:7: FutureWarning: Indexing with multiple keys (implicitly converted to a tuple of keys) will be deprecated, use a list instead.\n",
      "  macro_results = results_granular.groupby('ade_type')['precision', 'recall', 'f1'].apply(np.mean)\n",
      "/Library/Frameworks/Python.framework/Versions/3.10/lib/python3.10/site-packages/numpy/core/fromnumeric.py:3502: FutureWarning: In a future version, DataFrame.mean(axis=None) will return a scalar mean over the entire DataFrame. To retain the old behavior, use 'frame.mean(axis=0)' or just 'frame.mean()'\n",
      "  return mean(axis=axis, dtype=dtype, out=out, **kwargs)\n",
      "/Library/Frameworks/Python.framework/Versions/3.10/lib/python3.10/site-packages/numpy/core/fromnumeric.py:3502: FutureWarning: In a future version, DataFrame.mean(axis=None) will return a scalar mean over the entire DataFrame. To retain the old behavior, use 'frame.mean(axis=0)' or just 'frame.mean()'\n",
      "  return mean(axis=axis, dtype=dtype, out=out, **kwargs)\n",
      "/Library/Frameworks/Python.framework/Versions/3.10/lib/python3.10/site-packages/numpy/core/fromnumeric.py:3502: FutureWarning: In a future version, DataFrame.mean(axis=None) will return a scalar mean over the entire DataFrame. To retain the old behavior, use 'frame.mean(axis=0)' or just 'frame.mean()'\n",
      "  return mean(axis=axis, dtype=dtype, out=out, **kwargs)\n",
      "/Library/Frameworks/Python.framework/Versions/3.10/lib/python3.10/site-packages/numpy/core/fromnumeric.py:3502: FutureWarning: In a future version, DataFrame.mean(axis=None) will return a scalar mean over the entire DataFrame. To retain the old behavior, use 'frame.mean(axis=0)' or just 'frame.mean()'\n",
      "  return mean(axis=axis, dtype=dtype, out=out, **kwargs)\n",
      "/Library/Frameworks/Python.framework/Versions/3.10/lib/python3.10/site-packages/numpy/core/fromnumeric.py:3502: FutureWarning: In a future version, DataFrame.mean(axis=None) will return a scalar mean over the entire DataFrame. To retain the old behavior, use 'frame.mean(axis=0)' or just 'frame.mean()'\n",
      "  return mean(axis=axis, dtype=dtype, out=out, **kwargs)\n"
     ]
    },
    {
     "name": "stdout",
     "output_type": "stream",
     "text": [
      "gpt5\n",
      "                   tp     fp      fn  micro_precision  micro_recall  micro_f1  \\\n",
      "ade_type                                                                        \n",
      "all            3880.0  431.0  1457.0         0.900023      0.727000  0.804312   \n",
      "discontinuous    53.0    0.0   335.0         1.000000      0.136598  0.240363   \n",
      "exact-meddra   3455.0    0.0   708.0         1.000000      0.829930  0.907062   \n",
      "negated          13.0    0.0    19.0         1.000000      0.406250  0.577778   \n",
      "non-meddra      425.0    0.0   750.0         1.000000      0.361702  0.531250   \n",
      "\n",
      "               macro_precision  macro_recall  macro_f1  \n",
      "ade_type                                                \n",
      "all                   0.873747      0.757469  0.820567  \n",
      "discontinuous              NaN      0.155238       NaN  \n",
      "exact-meddra               NaN      0.850485       NaN  \n",
      "negated                    NaN      0.436508       NaN  \n",
      "non-meddra                 NaN      0.466687       NaN  \n"
     ]
    },
    {
     "name": "stderr",
     "output_type": "stream",
     "text": [
      "100%|██████████| 101/101 [00:00<00:00, 150.11it/s]\n",
      "/var/folders/l5/4jn07y290nncb4wnyhsq33hh0000gt/T/ipykernel_77570/2659214344.py:3: FutureWarning: Indexing with multiple keys (implicitly converted to a tuple of keys) will be deprecated, use a list instead.\n",
      "  overall_results = results_granular.groupby('ade_type')['tp', 'fp', 'fn'].apply(sum)\n",
      "/var/folders/l5/4jn07y290nncb4wnyhsq33hh0000gt/T/ipykernel_77570/2659214344.py:7: FutureWarning: Indexing with multiple keys (implicitly converted to a tuple of keys) will be deprecated, use a list instead.\n",
      "  macro_results = results_granular.groupby('ade_type')['precision', 'recall', 'f1'].apply(np.mean)\n",
      "/Library/Frameworks/Python.framework/Versions/3.10/lib/python3.10/site-packages/numpy/core/fromnumeric.py:3502: FutureWarning: In a future version, DataFrame.mean(axis=None) will return a scalar mean over the entire DataFrame. To retain the old behavior, use 'frame.mean(axis=0)' or just 'frame.mean()'\n",
      "  return mean(axis=axis, dtype=dtype, out=out, **kwargs)\n",
      "/Library/Frameworks/Python.framework/Versions/3.10/lib/python3.10/site-packages/numpy/core/fromnumeric.py:3502: FutureWarning: In a future version, DataFrame.mean(axis=None) will return a scalar mean over the entire DataFrame. To retain the old behavior, use 'frame.mean(axis=0)' or just 'frame.mean()'\n",
      "  return mean(axis=axis, dtype=dtype, out=out, **kwargs)\n",
      "/Library/Frameworks/Python.framework/Versions/3.10/lib/python3.10/site-packages/numpy/core/fromnumeric.py:3502: FutureWarning: In a future version, DataFrame.mean(axis=None) will return a scalar mean over the entire DataFrame. To retain the old behavior, use 'frame.mean(axis=0)' or just 'frame.mean()'\n",
      "  return mean(axis=axis, dtype=dtype, out=out, **kwargs)\n",
      "/Library/Frameworks/Python.framework/Versions/3.10/lib/python3.10/site-packages/numpy/core/fromnumeric.py:3502: FutureWarning: In a future version, DataFrame.mean(axis=None) will return a scalar mean over the entire DataFrame. To retain the old behavior, use 'frame.mean(axis=0)' or just 'frame.mean()'\n",
      "  return mean(axis=axis, dtype=dtype, out=out, **kwargs)\n",
      "/Library/Frameworks/Python.framework/Versions/3.10/lib/python3.10/site-packages/numpy/core/fromnumeric.py:3502: FutureWarning: In a future version, DataFrame.mean(axis=None) will return a scalar mean over the entire DataFrame. To retain the old behavior, use 'frame.mean(axis=0)' or just 'frame.mean()'\n",
      "  return mean(axis=axis, dtype=dtype, out=out, **kwargs)\n"
     ]
    },
    {
     "name": "stdout",
     "output_type": "stream",
     "text": [
      "gpt6\n",
      "                   tp     fp      fn  micro_precision  micro_recall  micro_f1  \\\n",
      "ade_type                                                                        \n",
      "all            3967.0  468.0  1370.0         0.894476      0.743301  0.811912   \n",
      "discontinuous    54.0    0.0   334.0         1.000000      0.139175  0.244344   \n",
      "exact-meddra   3528.0    0.0   635.0         1.000000      0.847466  0.917436   \n",
      "negated          19.0    0.0    13.0         1.000000      0.593750  0.745098   \n",
      "non-meddra      439.0    0.0   736.0         1.000000      0.373617  0.543990   \n",
      "\n",
      "               macro_precision  macro_recall  macro_f1  \n",
      "ade_type                                                \n",
      "all                   0.879163      0.774956  0.815748  \n",
      "discontinuous              NaN      0.126414       NaN  \n",
      "exact-meddra               NaN      0.871072       NaN  \n",
      "negated                    NaN      0.547619       NaN  \n",
      "non-meddra                 NaN      0.471347       NaN  \n"
     ]
    },
    {
     "name": "stderr",
     "output_type": "stream",
     "text": [
      "100%|██████████| 101/101 [00:00<00:00, 154.13it/s]\n",
      "/var/folders/l5/4jn07y290nncb4wnyhsq33hh0000gt/T/ipykernel_77570/2659214344.py:3: FutureWarning: Indexing with multiple keys (implicitly converted to a tuple of keys) will be deprecated, use a list instead.\n",
      "  overall_results = results_granular.groupby('ade_type')['tp', 'fp', 'fn'].apply(sum)\n",
      "/var/folders/l5/4jn07y290nncb4wnyhsq33hh0000gt/T/ipykernel_77570/2659214344.py:7: FutureWarning: Indexing with multiple keys (implicitly converted to a tuple of keys) will be deprecated, use a list instead.\n",
      "  macro_results = results_granular.groupby('ade_type')['precision', 'recall', 'f1'].apply(np.mean)\n",
      "/Library/Frameworks/Python.framework/Versions/3.10/lib/python3.10/site-packages/numpy/core/fromnumeric.py:3502: FutureWarning: In a future version, DataFrame.mean(axis=None) will return a scalar mean over the entire DataFrame. To retain the old behavior, use 'frame.mean(axis=0)' or just 'frame.mean()'\n",
      "  return mean(axis=axis, dtype=dtype, out=out, **kwargs)\n",
      "/Library/Frameworks/Python.framework/Versions/3.10/lib/python3.10/site-packages/numpy/core/fromnumeric.py:3502: FutureWarning: In a future version, DataFrame.mean(axis=None) will return a scalar mean over the entire DataFrame. To retain the old behavior, use 'frame.mean(axis=0)' or just 'frame.mean()'\n",
      "  return mean(axis=axis, dtype=dtype, out=out, **kwargs)\n",
      "/Library/Frameworks/Python.framework/Versions/3.10/lib/python3.10/site-packages/numpy/core/fromnumeric.py:3502: FutureWarning: In a future version, DataFrame.mean(axis=None) will return a scalar mean over the entire DataFrame. To retain the old behavior, use 'frame.mean(axis=0)' or just 'frame.mean()'\n",
      "  return mean(axis=axis, dtype=dtype, out=out, **kwargs)\n",
      "/Library/Frameworks/Python.framework/Versions/3.10/lib/python3.10/site-packages/numpy/core/fromnumeric.py:3502: FutureWarning: In a future version, DataFrame.mean(axis=None) will return a scalar mean over the entire DataFrame. To retain the old behavior, use 'frame.mean(axis=0)' or just 'frame.mean()'\n",
      "  return mean(axis=axis, dtype=dtype, out=out, **kwargs)\n",
      "/Library/Frameworks/Python.framework/Versions/3.10/lib/python3.10/site-packages/numpy/core/fromnumeric.py:3502: FutureWarning: In a future version, DataFrame.mean(axis=None) will return a scalar mean over the entire DataFrame. To retain the old behavior, use 'frame.mean(axis=0)' or just 'frame.mean()'\n",
      "  return mean(axis=axis, dtype=dtype, out=out, **kwargs)\n"
     ]
    },
    {
     "name": "stdout",
     "output_type": "stream",
     "text": [
      "gpt7\n",
      "                   tp     fp      fn  micro_precision  micro_recall  micro_f1  \\\n",
      "ade_type                                                                        \n",
      "all            3925.0  484.0  1412.0         0.890225      0.735432  0.805459   \n",
      "discontinuous    52.0    0.0   336.0         1.000000      0.134021  0.236364   \n",
      "exact-meddra   3494.0    0.0   669.0         1.000000      0.839299  0.912629   \n",
      "negated          17.0    0.0    15.0         1.000000      0.531250  0.693878   \n",
      "non-meddra      431.0    0.0   744.0         1.000000      0.366809  0.536737   \n",
      "\n",
      "               macro_precision  macro_recall  macro_f1  \n",
      "ade_type                                                \n",
      "all                   0.870562      0.761709  0.821836  \n",
      "discontinuous              NaN      0.145542       NaN  \n",
      "exact-meddra               NaN      0.857307       NaN  \n",
      "negated                    NaN      0.519841       NaN  \n",
      "non-meddra                 NaN      0.461440       NaN  \n"
     ]
    },
    {
     "name": "stderr",
     "output_type": "stream",
     "text": [
      "100%|██████████| 101/101 [00:00<00:00, 152.65it/s]\n",
      "/var/folders/l5/4jn07y290nncb4wnyhsq33hh0000gt/T/ipykernel_77570/2659214344.py:3: FutureWarning: Indexing with multiple keys (implicitly converted to a tuple of keys) will be deprecated, use a list instead.\n",
      "  overall_results = results_granular.groupby('ade_type')['tp', 'fp', 'fn'].apply(sum)\n",
      "/var/folders/l5/4jn07y290nncb4wnyhsq33hh0000gt/T/ipykernel_77570/2659214344.py:7: FutureWarning: Indexing with multiple keys (implicitly converted to a tuple of keys) will be deprecated, use a list instead.\n",
      "  macro_results = results_granular.groupby('ade_type')['precision', 'recall', 'f1'].apply(np.mean)\n",
      "/Library/Frameworks/Python.framework/Versions/3.10/lib/python3.10/site-packages/numpy/core/fromnumeric.py:3502: FutureWarning: In a future version, DataFrame.mean(axis=None) will return a scalar mean over the entire DataFrame. To retain the old behavior, use 'frame.mean(axis=0)' or just 'frame.mean()'\n",
      "  return mean(axis=axis, dtype=dtype, out=out, **kwargs)\n",
      "/Library/Frameworks/Python.framework/Versions/3.10/lib/python3.10/site-packages/numpy/core/fromnumeric.py:3502: FutureWarning: In a future version, DataFrame.mean(axis=None) will return a scalar mean over the entire DataFrame. To retain the old behavior, use 'frame.mean(axis=0)' or just 'frame.mean()'\n",
      "  return mean(axis=axis, dtype=dtype, out=out, **kwargs)\n",
      "/Library/Frameworks/Python.framework/Versions/3.10/lib/python3.10/site-packages/numpy/core/fromnumeric.py:3502: FutureWarning: In a future version, DataFrame.mean(axis=None) will return a scalar mean over the entire DataFrame. To retain the old behavior, use 'frame.mean(axis=0)' or just 'frame.mean()'\n",
      "  return mean(axis=axis, dtype=dtype, out=out, **kwargs)\n",
      "/Library/Frameworks/Python.framework/Versions/3.10/lib/python3.10/site-packages/numpy/core/fromnumeric.py:3502: FutureWarning: In a future version, DataFrame.mean(axis=None) will return a scalar mean over the entire DataFrame. To retain the old behavior, use 'frame.mean(axis=0)' or just 'frame.mean()'\n",
      "  return mean(axis=axis, dtype=dtype, out=out, **kwargs)\n",
      "/Library/Frameworks/Python.framework/Versions/3.10/lib/python3.10/site-packages/numpy/core/fromnumeric.py:3502: FutureWarning: In a future version, DataFrame.mean(axis=None) will return a scalar mean over the entire DataFrame. To retain the old behavior, use 'frame.mean(axis=0)' or just 'frame.mean()'\n",
      "  return mean(axis=axis, dtype=dtype, out=out, **kwargs)\n"
     ]
    },
    {
     "name": "stdout",
     "output_type": "stream",
     "text": [
      "gpt8\n",
      "                   tp     fp      fn  micro_precision  micro_recall  micro_f1  \\\n",
      "ade_type                                                                        \n",
      "all            3934.0  507.0  1403.0         0.885837      0.737118  0.804664   \n",
      "discontinuous    38.0    0.0   350.0         1.000000      0.097938  0.178404   \n",
      "exact-meddra   3508.0    0.0   655.0         1.000000      0.842662  0.914613   \n",
      "negated          16.0    0.0    16.0         1.000000      0.500000  0.666667   \n",
      "non-meddra      426.0    0.0   749.0         1.000000      0.362553  0.532167   \n",
      "\n",
      "               macro_precision  macro_recall  macro_f1  \n",
      "ade_type                                                \n",
      "all                   0.862602      0.757628  0.815643  \n",
      "discontinuous              NaN      0.126364       NaN  \n",
      "exact-meddra               NaN      0.851567       NaN  \n",
      "negated                    NaN      0.507937       NaN  \n",
      "non-meddra                 NaN      0.456810       NaN  \n"
     ]
    },
    {
     "name": "stderr",
     "output_type": "stream",
     "text": [
      "100%|██████████| 101/101 [00:00<00:00, 153.24it/s]\n",
      "/var/folders/l5/4jn07y290nncb4wnyhsq33hh0000gt/T/ipykernel_77570/2659214344.py:3: FutureWarning: Indexing with multiple keys (implicitly converted to a tuple of keys) will be deprecated, use a list instead.\n",
      "  overall_results = results_granular.groupby('ade_type')['tp', 'fp', 'fn'].apply(sum)\n",
      "/var/folders/l5/4jn07y290nncb4wnyhsq33hh0000gt/T/ipykernel_77570/2659214344.py:7: FutureWarning: Indexing with multiple keys (implicitly converted to a tuple of keys) will be deprecated, use a list instead.\n",
      "  macro_results = results_granular.groupby('ade_type')['precision', 'recall', 'f1'].apply(np.mean)\n",
      "/Library/Frameworks/Python.framework/Versions/3.10/lib/python3.10/site-packages/numpy/core/fromnumeric.py:3502: FutureWarning: In a future version, DataFrame.mean(axis=None) will return a scalar mean over the entire DataFrame. To retain the old behavior, use 'frame.mean(axis=0)' or just 'frame.mean()'\n",
      "  return mean(axis=axis, dtype=dtype, out=out, **kwargs)\n",
      "/Library/Frameworks/Python.framework/Versions/3.10/lib/python3.10/site-packages/numpy/core/fromnumeric.py:3502: FutureWarning: In a future version, DataFrame.mean(axis=None) will return a scalar mean over the entire DataFrame. To retain the old behavior, use 'frame.mean(axis=0)' or just 'frame.mean()'\n",
      "  return mean(axis=axis, dtype=dtype, out=out, **kwargs)\n",
      "/Library/Frameworks/Python.framework/Versions/3.10/lib/python3.10/site-packages/numpy/core/fromnumeric.py:3502: FutureWarning: In a future version, DataFrame.mean(axis=None) will return a scalar mean over the entire DataFrame. To retain the old behavior, use 'frame.mean(axis=0)' or just 'frame.mean()'\n",
      "  return mean(axis=axis, dtype=dtype, out=out, **kwargs)\n",
      "/Library/Frameworks/Python.framework/Versions/3.10/lib/python3.10/site-packages/numpy/core/fromnumeric.py:3502: FutureWarning: In a future version, DataFrame.mean(axis=None) will return a scalar mean over the entire DataFrame. To retain the old behavior, use 'frame.mean(axis=0)' or just 'frame.mean()'\n",
      "  return mean(axis=axis, dtype=dtype, out=out, **kwargs)\n",
      "/Library/Frameworks/Python.framework/Versions/3.10/lib/python3.10/site-packages/numpy/core/fromnumeric.py:3502: FutureWarning: In a future version, DataFrame.mean(axis=None) will return a scalar mean over the entire DataFrame. To retain the old behavior, use 'frame.mean(axis=0)' or just 'frame.mean()'\n",
      "  return mean(axis=axis, dtype=dtype, out=out, **kwargs)\n"
     ]
    },
    {
     "name": "stdout",
     "output_type": "stream",
     "text": [
      "gpt9\n",
      "                   tp     fp      fn  micro_precision  micro_recall  micro_f1  \\\n",
      "ade_type                                                                        \n",
      "all            3927.0  485.0  1410.0         0.890073      0.735807  0.805621   \n",
      "discontinuous    54.0    0.0   334.0         1.000000      0.139175  0.244344   \n",
      "exact-meddra   3487.0    0.0   676.0         1.000000      0.837617  0.911634   \n",
      "negated          15.0    0.0    17.0         1.000000      0.468750  0.638298   \n",
      "non-meddra      440.0    0.0   735.0         1.000000      0.374468  0.544892   \n",
      "\n",
      "               macro_precision  macro_recall  macro_f1  \n",
      "ade_type                                                \n",
      "all                   0.866206      0.755328  0.815375  \n",
      "discontinuous              NaN      0.151517       NaN  \n",
      "exact-meddra               NaN      0.843772       NaN  \n",
      "negated                    NaN      0.424603       NaN  \n",
      "non-meddra                 NaN      0.467362       NaN  \n"
     ]
    },
    {
     "name": "stderr",
     "output_type": "stream",
     "text": [
      "100%|██████████| 101/101 [00:00<00:00, 146.28it/s]\n",
      "/var/folders/l5/4jn07y290nncb4wnyhsq33hh0000gt/T/ipykernel_77570/2659214344.py:3: FutureWarning: Indexing with multiple keys (implicitly converted to a tuple of keys) will be deprecated, use a list instead.\n",
      "  overall_results = results_granular.groupby('ade_type')['tp', 'fp', 'fn'].apply(sum)\n",
      "/var/folders/l5/4jn07y290nncb4wnyhsq33hh0000gt/T/ipykernel_77570/2659214344.py:7: FutureWarning: Indexing with multiple keys (implicitly converted to a tuple of keys) will be deprecated, use a list instead.\n",
      "  macro_results = results_granular.groupby('ade_type')['precision', 'recall', 'f1'].apply(np.mean)\n",
      "/Library/Frameworks/Python.framework/Versions/3.10/lib/python3.10/site-packages/numpy/core/fromnumeric.py:3502: FutureWarning: In a future version, DataFrame.mean(axis=None) will return a scalar mean over the entire DataFrame. To retain the old behavior, use 'frame.mean(axis=0)' or just 'frame.mean()'\n",
      "  return mean(axis=axis, dtype=dtype, out=out, **kwargs)\n",
      "/Library/Frameworks/Python.framework/Versions/3.10/lib/python3.10/site-packages/numpy/core/fromnumeric.py:3502: FutureWarning: In a future version, DataFrame.mean(axis=None) will return a scalar mean over the entire DataFrame. To retain the old behavior, use 'frame.mean(axis=0)' or just 'frame.mean()'\n",
      "  return mean(axis=axis, dtype=dtype, out=out, **kwargs)\n",
      "/Library/Frameworks/Python.framework/Versions/3.10/lib/python3.10/site-packages/numpy/core/fromnumeric.py:3502: FutureWarning: In a future version, DataFrame.mean(axis=None) will return a scalar mean over the entire DataFrame. To retain the old behavior, use 'frame.mean(axis=0)' or just 'frame.mean()'\n",
      "  return mean(axis=axis, dtype=dtype, out=out, **kwargs)\n",
      "/Library/Frameworks/Python.framework/Versions/3.10/lib/python3.10/site-packages/numpy/core/fromnumeric.py:3502: FutureWarning: In a future version, DataFrame.mean(axis=None) will return a scalar mean over the entire DataFrame. To retain the old behavior, use 'frame.mean(axis=0)' or just 'frame.mean()'\n",
      "  return mean(axis=axis, dtype=dtype, out=out, **kwargs)\n",
      "/Library/Frameworks/Python.framework/Versions/3.10/lib/python3.10/site-packages/numpy/core/fromnumeric.py:3502: FutureWarning: In a future version, DataFrame.mean(axis=None) will return a scalar mean over the entire DataFrame. To retain the old behavior, use 'frame.mean(axis=0)' or just 'frame.mean()'\n",
      "  return mean(axis=axis, dtype=dtype, out=out, **kwargs)\n"
     ]
    },
    {
     "name": "stdout",
     "output_type": "stream",
     "text": [
      "gpt10\n",
      "                   tp     fp      fn  micro_precision  micro_recall  micro_f1  \\\n",
      "ade_type                                                                        \n",
      "all            3853.0  526.0  1484.0         0.879881      0.721941  0.793125   \n",
      "discontinuous    45.0    0.0   343.0         1.000000      0.115979  0.207852   \n",
      "exact-meddra   3434.0    0.0   729.0         1.000000      0.824886  0.904041   \n",
      "negated          17.0    0.0    15.0         1.000000      0.531250  0.693878   \n",
      "non-meddra      419.0    0.0   756.0         1.000000      0.356596  0.525721   \n",
      "\n",
      "               macro_precision  macro_recall  macro_f1  \n",
      "ade_type                                                \n",
      "all                   0.860292      0.751828  0.809991  \n",
      "discontinuous              NaN      0.110966       NaN  \n",
      "exact-meddra               NaN      0.844679       NaN  \n",
      "negated                    NaN      0.555556       NaN  \n",
      "non-meddra                 NaN      0.474358       NaN  \n"
     ]
    },
    {
     "name": "stderr",
     "output_type": "stream",
     "text": [
      "100%|██████████| 101/101 [00:00<00:00, 145.21it/s]\n",
      "/var/folders/l5/4jn07y290nncb4wnyhsq33hh0000gt/T/ipykernel_77570/2659214344.py:3: FutureWarning: Indexing with multiple keys (implicitly converted to a tuple of keys) will be deprecated, use a list instead.\n",
      "  overall_results = results_granular.groupby('ade_type')['tp', 'fp', 'fn'].apply(sum)\n",
      "/var/folders/l5/4jn07y290nncb4wnyhsq33hh0000gt/T/ipykernel_77570/2659214344.py:7: FutureWarning: Indexing with multiple keys (implicitly converted to a tuple of keys) will be deprecated, use a list instead.\n",
      "  macro_results = results_granular.groupby('ade_type')['precision', 'recall', 'f1'].apply(np.mean)\n",
      "/Library/Frameworks/Python.framework/Versions/3.10/lib/python3.10/site-packages/numpy/core/fromnumeric.py:3502: FutureWarning: In a future version, DataFrame.mean(axis=None) will return a scalar mean over the entire DataFrame. To retain the old behavior, use 'frame.mean(axis=0)' or just 'frame.mean()'\n",
      "  return mean(axis=axis, dtype=dtype, out=out, **kwargs)\n",
      "/Library/Frameworks/Python.framework/Versions/3.10/lib/python3.10/site-packages/numpy/core/fromnumeric.py:3502: FutureWarning: In a future version, DataFrame.mean(axis=None) will return a scalar mean over the entire DataFrame. To retain the old behavior, use 'frame.mean(axis=0)' or just 'frame.mean()'\n",
      "  return mean(axis=axis, dtype=dtype, out=out, **kwargs)\n",
      "/Library/Frameworks/Python.framework/Versions/3.10/lib/python3.10/site-packages/numpy/core/fromnumeric.py:3502: FutureWarning: In a future version, DataFrame.mean(axis=None) will return a scalar mean over the entire DataFrame. To retain the old behavior, use 'frame.mean(axis=0)' or just 'frame.mean()'\n",
      "  return mean(axis=axis, dtype=dtype, out=out, **kwargs)\n",
      "/Library/Frameworks/Python.framework/Versions/3.10/lib/python3.10/site-packages/numpy/core/fromnumeric.py:3502: FutureWarning: In a future version, DataFrame.mean(axis=None) will return a scalar mean over the entire DataFrame. To retain the old behavior, use 'frame.mean(axis=0)' or just 'frame.mean()'\n",
      "  return mean(axis=axis, dtype=dtype, out=out, **kwargs)\n",
      "/Library/Frameworks/Python.framework/Versions/3.10/lib/python3.10/site-packages/numpy/core/fromnumeric.py:3502: FutureWarning: In a future version, DataFrame.mean(axis=None) will return a scalar mean over the entire DataFrame. To retain the old behavior, use 'frame.mean(axis=0)' or just 'frame.mean()'\n",
      "  return mean(axis=axis, dtype=dtype, out=out, **kwargs)\n"
     ]
    },
    {
     "name": "stdout",
     "output_type": "stream",
     "text": [
      "gpt11\n",
      "                   tp     fp      fn  micro_precision  micro_recall  micro_f1  \\\n",
      "ade_type                                                                        \n",
      "all            3858.0  497.0  1479.0         0.885878      0.722878  0.796121   \n",
      "discontinuous    43.0    0.0   345.0         1.000000      0.110825  0.199536   \n",
      "exact-meddra   3448.0    0.0   715.0         1.000000      0.828249  0.906057   \n",
      "negated          13.0    0.0    19.0         1.000000      0.406250  0.577778   \n",
      "non-meddra      410.0    0.0   765.0         1.000000      0.348936  0.517350   \n",
      "\n",
      "               macro_precision  macro_recall  macro_f1  \n",
      "ade_type                                                \n",
      "all                   0.865456      0.748061   0.81144  \n",
      "discontinuous              NaN      0.103138       NaN  \n",
      "exact-meddra               NaN      0.843244       NaN  \n",
      "negated                    NaN      0.396825       NaN  \n",
      "non-meddra                 NaN      0.452177       NaN  \n"
     ]
    },
    {
     "name": "stderr",
     "output_type": "stream",
     "text": [
      "100%|██████████| 101/101 [00:00<00:00, 149.25it/s]\n",
      "/var/folders/l5/4jn07y290nncb4wnyhsq33hh0000gt/T/ipykernel_77570/2659214344.py:3: FutureWarning: Indexing with multiple keys (implicitly converted to a tuple of keys) will be deprecated, use a list instead.\n",
      "  overall_results = results_granular.groupby('ade_type')['tp', 'fp', 'fn'].apply(sum)\n",
      "/var/folders/l5/4jn07y290nncb4wnyhsq33hh0000gt/T/ipykernel_77570/2659214344.py:7: FutureWarning: Indexing with multiple keys (implicitly converted to a tuple of keys) will be deprecated, use a list instead.\n",
      "  macro_results = results_granular.groupby('ade_type')['precision', 'recall', 'f1'].apply(np.mean)\n",
      "/Library/Frameworks/Python.framework/Versions/3.10/lib/python3.10/site-packages/numpy/core/fromnumeric.py:3502: FutureWarning: In a future version, DataFrame.mean(axis=None) will return a scalar mean over the entire DataFrame. To retain the old behavior, use 'frame.mean(axis=0)' or just 'frame.mean()'\n",
      "  return mean(axis=axis, dtype=dtype, out=out, **kwargs)\n",
      "/Library/Frameworks/Python.framework/Versions/3.10/lib/python3.10/site-packages/numpy/core/fromnumeric.py:3502: FutureWarning: In a future version, DataFrame.mean(axis=None) will return a scalar mean over the entire DataFrame. To retain the old behavior, use 'frame.mean(axis=0)' or just 'frame.mean()'\n",
      "  return mean(axis=axis, dtype=dtype, out=out, **kwargs)\n",
      "/Library/Frameworks/Python.framework/Versions/3.10/lib/python3.10/site-packages/numpy/core/fromnumeric.py:3502: FutureWarning: In a future version, DataFrame.mean(axis=None) will return a scalar mean over the entire DataFrame. To retain the old behavior, use 'frame.mean(axis=0)' or just 'frame.mean()'\n",
      "  return mean(axis=axis, dtype=dtype, out=out, **kwargs)\n",
      "/Library/Frameworks/Python.framework/Versions/3.10/lib/python3.10/site-packages/numpy/core/fromnumeric.py:3502: FutureWarning: In a future version, DataFrame.mean(axis=None) will return a scalar mean over the entire DataFrame. To retain the old behavior, use 'frame.mean(axis=0)' or just 'frame.mean()'\n",
      "  return mean(axis=axis, dtype=dtype, out=out, **kwargs)\n",
      "/Library/Frameworks/Python.framework/Versions/3.10/lib/python3.10/site-packages/numpy/core/fromnumeric.py:3502: FutureWarning: In a future version, DataFrame.mean(axis=None) will return a scalar mean over the entire DataFrame. To retain the old behavior, use 'frame.mean(axis=0)' or just 'frame.mean()'\n",
      "  return mean(axis=axis, dtype=dtype, out=out, **kwargs)\n"
     ]
    },
    {
     "name": "stdout",
     "output_type": "stream",
     "text": [
      "gpt12\n",
      "                   tp     fp      fn  micro_precision  micro_recall  micro_f1  \\\n",
      "ade_type                                                                        \n",
      "all            3885.0  489.0  1452.0         0.888203      0.727937  0.800124   \n",
      "discontinuous    43.0    0.0   345.0         1.000000      0.110825  0.199536   \n",
      "exact-meddra   3453.0    0.0   710.0         1.000000      0.829450  0.906775   \n",
      "negated          18.0    0.0    14.0         1.000000      0.562500  0.720000   \n",
      "non-meddra      432.0    0.0   743.0         1.000000      0.367660  0.537648   \n",
      "\n",
      "               macro_precision  macro_recall  macro_f1  \n",
      "ade_type                                                \n",
      "all                   0.877343      0.767090  0.819531  \n",
      "discontinuous              NaN      0.127689       NaN  \n",
      "exact-meddra               NaN      0.858716       NaN  \n",
      "negated                    NaN      0.547619       NaN  \n",
      "non-meddra                 NaN      0.475297       NaN  \n"
     ]
    },
    {
     "name": "stderr",
     "output_type": "stream",
     "text": [
      "100%|██████████| 101/101 [00:00<00:00, 144.92it/s]\n",
      "/var/folders/l5/4jn07y290nncb4wnyhsq33hh0000gt/T/ipykernel_77570/2659214344.py:3: FutureWarning: Indexing with multiple keys (implicitly converted to a tuple of keys) will be deprecated, use a list instead.\n",
      "  overall_results = results_granular.groupby('ade_type')['tp', 'fp', 'fn'].apply(sum)\n",
      "/var/folders/l5/4jn07y290nncb4wnyhsq33hh0000gt/T/ipykernel_77570/2659214344.py:7: FutureWarning: Indexing with multiple keys (implicitly converted to a tuple of keys) will be deprecated, use a list instead.\n",
      "  macro_results = results_granular.groupby('ade_type')['precision', 'recall', 'f1'].apply(np.mean)\n",
      "/Library/Frameworks/Python.framework/Versions/3.10/lib/python3.10/site-packages/numpy/core/fromnumeric.py:3502: FutureWarning: In a future version, DataFrame.mean(axis=None) will return a scalar mean over the entire DataFrame. To retain the old behavior, use 'frame.mean(axis=0)' or just 'frame.mean()'\n",
      "  return mean(axis=axis, dtype=dtype, out=out, **kwargs)\n",
      "/Library/Frameworks/Python.framework/Versions/3.10/lib/python3.10/site-packages/numpy/core/fromnumeric.py:3502: FutureWarning: In a future version, DataFrame.mean(axis=None) will return a scalar mean over the entire DataFrame. To retain the old behavior, use 'frame.mean(axis=0)' or just 'frame.mean()'\n",
      "  return mean(axis=axis, dtype=dtype, out=out, **kwargs)\n",
      "/Library/Frameworks/Python.framework/Versions/3.10/lib/python3.10/site-packages/numpy/core/fromnumeric.py:3502: FutureWarning: In a future version, DataFrame.mean(axis=None) will return a scalar mean over the entire DataFrame. To retain the old behavior, use 'frame.mean(axis=0)' or just 'frame.mean()'\n",
      "  return mean(axis=axis, dtype=dtype, out=out, **kwargs)\n",
      "/Library/Frameworks/Python.framework/Versions/3.10/lib/python3.10/site-packages/numpy/core/fromnumeric.py:3502: FutureWarning: In a future version, DataFrame.mean(axis=None) will return a scalar mean over the entire DataFrame. To retain the old behavior, use 'frame.mean(axis=0)' or just 'frame.mean()'\n",
      "  return mean(axis=axis, dtype=dtype, out=out, **kwargs)\n",
      "/Library/Frameworks/Python.framework/Versions/3.10/lib/python3.10/site-packages/numpy/core/fromnumeric.py:3502: FutureWarning: In a future version, DataFrame.mean(axis=None) will return a scalar mean over the entire DataFrame. To retain the old behavior, use 'frame.mean(axis=0)' or just 'frame.mean()'\n",
      "  return mean(axis=axis, dtype=dtype, out=out, **kwargs)\n"
     ]
    },
    {
     "name": "stdout",
     "output_type": "stream",
     "text": [
      "gpt13\n",
      "                   tp     fp      fn  micro_precision  micro_recall  micro_f1  \\\n",
      "ade_type                                                                        \n",
      "all            3878.0  492.0  1459.0         0.887414      0.726625  0.799011   \n",
      "discontinuous    51.0    0.0   337.0         1.000000      0.131443  0.232346   \n",
      "exact-meddra   3451.0    0.0   712.0         1.000000      0.828969  0.906488   \n",
      "negated          17.0    0.0    15.0         1.000000      0.531250  0.693878   \n",
      "non-meddra      427.0    0.0   748.0         1.000000      0.363404  0.533084   \n",
      "\n",
      "               macro_precision  macro_recall  macro_f1  \n",
      "ade_type                                                \n",
      "all                   0.869834      0.750553  0.806777  \n",
      "discontinuous              NaN      0.128458       NaN  \n",
      "exact-meddra               NaN      0.844940       NaN  \n",
      "negated                    NaN      0.515873       NaN  \n",
      "non-meddra                 NaN      0.467192       NaN  \n"
     ]
    },
    {
     "name": "stderr",
     "output_type": "stream",
     "text": [
      "100%|██████████| 101/101 [00:00<00:00, 152.37it/s]"
     ]
    },
    {
     "name": "stdout",
     "output_type": "stream",
     "text": [
      "gpt14\n",
      "                   tp     fp      fn  micro_precision  micro_recall  micro_f1  \\\n",
      "ade_type                                                                        \n",
      "all            3884.0  513.0  1453.0          0.88333      0.727750  0.798028   \n",
      "discontinuous    37.0    0.0   351.0          1.00000      0.095361  0.174118   \n",
      "exact-meddra   3449.0    0.0   714.0          1.00000      0.828489  0.906201   \n",
      "negated          18.0    0.0    14.0          1.00000      0.562500  0.720000   \n",
      "non-meddra      435.0    0.0   740.0          1.00000      0.370213  0.540373   \n",
      "\n",
      "               macro_precision  macro_recall  macro_f1  \n",
      "ade_type                                                \n",
      "all                   0.871128      0.759044  0.813051  \n",
      "discontinuous              NaN      0.107796       NaN  \n",
      "exact-meddra               NaN      0.850862       NaN  \n",
      "negated                    NaN      0.531746       NaN  \n",
      "non-meddra                 NaN      0.468709       NaN  \n"
     ]
    },
    {
     "name": "stderr",
     "output_type": "stream",
     "text": [
      "\n",
      "/var/folders/l5/4jn07y290nncb4wnyhsq33hh0000gt/T/ipykernel_77570/2659214344.py:3: FutureWarning: Indexing with multiple keys (implicitly converted to a tuple of keys) will be deprecated, use a list instead.\n",
      "  overall_results = results_granular.groupby('ade_type')['tp', 'fp', 'fn'].apply(sum)\n",
      "/var/folders/l5/4jn07y290nncb4wnyhsq33hh0000gt/T/ipykernel_77570/2659214344.py:7: FutureWarning: Indexing with multiple keys (implicitly converted to a tuple of keys) will be deprecated, use a list instead.\n",
      "  macro_results = results_granular.groupby('ade_type')['precision', 'recall', 'f1'].apply(np.mean)\n",
      "/Library/Frameworks/Python.framework/Versions/3.10/lib/python3.10/site-packages/numpy/core/fromnumeric.py:3502: FutureWarning: In a future version, DataFrame.mean(axis=None) will return a scalar mean over the entire DataFrame. To retain the old behavior, use 'frame.mean(axis=0)' or just 'frame.mean()'\n",
      "  return mean(axis=axis, dtype=dtype, out=out, **kwargs)\n",
      "/Library/Frameworks/Python.framework/Versions/3.10/lib/python3.10/site-packages/numpy/core/fromnumeric.py:3502: FutureWarning: In a future version, DataFrame.mean(axis=None) will return a scalar mean over the entire DataFrame. To retain the old behavior, use 'frame.mean(axis=0)' or just 'frame.mean()'\n",
      "  return mean(axis=axis, dtype=dtype, out=out, **kwargs)\n",
      "/Library/Frameworks/Python.framework/Versions/3.10/lib/python3.10/site-packages/numpy/core/fromnumeric.py:3502: FutureWarning: In a future version, DataFrame.mean(axis=None) will return a scalar mean over the entire DataFrame. To retain the old behavior, use 'frame.mean(axis=0)' or just 'frame.mean()'\n",
      "  return mean(axis=axis, dtype=dtype, out=out, **kwargs)\n",
      "/Library/Frameworks/Python.framework/Versions/3.10/lib/python3.10/site-packages/numpy/core/fromnumeric.py:3502: FutureWarning: In a future version, DataFrame.mean(axis=None) will return a scalar mean over the entire DataFrame. To retain the old behavior, use 'frame.mean(axis=0)' or just 'frame.mean()'\n",
      "  return mean(axis=axis, dtype=dtype, out=out, **kwargs)\n",
      "/Library/Frameworks/Python.framework/Versions/3.10/lib/python3.10/site-packages/numpy/core/fromnumeric.py:3502: FutureWarning: In a future version, DataFrame.mean(axis=None) will return a scalar mean over the entire DataFrame. To retain the old behavior, use 'frame.mean(axis=0)' or just 'frame.mean()'\n",
      "  return mean(axis=axis, dtype=dtype, out=out, **kwargs)\n"
     ]
    }
   ],
   "source": [
    "for method, output in outputs.items():\n",
    "    results_granular = evaluation_granular(manual_ades, output)\n",
    "    overall_results = results_granular.groupby('ade_type')['tp', 'fp', 'fn'].apply(sum)\n",
    "    overall_results['micro_precision'] = overall_results['tp']/(overall_results['tp']+overall_results['fp'])\n",
    "    overall_results['micro_recall'] = overall_results['tp']/(overall_results['tp']+overall_results['fn'])\n",
    "    overall_results['micro_f1'] = (2 * overall_results['micro_precision'] * overall_results['micro_recall'])/(overall_results['micro_precision'] + overall_results['micro_recall']) # 2*tp_total/(2*tp_total+fp_total+fn_total)\n",
    "    macro_results = results_granular.groupby('ade_type')['precision', 'recall', 'f1'].apply(np.mean)\n",
    "    overall_results['macro_precision'] = macro_results['precision']\n",
    "    overall_results['macro_recall'] = macro_results['recall']\n",
    "    overall_results['macro_f1'] = macro_results['f1']\n",
    "    save_filename = 'results/{}_{}_granular.csv'.format(output_file_basename, method)\n",
    "    overall_results.to_csv(save_filename)\n",
    "    print(method)\n",
    "    print(overall_results)"
   ]
  },
  {
   "cell_type": "code",
   "execution_count": null,
   "id": "f5f04b74",
   "metadata": {},
   "outputs": [],
   "source": []
  }
 ],
 "metadata": {
  "kernelspec": {
   "display_name": "Python 3 (ipykernel)",
   "language": "python",
   "name": "python3"
  },
  "language_info": {
   "codemirror_mode": {
    "name": "ipython",
    "version": 3
   },
   "file_extension": ".py",
   "mimetype": "text/x-python",
   "name": "python",
   "nbconvert_exporter": "python",
   "pygments_lexer": "ipython3",
   "version": "3.10.0"
  }
 },
 "nbformat": 4,
 "nbformat_minor": 5
}
