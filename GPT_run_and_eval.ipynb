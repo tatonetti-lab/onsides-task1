{
 "cells": [
  {
   "cell_type": "code",
   "execution_count": 1,
   "id": "706f8453-d366-4e8c-976c-90b59cf58197",
   "metadata": {},
   "outputs": [],
   "source": [
    "import os\n",
    "from tqdm import tqdm\n",
    "import pandas as pd\n",
    "from openai import OpenAI, AzureOpenAI\n",
    "import openai\n",
    "import constants\n",
    "import csv\n",
    "import numpy as np\n",
    "import concurrent\n",
    "import time\n",
    "import json"
   ]
  },
  {
   "cell_type": "markdown",
   "id": "9db80a89-6744-4602-936e-c5457d547d20",
   "metadata": {},
   "source": [
    "## Set Up"
   ]
  },
  {
   "cell_type": "markdown",
   "id": "8759fb31-5cee-46e8-a65f-36bf14b08730",
   "metadata": {},
   "source": [
    "### Functions"
   ]
  },
  {
   "cell_type": "code",
   "execution_count": 2,
   "id": "98fa878b-b40a-4895-808e-9574b7d004c7",
   "metadata": {},
   "outputs": [],
   "source": [
    "# function for running GPT\n",
    "def extract_ade_terms(api_source, api_endpoint, gpt_model, system_content, prompt, text, openai_api):\n",
    "  if api_source == 'OpenAI':\n",
    "    client = OpenAI(api_key=openai_api)\n",
    "  elif api_source == 'Azure':\n",
    "    client = AzureOpenAI(api_key=openai_api, api_version=\"2023-12-01-preview\", azure_endpoint=api_endpoint)\n",
    "  else:\n",
    "    raise Exception(f\"Unexpected API source requested: {api_source}\")\n",
    "  \n",
    "  chat_completion = client.chat.completions.create(\n",
    "      messages=[\n",
    "          {\"role\": \"system\", \"content\": system_content},\n",
    "          {\n",
    "              \"role\": \"user\",\n",
    "              \"content\": prompt.format(text)\n",
    "          }\n",
    "      ],\n",
    "      model=gpt_model\n",
    "  )\n",
    "  term = chat_completion.choices[0].message.content\n",
    "  return term"
   ]
  },
  {
   "cell_type": "code",
   "execution_count": 3,
   "id": "fd0bffb7",
   "metadata": {},
   "outputs": [],
   "source": [
    "def evaluation_subtype(manual_ades, gpt_output, drug, subtype = 'all'):\n",
    "    '''\n",
    "    For a given drug, evaluate the performance of GPT on a given subtype of ADEs. \n",
    "    '''\n",
    "    \n",
    "    drug_df = manual_ades.query(\"(drug_name == '{}') & (section_name == 'adverse reactions')\".format(drug))\n",
    "    if subtype == 'exact-meddra': drug_df = drug_df[drug_df.meddra_exact_term == 1]\n",
    "    if subtype == 'non-meddra': drug_df = drug_df[drug_df.meddra_exact_term == 0]\n",
    "    if subtype == 'negated': drug_df = drug_df[drug_df.negated_term == 1]\n",
    "    if subtype == 'discontinuous': drug_df = drug_df[drug_df.discontinuous_term == 1]\n",
    "\n",
    "    manual = set(drug_df['reaction_string'].to_list())\n",
    "    gpt_drug = (gpt_output[\n",
    "        (gpt_output['drug_name'] == drug)\n",
    "        &\n",
    "        (gpt_output['section_name'] == \"adverse reactions\")\n",
    "        ][\"gpt_output\"].astype(str)\n",
    "        .str.lower()\n",
    "        .str.replace('\\n-', ', ')\n",
    "        .str.split(\",\").tolist())\n",
    "\n",
    "    try:\n",
    "        gpt_drug = [x.strip() for x in gpt_drug[0]]\n",
    "        gpt_drug = set(gpt_drug)\n",
    "    except:\n",
    "        return [drug, subtype, len(manual), len(gpt_drug), np.nan, np.nan, np.nan, np.nan, np.nan, np.nan]\n",
    "    \n",
    "    #overall\n",
    "    TP = len(manual.intersection(gpt_drug))\n",
    "    FP = len(gpt_drug.difference(manual))\n",
    "    FN = len(manual.difference(gpt_drug))\n",
    "    if TP == 0 and FP == 0:\n",
    "        precision = np.NAN\n",
    "    else:\n",
    "        precision = TP/(TP+FP)\n",
    "    if TP == 0 and FN == 0:\n",
    "        recall = np.NAN\n",
    "    else:\n",
    "        recall = TP/(TP+FN)\n",
    "    if precision != 0 and recall != 0:\n",
    "        f1 = (2 * precision * recall)/(precision + recall)# 2*TP/(2*TP+FP+FN)\n",
    "    else:\n",
    "        f1 = np.NAN\n",
    "    \n",
    "    if subtype != 'all':\n",
    "        # these can't be computed for the subtypes\n",
    "        precision = np.nan\n",
    "        f1 = np.nan\n",
    "        FP = np.nan\n",
    "    \n",
    "    return [drug, subtype, len(manual), len(gpt_drug), TP, FP, FN, precision, recall, f1]"
   ]
  },
  {
   "cell_type": "code",
   "execution_count": 4,
   "id": "c8c6cc82",
   "metadata": {},
   "outputs": [],
   "source": [
    "def evaluation(manual_ades, gpt_output, limit = 1000):\n",
    "    drugs = gpt_output['drug_name'].unique()\n",
    "    drugs_set = set()\n",
    "    results = []\n",
    "    for drug in tqdm(drugs):\n",
    "\n",
    "        results.append(evaluation_subtype(manual_ades, gpt_output, drug))\n",
    "        \n",
    "    results = pd.DataFrame(results, columns=['drug_name', 'exclude', 'n_manual', 'n_gpt', 'tp', 'fp', 'fn', 'precision', 'recall', 'f1'])\n",
    "    return results"
   ]
  },
  {
   "cell_type": "code",
   "execution_count": 5,
   "id": "d669d0b0",
   "metadata": {},
   "outputs": [],
   "source": [
    "def evaluation_granular(manual_ades, gpt_output, limit = 1000):\n",
    "    drugs = gpt_output['drug_name'].unique()\n",
    "    drugs_set = set()\n",
    "    results = []\n",
    "    for drug in tqdm(drugs):\n",
    "        drugs_set.add(drug)\n",
    "        if len(drugs_set) > limit:\n",
    "            break\n",
    "        \n",
    "        results.append(evaluation_subtype(manual_ades, gpt_output, drug, subtype = 'all'))\n",
    "        results.append(evaluation_subtype(manual_ades, gpt_output, drug, subtype = 'exact-meddra'))\n",
    "        results.append(evaluation_subtype(manual_ades, gpt_output, drug, subtype = 'non-meddra'))\n",
    "        results.append(evaluation_subtype(manual_ades, gpt_output, drug, subtype = 'negated'))\n",
    "        results.append(evaluation_subtype(manual_ades, gpt_output, drug, subtype = 'discontinuous'))\n",
    "\n",
    "    results = pd.DataFrame(results, columns=['drug_name', 'ade_type', 'n_manual', 'n_gpt', 'tp', 'fp', 'fn', 'precision', 'recall', 'f1'])\n",
    "    return results"
   ]
  },
  {
   "cell_type": "markdown",
   "id": "37930311-07c7-4762-abd1-cb249c5bd25d",
   "metadata": {},
   "source": [
    "### Variables"
   ]
  },
  {
   "cell_type": "code",
   "execution_count": 7,
   "id": "ed8cc025-3af6-4bea-826b-962eb8b36f14",
   "metadata": {},
   "outputs": [],
   "source": [
    "drug_file = 'data/train_drug_label_text.csv'\n",
    "manual_file = 'data/train_drug_label_text_manual_ades.csv'\n",
    "my_max = 10000"
   ]
  },
  {
   "cell_type": "code",
   "execution_count": 8,
   "id": "22518e4d-ec19-4a56-9914-cd969a50cbc3",
   "metadata": {},
   "outputs": [],
   "source": [
    "drugs = pd.read_csv(drug_file)\n",
    "manual_ades = pd.read_csv(manual_file)\n",
    "set_type = drug_file.split('/')[1].split('_')[0] # assuming file follows format \"train_...\" or \"test....\""
   ]
  },
  {
   "cell_type": "markdown",
   "id": "e82ae7da-2a0e-4755-ae4d-4bced5f7f5a2",
   "metadata": {},
   "source": [
    "## Run GPT"
   ]
  },
  {
   "cell_type": "code",
   "execution_count": 9,
   "id": "e618b1c1",
   "metadata": {},
   "outputs": [],
   "source": [
    "outputs = {}"
   ]
  },
  {
   "cell_type": "code",
   "execution_count": 18,
   "id": "f6f04e8a-be72-4ad8-abfe-7b5d60c03a46",
   "metadata": {},
   "outputs": [],
   "source": [
    "config = json.load(open('./config.json'))\n",
    "\n",
    "organization = \"\"\n",
    "\n",
    "api_source = 'OpenAI'\n",
    "\n",
    "api_key = config[api_source]['openai_api_key'] #constants.AZURE_OPENAI_KEY\n",
    "api_endpoint = config[api_source]['openai_api_endpoint'] \n",
    "\n",
    "gpt_model = config[api_source][\"gpt_model\"]\n",
    "gpt_model = \"gpt-4-0613\"\n"
   ]
  },
  {
   "cell_type": "code",
   "execution_count": 19,
   "id": "b4b1bbd7-3b6c-42f5-a2af-04391ea86537",
   "metadata": {},
   "outputs": [
    {
     "data": {
      "text/plain": [
       "'OpenAI_gpt-4-0613_fatal-prompt-v2_pharmexpert-v0_train'"
      ]
     },
     "execution_count": 19,
     "metadata": {},
     "output_type": "execute_result"
    }
   ],
   "source": [
    "nruns = 1\n",
    "\n",
    "system_options = {\n",
    "    \"pharmexpert-v0\": \"You are an expert in pharmacology.\",\n",
    "    \"pharmexpert-v1\": \"You are an expert in medical natural language processing, adverse drug reactions, pharmacology, and clinical trials.\"\n",
    "}\n",
    "\n",
    "prompt_options = {\n",
    "    \"fatal-prompt-v2\": \"\"\"\n",
    "Extract all adverse reactions as they appear, including all synonyms.\n",
    "mentioned in the text and provide them as a comma-separated list.\n",
    "If a fatal event is listed add 'death' to the list.\n",
    "The text is :'{}' \n",
    "\"\"\"\n",
    "}\n",
    "\n",
    "system_name = \"pharmexpert-v0\"\n",
    "system_content = system_options[system_name]\n",
    "\n",
    "prompt_name = \"fatal-prompt-v2\"\n",
    "prompt = prompt_options[prompt_name]\n",
    "\n",
    "output_file_basename = '{}_{}_{}_{}_{}'.format(api_source, gpt_model, prompt_name, system_name, set_type)\n",
    "output_file_basename"
   ]
  },
  {
   "cell_type": "code",
   "execution_count": 20,
   "id": "cdb9c192-ba44-4135-8d3c-7b6ba6644563",
   "metadata": {},
   "outputs": [],
   "source": [
    "# if there is a max\n",
    "new_rows = list()\n",
    "unique_drugs = set()\n",
    "for i, row in drugs.iterrows():\n",
    "    unique_drugs.add(row[\"drug_name\"])\n",
    "    if len(unique_drugs) > my_max: \n",
    "        break\n",
    "    if row['section_name'] != 'adverse reactions':\n",
    "        continue\n",
    "\n",
    "    new_rows.append(row)"
   ]
  },
  {
   "cell_type": "code",
   "execution_count": 21,
   "id": "492d7e82-894f-4c0f-bbf1-4de819b94b55",
   "metadata": {},
   "outputs": [
    {
     "name": "stderr",
     "output_type": "stream",
     "text": [
      " 65%|██████▌   | 66/101 [21:08<05:24,  9.28s/it]  "
     ]
    },
    {
     "name": "stdout",
     "output_type": "stream",
     "text": [
      "Error code: 400 - {'error': {'message': \"This model's maximum context length is 8192 tokens. However, your messages resulted in 10144 tokens. Please reduce the length of the messages.\", 'type': 'invalid_request_error', 'param': 'messages', 'code': 'context_length_exceeded'}}\n"
     ]
    },
    {
     "name": "stderr",
     "output_type": "stream",
     "text": [
      "100%|██████████| 101/101 [28:42<00:00, 17.06s/it]"
     ]
    },
    {
     "name": "stdout",
     "output_type": "stream",
     "text": [
      "Run: 0, time elapsed: 1722.6388738155365s.\n"
     ]
    },
    {
     "name": "stderr",
     "output_type": "stream",
     "text": [
      "\n"
     ]
    }
   ],
   "source": [
    "# run GPT\n",
    "for i in range(nruns):\n",
    "    if f\"gpt{i}\" in outputs:\n",
    "        print(f\"Run {i} already completed and stored. Skipping.\")\n",
    "        continue\n",
    "    \n",
    "    if os.path.exists('results/{}_run{}.csv'.format(output_file_basename, i)):\n",
    "        gpt_output = pd.read_csv('results/{}_run{}.csv'.format(output_file_basename, i))\n",
    "        outputs[f\"gpt{i}\"] = gpt_output\n",
    "        print(f\"Run {i} already completed and loaded from disk.\")\n",
    "        continue\n",
    "    \n",
    "    start = time.time()\n",
    "    results = list()\n",
    "    for row in tqdm(new_rows):\n",
    "        name, section = row['drug_name'], row['section_name']\n",
    "        text = row['section_text']\n",
    "        try:\n",
    "            gpt_out = extract_ade_terms(api_source, api_endpoint, gpt_model, system_content, prompt, text, api_key)\n",
    "            time.sleep(5)\n",
    "            results.append([name, section, gpt_out])\n",
    "        except Exception as err:\n",
    "            print(f\"Encountered an exception for row: {name} {section}. Error message below:\")\n",
    "            print(err)\n",
    "            continue\n",
    "            \n",
    "    gpt_output = pd.DataFrame(\n",
    "        [r for r in results if r is not None],\n",
    "        columns=['drug_name', 'section_name', 'gpt_output']\n",
    "    )\n",
    "    end = time.time()\n",
    "\n",
    "    if gpt_output.shape[0] > 0:\n",
    "        outputs[f\"gpt{i}\"] = gpt_output\n",
    "        gpt_output.to_csv('results/{}_run{}.csv'.format(output_file_basename, i))\n",
    "    \n",
    "    print(f\"Run: {i}, time elapsed: {end-start}s.\")"
   ]
  },
  {
   "cell_type": "markdown",
   "id": "79125bf3",
   "metadata": {},
   "source": [
    "## Exact Match Algorithm"
   ]
  },
  {
   "cell_type": "code",
   "execution_count": 23,
   "id": "dfc01112",
   "metadata": {},
   "outputs": [],
   "source": [
    "exact_match_run = True"
   ]
  },
  {
   "cell_type": "code",
   "execution_count": 24,
   "id": "704c226e",
   "metadata": {},
   "outputs": [],
   "source": [
    "if not exact_match_run:\n",
    "    # load the meddra terms\n",
    "    fh = open('meddra_llt_pt_map.txt')\n",
    "    reader = csv.reader(fh, delimiter='|')\n",
    "    header = next(reader)\n",
    "\n",
    "    meddra_llt_terms = set()\n",
    "    meddra_pt_terms = set()\n",
    "\n",
    "    for row in reader:\n",
    "        meddra_llt_terms.add(row[1].lower())\n",
    "        meddra_pt_terms.add(row[4].lower())\n",
    "\n",
    "    fh.close()\n",
    "\n",
    "    meddra_terms = meddra_llt_terms | meddra_pt_terms\n",
    "    len(meddra_llt_terms), len(meddra_pt_terms), len(meddra_terms)\n",
    "\n",
    "    results = list()\n",
    "    for row in tqdm(new_rows):\n",
    "        name, section = row['drug_name'], row['section_name']\n",
    "        text = row['section_text'].lower()\n",
    "        \n",
    "        found_terms = set()\n",
    "        for term in meddra_terms:\n",
    "            if text.find(term) != -1:\n",
    "                found_terms.add(term)\n",
    "        \n",
    "        exact_out = ', '.join(list(found_terms))\n",
    "        \n",
    "        results.append([name, section, exact_out])\n",
    "\n",
    "    exact_output = pd.DataFrame(\n",
    "        [r for r in results if r is not None],\n",
    "        columns=['drug_name', 'section_name', 'gpt_output']\n",
    "    )\n",
    "    outputs['exact'] = exact_output"
   ]
  },
  {
   "cell_type": "markdown",
   "id": "7986085b",
   "metadata": {},
   "source": [
    "## Evaluation"
   ]
  },
  {
   "cell_type": "code",
   "execution_count": 25,
   "id": "787d7804",
   "metadata": {},
   "outputs": [
    {
     "name": "stderr",
     "output_type": "stream",
     "text": [
      "100%|██████████| 101/101 [00:00<00:00, 154.67it/s]\n",
      "/var/folders/l5/4jn07y290nncb4wnyhsq33hh0000gt/T/ipykernel_2051/2659214344.py:3: FutureWarning: Indexing with multiple keys (implicitly converted to a tuple of keys) will be deprecated, use a list instead.\n",
      "  overall_results = results_granular.groupby('ade_type')['tp', 'fp', 'fn'].apply(sum)\n",
      "/var/folders/l5/4jn07y290nncb4wnyhsq33hh0000gt/T/ipykernel_2051/2659214344.py:7: FutureWarning: Indexing with multiple keys (implicitly converted to a tuple of keys) will be deprecated, use a list instead.\n",
      "  macro_results = results_granular.groupby('ade_type')['precision', 'recall', 'f1'].apply(np.mean)\n",
      "/Library/Frameworks/Python.framework/Versions/3.10/lib/python3.10/site-packages/numpy/core/fromnumeric.py:3502: FutureWarning: In a future version, DataFrame.mean(axis=None) will return a scalar mean over the entire DataFrame. To retain the old behavior, use 'frame.mean(axis=0)' or just 'frame.mean()'\n",
      "  return mean(axis=axis, dtype=dtype, out=out, **kwargs)\n",
      "/Library/Frameworks/Python.framework/Versions/3.10/lib/python3.10/site-packages/numpy/core/fromnumeric.py:3502: FutureWarning: In a future version, DataFrame.mean(axis=None) will return a scalar mean over the entire DataFrame. To retain the old behavior, use 'frame.mean(axis=0)' or just 'frame.mean()'\n",
      "  return mean(axis=axis, dtype=dtype, out=out, **kwargs)\n",
      "/Library/Frameworks/Python.framework/Versions/3.10/lib/python3.10/site-packages/numpy/core/fromnumeric.py:3502: FutureWarning: In a future version, DataFrame.mean(axis=None) will return a scalar mean over the entire DataFrame. To retain the old behavior, use 'frame.mean(axis=0)' or just 'frame.mean()'\n",
      "  return mean(axis=axis, dtype=dtype, out=out, **kwargs)\n",
      "/Library/Frameworks/Python.framework/Versions/3.10/lib/python3.10/site-packages/numpy/core/fromnumeric.py:3502: FutureWarning: In a future version, DataFrame.mean(axis=None) will return a scalar mean over the entire DataFrame. To retain the old behavior, use 'frame.mean(axis=0)' or just 'frame.mean()'\n",
      "  return mean(axis=axis, dtype=dtype, out=out, **kwargs)\n",
      "/Library/Frameworks/Python.framework/Versions/3.10/lib/python3.10/site-packages/numpy/core/fromnumeric.py:3502: FutureWarning: In a future version, DataFrame.mean(axis=None) will return a scalar mean over the entire DataFrame. To retain the old behavior, use 'frame.mean(axis=0)' or just 'frame.mean()'\n",
      "  return mean(axis=axis, dtype=dtype, out=out, **kwargs)\n"
     ]
    },
    {
     "name": "stdout",
     "output_type": "stream",
     "text": [
      "gpt0\n",
      "                   tp     fp      fn  micro_precision  micro_recall  micro_f1  \\\n",
      "ade_type                                                                        \n",
      "all            3864.0  529.0  1473.0         0.879581      0.724002  0.794245   \n",
      "discontinuous    49.0    0.0   339.0         1.000000      0.126289  0.224256   \n",
      "exact-meddra   3423.0    0.0   740.0         1.000000      0.822244  0.902452   \n",
      "negated          14.0    0.0    18.0         1.000000      0.437500  0.608696   \n",
      "non-meddra      441.0    0.0   734.0         1.000000      0.375319  0.545792   \n",
      "\n",
      "               macro_precision  macro_recall  macro_f1  \n",
      "ade_type                                                \n",
      "all                   0.856748      0.756106  0.802578  \n",
      "discontinuous              NaN      0.169050       NaN  \n",
      "exact-meddra               NaN      0.842792       NaN  \n",
      "negated                    NaN      0.408730       NaN  \n",
      "non-meddra                 NaN      0.479649       NaN  \n"
     ]
    },
    {
     "name": "stderr",
     "output_type": "stream",
     "text": [
      "100%|██████████| 101/101 [00:00<00:00, 150.80it/s]\n",
      "/var/folders/l5/4jn07y290nncb4wnyhsq33hh0000gt/T/ipykernel_2051/2659214344.py:3: FutureWarning: Indexing with multiple keys (implicitly converted to a tuple of keys) will be deprecated, use a list instead.\n",
      "  overall_results = results_granular.groupby('ade_type')['tp', 'fp', 'fn'].apply(sum)\n",
      "/var/folders/l5/4jn07y290nncb4wnyhsq33hh0000gt/T/ipykernel_2051/2659214344.py:7: FutureWarning: Indexing with multiple keys (implicitly converted to a tuple of keys) will be deprecated, use a list instead.\n",
      "  macro_results = results_granular.groupby('ade_type')['precision', 'recall', 'f1'].apply(np.mean)\n",
      "/Library/Frameworks/Python.framework/Versions/3.10/lib/python3.10/site-packages/numpy/core/fromnumeric.py:3502: FutureWarning: In a future version, DataFrame.mean(axis=None) will return a scalar mean over the entire DataFrame. To retain the old behavior, use 'frame.mean(axis=0)' or just 'frame.mean()'\n",
      "  return mean(axis=axis, dtype=dtype, out=out, **kwargs)\n",
      "/Library/Frameworks/Python.framework/Versions/3.10/lib/python3.10/site-packages/numpy/core/fromnumeric.py:3502: FutureWarning: In a future version, DataFrame.mean(axis=None) will return a scalar mean over the entire DataFrame. To retain the old behavior, use 'frame.mean(axis=0)' or just 'frame.mean()'\n",
      "  return mean(axis=axis, dtype=dtype, out=out, **kwargs)\n",
      "/Library/Frameworks/Python.framework/Versions/3.10/lib/python3.10/site-packages/numpy/core/fromnumeric.py:3502: FutureWarning: In a future version, DataFrame.mean(axis=None) will return a scalar mean over the entire DataFrame. To retain the old behavior, use 'frame.mean(axis=0)' or just 'frame.mean()'\n",
      "  return mean(axis=axis, dtype=dtype, out=out, **kwargs)\n",
      "/Library/Frameworks/Python.framework/Versions/3.10/lib/python3.10/site-packages/numpy/core/fromnumeric.py:3502: FutureWarning: In a future version, DataFrame.mean(axis=None) will return a scalar mean over the entire DataFrame. To retain the old behavior, use 'frame.mean(axis=0)' or just 'frame.mean()'\n",
      "  return mean(axis=axis, dtype=dtype, out=out, **kwargs)\n",
      "/Library/Frameworks/Python.framework/Versions/3.10/lib/python3.10/site-packages/numpy/core/fromnumeric.py:3502: FutureWarning: In a future version, DataFrame.mean(axis=None) will return a scalar mean over the entire DataFrame. To retain the old behavior, use 'frame.mean(axis=0)' or just 'frame.mean()'\n",
      "  return mean(axis=axis, dtype=dtype, out=out, **kwargs)\n"
     ]
    },
    {
     "name": "stdout",
     "output_type": "stream",
     "text": [
      "gpt1\n",
      "                   tp     fp      fn  micro_precision  micro_recall  micro_f1  \\\n",
      "ade_type                                                                        \n",
      "all            3816.0  489.0  1521.0         0.886411      0.715008  0.791537   \n",
      "discontinuous    46.0    0.0   342.0         1.000000      0.118557  0.211982   \n",
      "exact-meddra   3395.0    0.0   768.0         1.000000      0.815518  0.898386   \n",
      "negated          15.0    0.0    17.0         1.000000      0.468750  0.638298   \n",
      "non-meddra      421.0    0.0   754.0         1.000000      0.358298  0.527569   \n",
      "\n",
      "               macro_precision  macro_recall  macro_f1  \n",
      "ade_type                                                \n",
      "all                   0.863214      0.749849  0.809641  \n",
      "discontinuous              NaN      0.146801       NaN  \n",
      "exact-meddra               NaN      0.842385       NaN  \n",
      "negated                    NaN      0.464286       NaN  \n",
      "non-meddra                 NaN      0.478864       NaN  \n"
     ]
    },
    {
     "name": "stderr",
     "output_type": "stream",
     "text": [
      "100%|██████████| 101/101 [00:00<00:00, 156.08it/s]\n",
      "/var/folders/l5/4jn07y290nncb4wnyhsq33hh0000gt/T/ipykernel_2051/2659214344.py:3: FutureWarning: Indexing with multiple keys (implicitly converted to a tuple of keys) will be deprecated, use a list instead.\n",
      "  overall_results = results_granular.groupby('ade_type')['tp', 'fp', 'fn'].apply(sum)\n",
      "/var/folders/l5/4jn07y290nncb4wnyhsq33hh0000gt/T/ipykernel_2051/2659214344.py:7: FutureWarning: Indexing with multiple keys (implicitly converted to a tuple of keys) will be deprecated, use a list instead.\n",
      "  macro_results = results_granular.groupby('ade_type')['precision', 'recall', 'f1'].apply(np.mean)\n",
      "/Library/Frameworks/Python.framework/Versions/3.10/lib/python3.10/site-packages/numpy/core/fromnumeric.py:3502: FutureWarning: In a future version, DataFrame.mean(axis=None) will return a scalar mean over the entire DataFrame. To retain the old behavior, use 'frame.mean(axis=0)' or just 'frame.mean()'\n",
      "  return mean(axis=axis, dtype=dtype, out=out, **kwargs)\n",
      "/Library/Frameworks/Python.framework/Versions/3.10/lib/python3.10/site-packages/numpy/core/fromnumeric.py:3502: FutureWarning: In a future version, DataFrame.mean(axis=None) will return a scalar mean over the entire DataFrame. To retain the old behavior, use 'frame.mean(axis=0)' or just 'frame.mean()'\n",
      "  return mean(axis=axis, dtype=dtype, out=out, **kwargs)\n",
      "/Library/Frameworks/Python.framework/Versions/3.10/lib/python3.10/site-packages/numpy/core/fromnumeric.py:3502: FutureWarning: In a future version, DataFrame.mean(axis=None) will return a scalar mean over the entire DataFrame. To retain the old behavior, use 'frame.mean(axis=0)' or just 'frame.mean()'\n",
      "  return mean(axis=axis, dtype=dtype, out=out, **kwargs)\n",
      "/Library/Frameworks/Python.framework/Versions/3.10/lib/python3.10/site-packages/numpy/core/fromnumeric.py:3502: FutureWarning: In a future version, DataFrame.mean(axis=None) will return a scalar mean over the entire DataFrame. To retain the old behavior, use 'frame.mean(axis=0)' or just 'frame.mean()'\n",
      "  return mean(axis=axis, dtype=dtype, out=out, **kwargs)\n",
      "/Library/Frameworks/Python.framework/Versions/3.10/lib/python3.10/site-packages/numpy/core/fromnumeric.py:3502: FutureWarning: In a future version, DataFrame.mean(axis=None) will return a scalar mean over the entire DataFrame. To retain the old behavior, use 'frame.mean(axis=0)' or just 'frame.mean()'\n",
      "  return mean(axis=axis, dtype=dtype, out=out, **kwargs)\n"
     ]
    },
    {
     "name": "stdout",
     "output_type": "stream",
     "text": [
      "gpt2\n",
      "                   tp     fp      fn  micro_precision  micro_recall  micro_f1  \\\n",
      "ade_type                                                                        \n",
      "all            3846.0  564.0  1491.0         0.872109      0.720630  0.789166   \n",
      "discontinuous    42.0    0.0   346.0         1.000000      0.108247  0.195349   \n",
      "exact-meddra   3440.0    0.0   723.0         1.000000      0.826327  0.904906   \n",
      "negated          15.0    0.0    17.0         1.000000      0.468750  0.638298   \n",
      "non-meddra      406.0    0.0   769.0         1.000000      0.345532  0.513599   \n",
      "\n",
      "               macro_precision  macro_recall  macro_f1  \n",
      "ade_type                                                \n",
      "all                   0.851455      0.747144  0.803974  \n",
      "discontinuous              NaN      0.107512       NaN  \n",
      "exact-meddra               NaN      0.841754       NaN  \n",
      "negated                    NaN      0.428571       NaN  \n",
      "non-meddra                 NaN      0.461309       NaN  \n"
     ]
    },
    {
     "name": "stderr",
     "output_type": "stream",
     "text": [
      "100%|██████████| 101/101 [00:00<00:00, 152.64it/s]\n",
      "/var/folders/l5/4jn07y290nncb4wnyhsq33hh0000gt/T/ipykernel_2051/2659214344.py:3: FutureWarning: Indexing with multiple keys (implicitly converted to a tuple of keys) will be deprecated, use a list instead.\n",
      "  overall_results = results_granular.groupby('ade_type')['tp', 'fp', 'fn'].apply(sum)\n",
      "/var/folders/l5/4jn07y290nncb4wnyhsq33hh0000gt/T/ipykernel_2051/2659214344.py:7: FutureWarning: Indexing with multiple keys (implicitly converted to a tuple of keys) will be deprecated, use a list instead.\n",
      "  macro_results = results_granular.groupby('ade_type')['precision', 'recall', 'f1'].apply(np.mean)\n",
      "/Library/Frameworks/Python.framework/Versions/3.10/lib/python3.10/site-packages/numpy/core/fromnumeric.py:3502: FutureWarning: In a future version, DataFrame.mean(axis=None) will return a scalar mean over the entire DataFrame. To retain the old behavior, use 'frame.mean(axis=0)' or just 'frame.mean()'\n",
      "  return mean(axis=axis, dtype=dtype, out=out, **kwargs)\n",
      "/Library/Frameworks/Python.framework/Versions/3.10/lib/python3.10/site-packages/numpy/core/fromnumeric.py:3502: FutureWarning: In a future version, DataFrame.mean(axis=None) will return a scalar mean over the entire DataFrame. To retain the old behavior, use 'frame.mean(axis=0)' or just 'frame.mean()'\n",
      "  return mean(axis=axis, dtype=dtype, out=out, **kwargs)\n",
      "/Library/Frameworks/Python.framework/Versions/3.10/lib/python3.10/site-packages/numpy/core/fromnumeric.py:3502: FutureWarning: In a future version, DataFrame.mean(axis=None) will return a scalar mean over the entire DataFrame. To retain the old behavior, use 'frame.mean(axis=0)' or just 'frame.mean()'\n",
      "  return mean(axis=axis, dtype=dtype, out=out, **kwargs)\n",
      "/Library/Frameworks/Python.framework/Versions/3.10/lib/python3.10/site-packages/numpy/core/fromnumeric.py:3502: FutureWarning: In a future version, DataFrame.mean(axis=None) will return a scalar mean over the entire DataFrame. To retain the old behavior, use 'frame.mean(axis=0)' or just 'frame.mean()'\n",
      "  return mean(axis=axis, dtype=dtype, out=out, **kwargs)\n",
      "/Library/Frameworks/Python.framework/Versions/3.10/lib/python3.10/site-packages/numpy/core/fromnumeric.py:3502: FutureWarning: In a future version, DataFrame.mean(axis=None) will return a scalar mean over the entire DataFrame. To retain the old behavior, use 'frame.mean(axis=0)' or just 'frame.mean()'\n",
      "  return mean(axis=axis, dtype=dtype, out=out, **kwargs)\n"
     ]
    },
    {
     "name": "stdout",
     "output_type": "stream",
     "text": [
      "gpt3\n",
      "                   tp     fp      fn  micro_precision  micro_recall  micro_f1  \\\n",
      "ade_type                                                                        \n",
      "all            3900.0  612.0  1437.0         0.864362      0.730748  0.791959   \n",
      "discontinuous    51.0    0.0   337.0         1.000000      0.131443  0.232346   \n",
      "exact-meddra   3473.0    0.0   690.0         1.000000      0.834254  0.909639   \n",
      "negated          14.0    0.0    18.0         1.000000      0.437500  0.608696   \n",
      "non-meddra      427.0    0.0   748.0         1.000000      0.363404  0.533084   \n",
      "\n",
      "               macro_precision  macro_recall  macro_f1  \n",
      "ade_type                                                \n",
      "all                   0.858624      0.757191  0.806293  \n",
      "discontinuous              NaN      0.172924       NaN  \n",
      "exact-meddra               NaN      0.847599       NaN  \n",
      "negated                    NaN      0.448413       NaN  \n",
      "non-meddra                 NaN      0.472399       NaN  \n"
     ]
    },
    {
     "name": "stderr",
     "output_type": "stream",
     "text": [
      "100%|██████████| 101/101 [00:00<00:00, 149.60it/s]\n",
      "/var/folders/l5/4jn07y290nncb4wnyhsq33hh0000gt/T/ipykernel_2051/2659214344.py:3: FutureWarning: Indexing with multiple keys (implicitly converted to a tuple of keys) will be deprecated, use a list instead.\n",
      "  overall_results = results_granular.groupby('ade_type')['tp', 'fp', 'fn'].apply(sum)\n",
      "/var/folders/l5/4jn07y290nncb4wnyhsq33hh0000gt/T/ipykernel_2051/2659214344.py:7: FutureWarning: Indexing with multiple keys (implicitly converted to a tuple of keys) will be deprecated, use a list instead.\n",
      "  macro_results = results_granular.groupby('ade_type')['precision', 'recall', 'f1'].apply(np.mean)\n",
      "/Library/Frameworks/Python.framework/Versions/3.10/lib/python3.10/site-packages/numpy/core/fromnumeric.py:3502: FutureWarning: In a future version, DataFrame.mean(axis=None) will return a scalar mean over the entire DataFrame. To retain the old behavior, use 'frame.mean(axis=0)' or just 'frame.mean()'\n",
      "  return mean(axis=axis, dtype=dtype, out=out, **kwargs)\n",
      "/Library/Frameworks/Python.framework/Versions/3.10/lib/python3.10/site-packages/numpy/core/fromnumeric.py:3502: FutureWarning: In a future version, DataFrame.mean(axis=None) will return a scalar mean over the entire DataFrame. To retain the old behavior, use 'frame.mean(axis=0)' or just 'frame.mean()'\n",
      "  return mean(axis=axis, dtype=dtype, out=out, **kwargs)\n",
      "/Library/Frameworks/Python.framework/Versions/3.10/lib/python3.10/site-packages/numpy/core/fromnumeric.py:3502: FutureWarning: In a future version, DataFrame.mean(axis=None) will return a scalar mean over the entire DataFrame. To retain the old behavior, use 'frame.mean(axis=0)' or just 'frame.mean()'\n",
      "  return mean(axis=axis, dtype=dtype, out=out, **kwargs)\n",
      "/Library/Frameworks/Python.framework/Versions/3.10/lib/python3.10/site-packages/numpy/core/fromnumeric.py:3502: FutureWarning: In a future version, DataFrame.mean(axis=None) will return a scalar mean over the entire DataFrame. To retain the old behavior, use 'frame.mean(axis=0)' or just 'frame.mean()'\n",
      "  return mean(axis=axis, dtype=dtype, out=out, **kwargs)\n",
      "/Library/Frameworks/Python.framework/Versions/3.10/lib/python3.10/site-packages/numpy/core/fromnumeric.py:3502: FutureWarning: In a future version, DataFrame.mean(axis=None) will return a scalar mean over the entire DataFrame. To retain the old behavior, use 'frame.mean(axis=0)' or just 'frame.mean()'\n",
      "  return mean(axis=axis, dtype=dtype, out=out, **kwargs)\n"
     ]
    },
    {
     "name": "stdout",
     "output_type": "stream",
     "text": [
      "gpt4\n",
      "                   tp     fp      fn  micro_precision  micro_recall  micro_f1  \\\n",
      "ade_type                                                                        \n",
      "all            3902.0  537.0  1435.0         0.879027      0.731122  0.798282   \n",
      "discontinuous    49.0    0.0   339.0         1.000000      0.126289  0.224256   \n",
      "exact-meddra   3494.0    0.0   669.0         1.000000      0.839299  0.912629   \n",
      "negated          16.0    0.0    16.0         1.000000      0.500000  0.666667   \n",
      "non-meddra      408.0    0.0   767.0         1.000000      0.347234  0.515477   \n",
      "\n",
      "               macro_precision  macro_recall  macro_f1  \n",
      "ade_type                                                \n",
      "all                   0.857887      0.754961  0.811239  \n",
      "discontinuous              NaN      0.126719       NaN  \n",
      "exact-meddra               NaN      0.854049       NaN  \n",
      "negated                    NaN      0.472222       NaN  \n",
      "non-meddra                 NaN      0.455963       NaN  \n"
     ]
    },
    {
     "name": "stderr",
     "output_type": "stream",
     "text": [
      "100%|██████████| 101/101 [00:00<00:00, 149.08it/s]\n",
      "/var/folders/l5/4jn07y290nncb4wnyhsq33hh0000gt/T/ipykernel_2051/2659214344.py:3: FutureWarning: Indexing with multiple keys (implicitly converted to a tuple of keys) will be deprecated, use a list instead.\n",
      "  overall_results = results_granular.groupby('ade_type')['tp', 'fp', 'fn'].apply(sum)\n",
      "/var/folders/l5/4jn07y290nncb4wnyhsq33hh0000gt/T/ipykernel_2051/2659214344.py:7: FutureWarning: Indexing with multiple keys (implicitly converted to a tuple of keys) will be deprecated, use a list instead.\n",
      "  macro_results = results_granular.groupby('ade_type')['precision', 'recall', 'f1'].apply(np.mean)\n",
      "/Library/Frameworks/Python.framework/Versions/3.10/lib/python3.10/site-packages/numpy/core/fromnumeric.py:3502: FutureWarning: In a future version, DataFrame.mean(axis=None) will return a scalar mean over the entire DataFrame. To retain the old behavior, use 'frame.mean(axis=0)' or just 'frame.mean()'\n",
      "  return mean(axis=axis, dtype=dtype, out=out, **kwargs)\n",
      "/Library/Frameworks/Python.framework/Versions/3.10/lib/python3.10/site-packages/numpy/core/fromnumeric.py:3502: FutureWarning: In a future version, DataFrame.mean(axis=None) will return a scalar mean over the entire DataFrame. To retain the old behavior, use 'frame.mean(axis=0)' or just 'frame.mean()'\n",
      "  return mean(axis=axis, dtype=dtype, out=out, **kwargs)\n",
      "/Library/Frameworks/Python.framework/Versions/3.10/lib/python3.10/site-packages/numpy/core/fromnumeric.py:3502: FutureWarning: In a future version, DataFrame.mean(axis=None) will return a scalar mean over the entire DataFrame. To retain the old behavior, use 'frame.mean(axis=0)' or just 'frame.mean()'\n",
      "  return mean(axis=axis, dtype=dtype, out=out, **kwargs)\n",
      "/Library/Frameworks/Python.framework/Versions/3.10/lib/python3.10/site-packages/numpy/core/fromnumeric.py:3502: FutureWarning: In a future version, DataFrame.mean(axis=None) will return a scalar mean over the entire DataFrame. To retain the old behavior, use 'frame.mean(axis=0)' or just 'frame.mean()'\n",
      "  return mean(axis=axis, dtype=dtype, out=out, **kwargs)\n",
      "/Library/Frameworks/Python.framework/Versions/3.10/lib/python3.10/site-packages/numpy/core/fromnumeric.py:3502: FutureWarning: In a future version, DataFrame.mean(axis=None) will return a scalar mean over the entire DataFrame. To retain the old behavior, use 'frame.mean(axis=0)' or just 'frame.mean()'\n",
      "  return mean(axis=axis, dtype=dtype, out=out, **kwargs)\n"
     ]
    },
    {
     "name": "stdout",
     "output_type": "stream",
     "text": [
      "gpt5\n",
      "                   tp     fp      fn  micro_precision  micro_recall  micro_f1  \\\n",
      "ade_type                                                                        \n",
      "all            3886.0  607.0  1451.0         0.864901      0.728124  0.790641   \n",
      "discontinuous    46.0    0.0   342.0         1.000000      0.118557  0.211982   \n",
      "exact-meddra   3472.0    0.0   691.0         1.000000      0.834014  0.909496   \n",
      "negated          16.0    0.0    16.0         1.000000      0.500000  0.666667   \n",
      "non-meddra      414.0    0.0   761.0         1.000000      0.352340  0.521082   \n",
      "\n",
      "               macro_precision  macro_recall  macro_f1  \n",
      "ade_type                                                \n",
      "all                   0.849404      0.753791  0.800686  \n",
      "discontinuous              NaN      0.125418       NaN  \n",
      "exact-meddra               NaN      0.851448       NaN  \n",
      "negated                    NaN      0.440476       NaN  \n",
      "non-meddra                 NaN      0.447550       NaN  \n"
     ]
    },
    {
     "name": "stderr",
     "output_type": "stream",
     "text": [
      "100%|██████████| 101/101 [00:00<00:00, 148.13it/s]\n",
      "/var/folders/l5/4jn07y290nncb4wnyhsq33hh0000gt/T/ipykernel_2051/2659214344.py:3: FutureWarning: Indexing with multiple keys (implicitly converted to a tuple of keys) will be deprecated, use a list instead.\n",
      "  overall_results = results_granular.groupby('ade_type')['tp', 'fp', 'fn'].apply(sum)\n",
      "/var/folders/l5/4jn07y290nncb4wnyhsq33hh0000gt/T/ipykernel_2051/2659214344.py:7: FutureWarning: Indexing with multiple keys (implicitly converted to a tuple of keys) will be deprecated, use a list instead.\n",
      "  macro_results = results_granular.groupby('ade_type')['precision', 'recall', 'f1'].apply(np.mean)\n",
      "/Library/Frameworks/Python.framework/Versions/3.10/lib/python3.10/site-packages/numpy/core/fromnumeric.py:3502: FutureWarning: In a future version, DataFrame.mean(axis=None) will return a scalar mean over the entire DataFrame. To retain the old behavior, use 'frame.mean(axis=0)' or just 'frame.mean()'\n",
      "  return mean(axis=axis, dtype=dtype, out=out, **kwargs)\n",
      "/Library/Frameworks/Python.framework/Versions/3.10/lib/python3.10/site-packages/numpy/core/fromnumeric.py:3502: FutureWarning: In a future version, DataFrame.mean(axis=None) will return a scalar mean over the entire DataFrame. To retain the old behavior, use 'frame.mean(axis=0)' or just 'frame.mean()'\n",
      "  return mean(axis=axis, dtype=dtype, out=out, **kwargs)\n",
      "/Library/Frameworks/Python.framework/Versions/3.10/lib/python3.10/site-packages/numpy/core/fromnumeric.py:3502: FutureWarning: In a future version, DataFrame.mean(axis=None) will return a scalar mean over the entire DataFrame. To retain the old behavior, use 'frame.mean(axis=0)' or just 'frame.mean()'\n",
      "  return mean(axis=axis, dtype=dtype, out=out, **kwargs)\n",
      "/Library/Frameworks/Python.framework/Versions/3.10/lib/python3.10/site-packages/numpy/core/fromnumeric.py:3502: FutureWarning: In a future version, DataFrame.mean(axis=None) will return a scalar mean over the entire DataFrame. To retain the old behavior, use 'frame.mean(axis=0)' or just 'frame.mean()'\n",
      "  return mean(axis=axis, dtype=dtype, out=out, **kwargs)\n",
      "/Library/Frameworks/Python.framework/Versions/3.10/lib/python3.10/site-packages/numpy/core/fromnumeric.py:3502: FutureWarning: In a future version, DataFrame.mean(axis=None) will return a scalar mean over the entire DataFrame. To retain the old behavior, use 'frame.mean(axis=0)' or just 'frame.mean()'\n",
      "  return mean(axis=axis, dtype=dtype, out=out, **kwargs)\n"
     ]
    },
    {
     "name": "stdout",
     "output_type": "stream",
     "text": [
      "gpt6\n",
      "                   tp     fp      fn  micro_precision  micro_recall  micro_f1  \\\n",
      "ade_type                                                                        \n",
      "all            3905.0  521.0  1432.0         0.882286      0.731684  0.799959   \n",
      "discontinuous    58.0    0.0   330.0         1.000000      0.149485  0.260090   \n",
      "exact-meddra   3477.0    0.0   686.0         1.000000      0.835215  0.910209   \n",
      "negated          13.0    0.0    19.0         1.000000      0.406250  0.577778   \n",
      "non-meddra      428.0    0.0   747.0         1.000000      0.364255  0.533999   \n",
      "\n",
      "               macro_precision  macro_recall  macro_f1  \n",
      "ade_type                                                \n",
      "all                   0.864534      0.762666  0.802307  \n",
      "discontinuous              NaN      0.157515       NaN  \n",
      "exact-meddra               NaN      0.856517       NaN  \n",
      "negated                    NaN      0.392857       NaN  \n",
      "non-meddra                 NaN      0.447476       NaN  \n"
     ]
    },
    {
     "name": "stderr",
     "output_type": "stream",
     "text": [
      "100%|██████████| 101/101 [00:00<00:00, 153.62it/s]\n",
      "/var/folders/l5/4jn07y290nncb4wnyhsq33hh0000gt/T/ipykernel_2051/2659214344.py:3: FutureWarning: Indexing with multiple keys (implicitly converted to a tuple of keys) will be deprecated, use a list instead.\n",
      "  overall_results = results_granular.groupby('ade_type')['tp', 'fp', 'fn'].apply(sum)\n",
      "/var/folders/l5/4jn07y290nncb4wnyhsq33hh0000gt/T/ipykernel_2051/2659214344.py:7: FutureWarning: Indexing with multiple keys (implicitly converted to a tuple of keys) will be deprecated, use a list instead.\n",
      "  macro_results = results_granular.groupby('ade_type')['precision', 'recall', 'f1'].apply(np.mean)\n",
      "/Library/Frameworks/Python.framework/Versions/3.10/lib/python3.10/site-packages/numpy/core/fromnumeric.py:3502: FutureWarning: In a future version, DataFrame.mean(axis=None) will return a scalar mean over the entire DataFrame. To retain the old behavior, use 'frame.mean(axis=0)' or just 'frame.mean()'\n",
      "  return mean(axis=axis, dtype=dtype, out=out, **kwargs)\n",
      "/Library/Frameworks/Python.framework/Versions/3.10/lib/python3.10/site-packages/numpy/core/fromnumeric.py:3502: FutureWarning: In a future version, DataFrame.mean(axis=None) will return a scalar mean over the entire DataFrame. To retain the old behavior, use 'frame.mean(axis=0)' or just 'frame.mean()'\n",
      "  return mean(axis=axis, dtype=dtype, out=out, **kwargs)\n",
      "/Library/Frameworks/Python.framework/Versions/3.10/lib/python3.10/site-packages/numpy/core/fromnumeric.py:3502: FutureWarning: In a future version, DataFrame.mean(axis=None) will return a scalar mean over the entire DataFrame. To retain the old behavior, use 'frame.mean(axis=0)' or just 'frame.mean()'\n",
      "  return mean(axis=axis, dtype=dtype, out=out, **kwargs)\n",
      "/Library/Frameworks/Python.framework/Versions/3.10/lib/python3.10/site-packages/numpy/core/fromnumeric.py:3502: FutureWarning: In a future version, DataFrame.mean(axis=None) will return a scalar mean over the entire DataFrame. To retain the old behavior, use 'frame.mean(axis=0)' or just 'frame.mean()'\n",
      "  return mean(axis=axis, dtype=dtype, out=out, **kwargs)\n",
      "/Library/Frameworks/Python.framework/Versions/3.10/lib/python3.10/site-packages/numpy/core/fromnumeric.py:3502: FutureWarning: In a future version, DataFrame.mean(axis=None) will return a scalar mean over the entire DataFrame. To retain the old behavior, use 'frame.mean(axis=0)' or just 'frame.mean()'\n",
      "  return mean(axis=axis, dtype=dtype, out=out, **kwargs)\n"
     ]
    },
    {
     "name": "stdout",
     "output_type": "stream",
     "text": [
      "gpt7\n",
      "                   tp     fp      fn  micro_precision  micro_recall  micro_f1  \\\n",
      "ade_type                                                                        \n",
      "all            3949.0  521.0  1388.0         0.883445      0.739929  0.805343   \n",
      "discontinuous    54.0    0.0   334.0         1.000000      0.139175  0.244344   \n",
      "exact-meddra   3507.0    0.0   656.0         1.000000      0.842421  0.914472   \n",
      "negated          13.0    0.0    19.0         1.000000      0.406250  0.577778   \n",
      "non-meddra      442.0    0.0   733.0         1.000000      0.376170  0.546691   \n",
      "\n",
      "               macro_precision  macro_recall  macro_f1  \n",
      "ade_type                                                \n",
      "all                    0.87552      0.776765  0.824629  \n",
      "discontinuous              NaN      0.185262       NaN  \n",
      "exact-meddra               NaN      0.869156       NaN  \n",
      "negated                    NaN      0.392857       NaN  \n",
      "non-meddra                 NaN      0.491277       NaN  \n"
     ]
    },
    {
     "name": "stderr",
     "output_type": "stream",
     "text": [
      "100%|██████████| 101/101 [00:00<00:00, 153.10it/s]\n",
      "/var/folders/l5/4jn07y290nncb4wnyhsq33hh0000gt/T/ipykernel_2051/2659214344.py:3: FutureWarning: Indexing with multiple keys (implicitly converted to a tuple of keys) will be deprecated, use a list instead.\n",
      "  overall_results = results_granular.groupby('ade_type')['tp', 'fp', 'fn'].apply(sum)\n",
      "/var/folders/l5/4jn07y290nncb4wnyhsq33hh0000gt/T/ipykernel_2051/2659214344.py:7: FutureWarning: Indexing with multiple keys (implicitly converted to a tuple of keys) will be deprecated, use a list instead.\n",
      "  macro_results = results_granular.groupby('ade_type')['precision', 'recall', 'f1'].apply(np.mean)\n",
      "/Library/Frameworks/Python.framework/Versions/3.10/lib/python3.10/site-packages/numpy/core/fromnumeric.py:3502: FutureWarning: In a future version, DataFrame.mean(axis=None) will return a scalar mean over the entire DataFrame. To retain the old behavior, use 'frame.mean(axis=0)' or just 'frame.mean()'\n",
      "  return mean(axis=axis, dtype=dtype, out=out, **kwargs)\n",
      "/Library/Frameworks/Python.framework/Versions/3.10/lib/python3.10/site-packages/numpy/core/fromnumeric.py:3502: FutureWarning: In a future version, DataFrame.mean(axis=None) will return a scalar mean over the entire DataFrame. To retain the old behavior, use 'frame.mean(axis=0)' or just 'frame.mean()'\n",
      "  return mean(axis=axis, dtype=dtype, out=out, **kwargs)\n",
      "/Library/Frameworks/Python.framework/Versions/3.10/lib/python3.10/site-packages/numpy/core/fromnumeric.py:3502: FutureWarning: In a future version, DataFrame.mean(axis=None) will return a scalar mean over the entire DataFrame. To retain the old behavior, use 'frame.mean(axis=0)' or just 'frame.mean()'\n",
      "  return mean(axis=axis, dtype=dtype, out=out, **kwargs)\n",
      "/Library/Frameworks/Python.framework/Versions/3.10/lib/python3.10/site-packages/numpy/core/fromnumeric.py:3502: FutureWarning: In a future version, DataFrame.mean(axis=None) will return a scalar mean over the entire DataFrame. To retain the old behavior, use 'frame.mean(axis=0)' or just 'frame.mean()'\n",
      "  return mean(axis=axis, dtype=dtype, out=out, **kwargs)\n",
      "/Library/Frameworks/Python.framework/Versions/3.10/lib/python3.10/site-packages/numpy/core/fromnumeric.py:3502: FutureWarning: In a future version, DataFrame.mean(axis=None) will return a scalar mean over the entire DataFrame. To retain the old behavior, use 'frame.mean(axis=0)' or just 'frame.mean()'\n",
      "  return mean(axis=axis, dtype=dtype, out=out, **kwargs)\n"
     ]
    },
    {
     "name": "stdout",
     "output_type": "stream",
     "text": [
      "gpt8\n",
      "                   tp     fp      fn  micro_precision  micro_recall  micro_f1  \\\n",
      "ade_type                                                                        \n",
      "all            3828.0  547.0  1509.0         0.874971      0.717257  0.788303   \n",
      "discontinuous    43.0    0.0   345.0         1.000000      0.110825  0.199536   \n",
      "exact-meddra   3421.0    0.0   742.0         1.000000      0.821763  0.902162   \n",
      "negated          14.0    0.0    18.0         1.000000      0.437500  0.608696   \n",
      "non-meddra      407.0    0.0   768.0         1.000000      0.346383  0.514539   \n",
      "\n",
      "               macro_precision  macro_recall  macro_f1  \n",
      "ade_type                                                \n",
      "all                   0.870708      0.762647   0.80554  \n",
      "discontinuous              NaN      0.130122       NaN  \n",
      "exact-meddra               NaN      0.857405       NaN  \n",
      "negated                    NaN      0.412698       NaN  \n",
      "non-meddra                 NaN      0.445008       NaN  \n"
     ]
    },
    {
     "name": "stderr",
     "output_type": "stream",
     "text": [
      "100%|██████████| 101/101 [00:00<00:00, 156.37it/s]\n",
      "/var/folders/l5/4jn07y290nncb4wnyhsq33hh0000gt/T/ipykernel_2051/2659214344.py:3: FutureWarning: Indexing with multiple keys (implicitly converted to a tuple of keys) will be deprecated, use a list instead.\n",
      "  overall_results = results_granular.groupby('ade_type')['tp', 'fp', 'fn'].apply(sum)\n",
      "/var/folders/l5/4jn07y290nncb4wnyhsq33hh0000gt/T/ipykernel_2051/2659214344.py:7: FutureWarning: Indexing with multiple keys (implicitly converted to a tuple of keys) will be deprecated, use a list instead.\n",
      "  macro_results = results_granular.groupby('ade_type')['precision', 'recall', 'f1'].apply(np.mean)\n",
      "/Library/Frameworks/Python.framework/Versions/3.10/lib/python3.10/site-packages/numpy/core/fromnumeric.py:3502: FutureWarning: In a future version, DataFrame.mean(axis=None) will return a scalar mean over the entire DataFrame. To retain the old behavior, use 'frame.mean(axis=0)' or just 'frame.mean()'\n",
      "  return mean(axis=axis, dtype=dtype, out=out, **kwargs)\n",
      "/Library/Frameworks/Python.framework/Versions/3.10/lib/python3.10/site-packages/numpy/core/fromnumeric.py:3502: FutureWarning: In a future version, DataFrame.mean(axis=None) will return a scalar mean over the entire DataFrame. To retain the old behavior, use 'frame.mean(axis=0)' or just 'frame.mean()'\n",
      "  return mean(axis=axis, dtype=dtype, out=out, **kwargs)\n",
      "/Library/Frameworks/Python.framework/Versions/3.10/lib/python3.10/site-packages/numpy/core/fromnumeric.py:3502: FutureWarning: In a future version, DataFrame.mean(axis=None) will return a scalar mean over the entire DataFrame. To retain the old behavior, use 'frame.mean(axis=0)' or just 'frame.mean()'\n",
      "  return mean(axis=axis, dtype=dtype, out=out, **kwargs)\n",
      "/Library/Frameworks/Python.framework/Versions/3.10/lib/python3.10/site-packages/numpy/core/fromnumeric.py:3502: FutureWarning: In a future version, DataFrame.mean(axis=None) will return a scalar mean over the entire DataFrame. To retain the old behavior, use 'frame.mean(axis=0)' or just 'frame.mean()'\n",
      "  return mean(axis=axis, dtype=dtype, out=out, **kwargs)\n",
      "/Library/Frameworks/Python.framework/Versions/3.10/lib/python3.10/site-packages/numpy/core/fromnumeric.py:3502: FutureWarning: In a future version, DataFrame.mean(axis=None) will return a scalar mean over the entire DataFrame. To retain the old behavior, use 'frame.mean(axis=0)' or just 'frame.mean()'\n",
      "  return mean(axis=axis, dtype=dtype, out=out, **kwargs)\n"
     ]
    },
    {
     "name": "stdout",
     "output_type": "stream",
     "text": [
      "gpt9\n",
      "                   tp     fp      fn  micro_precision  micro_recall  micro_f1  \\\n",
      "ade_type                                                                        \n",
      "all            3876.0  579.0  1461.0         0.870034      0.726251  0.791667   \n",
      "discontinuous    44.0    0.0   344.0         1.000000      0.113402  0.203704   \n",
      "exact-meddra   3453.0    0.0   710.0         1.000000      0.829450  0.906775   \n",
      "negated          15.0    0.0    17.0         1.000000      0.468750  0.638298   \n",
      "non-meddra      423.0    0.0   752.0         1.000000      0.360000  0.529412   \n",
      "\n",
      "               macro_precision  macro_recall  macro_f1  \n",
      "ade_type                                                \n",
      "all                   0.862227      0.766594  0.804296  \n",
      "discontinuous              NaN      0.127990       NaN  \n",
      "exact-meddra               NaN      0.859293       NaN  \n",
      "negated                    NaN      0.424603       NaN  \n",
      "non-meddra                 NaN      0.468520       NaN  \n"
     ]
    },
    {
     "name": "stderr",
     "output_type": "stream",
     "text": [
      "100%|██████████| 101/101 [00:00<00:00, 154.10it/s]\n",
      "/var/folders/l5/4jn07y290nncb4wnyhsq33hh0000gt/T/ipykernel_2051/2659214344.py:3: FutureWarning: Indexing with multiple keys (implicitly converted to a tuple of keys) will be deprecated, use a list instead.\n",
      "  overall_results = results_granular.groupby('ade_type')['tp', 'fp', 'fn'].apply(sum)\n",
      "/var/folders/l5/4jn07y290nncb4wnyhsq33hh0000gt/T/ipykernel_2051/2659214344.py:7: FutureWarning: Indexing with multiple keys (implicitly converted to a tuple of keys) will be deprecated, use a list instead.\n",
      "  macro_results = results_granular.groupby('ade_type')['precision', 'recall', 'f1'].apply(np.mean)\n",
      "/Library/Frameworks/Python.framework/Versions/3.10/lib/python3.10/site-packages/numpy/core/fromnumeric.py:3502: FutureWarning: In a future version, DataFrame.mean(axis=None) will return a scalar mean over the entire DataFrame. To retain the old behavior, use 'frame.mean(axis=0)' or just 'frame.mean()'\n",
      "  return mean(axis=axis, dtype=dtype, out=out, **kwargs)\n",
      "/Library/Frameworks/Python.framework/Versions/3.10/lib/python3.10/site-packages/numpy/core/fromnumeric.py:3502: FutureWarning: In a future version, DataFrame.mean(axis=None) will return a scalar mean over the entire DataFrame. To retain the old behavior, use 'frame.mean(axis=0)' or just 'frame.mean()'\n",
      "  return mean(axis=axis, dtype=dtype, out=out, **kwargs)\n",
      "/Library/Frameworks/Python.framework/Versions/3.10/lib/python3.10/site-packages/numpy/core/fromnumeric.py:3502: FutureWarning: In a future version, DataFrame.mean(axis=None) will return a scalar mean over the entire DataFrame. To retain the old behavior, use 'frame.mean(axis=0)' or just 'frame.mean()'\n",
      "  return mean(axis=axis, dtype=dtype, out=out, **kwargs)\n",
      "/Library/Frameworks/Python.framework/Versions/3.10/lib/python3.10/site-packages/numpy/core/fromnumeric.py:3502: FutureWarning: In a future version, DataFrame.mean(axis=None) will return a scalar mean over the entire DataFrame. To retain the old behavior, use 'frame.mean(axis=0)' or just 'frame.mean()'\n",
      "  return mean(axis=axis, dtype=dtype, out=out, **kwargs)\n",
      "/Library/Frameworks/Python.framework/Versions/3.10/lib/python3.10/site-packages/numpy/core/fromnumeric.py:3502: FutureWarning: In a future version, DataFrame.mean(axis=None) will return a scalar mean over the entire DataFrame. To retain the old behavior, use 'frame.mean(axis=0)' or just 'frame.mean()'\n",
      "  return mean(axis=axis, dtype=dtype, out=out, **kwargs)\n"
     ]
    },
    {
     "name": "stdout",
     "output_type": "stream",
     "text": [
      "gpt10\n",
      "                   tp     fp      fn  micro_precision  micro_recall  micro_f1  \\\n",
      "ade_type                                                                        \n",
      "all            3876.0  563.0  1461.0          0.87317      0.726251  0.792962   \n",
      "discontinuous    57.0    0.0   331.0          1.00000      0.146907  0.256180   \n",
      "exact-meddra   3448.0    0.0   715.0          1.00000      0.828249  0.906057   \n",
      "negated          14.0    0.0    18.0          1.00000      0.437500  0.608696   \n",
      "non-meddra      428.0    0.0   747.0          1.00000      0.364255  0.533999   \n",
      "\n",
      "               macro_precision  macro_recall  macro_f1  \n",
      "ade_type                                                \n",
      "all                   0.850053      0.751685  0.806194  \n",
      "discontinuous              NaN      0.170760       NaN  \n",
      "exact-meddra               NaN      0.841465       NaN  \n",
      "negated                    NaN      0.416667       NaN  \n",
      "non-meddra                 NaN      0.464813       NaN  \n"
     ]
    },
    {
     "name": "stderr",
     "output_type": "stream",
     "text": [
      "100%|██████████| 101/101 [00:00<00:00, 153.89it/s]\n",
      "/var/folders/l5/4jn07y290nncb4wnyhsq33hh0000gt/T/ipykernel_2051/2659214344.py:3: FutureWarning: Indexing with multiple keys (implicitly converted to a tuple of keys) will be deprecated, use a list instead.\n",
      "  overall_results = results_granular.groupby('ade_type')['tp', 'fp', 'fn'].apply(sum)\n",
      "/var/folders/l5/4jn07y290nncb4wnyhsq33hh0000gt/T/ipykernel_2051/2659214344.py:7: FutureWarning: Indexing with multiple keys (implicitly converted to a tuple of keys) will be deprecated, use a list instead.\n",
      "  macro_results = results_granular.groupby('ade_type')['precision', 'recall', 'f1'].apply(np.mean)\n",
      "/Library/Frameworks/Python.framework/Versions/3.10/lib/python3.10/site-packages/numpy/core/fromnumeric.py:3502: FutureWarning: In a future version, DataFrame.mean(axis=None) will return a scalar mean over the entire DataFrame. To retain the old behavior, use 'frame.mean(axis=0)' or just 'frame.mean()'\n",
      "  return mean(axis=axis, dtype=dtype, out=out, **kwargs)\n",
      "/Library/Frameworks/Python.framework/Versions/3.10/lib/python3.10/site-packages/numpy/core/fromnumeric.py:3502: FutureWarning: In a future version, DataFrame.mean(axis=None) will return a scalar mean over the entire DataFrame. To retain the old behavior, use 'frame.mean(axis=0)' or just 'frame.mean()'\n",
      "  return mean(axis=axis, dtype=dtype, out=out, **kwargs)\n",
      "/Library/Frameworks/Python.framework/Versions/3.10/lib/python3.10/site-packages/numpy/core/fromnumeric.py:3502: FutureWarning: In a future version, DataFrame.mean(axis=None) will return a scalar mean over the entire DataFrame. To retain the old behavior, use 'frame.mean(axis=0)' or just 'frame.mean()'\n",
      "  return mean(axis=axis, dtype=dtype, out=out, **kwargs)\n",
      "/Library/Frameworks/Python.framework/Versions/3.10/lib/python3.10/site-packages/numpy/core/fromnumeric.py:3502: FutureWarning: In a future version, DataFrame.mean(axis=None) will return a scalar mean over the entire DataFrame. To retain the old behavior, use 'frame.mean(axis=0)' or just 'frame.mean()'\n",
      "  return mean(axis=axis, dtype=dtype, out=out, **kwargs)\n",
      "/Library/Frameworks/Python.framework/Versions/3.10/lib/python3.10/site-packages/numpy/core/fromnumeric.py:3502: FutureWarning: In a future version, DataFrame.mean(axis=None) will return a scalar mean over the entire DataFrame. To retain the old behavior, use 'frame.mean(axis=0)' or just 'frame.mean()'\n",
      "  return mean(axis=axis, dtype=dtype, out=out, **kwargs)\n"
     ]
    },
    {
     "name": "stdout",
     "output_type": "stream",
     "text": [
      "gpt11\n",
      "                   tp     fp      fn  micro_precision  micro_recall  micro_f1  \\\n",
      "ade_type                                                                        \n",
      "all            3772.0  521.0  1565.0          0.87864      0.706764  0.783385   \n",
      "discontinuous    47.0    0.0   341.0          1.00000      0.121134  0.216092   \n",
      "exact-meddra   3357.0    0.0   806.0          1.00000      0.806390  0.892819   \n",
      "negated          17.0    0.0    15.0          1.00000      0.531250  0.693878   \n",
      "non-meddra      415.0    0.0   760.0          1.00000      0.353191  0.522013   \n",
      "\n",
      "               macro_precision  macro_recall  macro_f1  \n",
      "ade_type                                                \n",
      "all                   0.859031      0.749093  0.798729  \n",
      "discontinuous              NaN      0.151156       NaN  \n",
      "exact-meddra               NaN      0.840660       NaN  \n",
      "negated                    NaN      0.523810       NaN  \n",
      "non-meddra                 NaN      0.461671       NaN  \n"
     ]
    },
    {
     "name": "stderr",
     "output_type": "stream",
     "text": [
      "100%|██████████| 101/101 [00:00<00:00, 157.30it/s]\n",
      "/var/folders/l5/4jn07y290nncb4wnyhsq33hh0000gt/T/ipykernel_2051/2659214344.py:3: FutureWarning: Indexing with multiple keys (implicitly converted to a tuple of keys) will be deprecated, use a list instead.\n",
      "  overall_results = results_granular.groupby('ade_type')['tp', 'fp', 'fn'].apply(sum)\n",
      "/var/folders/l5/4jn07y290nncb4wnyhsq33hh0000gt/T/ipykernel_2051/2659214344.py:7: FutureWarning: Indexing with multiple keys (implicitly converted to a tuple of keys) will be deprecated, use a list instead.\n",
      "  macro_results = results_granular.groupby('ade_type')['precision', 'recall', 'f1'].apply(np.mean)\n",
      "/Library/Frameworks/Python.framework/Versions/3.10/lib/python3.10/site-packages/numpy/core/fromnumeric.py:3502: FutureWarning: In a future version, DataFrame.mean(axis=None) will return a scalar mean over the entire DataFrame. To retain the old behavior, use 'frame.mean(axis=0)' or just 'frame.mean()'\n",
      "  return mean(axis=axis, dtype=dtype, out=out, **kwargs)\n",
      "/Library/Frameworks/Python.framework/Versions/3.10/lib/python3.10/site-packages/numpy/core/fromnumeric.py:3502: FutureWarning: In a future version, DataFrame.mean(axis=None) will return a scalar mean over the entire DataFrame. To retain the old behavior, use 'frame.mean(axis=0)' or just 'frame.mean()'\n",
      "  return mean(axis=axis, dtype=dtype, out=out, **kwargs)\n",
      "/Library/Frameworks/Python.framework/Versions/3.10/lib/python3.10/site-packages/numpy/core/fromnumeric.py:3502: FutureWarning: In a future version, DataFrame.mean(axis=None) will return a scalar mean over the entire DataFrame. To retain the old behavior, use 'frame.mean(axis=0)' or just 'frame.mean()'\n",
      "  return mean(axis=axis, dtype=dtype, out=out, **kwargs)\n",
      "/Library/Frameworks/Python.framework/Versions/3.10/lib/python3.10/site-packages/numpy/core/fromnumeric.py:3502: FutureWarning: In a future version, DataFrame.mean(axis=None) will return a scalar mean over the entire DataFrame. To retain the old behavior, use 'frame.mean(axis=0)' or just 'frame.mean()'\n",
      "  return mean(axis=axis, dtype=dtype, out=out, **kwargs)\n",
      "/Library/Frameworks/Python.framework/Versions/3.10/lib/python3.10/site-packages/numpy/core/fromnumeric.py:3502: FutureWarning: In a future version, DataFrame.mean(axis=None) will return a scalar mean over the entire DataFrame. To retain the old behavior, use 'frame.mean(axis=0)' or just 'frame.mean()'\n",
      "  return mean(axis=axis, dtype=dtype, out=out, **kwargs)\n"
     ]
    },
    {
     "name": "stdout",
     "output_type": "stream",
     "text": [
      "gpt12\n",
      "                   tp     fp      fn  micro_precision  micro_recall  micro_f1  \\\n",
      "ade_type                                                                        \n",
      "all            3908.0  671.0  1429.0         0.853461      0.732247  0.788221   \n",
      "discontinuous    49.0    0.0   339.0         1.000000      0.126289  0.224256   \n",
      "exact-meddra   3486.0    0.0   677.0         1.000000      0.837377  0.911492   \n",
      "negated          16.0    0.0    16.0         1.000000      0.500000  0.666667   \n",
      "non-meddra      422.0    0.0   753.0         1.000000      0.359149  0.528491   \n",
      "\n",
      "               macro_precision  macro_recall  macro_f1  \n",
      "ade_type                                                \n",
      "all                   0.850202      0.767362    0.8082  \n",
      "discontinuous              NaN      0.147133       NaN  \n",
      "exact-meddra               NaN      0.862607       NaN  \n",
      "negated                    NaN      0.440476       NaN  \n",
      "non-meddra                 NaN      0.467240       NaN  \n"
     ]
    },
    {
     "name": "stderr",
     "output_type": "stream",
     "text": [
      "100%|██████████| 101/101 [00:00<00:00, 156.42it/s]\n",
      "/var/folders/l5/4jn07y290nncb4wnyhsq33hh0000gt/T/ipykernel_2051/2659214344.py:3: FutureWarning: Indexing with multiple keys (implicitly converted to a tuple of keys) will be deprecated, use a list instead.\n",
      "  overall_results = results_granular.groupby('ade_type')['tp', 'fp', 'fn'].apply(sum)\n",
      "/var/folders/l5/4jn07y290nncb4wnyhsq33hh0000gt/T/ipykernel_2051/2659214344.py:7: FutureWarning: Indexing with multiple keys (implicitly converted to a tuple of keys) will be deprecated, use a list instead.\n",
      "  macro_results = results_granular.groupby('ade_type')['precision', 'recall', 'f1'].apply(np.mean)\n",
      "/Library/Frameworks/Python.framework/Versions/3.10/lib/python3.10/site-packages/numpy/core/fromnumeric.py:3502: FutureWarning: In a future version, DataFrame.mean(axis=None) will return a scalar mean over the entire DataFrame. To retain the old behavior, use 'frame.mean(axis=0)' or just 'frame.mean()'\n",
      "  return mean(axis=axis, dtype=dtype, out=out, **kwargs)\n",
      "/Library/Frameworks/Python.framework/Versions/3.10/lib/python3.10/site-packages/numpy/core/fromnumeric.py:3502: FutureWarning: In a future version, DataFrame.mean(axis=None) will return a scalar mean over the entire DataFrame. To retain the old behavior, use 'frame.mean(axis=0)' or just 'frame.mean()'\n",
      "  return mean(axis=axis, dtype=dtype, out=out, **kwargs)\n",
      "/Library/Frameworks/Python.framework/Versions/3.10/lib/python3.10/site-packages/numpy/core/fromnumeric.py:3502: FutureWarning: In a future version, DataFrame.mean(axis=None) will return a scalar mean over the entire DataFrame. To retain the old behavior, use 'frame.mean(axis=0)' or just 'frame.mean()'\n",
      "  return mean(axis=axis, dtype=dtype, out=out, **kwargs)\n",
      "/Library/Frameworks/Python.framework/Versions/3.10/lib/python3.10/site-packages/numpy/core/fromnumeric.py:3502: FutureWarning: In a future version, DataFrame.mean(axis=None) will return a scalar mean over the entire DataFrame. To retain the old behavior, use 'frame.mean(axis=0)' or just 'frame.mean()'\n",
      "  return mean(axis=axis, dtype=dtype, out=out, **kwargs)\n",
      "/Library/Frameworks/Python.framework/Versions/3.10/lib/python3.10/site-packages/numpy/core/fromnumeric.py:3502: FutureWarning: In a future version, DataFrame.mean(axis=None) will return a scalar mean over the entire DataFrame. To retain the old behavior, use 'frame.mean(axis=0)' or just 'frame.mean()'\n",
      "  return mean(axis=axis, dtype=dtype, out=out, **kwargs)\n"
     ]
    },
    {
     "name": "stdout",
     "output_type": "stream",
     "text": [
      "gpt13\n",
      "                   tp     fp      fn  micro_precision  micro_recall  micro_f1  \\\n",
      "ade_type                                                                        \n",
      "all            3863.0  588.0  1474.0         0.867895      0.723815  0.789334   \n",
      "discontinuous    52.0    0.0   336.0         1.000000      0.134021  0.236364   \n",
      "exact-meddra   3424.0    0.0   739.0         1.000000      0.822484  0.902597   \n",
      "negated          14.0    0.0    18.0         1.000000      0.437500  0.608696   \n",
      "non-meddra      439.0    0.0   736.0         1.000000      0.373617  0.543990   \n",
      "\n",
      "               macro_precision  macro_recall  macro_f1  \n",
      "ade_type                                                \n",
      "all                   0.844568      0.750524  0.795905  \n",
      "discontinuous              NaN      0.138168       NaN  \n",
      "exact-meddra               NaN      0.842457       NaN  \n",
      "negated                    NaN      0.376984       NaN  \n",
      "non-meddra                 NaN      0.474090       NaN  \n"
     ]
    },
    {
     "name": "stderr",
     "output_type": "stream",
     "text": [
      "100%|██████████| 101/101 [00:00<00:00, 156.66it/s]"
     ]
    },
    {
     "name": "stdout",
     "output_type": "stream",
     "text": [
      "gpt14\n",
      "                   tp     fp      fn  micro_precision  micro_recall  micro_f1  \\\n",
      "ade_type                                                                        \n",
      "all            3963.0  594.0  1374.0         0.869651      0.742552  0.801092   \n",
      "discontinuous    59.0    0.0   329.0         1.000000      0.152062  0.263982   \n",
      "exact-meddra   3524.0    0.0   639.0         1.000000      0.846505  0.916873   \n",
      "negated          15.0    0.0    17.0         1.000000      0.468750  0.638298   \n",
      "non-meddra      439.0    0.0   736.0         1.000000      0.373617  0.543990   \n",
      "\n",
      "               macro_precision  macro_recall  macro_f1  \n",
      "ade_type                                                \n",
      "all                   0.853476      0.762947  0.815717  \n",
      "discontinuous              NaN      0.157197       NaN  \n",
      "exact-meddra               NaN      0.856362       NaN  \n",
      "negated                    NaN      0.464286       NaN  \n",
      "non-meddra                 NaN      0.466423       NaN  \n"
     ]
    },
    {
     "name": "stderr",
     "output_type": "stream",
     "text": [
      "\n",
      "/var/folders/l5/4jn07y290nncb4wnyhsq33hh0000gt/T/ipykernel_2051/2659214344.py:3: FutureWarning: Indexing with multiple keys (implicitly converted to a tuple of keys) will be deprecated, use a list instead.\n",
      "  overall_results = results_granular.groupby('ade_type')['tp', 'fp', 'fn'].apply(sum)\n",
      "/var/folders/l5/4jn07y290nncb4wnyhsq33hh0000gt/T/ipykernel_2051/2659214344.py:7: FutureWarning: Indexing with multiple keys (implicitly converted to a tuple of keys) will be deprecated, use a list instead.\n",
      "  macro_results = results_granular.groupby('ade_type')['precision', 'recall', 'f1'].apply(np.mean)\n",
      "/Library/Frameworks/Python.framework/Versions/3.10/lib/python3.10/site-packages/numpy/core/fromnumeric.py:3502: FutureWarning: In a future version, DataFrame.mean(axis=None) will return a scalar mean over the entire DataFrame. To retain the old behavior, use 'frame.mean(axis=0)' or just 'frame.mean()'\n",
      "  return mean(axis=axis, dtype=dtype, out=out, **kwargs)\n",
      "/Library/Frameworks/Python.framework/Versions/3.10/lib/python3.10/site-packages/numpy/core/fromnumeric.py:3502: FutureWarning: In a future version, DataFrame.mean(axis=None) will return a scalar mean over the entire DataFrame. To retain the old behavior, use 'frame.mean(axis=0)' or just 'frame.mean()'\n",
      "  return mean(axis=axis, dtype=dtype, out=out, **kwargs)\n",
      "/Library/Frameworks/Python.framework/Versions/3.10/lib/python3.10/site-packages/numpy/core/fromnumeric.py:3502: FutureWarning: In a future version, DataFrame.mean(axis=None) will return a scalar mean over the entire DataFrame. To retain the old behavior, use 'frame.mean(axis=0)' or just 'frame.mean()'\n",
      "  return mean(axis=axis, dtype=dtype, out=out, **kwargs)\n",
      "/Library/Frameworks/Python.framework/Versions/3.10/lib/python3.10/site-packages/numpy/core/fromnumeric.py:3502: FutureWarning: In a future version, DataFrame.mean(axis=None) will return a scalar mean over the entire DataFrame. To retain the old behavior, use 'frame.mean(axis=0)' or just 'frame.mean()'\n",
      "  return mean(axis=axis, dtype=dtype, out=out, **kwargs)\n",
      "/Library/Frameworks/Python.framework/Versions/3.10/lib/python3.10/site-packages/numpy/core/fromnumeric.py:3502: FutureWarning: In a future version, DataFrame.mean(axis=None) will return a scalar mean over the entire DataFrame. To retain the old behavior, use 'frame.mean(axis=0)' or just 'frame.mean()'\n",
      "  return mean(axis=axis, dtype=dtype, out=out, **kwargs)\n"
     ]
    }
   ],
   "source": [
    "for method, output in outputs.items():\n",
    "    results_granular = evaluation_granular(manual_ades, output)\n",
    "    overall_results = results_granular.groupby('ade_type')['tp', 'fp', 'fn'].apply(sum)\n",
    "    overall_results['micro_precision'] = overall_results['tp']/(overall_results['tp']+overall_results['fp'])\n",
    "    overall_results['micro_recall'] = overall_results['tp']/(overall_results['tp']+overall_results['fn'])\n",
    "    overall_results['micro_f1'] = (2 * overall_results['micro_precision'] * overall_results['micro_recall'])/(overall_results['micro_precision'] + overall_results['micro_recall']) # 2*tp_total/(2*tp_total+fp_total+fn_total)\n",
    "    macro_results = results_granular.groupby('ade_type')['precision', 'recall', 'f1'].apply(np.mean)\n",
    "    overall_results['macro_precision'] = macro_results['precision']\n",
    "    overall_results['macro_recall'] = macro_results['recall']\n",
    "    overall_results['macro_f1'] = macro_results['f1']\n",
    "    save_filename = 'results/{}_{}_granular.csv'.format(output_file_basename, method)\n",
    "    overall_results.to_csv(save_filename)\n",
    "    print(method)\n",
    "    print(overall_results)"
   ]
  },
  {
   "cell_type": "code",
   "execution_count": null,
   "id": "f5f04b74",
   "metadata": {},
   "outputs": [],
   "source": []
  }
 ],
 "metadata": {
  "kernelspec": {
   "display_name": "Python 3 (ipykernel)",
   "language": "python",
   "name": "python3"
  },
  "language_info": {
   "codemirror_mode": {
    "name": "ipython",
    "version": 3
   },
   "file_extension": ".py",
   "mimetype": "text/x-python",
   "name": "python",
   "nbconvert_exporter": "python",
   "pygments_lexer": "ipython3",
   "version": "3.10.0"
  }
 },
 "nbformat": 4,
 "nbformat_minor": 5
}
