{
 "cells": [
  {
   "cell_type": "code",
   "execution_count": 1,
   "id": "706f8453-d366-4e8c-976c-90b59cf58197",
   "metadata": {},
   "outputs": [],
   "source": [
    "from tqdm import tqdm\n",
    "import pandas as pd\n",
    "from openai import OpenAI\n",
    "import openai\n",
    "import constants\n",
    "import csv\n",
    "import numpy as np"
   ]
  },
  {
   "cell_type": "markdown",
   "id": "9db80a89-6744-4602-936e-c5457d547d20",
   "metadata": {},
   "source": [
    "## Set Up"
   ]
  },
  {
   "cell_type": "markdown",
   "id": "8759fb31-5cee-46e8-a65f-36bf14b08730",
   "metadata": {},
   "source": [
    "### Functions"
   ]
  },
  {
   "cell_type": "code",
   "execution_count": 2,
   "id": "98fa878b-b40a-4895-808e-9574b7d004c7",
   "metadata": {},
   "outputs": [],
   "source": [
    "# function for running GPT\n",
    "def extract_ade_terms(gpt_model, prompt, text, openai_api):\n",
    "  client = OpenAI(api_key=openai_api,)\n",
    "  chat_completion = client.chat.completions.create(\n",
    "      messages=[\n",
    "          {\"role\": \"system\", \"content\": \"You are an expert in pharmacology.\"},\n",
    "          {\n",
    "              \"role\": \"user\",\n",
    "              \"content\": prompt.format(text)\n",
    "          }\n",
    "      ],\n",
    "      model=gpt_model,\n",
    "  )\n",
    "  term = chat_completion.choices[0].message.content\n",
    "  return term"
   ]
  },
  {
   "cell_type": "code",
   "execution_count": 3,
   "id": "1bdb19ac-282a-47f0-8538-a0af057570cf",
   "metadata": {},
   "outputs": [],
   "source": [
    "def evaluation(manual_ades, gpt_output, limit = 1000):\n",
    "    drugs = gpt_output['drug_name'].unique()\n",
    "    drugs_set = set()\n",
    "    results = []\n",
    "    for drug in tqdm(drugs):\n",
    "        drugs_set.add(drug)\n",
    "        if len(drugs_set) > limit:\n",
    "            break\n",
    "        \n",
    "        drug_df = manual_ades.query(\"(drug_name == '{}') & (section_name == 'adverse reactions')\".format(drug))\n",
    "        manual = set(drug_df['reaction_string'].to_list())\n",
    "        gpt_drug = (gpt_output[\n",
    "            (gpt_output['drug_name'] == drug)\n",
    "            &\n",
    "            (gpt_output['section_name'] == \"adverse reactions\")\n",
    "            ][\"gpt_output\"].astype(str)\n",
    "            .str.lower()\n",
    "            .str.replace('\\n-', ', ')\n",
    "            .str.split(\",\").tolist())\n",
    "    \n",
    "        try:\n",
    "            gpt_drug = [x.strip() for x in gpt_drug[0]]\n",
    "            gpt_drug = set(gpt_drug)\n",
    "        except:\n",
    "            results.append([drug, len(manual), len(gpt_drug), np.nan, np.nan,\n",
    "                             np.nan, np.nan, np.nan, np.nan])\n",
    "            continue\n",
    "\n",
    "        TP = len(manual.intersection(gpt_drug))\n",
    "        FP = len(gpt_drug.difference(manual))\n",
    "        FN = len(manual.difference(gpt_drug))\n",
    "        precision = TP/(TP+FP)\n",
    "        recall = TP/(TP+FN)\n",
    "        if precision != 0 and recall != 0:\n",
    "            f1 = (2 * precision * recall)/(precision + recall)# 2*TP/(2*TP+FP+FN)\n",
    "        else:\n",
    "            f1 = np.NAN\n",
    "\n",
    "        results.append([drug, len(manual), len(gpt_drug), TP, FP, FN, precision, recall, f1])\n",
    "    results = pd.DataFrame(results, columns=['drug_name', 'n_manual', 'n_gpt', 'tp', 'fp', 'fn', 'precision', 'recall', 'f1'])\n",
    "    return results"
   ]
  },
  {
   "cell_type": "code",
   "execution_count": 4,
   "id": "f6f04e8a-be72-4ad8-abfe-7b5d60c03a46",
   "metadata": {},
   "outputs": [],
   "source": [
    "openai.organization = \"\"\n",
    "openai.api_key = constants.AZURE_OPENAI_KEY"
   ]
  },
  {
   "cell_type": "markdown",
   "id": "37930311-07c7-4762-abd1-cb249c5bd25d",
   "metadata": {},
   "source": [
    "### Variables"
   ]
  },
  {
   "cell_type": "code",
   "execution_count": 37,
   "id": "ed8cc025-3af6-4bea-826b-962eb8b36f14",
   "metadata": {},
   "outputs": [],
   "source": [
    "drug_file = 'test_drug_label_text.csv'\n",
    "manual_file = 'test_drug_label_text_manual_ades.csv'\n",
    "my_max = 10000\n",
    "gpt_model = 'gpt-4-1106-preview'"
   ]
  },
  {
   "cell_type": "code",
   "execution_count": 38,
   "id": "b4b1bbd7-3b6c-42f5-a2af-04391ea86537",
   "metadata": {},
   "outputs": [],
   "source": [
    "prompt_name = 'baseline-ade'\n",
    "prompt = \"\"\" Extract all adverse reactions as they appear, including all synonyms,\n",
    "mentioned in this text provide them as a comma-separated list: \n",
    "'{}' \"\"\""
   ]
  },
  {
   "cell_type": "markdown",
   "id": "e82ae7da-2a0e-4755-ae4d-4bced5f7f5a2",
   "metadata": {},
   "source": [
    "## Run GPT"
   ]
  },
  {
   "cell_type": "code",
   "execution_count": 39,
   "id": "22518e4d-ec19-4a56-9914-cd969a50cbc3",
   "metadata": {},
   "outputs": [],
   "source": [
    "drugs = pd.read_csv(drug_file)\n",
    "manual_ades = pd.read_csv(manual_file)\n",
    "set_type = drug_file.split('_')[0] # assuming file follows format \"train_...\" or \"test....\""
   ]
  },
  {
   "cell_type": "code",
   "execution_count": null,
   "id": "492d7e82-894f-4c0f-bbf1-4de819b94b55",
   "metadata": {},
   "outputs": [
    {
     "name": "stderr",
     "output_type": "stream",
     "text": [
      "104it [14:16,  7.54s/it]"
     ]
    }
   ],
   "source": [
    "# run GPT    \n",
    "gpt_output = []\n",
    "unique_drugs = set()\n",
    "for i, row in tqdm(drugs.iterrows()):\n",
    "    unique_drugs.add(row['drug_name'])\n",
    "    if len(unique_drugs) > my_max: \n",
    "        break\n",
    "    if row['section_name'] != 'adverse reactions':\n",
    "        continue\n",
    "    name, section = row['drug_name'], row['section_name']\n",
    "    text = row['section_text']\n",
    "    try:\n",
    "        gpt_out = extract_ade_terms(gpt_model, prompt, text, openai.api_key)\n",
    "    except:\n",
    "        gpt_out = None\n",
    "        continue\n",
    "    gpt_output.append([name, section, gpt_out])\n",
    "gpt_output = pd.DataFrame(gpt_output, columns=['drug_name', 'section_name', 'gpt_output'])\n",
    "gpt_output.to_csv('{}_{}_{}.csv'.format(gpt_model, prompt_name, set_type))"
   ]
  },
  {
   "cell_type": "code",
   "execution_count": 32,
   "id": "3f2a47f6-5f13-4058-b22d-b58327818ac8",
   "metadata": {},
   "outputs": [
    {
     "name": "stderr",
     "output_type": "stream",
     "text": [
      "100%|██████████████████████████████████████████████████████████████████████████████████████████████████████████████████| 101/101 [00:00<00:00, 189.13it/s]\n"
     ]
    }
   ],
   "source": [
    "results = evaluation(manual_ades, gpt_output)"
   ]
  },
  {
   "cell_type": "code",
   "execution_count": 32,
   "id": "22a600bd-b54d-4a8c-b231-8d4fbb0c23b0",
   "metadata": {},
   "outputs": [
    {
     "name": "stderr",
     "output_type": "stream",
     "text": [
      "100%|██████████████████████████████████████████████████████████████████████████████████████████████████████████████████| 101/101 [00:00<00:00, 177.01it/s]\n"
     ]
    }
   ],
   "source": [
    "results_test = evaluation(manual_ades, gpt_output)"
   ]
  },
  {
   "cell_type": "code",
   "execution_count": 33,
   "id": "16efca0c-c11a-4431-b7eb-c35b5e44067a",
   "metadata": {},
   "outputs": [
    {
     "data": {
      "text/html": [
       "<div>\n",
       "<style scoped>\n",
       "    .dataframe tbody tr th:only-of-type {\n",
       "        vertical-align: middle;\n",
       "    }\n",
       "\n",
       "    .dataframe tbody tr th {\n",
       "        vertical-align: top;\n",
       "    }\n",
       "\n",
       "    .dataframe thead th {\n",
       "        text-align: right;\n",
       "    }\n",
       "</style>\n",
       "<table border=\"1\" class=\"dataframe\">\n",
       "  <thead>\n",
       "    <tr style=\"text-align: right;\">\n",
       "      <th></th>\n",
       "      <th>drug_name</th>\n",
       "      <th>n_manual</th>\n",
       "      <th>n_gpt</th>\n",
       "      <th>tp</th>\n",
       "      <th>fp</th>\n",
       "      <th>fn</th>\n",
       "      <th>precision</th>\n",
       "      <th>recall</th>\n",
       "      <th>f1</th>\n",
       "    </tr>\n",
       "  </thead>\n",
       "  <tbody>\n",
       "    <tr>\n",
       "      <th>0</th>\n",
       "      <td>KYPROLIS</td>\n",
       "      <td>128</td>\n",
       "      <td>93</td>\n",
       "      <td>88</td>\n",
       "      <td>5</td>\n",
       "      <td>40</td>\n",
       "      <td>0.946237</td>\n",
       "      <td>0.687500</td>\n",
       "      <td>0.796380</td>\n",
       "    </tr>\n",
       "    <tr>\n",
       "      <th>1</th>\n",
       "      <td>MULTAQ</td>\n",
       "      <td>39</td>\n",
       "      <td>32</td>\n",
       "      <td>25</td>\n",
       "      <td>7</td>\n",
       "      <td>14</td>\n",
       "      <td>0.781250</td>\n",
       "      <td>0.641026</td>\n",
       "      <td>0.704225</td>\n",
       "    </tr>\n",
       "    <tr>\n",
       "      <th>2</th>\n",
       "      <td>JUBLIA</td>\n",
       "      <td>5</td>\n",
       "      <td>4</td>\n",
       "      <td>4</td>\n",
       "      <td>0</td>\n",
       "      <td>1</td>\n",
       "      <td>1.000000</td>\n",
       "      <td>0.800000</td>\n",
       "      <td>0.888889</td>\n",
       "    </tr>\n",
       "    <tr>\n",
       "      <th>3</th>\n",
       "      <td>TEFLARO</td>\n",
       "      <td>30</td>\n",
       "      <td>38</td>\n",
       "      <td>29</td>\n",
       "      <td>9</td>\n",
       "      <td>1</td>\n",
       "      <td>0.763158</td>\n",
       "      <td>0.966667</td>\n",
       "      <td>0.852941</td>\n",
       "    </tr>\n",
       "    <tr>\n",
       "      <th>4</th>\n",
       "      <td>DATSCAN</td>\n",
       "      <td>11</td>\n",
       "      <td>10</td>\n",
       "      <td>10</td>\n",
       "      <td>0</td>\n",
       "      <td>1</td>\n",
       "      <td>1.000000</td>\n",
       "      <td>0.909091</td>\n",
       "      <td>0.952381</td>\n",
       "    </tr>\n",
       "    <tr>\n",
       "      <th>...</th>\n",
       "      <td>...</td>\n",
       "      <td>...</td>\n",
       "      <td>...</td>\n",
       "      <td>...</td>\n",
       "      <td>...</td>\n",
       "      <td>...</td>\n",
       "      <td>...</td>\n",
       "      <td>...</td>\n",
       "      <td>...</td>\n",
       "    </tr>\n",
       "    <tr>\n",
       "      <th>96</th>\n",
       "      <td>BENLYSTA</td>\n",
       "      <td>26</td>\n",
       "      <td>20</td>\n",
       "      <td>18</td>\n",
       "      <td>2</td>\n",
       "      <td>8</td>\n",
       "      <td>0.900000</td>\n",
       "      <td>0.692308</td>\n",
       "      <td>0.782609</td>\n",
       "    </tr>\n",
       "    <tr>\n",
       "      <th>97</th>\n",
       "      <td>TOVIAZ</td>\n",
       "      <td>37</td>\n",
       "      <td>35</td>\n",
       "      <td>32</td>\n",
       "      <td>3</td>\n",
       "      <td>5</td>\n",
       "      <td>0.914286</td>\n",
       "      <td>0.864865</td>\n",
       "      <td>0.888889</td>\n",
       "    </tr>\n",
       "    <tr>\n",
       "      <th>98</th>\n",
       "      <td>ENTEREG</td>\n",
       "      <td>1</td>\n",
       "      <td>1</td>\n",
       "      <td>1</td>\n",
       "      <td>0</td>\n",
       "      <td>0</td>\n",
       "      <td>1.000000</td>\n",
       "      <td>1.000000</td>\n",
       "      <td>1.000000</td>\n",
       "    </tr>\n",
       "    <tr>\n",
       "      <th>99</th>\n",
       "      <td>VIZAMYL</td>\n",
       "      <td>8</td>\n",
       "      <td>8</td>\n",
       "      <td>7</td>\n",
       "      <td>1</td>\n",
       "      <td>1</td>\n",
       "      <td>0.875000</td>\n",
       "      <td>0.875000</td>\n",
       "      <td>0.875000</td>\n",
       "    </tr>\n",
       "    <tr>\n",
       "      <th>100</th>\n",
       "      <td>AMPYRA</td>\n",
       "      <td>18</td>\n",
       "      <td>19</td>\n",
       "      <td>18</td>\n",
       "      <td>1</td>\n",
       "      <td>0</td>\n",
       "      <td>0.947368</td>\n",
       "      <td>1.000000</td>\n",
       "      <td>0.972973</td>\n",
       "    </tr>\n",
       "  </tbody>\n",
       "</table>\n",
       "<p>101 rows × 9 columns</p>\n",
       "</div>"
      ],
      "text/plain": [
       "    drug_name  n_manual  n_gpt  tp  fp  fn  precision    recall        f1\n",
       "0    KYPROLIS       128     93  88   5  40   0.946237  0.687500  0.796380\n",
       "1      MULTAQ        39     32  25   7  14   0.781250  0.641026  0.704225\n",
       "2      JUBLIA         5      4   4   0   1   1.000000  0.800000  0.888889\n",
       "3     TEFLARO        30     38  29   9   1   0.763158  0.966667  0.852941\n",
       "4     DATSCAN        11     10  10   0   1   1.000000  0.909091  0.952381\n",
       "..        ...       ...    ...  ..  ..  ..        ...       ...       ...\n",
       "96   BENLYSTA        26     20  18   2   8   0.900000  0.692308  0.782609\n",
       "97     TOVIAZ        37     35  32   3   5   0.914286  0.864865  0.888889\n",
       "98    ENTEREG         1      1   1   0   0   1.000000  1.000000  1.000000\n",
       "99    VIZAMYL         8      8   7   1   1   0.875000  0.875000  0.875000\n",
       "100    AMPYRA        18     19  18   1   0   0.947368  1.000000  0.972973\n",
       "\n",
       "[101 rows x 9 columns]"
      ]
     },
     "execution_count": 33,
     "metadata": {},
     "output_type": "execute_result"
    }
   ],
   "source": [
    "results_test"
   ]
  },
  {
   "cell_type": "code",
   "execution_count": 34,
   "id": "1913b5d8-28c5-4fd7-99c5-d0b104cbafa7",
   "metadata": {},
   "outputs": [
    {
     "name": "stdout",
     "output_type": "stream",
     "text": [
      "prompt: baseline-ade\n",
      "precision: 0.8817081525462435\n",
      "recall: 0.7234401349072512\n",
      "f1: 0.7947715109098394\n"
     ]
    }
   ],
   "source": [
    "[tp_total, fp_total, fn_total] =  results_test[['tp', 'fp', 'fn']].sum()\n",
    "precision = tp_total/(tp_total+fp_total)\n",
    "recall =  tp_total/(tp_total+fn_total)\n",
    "f1 = (2 * precision * recall)/(precision + recall) # 2*tp_total/(2*tp_total+fp_total+fn_total) \n",
    "print(\"prompt: {}\".format(prompt_name))\n",
    "print(\"precision: {}\\nrecall: {}\\nf1: {}\".format(precision, recall, f1)) "
   ]
  },
  {
   "cell_type": "code",
   "execution_count": 19,
   "id": "ce28aee0-edb4-4cda-ab66-dfaca09b5643",
   "metadata": {},
   "outputs": [
    {
     "data": {
      "text/plain": [
       "0.7647715316537429"
      ]
     },
     "execution_count": 19,
     "metadata": {},
     "output_type": "execute_result"
    }
   ],
   "source": [
    "results_test.precision.mean()\n",
    "results_test.recall.mean()"
   ]
  },
  {
   "cell_type": "code",
   "execution_count": 36,
   "id": "f7cf4f90-c471-4294-95e1-304dba7a32e3",
   "metadata": {},
   "outputs": [],
   "source": [
    "# model, data, prompt, precision, recall, f1\n",
    "with open('gpt_model_results.csv', 'a') as file:\n",
    "    file.write('{}, {}, {}, {}, {}, {}\\n'.format(gpt_model, set_type, prompt_name, precision, recall, f1))"
   ]
  },
  {
   "cell_type": "code",
   "execution_count": null,
   "id": "e9d3d2ea-acbc-49bb-a7e4-348ad0ab472e",
   "metadata": {},
   "outputs": [],
   "source": []
  }
 ],
 "metadata": {
  "kernelspec": {
   "display_name": "Python 3 (ipykernel)",
   "language": "python",
   "name": "python3"
  },
  "language_info": {
   "codemirror_mode": {
    "name": "ipython",
    "version": 3
   },
   "file_extension": ".py",
   "mimetype": "text/x-python",
   "name": "python",
   "nbconvert_exporter": "python",
   "pygments_lexer": "ipython3",
   "version": "3.11.7"
  }
 },
 "nbformat": 4,
 "nbformat_minor": 5
}
