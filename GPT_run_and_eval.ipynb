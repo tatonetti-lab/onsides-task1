{
 "cells": [
  {
   "cell_type": "code",
   "execution_count": 1,
   "id": "706f8453-d366-4e8c-976c-90b59cf58197",
   "metadata": {},
   "outputs": [],
   "source": [
    "import os\n",
    "from tqdm import tqdm\n",
    "import pandas as pd\n",
    "from openai import OpenAI, AzureOpenAI\n",
    "import csv\n",
    "import numpy as np\n",
    "import concurrent\n",
    "import time\n",
    "import json\n",
    "from common_string import common_lenient_performance"
   ]
  },
  {
   "cell_type": "markdown",
   "id": "9db80a89-6744-4602-936e-c5457d547d20",
   "metadata": {},
   "source": [
    "## Set Up"
   ]
  },
  {
   "cell_type": "markdown",
   "id": "8759fb31-5cee-46e8-a65f-36bf14b08730",
   "metadata": {},
   "source": [
    "### Functions"
   ]
  },
  {
   "cell_type": "code",
   "execution_count": 2,
   "id": "2ed0377f",
   "metadata": {},
   "outputs": [],
   "source": [
    "def perform_extraction(api_source, config, gpt_model, system_content, prompt, text, temperature):\n",
    "    if api_source == 'OpenAI':\n",
    "        client = OpenAI(api_key=config[api_source]['openai_api_key'])\n",
    "    elif api_source == 'Azure':\n",
    "        client = AzureOpenAI(api_key=config[api_source]['openai_api_key'], api_version=\"2023-12-01-preview\", azure_endpoint=config[api_source]['openai_api_endpoint'])\n",
    "    else:\n",
    "        raise Exception(f\"Unexpected API source requested: {api_source}\")\n",
    "  \n",
    "    chat_completion = client.chat.completions.create(\n",
    "        messages=[\n",
    "            {\"role\": \"system\", \"content\": system_content},\n",
    "            {\n",
    "                \"role\": \"user\",\n",
    "                \"content\": prompt.format(text)\n",
    "            }\n",
    "        ],\n",
    "        model=gpt_model,\n",
    "        temperature=temperature,\n",
    "    )\n",
    "    term = chat_completion.choices[0].message.content\n",
    "    return term\n",
    "\n",
    "def perform_cleanup(extraction, openai_api):\n",
    "    client = OpenAI(api_key=openai_api)\n",
    "    \n",
    "    chat_completion = client.chat.completions.create(\n",
    "        messages=[\n",
    "            {\"role\": \"system\", \"content\": \"\"},\n",
    "            {\n",
    "                \"role\": \"user\",\n",
    "                \"content\": \"\"\"The following text is an extraction of adverse event terms from a drug label. Please remove any preamble or postamble from the list and turn the list of ADEs into a comma separated list. \n",
    "The text: {}\"\"\".format(extraction)\n",
    "            }\n",
    "        ],\n",
    "        model=\"gpt-3.5-turbo-16k\",\n",
    "        temperature=0,\n",
    "    )\n",
    "    term = chat_completion.choices[0].message.content\n",
    "    return term\n",
    "\n"
   ]
  },
  {
   "cell_type": "code",
   "execution_count": 3,
   "id": "98fa878b-b40a-4895-808e-9574b7d004c7",
   "metadata": {},
   "outputs": [],
   "source": [
    "# function for running GPT\n",
    "def extract_ade_terms(api_source, config, gpt_model, system_content, prompt, text, temperature):\n",
    "  extraction = perform_extraction(api_source, config, gpt_model, system_content, prompt, text, temperature)\n",
    "  if extraction.find('\\n') != -1:\n",
    "    extraction = perform_cleanup(extraction, config['OpenAI']['openai_api_key'])\n",
    "  return extraction\n"
   ]
  },
  {
   "cell_type": "code",
   "execution_count": 4,
   "id": "fd0bffb7",
   "metadata": {},
   "outputs": [],
   "source": [
    "def evaluation_subtype(manual_ades, gpt_output, drug, subtype = 'all', lenient=False):\n",
    "    '''\n",
    "    For a given drug, evaluate the performance of GPT on a given subtype of ADEs. \n",
    "    '''\n",
    "    \n",
    "    drug_df = manual_ades.query(\"(drug_name == '{}') & (section_name == 'adverse reactions')\".format(drug))\n",
    "    if subtype == 'exact-meddra': drug_df = drug_df[drug_df.meddra_exact_term == 1]\n",
    "    if subtype == 'non-meddra': drug_df = drug_df[drug_df.meddra_exact_term == 0]\n",
    "    if subtype == 'negated': drug_df = drug_df[drug_df.negated_term == 1]\n",
    "    if subtype == 'discontinuous': drug_df = drug_df[drug_df.discontinuous_term == 1]\n",
    "\n",
    "    \n",
    "    manual = set(drug_df['reaction_string'].to_list())\n",
    "    gpt_drug = (gpt_output[\n",
    "        (gpt_output['drug_name'] == drug)\n",
    "        &\n",
    "        (gpt_output['section_name'] == \"adverse reactions\")\n",
    "        ][\"gpt_output\"].astype(str)\n",
    "        .str.lower()\n",
    "        .str.replace('\\n-', ', ')\n",
    "        .str.split(\",\").tolist())\n",
    "    \n",
    "    try:\n",
    "        gpt_drug = [x.strip() for x in gpt_drug[0] if x]\n",
    "        gpt_drug = set(gpt_drug)\n",
    "    except:\n",
    "        return [drug, subtype, len(manual), len(gpt_drug), np.nan, np.nan, np.nan, np.nan, np.nan, np.nan]\n",
    "        \n",
    "    if not lenient:    \n",
    "        #overall\n",
    "        TP = len(manual.intersection(gpt_drug))\n",
    "        FP = len(gpt_drug.difference(manual))\n",
    "        FN = len(manual.difference(gpt_drug))\n",
    "        if TP == 0 and FP == 0:\n",
    "            precision = np.NAN\n",
    "        else:\n",
    "            precision = TP/(TP+FP)\n",
    "        if TP == 0 and FN == 0:\n",
    "            recall = np.NAN\n",
    "        else:\n",
    "            recall = TP/(TP+FN)\n",
    "        if precision != 0 and recall != 0:\n",
    "            f1 = (2 * precision * recall)/(precision + recall)# 2*TP/(2*TP+FP+FN)\n",
    "        else:\n",
    "            f1 = np.NAN\n",
    "    else:\n",
    "        [TP, FP, FN, precision, recall, f1] = common_lenient_performance(gpt_drug, manual)\n",
    "    \n",
    "    if subtype != 'all':\n",
    "            # these can't be computed for the subtypes\n",
    "            precision = np.nan\n",
    "            f1 = np.nan\n",
    "            FP = np.nan\n",
    "    \n",
    "    return [drug, subtype, len(manual), len(gpt_drug), TP, FP, FN, precision, recall, f1]\n"
   ]
  },
  {
   "cell_type": "code",
   "execution_count": 5,
   "id": "c8c6cc82",
   "metadata": {},
   "outputs": [],
   "source": [
    "def evaluation(manual_ades, gpt_output, lenient=False, limit = 1000):\n",
    "    drugs = gpt_output['drug_name'].unique()\n",
    "    drugs_set = set()\n",
    "    results = []\n",
    "    for drug in tqdm(drugs):\n",
    "            results.append(evaluation_subtype(manual_ades, gpt_output, drug, lenient))        \n",
    "    results = pd.DataFrame(results, columns=['drug_name', 'exclude', 'n_manual', 'n_gpt', 'tp', 'fp', 'fn', 'precision', 'recall', 'f1'])\n",
    "    return results"
   ]
  },
  {
   "cell_type": "code",
   "execution_count": 6,
   "id": "d669d0b0",
   "metadata": {},
   "outputs": [],
   "source": [
    "def evaluation_granular(manual_ades, gpt_output, limit = 1000, lenient=False):\n",
    "    drugs = gpt_output['drug_name'].unique()\n",
    "    drugs_set = set()\n",
    "    results = []\n",
    "    for drug in tqdm(drugs):\n",
    "        drugs_set.add(drug)\n",
    "        if len(drugs_set) > limit:\n",
    "            break\n",
    "        \n",
    "        results.append(evaluation_subtype(manual_ades, gpt_output, drug, subtype = 'all', lenient=lenient))\n",
    "        results.append(evaluation_subtype(manual_ades, gpt_output, drug, subtype = 'exact-meddra',lenient=lenient))\n",
    "        results.append(evaluation_subtype(manual_ades, gpt_output, drug, subtype = 'non-meddra',lenient=lenient))\n",
    "        results.append(evaluation_subtype(manual_ades, gpt_output, drug, subtype = 'negated',lenient=lenient))\n",
    "        results.append(evaluation_subtype(manual_ades, gpt_output, drug, subtype = 'discontinuous',lenient=lenient))\n",
    "\n",
    "    results = pd.DataFrame(results, columns=['drug_name', 'ade_type', 'n_manual', 'n_gpt', 'tp', 'fp', 'fn', 'precision', 'recall', 'f1'])\n",
    "    return results"
   ]
  },
  {
   "cell_type": "markdown",
   "id": "37930311-07c7-4762-abd1-cb249c5bd25d",
   "metadata": {},
   "source": [
    "### Variables"
   ]
  },
  {
   "cell_type": "code",
   "execution_count": 7,
   "id": "ed8cc025-3af6-4bea-826b-962eb8b36f14",
   "metadata": {},
   "outputs": [],
   "source": [
    "drug_file = 'data/train_drug_label_text.csv'\n",
    "manual_file = 'data/train_drug_label_text_manual_ades.csv'\n",
    "my_max = 10000"
   ]
  },
  {
   "cell_type": "code",
   "execution_count": 8,
   "id": "22518e4d-ec19-4a56-9914-cd969a50cbc3",
   "metadata": {},
   "outputs": [],
   "source": [
    "drugs = pd.read_csv(drug_file)\n",
    "manual_ades = pd.read_csv(manual_file)\n",
    "set_type = drug_file.split('/')[1].split('_')[0] # assuming file follows format \"train_...\" or \"test....\""
   ]
  },
  {
   "cell_type": "markdown",
   "id": "e82ae7da-2a0e-4755-ae4d-4bced5f7f5a2",
   "metadata": {},
   "source": [
    "## Run GPT"
   ]
  },
  {
   "cell_type": "code",
   "execution_count": 11,
   "id": "e618b1c1",
   "metadata": {},
   "outputs": [],
   "source": [
    "outputs = {}"
   ]
  },
  {
   "cell_type": "code",
   "execution_count": 38,
   "id": "f6f04e8a-be72-4ad8-abfe-7b5d60c03a46",
   "metadata": {},
   "outputs": [],
   "source": [
    "config = json.load(open('./config.json'))\n",
    "\n",
    "organization = \"\"\n",
    "\n",
    "api_source = 'OpenAI'\n",
    "\n",
    "api_key = config[api_source]['openai_api_key'] #constants.AZURE_OPENAI_KEY\n",
    "api_endpoint = config[api_source]['openai_api_endpoint'] \n",
    "\n",
    "gpt_model = config[api_source][\"gpt_model\"]\n",
    "# gpt_model = \"gpt-4-turbo-preview\"\n",
    "# gpt_model = \"gpt-3.5-turbo-0125\"\n",
    "\n",
    "temperature = 0"
   ]
  },
  {
   "cell_type": "code",
   "execution_count": 39,
   "id": "b4b1bbd7-3b6c-42f5-a2af-04391ea86537",
   "metadata": {},
   "outputs": [
    {
     "data": {
      "text/plain": [
       "'OpenAI_gpt-4-1106-preview_fatal-prompt-v2_no-system-prompt_temp0_train'"
      ]
     },
     "execution_count": 39,
     "metadata": {},
     "output_type": "execute_result"
    }
   ],
   "source": [
    "nruns = 2\n",
    "\n",
    "system_options = {\n",
    "    \"no-system-prompt\": \"\",\n",
    "    \"pharmexpert-v0\": \"You are an expert in pharmacology.\",\n",
    "    \"pharmexpert-v1\": \"You are an expert in medical natural language processing, adverse drug reactions, pharmacology, and clinical trials.\"\n",
    "}\n",
    "\n",
    "prompt_options = {\n",
    "    \"fatal-prompt-v2\": \"\"\"\n",
    "Extract all adverse reactions as they appear, including all synonyms.\n",
    "mentioned in the text and provide them as a comma-separated list.\n",
    "If a fatal event is listed add 'death' to the list.\n",
    "The text is :'{}' \n",
    "\"\"\"\n",
    "}\n",
    "\n",
    "system_name = \"no-system-prompt\"\n",
    "system_content = system_options[system_name]\n",
    "\n",
    "prompt_name = \"fatal-prompt-v2\"\n",
    "prompt = prompt_options[prompt_name]\n",
    "\n",
    "gpt_params = [f\"temp{temperature}\"]\n",
    "\n",
    "output_file_basename = '{}_{}_{}_{}_{}_{}'.format(api_source, gpt_model, prompt_name, system_name, '-'.join(gpt_params), set_type)\n",
    "output_file_basename"
   ]
  },
  {
   "cell_type": "code",
   "execution_count": 40,
   "id": "cdb9c192-ba44-4135-8d3c-7b6ba6644563",
   "metadata": {},
   "outputs": [],
   "source": [
    "# if there is a max\n",
    "new_rows = list()\n",
    "unique_drugs = set()\n",
    "for i, row in drugs.iterrows():\n",
    "    unique_drugs.add(row[\"drug_name\"])\n",
    "    if len(unique_drugs) > my_max: \n",
    "        break\n",
    "    if row['section_name'] != 'adverse reactions':\n",
    "        continue\n",
    "\n",
    "    new_rows.append(row)"
   ]
  },
  {
   "cell_type": "code",
   "execution_count": 41,
   "id": "492d7e82-894f-4c0f-bbf1-4de819b94b55",
   "metadata": {},
   "outputs": [
    {
     "name": "stdout",
     "output_type": "stream",
     "text": [
      "OpenAI_gpt-4-1106-preview_fatal-prompt-v2_no-system-prompt_temp0_train_run0\n"
     ]
    },
    {
     "name": "stderr",
     "output_type": "stream",
     "text": [
      "100%|██████████| 101/101 [21:11<00:00, 12.59s/it]\n"
     ]
    },
    {
     "name": "stdout",
     "output_type": "stream",
     "text": [
      "Run: OpenAI_gpt-4-1106-preview_fatal-prompt-v2_no-system-prompt_temp0_train_run0, time elapsed: 1271.3513581752777s.\n",
      "OpenAI_gpt-4-1106-preview_fatal-prompt-v2_no-system-prompt_temp0_train_run1\n"
     ]
    },
    {
     "name": "stderr",
     "output_type": "stream",
     "text": [
      "100%|██████████| 101/101 [18:15<00:00, 10.85s/it]"
     ]
    },
    {
     "name": "stdout",
     "output_type": "stream",
     "text": [
      "Run: OpenAI_gpt-4-1106-preview_fatal-prompt-v2_no-system-prompt_temp0_train_run1, time elapsed: 1095.4016880989075s.\n"
     ]
    },
    {
     "name": "stderr",
     "output_type": "stream",
     "text": [
      "\n"
     ]
    }
   ],
   "source": [
    "# run GPT\n",
    "for i in range(nruns):\n",
    "    run_key = \"{}_run{}\".format(output_file_basename, i)\n",
    "    print(run_key)\n",
    "    if run_key in outputs:\n",
    "        print(f\"Run {run_key} already completed and stored. Skipping.\")\n",
    "        continue\n",
    "    \n",
    "    if os.path.exists('results/{}.csv'.format(run_key)):\n",
    "        gpt_output = pd.read_csv('results/{}.csv'.format(run_key))\n",
    "        outputs[run_key] = gpt_output\n",
    "        print(f\"Run {run_key} started, loading from disk.\")\n",
    "        continue\n",
    "    \n",
    "    start = time.time()\n",
    "    results = list()\n",
    "    for row in tqdm(new_rows):\n",
    "        name, section = row['drug_name'], row['section_name']\n",
    "        text = row['section_text']\n",
    "        try:\n",
    "            gpt_out = extract_ade_terms(api_source, config, gpt_model, system_content, prompt, text, temperature)\n",
    "            results.append([name, section, gpt_out])\n",
    "        except Exception as err:\n",
    "            print(f\"Encountered an exception for row: {name} {section}. Error message below:\")\n",
    "            print(err)\n",
    "            continue\n",
    "            \n",
    "    gpt_output = pd.DataFrame(\n",
    "        [r for r in results if r is not None],\n",
    "        columns=['drug_name', 'section_name', 'gpt_output']\n",
    "    )\n",
    "    end = time.time()\n",
    "\n",
    "    if gpt_output.shape[0] > 0:\n",
    "        outputs[run_key] = gpt_output\n",
    "        gpt_output.to_csv('results/{}.csv'.format(run_key))\n",
    "    \n",
    "    print(f\"Run: {run_key}, time elapsed: {end-start}s.\")"
   ]
  },
  {
   "cell_type": "markdown",
   "id": "79125bf3",
   "metadata": {},
   "source": [
    "## Exact Match Algorithm\n",
    "\n",
    "TODO: Exact match really doesn't fit here any longer but we need it at least once to show how well (or poorly) it does. Refactor out into it's own notebook/script."
   ]
  },
  {
   "cell_type": "code",
   "execution_count": 42,
   "id": "704c226e",
   "metadata": {},
   "outputs": [],
   "source": [
    "# run_key = 'exact_{}'.format(set_type)\n",
    "\n",
    "# if not os.path.exists('results/{}.csv'.format(run_key)):\n",
    "#     # load the meddra terms\n",
    "#     fh = open('data/meddra_llt_pt_map.txt')\n",
    "#     reader = csv.reader(fh, delimiter='|')\n",
    "#     header = next(reader)\n",
    "\n",
    "#     meddra_llt_terms = set()\n",
    "#     meddra_pt_terms = set()\n",
    "\n",
    "#     for row in reader:\n",
    "#         meddra_llt_terms.add(row[1].lower())\n",
    "#         meddra_pt_terms.add(row[4].lower())\n",
    "    \n",
    "#     fh.close()\n",
    "\n",
    "#     meddra_terms = meddra_llt_terms | meddra_pt_terms\n",
    "#     len(meddra_llt_terms), len(meddra_pt_terms), len(meddra_terms)\n",
    "\n",
    "#     results = list()\n",
    "#     for row in tqdm(new_rows):\n",
    "#         name, section = row['drug_name'], row['section_name']\n",
    "#         text = row['section_text'].lower()\n",
    "        \n",
    "#         found_terms = set()\n",
    "#         for term in meddra_terms:\n",
    "#             if text.find(term) != -1:\n",
    "#                 found_terms.add(term)\n",
    "        \n",
    "#         exact_out = ', '.join(list(found_terms))\n",
    "        \n",
    "#         results.append([name, section, exact_out])\n",
    "\n",
    "#     exact_output = pd.DataFrame(\n",
    "#         [r for r in results if r is not None],\n",
    "#         columns=['drug_name', 'section_name', 'gpt_output']\n",
    "#     )\n",
    "#     exact_output.to_csv('results/{}.csv'.format(run_key))\n",
    "    \n",
    "#     outputs[run_key] = exact_output"
   ]
  },
  {
   "cell_type": "markdown",
   "id": "7986085b",
   "metadata": {},
   "source": [
    "## Evaluation"
   ]
  },
  {
   "cell_type": "code",
   "execution_count": 43,
   "id": "787d7804",
   "metadata": {},
   "outputs": [
    {
     "name": "stderr",
     "output_type": "stream",
     "text": [
      "100%|██████████| 101/101 [00:00<00:00, 138.38it/s]\n"
     ]
    },
    {
     "name": "stdout",
     "output_type": "stream",
     "text": [
      "OpenAI_gpt-4-1106-preview_fatal-prompt-v2_pharmexpert-v1_temp0_train_run0\n",
      "        ade_type    tp     fp    fn  micro_precision  micro_recall  micro_f1  \\\n",
      "0            all  3957  465.0  1380         0.894844      0.741428  0.810944   \n",
      "1  discontinuous    45    NaN   343              NaN      0.115979       NaN   \n",
      "2   exact-meddra  3509    NaN   654              NaN      0.842902       NaN   \n",
      "3        negated    19    NaN    13              NaN      0.593750       NaN   \n",
      "4     non-meddra   448    NaN   727              NaN      0.381277       NaN   \n",
      "\n",
      "   macro_precision  macro_recall  macro_f1  \n",
      "0         0.877682      0.768117  0.820351  \n",
      "1              NaN      0.132069       NaN  \n",
      "2              NaN      0.860161       NaN  \n",
      "3              NaN      0.583333       NaN  \n",
      "4              NaN      0.477187       NaN  \n"
     ]
    },
    {
     "name": "stderr",
     "output_type": "stream",
     "text": [
      "100%|██████████| 101/101 [00:00<00:00, 147.68it/s]\n"
     ]
    },
    {
     "name": "stdout",
     "output_type": "stream",
     "text": [
      "OpenAI_gpt-4-1106-preview_fatal-prompt-v2_pharmexpert-v1_temp0_train_run1\n",
      "        ade_type    tp     fp    fn  micro_precision  micro_recall  micro_f1  \\\n",
      "0            all  3930  449.0  1407         0.897465      0.736369  0.808975   \n",
      "1  discontinuous    52    NaN   336              NaN      0.134021       NaN   \n",
      "2   exact-meddra  3482    NaN   681              NaN      0.836416       NaN   \n",
      "3        negated    16    NaN    16              NaN      0.500000       NaN   \n",
      "4     non-meddra   448    NaN   727              NaN      0.381277       NaN   \n",
      "\n",
      "   macro_precision  macro_recall  macro_f1  \n",
      "0         0.881005      0.766863  0.819508  \n",
      "1              NaN      0.154932       NaN  \n",
      "2              NaN      0.858272       NaN  \n",
      "3              NaN      0.472222       NaN  \n",
      "4              NaN      0.464327       NaN  \n"
     ]
    },
    {
     "name": "stderr",
     "output_type": "stream",
     "text": [
      "100%|██████████| 101/101 [00:00<00:00, 148.82it/s]\n"
     ]
    },
    {
     "name": "stdout",
     "output_type": "stream",
     "text": [
      "OpenAI_gpt-4-1106-preview_fatal-prompt-v2_pharmexpert-v1_temp0_train_run2\n",
      "        ade_type    tp     fp    fn  micro_precision  micro_recall  micro_f1  \\\n",
      "0            all  4001  448.0  1336         0.899303      0.749672  0.817699   \n",
      "1  discontinuous    52    NaN   336              NaN      0.134021       NaN   \n",
      "2   exact-meddra  3544    NaN   619              NaN      0.851309       NaN   \n",
      "3        negated    15    NaN    17              NaN      0.468750       NaN   \n",
      "4     non-meddra   457    NaN   718              NaN      0.388936       NaN   \n",
      "\n",
      "   macro_precision  macro_recall  macro_f1  \n",
      "0         0.876943      0.771264  0.829339  \n",
      "1              NaN      0.144458       NaN  \n",
      "2              NaN      0.862802       NaN  \n",
      "3              NaN      0.456349       NaN  \n",
      "4              NaN      0.492795       NaN  \n"
     ]
    },
    {
     "name": "stderr",
     "output_type": "stream",
     "text": [
      "100%|██████████| 101/101 [00:00<00:00, 145.94it/s]\n"
     ]
    },
    {
     "name": "stdout",
     "output_type": "stream",
     "text": [
      "OpenAI_gpt-4-1106-preview_fatal-prompt-v2_pharmexpert-v1_temp0_train_run3\n",
      "        ade_type    tp     fp    fn  micro_precision  micro_recall  micro_f1  \\\n",
      "0            all  3928  430.0  1409         0.901331      0.735994  0.810315   \n",
      "1  discontinuous    54    NaN   334              NaN      0.139175       NaN   \n",
      "2   exact-meddra  3488    NaN   675              NaN      0.837857       NaN   \n",
      "3        negated    17    NaN    15              NaN      0.531250       NaN   \n",
      "4     non-meddra   440    NaN   735              NaN      0.374468       NaN   \n",
      "\n",
      "   macro_precision  macro_recall  macro_f1  \n",
      "0         0.883397      0.769179  0.822937  \n",
      "1              NaN      0.160018       NaN  \n",
      "2              NaN      0.861248       NaN  \n",
      "3              NaN      0.488095       NaN  \n",
      "4              NaN      0.471232       NaN  \n"
     ]
    },
    {
     "name": "stderr",
     "output_type": "stream",
     "text": [
      "100%|██████████| 101/101 [00:00<00:00, 149.05it/s]\n"
     ]
    },
    {
     "name": "stdout",
     "output_type": "stream",
     "text": [
      "OpenAI_gpt-4-1106-preview_fatal-prompt-v2_pharmexpert-v1_temp0_train_run4\n",
      "        ade_type    tp     fp    fn  micro_precision  micro_recall  micro_f1  \\\n",
      "0            all  3984  442.0  1353         0.900136      0.746487  0.816143   \n",
      "1  discontinuous    52    NaN   336              NaN      0.134021       NaN   \n",
      "2   exact-meddra  3527    NaN   636              NaN      0.847226       NaN   \n",
      "3        negated    18    NaN    14              NaN      0.562500       NaN   \n",
      "4     non-meddra   457    NaN   718              NaN      0.388936       NaN   \n",
      "\n",
      "   macro_precision  macro_recall  macro_f1  \n",
      "0         0.877745      0.770290  0.830443  \n",
      "1              NaN      0.147796       NaN  \n",
      "2              NaN      0.861019       NaN  \n",
      "3              NaN      0.535714       NaN  \n",
      "4              NaN      0.476221       NaN  \n"
     ]
    },
    {
     "name": "stderr",
     "output_type": "stream",
     "text": [
      "100%|██████████| 101/101 [00:00<00:00, 127.90it/s]\n"
     ]
    },
    {
     "name": "stdout",
     "output_type": "stream",
     "text": [
      "OpenAI_gpt-3.5-turbo-0125_fatal-prompt-v2_pharmexpert-v1_temp0_train_run0\n",
      "        ade_type    tp     fp    fn  micro_precision  micro_recall  micro_f1  \\\n",
      "0            all  3181  439.0  2156         0.878729      0.596028  0.710282   \n",
      "1  discontinuous    36    NaN   352              NaN      0.092784       NaN   \n",
      "2   exact-meddra  2804    NaN  1359              NaN      0.673553       NaN   \n",
      "3        negated    11    NaN    21              NaN      0.343750       NaN   \n",
      "4     non-meddra   377    NaN   798              NaN      0.320851       NaN   \n",
      "\n",
      "   macro_precision  macro_recall  macro_f1  \n",
      "0         0.840049      0.650779  0.716432  \n",
      "1              NaN      0.093203       NaN  \n",
      "2              NaN      0.731902       NaN  \n",
      "3              NaN      0.400794       NaN  \n",
      "4              NaN      0.399779       NaN  \n"
     ]
    },
    {
     "name": "stderr",
     "output_type": "stream",
     "text": [
      "100%|██████████| 101/101 [00:00<00:00, 150.65it/s]\n"
     ]
    },
    {
     "name": "stdout",
     "output_type": "stream",
     "text": [
      "OpenAI_gpt-3.5-turbo-0125_fatal-prompt-v2_pharmexpert-v1_temp0_train_run1\n",
      "        ade_type    tp     fp    fn  micro_precision  micro_recall  micro_f1  \\\n",
      "0            all  3107  442.0  2230         0.875458      0.582162  0.699302   \n",
      "1  discontinuous    27    NaN   361              NaN      0.069588       NaN   \n",
      "2   exact-meddra  2733    NaN  1430              NaN      0.656498       NaN   \n",
      "3        negated    10    NaN    22              NaN      0.312500       NaN   \n",
      "4     non-meddra   374    NaN   801              NaN      0.318298       NaN   \n",
      "\n",
      "   macro_precision  macro_recall  macro_f1  \n",
      "0         0.848372      0.646647  0.709302  \n",
      "1              NaN      0.101250       NaN  \n",
      "2              NaN      0.722106       NaN  \n",
      "3              NaN      0.353175       NaN  \n",
      "4              NaN      0.409181       NaN  \n"
     ]
    },
    {
     "name": "stderr",
     "output_type": "stream",
     "text": [
      "100%|██████████| 101/101 [00:00<00:00, 150.08it/s]\n"
     ]
    },
    {
     "name": "stdout",
     "output_type": "stream",
     "text": [
      "OpenAI_gpt-3.5-turbo-0125_fatal-prompt-v2_pharmexpert-v1_temp0_train_run2\n",
      "        ade_type    tp     fp    fn  micro_precision  micro_recall  micro_f1  \\\n",
      "0            all  3240  462.0  2097         0.875203      0.607083  0.716893   \n",
      "1  discontinuous    32    NaN   356              NaN      0.082474       NaN   \n",
      "2   exact-meddra  2882    NaN  1281              NaN      0.692289       NaN   \n",
      "3        negated    10    NaN    22              NaN      0.312500       NaN   \n",
      "4     non-meddra   358    NaN   817              NaN      0.304681       NaN   \n",
      "\n",
      "   macro_precision  macro_recall  macro_f1  \n",
      "0         0.851308      0.658846   0.72259  \n",
      "1              NaN      0.086891       NaN  \n",
      "2              NaN      0.743430       NaN  \n",
      "3              NaN      0.353175       NaN  \n",
      "4              NaN      0.385765       NaN  \n"
     ]
    },
    {
     "name": "stderr",
     "output_type": "stream",
     "text": [
      "100%|██████████| 101/101 [00:00<00:00, 151.06it/s]\n"
     ]
    },
    {
     "name": "stdout",
     "output_type": "stream",
     "text": [
      "OpenAI_gpt-3.5-turbo-0125_fatal-prompt-v2_pharmexpert-v1_temp0_train_run3\n",
      "        ade_type    tp     fp    fn  micro_precision  micro_recall  micro_f1  \\\n",
      "0            all  2895  413.0  2442         0.875151      0.542440  0.669751   \n",
      "1  discontinuous    34    NaN   354              NaN      0.087629       NaN   \n",
      "2   exact-meddra  2532    NaN  1631              NaN      0.608215       NaN   \n",
      "3        negated    13    NaN    19              NaN      0.406250       NaN   \n",
      "4     non-meddra   363    NaN   812              NaN      0.308936       NaN   \n",
      "\n",
      "   macro_precision  macro_recall  macro_f1  \n",
      "0         0.848337      0.638924  0.698644  \n",
      "1              NaN      0.111335       NaN  \n",
      "2              NaN      0.716213       NaN  \n",
      "3              NaN      0.436508       NaN  \n",
      "4              NaN      0.407525       NaN  \n"
     ]
    },
    {
     "name": "stderr",
     "output_type": "stream",
     "text": [
      "100%|██████████| 101/101 [00:00<00:00, 150.47it/s]\n"
     ]
    },
    {
     "name": "stdout",
     "output_type": "stream",
     "text": [
      "OpenAI_gpt-3.5-turbo-0125_fatal-prompt-v2_no-system-prompt_temp0_train_run0\n",
      "        ade_type    tp     fp    fn  micro_precision  micro_recall  micro_f1  \\\n",
      "0            all  2443  313.0  2894          0.88643      0.457748  0.603732   \n",
      "1  discontinuous    25    NaN   363              NaN      0.064433       NaN   \n",
      "2   exact-meddra  2147    NaN  2016              NaN      0.515734       NaN   \n",
      "3        negated    12    NaN    20              NaN      0.375000       NaN   \n",
      "4     non-meddra   296    NaN   879              NaN      0.251915       NaN   \n",
      "\n",
      "   macro_precision  macro_recall  macro_f1  \n",
      "0         0.859126      0.554514  0.638758  \n",
      "1              NaN      0.074666       NaN  \n",
      "2              NaN      0.625797       NaN  \n",
      "3              NaN      0.380952       NaN  \n",
      "4              NaN      0.354505       NaN  \n"
     ]
    },
    {
     "name": "stderr",
     "output_type": "stream",
     "text": [
      "100%|██████████| 101/101 [00:00<00:00, 149.17it/s]\n"
     ]
    },
    {
     "name": "stdout",
     "output_type": "stream",
     "text": [
      "OpenAI_gpt-3.5-turbo-0125_fatal-prompt-v2_no-system-prompt_temp0_train_run1\n",
      "        ade_type    tp     fp    fn  micro_precision  micro_recall  micro_f1  \\\n",
      "0            all  2591  303.0  2746         0.895301      0.485479  0.629571   \n",
      "1  discontinuous    25    NaN   363              NaN      0.064433       NaN   \n",
      "2   exact-meddra  2263    NaN  1900              NaN      0.543598       NaN   \n",
      "3        negated    12    NaN    20              NaN      0.375000       NaN   \n",
      "4     non-meddra   328    NaN   847              NaN      0.279149       NaN   \n",
      "\n",
      "   macro_precision  macro_recall  macro_f1  \n",
      "0         0.858238      0.570654  0.652824  \n",
      "1              NaN      0.088414       NaN  \n",
      "2              NaN      0.637834       NaN  \n",
      "3              NaN      0.380952       NaN  \n",
      "4              NaN      0.375312       NaN  \n"
     ]
    },
    {
     "name": "stderr",
     "output_type": "stream",
     "text": [
      "100%|██████████| 101/101 [00:00<00:00, 144.02it/s]\n"
     ]
    },
    {
     "name": "stdout",
     "output_type": "stream",
     "text": [
      "OpenAI_gpt-4-1106-preview_fatal-prompt-v2_no-system-prompt_temp0_train_run0\n",
      "        ade_type    tp     fp    fn  micro_precision  micro_recall  micro_f1  \\\n",
      "0            all  3905  407.0  1432         0.905612      0.731684   0.80941   \n",
      "1  discontinuous    46    NaN   342              NaN      0.118557       NaN   \n",
      "2   exact-meddra  3466    NaN   697              NaN      0.832573       NaN   \n",
      "3        negated    15    NaN    17              NaN      0.468750       NaN   \n",
      "4     non-meddra   439    NaN   736              NaN      0.373617       NaN   \n",
      "\n",
      "   macro_precision  macro_recall  macro_f1  \n",
      "0         0.881586      0.759287  0.823956  \n",
      "1              NaN      0.118779       NaN  \n",
      "2              NaN      0.850220       NaN  \n",
      "3              NaN      0.424603       NaN  \n",
      "4              NaN      0.483704       NaN  \n"
     ]
    },
    {
     "name": "stderr",
     "output_type": "stream",
     "text": [
      "100%|██████████| 101/101 [00:00<00:00, 149.06it/s]"
     ]
    },
    {
     "name": "stdout",
     "output_type": "stream",
     "text": [
      "OpenAI_gpt-4-1106-preview_fatal-prompt-v2_no-system-prompt_temp0_train_run1\n",
      "        ade_type    tp     fp    fn  micro_precision  micro_recall  micro_f1  \\\n",
      "0            all  3884  389.0  1453         0.908963      0.727750  0.808325   \n",
      "1  discontinuous    50    NaN   338              NaN      0.128866       NaN   \n",
      "2   exact-meddra  3447    NaN   716              NaN      0.828009       NaN   \n",
      "3        negated    17    NaN    15              NaN      0.531250       NaN   \n",
      "4     non-meddra   437    NaN   738              NaN      0.371915       NaN   \n",
      "\n",
      "   macro_precision  macro_recall  macro_f1  \n",
      "0          0.88394      0.754128  0.822647  \n",
      "1              NaN      0.129035       NaN  \n",
      "2              NaN      0.844196       NaN  \n",
      "3              NaN      0.488095       NaN  \n",
      "4              NaN      0.484584       NaN  \n"
     ]
    },
    {
     "name": "stderr",
     "output_type": "stream",
     "text": [
      "\n"
     ]
    }
   ],
   "source": [
    "for run_key, output in outputs.items():\n",
    "    granular_save_filename = 'results/{}_strict_granular.csv'.format(run_key)\n",
    "    overall_save_filename = 'results/{}_strict_overall.csv'.format(run_key)\n",
    "    \n",
    "    results_granular = evaluation_granular(manual_ades, output)\n",
    "    overall_results = results_granular.groupby('ade_type')[['tp', 'fp', 'fn']].sum(min_count = 1).reset_index()\n",
    "    overall_results['micro_precision'] = overall_results['tp']/(overall_results['tp']+overall_results['fp'])\n",
    "    overall_results['micro_recall'] = overall_results['tp']/(overall_results['tp']+overall_results['fn'])\n",
    "    overall_results['micro_f1'] = (2 * overall_results['micro_precision'] * overall_results['micro_recall'])/(overall_results['micro_precision'] + overall_results['micro_recall']) # 2*tp_total/(2*tp_total+fp_total+fn_total)\n",
    "    macro_results = results_granular.groupby('ade_type')[['precision', 'recall', 'f1']].mean(numeric_only=True).reset_index()\n",
    "    overall_results['macro_precision'] = macro_results['precision']\n",
    "    overall_results['macro_recall'] = macro_results['recall']\n",
    "    overall_results['macro_f1'] = macro_results['f1']\n",
    "    \n",
    "    overall_results.to_csv(overall_save_filename)\n",
    "    results_granular.to_csv(granular_save_filename)\n",
    "    \n",
    "    print(run_key)\n",
    "    print(overall_results)"
   ]
  },
  {
   "cell_type": "markdown",
   "id": "346b793e",
   "metadata": {},
   "source": [
    "#### Lenient Matching using Longest Commmon Substring"
   ]
  },
  {
   "cell_type": "code",
   "execution_count": 44,
   "id": "78dd1292",
   "metadata": {},
   "outputs": [
    {
     "name": "stderr",
     "output_type": "stream",
     "text": [
      "100%|██████████| 101/101 [00:06<00:00, 14.53it/s]\n"
     ]
    },
    {
     "name": "stdout",
     "output_type": "stream",
     "text": [
      "OpenAI_gpt-4-1106-preview_fatal-prompt-v2_pharmexpert-v1_temp0_train_run0\n",
      "        ade_type    tp     fp   fn  micro_precision  micro_recall  micro_f1  \\\n",
      "0            all  4514  217.0  823         0.954132      0.845794  0.896702   \n",
      "1  discontinuous   193    NaN  195              NaN      0.497423       NaN   \n",
      "2   exact-meddra  3799    NaN  364              NaN      0.912563       NaN   \n",
      "3        negated    26    NaN    6              NaN      0.812500       NaN   \n",
      "4     non-meddra   716    NaN  459              NaN      0.609362       NaN   \n",
      "\n",
      "   macro_precision  macro_recall  macro_f1  \n",
      "0         0.949246      0.881093  0.908541  \n",
      "1              NaN      0.466871       NaN  \n",
      "2              NaN      0.939424       NaN  \n",
      "3              NaN      0.825397       NaN  \n",
      "4              NaN      0.696340       NaN  \n"
     ]
    },
    {
     "name": "stderr",
     "output_type": "stream",
     "text": [
      "100%|██████████| 101/101 [00:06<00:00, 14.65it/s]\n"
     ]
    },
    {
     "name": "stdout",
     "output_type": "stream",
     "text": [
      "OpenAI_gpt-4-1106-preview_fatal-prompt-v2_pharmexpert-v1_temp0_train_run1\n",
      "        ade_type    tp     fp   fn  micro_precision  micro_recall  micro_f1  \\\n",
      "0            all  4489  205.0  848         0.956327      0.841109  0.895025   \n",
      "1  discontinuous   195    NaN  193              NaN      0.502577       NaN   \n",
      "2   exact-meddra  3770    NaN  393              NaN      0.905597       NaN   \n",
      "3        negated    24    NaN    8              NaN      0.750000       NaN   \n",
      "4     non-meddra   720    NaN  455              NaN      0.612766       NaN   \n",
      "\n",
      "   macro_precision  macro_recall  macro_f1  \n",
      "0         0.950712      0.876779  0.905758  \n",
      "1              NaN      0.474899       NaN  \n",
      "2              NaN      0.932467       NaN  \n",
      "3              NaN      0.730159       NaN  \n",
      "4              NaN      0.687107       NaN  \n"
     ]
    },
    {
     "name": "stderr",
     "output_type": "stream",
     "text": [
      "100%|██████████| 101/101 [00:07<00:00, 14.36it/s]\n"
     ]
    },
    {
     "name": "stdout",
     "output_type": "stream",
     "text": [
      "OpenAI_gpt-4-1106-preview_fatal-prompt-v2_pharmexpert-v1_temp0_train_run2\n",
      "        ade_type    tp     fp   fn  micro_precision  micro_recall  micro_f1  \\\n",
      "0            all  4541  199.0  796         0.958017      0.850853   0.90126   \n",
      "1  discontinuous   193    NaN  195              NaN      0.497423       NaN   \n",
      "2   exact-meddra  3816    NaN  347              NaN      0.916647       NaN   \n",
      "3        negated    23    NaN    9              NaN      0.718750       NaN   \n",
      "4     non-meddra   726    NaN  449              NaN      0.617872       NaN   \n",
      "\n",
      "   macro_precision  macro_recall  macro_f1  \n",
      "0         0.951567      0.880015  0.908425  \n",
      "1              NaN      0.465079       NaN  \n",
      "2              NaN      0.937799       NaN  \n",
      "3              NaN      0.746032       NaN  \n",
      "4              NaN      0.694165       NaN  \n"
     ]
    },
    {
     "name": "stderr",
     "output_type": "stream",
     "text": [
      "100%|██████████| 101/101 [00:06<00:00, 14.64it/s]\n"
     ]
    },
    {
     "name": "stdout",
     "output_type": "stream",
     "text": [
      "OpenAI_gpt-4-1106-preview_fatal-prompt-v2_pharmexpert-v1_temp0_train_run3\n",
      "        ade_type    tp     fp   fn  micro_precision  micro_recall  micro_f1  \\\n",
      "0            all  4484  188.0  853          0.95976      0.840172  0.895994   \n",
      "1  discontinuous   195    NaN  193              NaN      0.502577       NaN   \n",
      "2   exact-meddra  3768    NaN  395              NaN      0.905117       NaN   \n",
      "3        negated    24    NaN    8              NaN      0.750000       NaN   \n",
      "4     non-meddra   717    NaN  458              NaN      0.610213       NaN   \n",
      "\n",
      "   macro_precision  macro_recall  macro_f1  \n",
      "0         0.951563      0.876052  0.906807  \n",
      "1              NaN      0.466871       NaN  \n",
      "2              NaN      0.932972       NaN  \n",
      "3              NaN      0.730159       NaN  \n",
      "4              NaN      0.687356       NaN  \n"
     ]
    },
    {
     "name": "stderr",
     "output_type": "stream",
     "text": [
      "100%|██████████| 101/101 [00:06<00:00, 14.59it/s]\n"
     ]
    },
    {
     "name": "stdout",
     "output_type": "stream",
     "text": [
      "OpenAI_gpt-4-1106-preview_fatal-prompt-v2_pharmexpert-v1_temp0_train_run4\n",
      "        ade_type    tp     fp   fn  micro_precision  micro_recall  micro_f1  \\\n",
      "0            all  4523  197.0  814         0.958263      0.847480  0.899473   \n",
      "1  discontinuous   198    NaN  190              NaN      0.510309       NaN   \n",
      "2   exact-meddra  3794    NaN  369              NaN      0.911362       NaN   \n",
      "3        negated    25    NaN    7              NaN      0.781250       NaN   \n",
      "4     non-meddra   729    NaN  446              NaN      0.620426       NaN   \n",
      "\n",
      "   macro_precision  macro_recall  macro_f1  \n",
      "0         0.953285      0.879039  0.909465  \n",
      "1              NaN      0.476700       NaN  \n",
      "2              NaN      0.936835       NaN  \n",
      "3              NaN      0.777778       NaN  \n",
      "4              NaN      0.680824       NaN  \n"
     ]
    },
    {
     "name": "stderr",
     "output_type": "stream",
     "text": [
      "100%|██████████| 101/101 [00:05<00:00, 17.68it/s]\n"
     ]
    },
    {
     "name": "stdout",
     "output_type": "stream",
     "text": [
      "OpenAI_gpt-3.5-turbo-0125_fatal-prompt-v2_pharmexpert-v1_temp0_train_run0\n",
      "        ade_type    tp     fp    fn  micro_precision  micro_recall  micro_f1  \\\n",
      "0            all  3756  202.0  1581         0.948964      0.703766  0.808176   \n",
      "1  discontinuous   145    NaN   243              NaN      0.373711       NaN   \n",
      "2   exact-meddra  3120    NaN  1043              NaN      0.749460       NaN   \n",
      "3        negated    21    NaN    11              NaN      0.656250       NaN   \n",
      "4     non-meddra   636    NaN   539              NaN      0.541277       NaN   \n",
      "\n",
      "   macro_precision  macro_recall  macro_f1  \n",
      "0         0.925193      0.767233  0.814083  \n",
      "1              NaN      0.387205       NaN  \n",
      "2              NaN      0.818923       NaN  \n",
      "3              NaN      0.694444       NaN  \n",
      "4              NaN      0.613370       NaN  \n"
     ]
    },
    {
     "name": "stderr",
     "output_type": "stream",
     "text": [
      "100%|██████████| 101/101 [00:05<00:00, 17.49it/s]\n"
     ]
    },
    {
     "name": "stdout",
     "output_type": "stream",
     "text": [
      "OpenAI_gpt-3.5-turbo-0125_fatal-prompt-v2_pharmexpert-v1_temp0_train_run1\n",
      "        ade_type    tp     fp    fn  micro_precision  micro_recall  micro_f1  \\\n",
      "0            all  3685  203.0  1652         0.947788      0.690463  0.798916   \n",
      "1  discontinuous   139    NaN   249              NaN      0.358247       NaN   \n",
      "2   exact-meddra  3059    NaN  1104              NaN      0.734807       NaN   \n",
      "3        negated    20    NaN    12              NaN      0.625000       NaN   \n",
      "4     non-meddra   626    NaN   549              NaN      0.532766       NaN   \n",
      "\n",
      "   macro_precision  macro_recall  macro_f1  \n",
      "0          0.93027      0.752597  0.806651  \n",
      "1              NaN      0.373829       NaN  \n",
      "2              NaN      0.797174       NaN  \n",
      "3              NaN      0.670635       NaN  \n",
      "4              NaN      0.608733       NaN  \n"
     ]
    },
    {
     "name": "stderr",
     "output_type": "stream",
     "text": [
      "100%|██████████| 101/101 [00:05<00:00, 17.00it/s]\n"
     ]
    },
    {
     "name": "stdout",
     "output_type": "stream",
     "text": [
      "OpenAI_gpt-3.5-turbo-0125_fatal-prompt-v2_pharmexpert-v1_temp0_train_run2\n",
      "        ade_type    tp     fp    fn  micro_precision  micro_recall  micro_f1  \\\n",
      "0            all  3864  198.0  1473         0.951256      0.724002  0.822215   \n",
      "1  discontinuous   146    NaN   242              NaN      0.376289       NaN   \n",
      "2   exact-meddra  3230    NaN   933              NaN      0.775883       NaN   \n",
      "3        negated    21    NaN    11              NaN      0.656250       NaN   \n",
      "4     non-meddra   634    NaN   541              NaN      0.539574       NaN   \n",
      "\n",
      "   macro_precision  macro_recall  macro_f1  \n",
      "0         0.937195      0.772967  0.827579  \n",
      "1              NaN      0.376313       NaN  \n",
      "2              NaN      0.824337       NaN  \n",
      "3              NaN      0.662698       NaN  \n",
      "4              NaN      0.610508       NaN  \n"
     ]
    },
    {
     "name": "stderr",
     "output_type": "stream",
     "text": [
      "100%|██████████| 101/101 [00:04<00:00, 20.80it/s]\n"
     ]
    },
    {
     "name": "stdout",
     "output_type": "stream",
     "text": [
      "OpenAI_gpt-3.5-turbo-0125_fatal-prompt-v2_pharmexpert-v1_temp0_train_run3\n",
      "        ade_type    tp     fp    fn  micro_precision  micro_recall  micro_f1  \\\n",
      "0            all  3447  200.0  1890          0.94516      0.645868  0.767364   \n",
      "1  discontinuous   152    NaN   236              NaN      0.391753       NaN   \n",
      "2   exact-meddra  2826    NaN  1337              NaN      0.678837       NaN   \n",
      "3        negated    23    NaN     9              NaN      0.718750       NaN   \n",
      "4     non-meddra   621    NaN   554              NaN      0.528511       NaN   \n",
      "\n",
      "   macro_precision  macro_recall  macro_f1  \n",
      "0         0.927089      0.741726  0.793523  \n",
      "1              NaN      0.407644       NaN  \n",
      "2              NaN      0.788140       NaN  \n",
      "3              NaN      0.757937       NaN  \n",
      "4              NaN      0.603159       NaN  \n"
     ]
    },
    {
     "name": "stderr",
     "output_type": "stream",
     "text": [
      "100%|██████████| 101/101 [00:03<00:00, 25.29it/s]\n"
     ]
    },
    {
     "name": "stdout",
     "output_type": "stream",
     "text": [
      "OpenAI_gpt-3.5-turbo-0125_fatal-prompt-v2_no-system-prompt_temp0_train_run0\n",
      "        ade_type    tp     fp    fn  micro_precision  micro_recall  micro_f1  \\\n",
      "0            all  2973  138.0  2364         0.955641      0.557055  0.703835   \n",
      "1  discontinuous   141    NaN   247              NaN      0.363402       NaN   \n",
      "2   exact-meddra  2438    NaN  1725              NaN      0.585635       NaN   \n",
      "3        negated    19    NaN    13              NaN      0.593750       NaN   \n",
      "4     non-meddra   535    NaN   640              NaN      0.455319       NaN   \n",
      "\n",
      "   macro_precision  macro_recall  macro_f1  \n",
      "0         0.939865      0.651969  0.728818  \n",
      "1              NaN      0.390567       NaN  \n",
      "2              NaN      0.694286       NaN  \n",
      "3              NaN      0.623016       NaN  \n",
      "4              NaN      0.527415       NaN  \n"
     ]
    },
    {
     "name": "stderr",
     "output_type": "stream",
     "text": [
      "100%|██████████| 101/101 [00:04<00:00, 24.00it/s]\n"
     ]
    },
    {
     "name": "stdout",
     "output_type": "stream",
     "text": [
      "OpenAI_gpt-3.5-turbo-0125_fatal-prompt-v2_no-system-prompt_temp0_train_run1\n",
      "        ade_type    tp     fp    fn  micro_precision  micro_recall  micro_f1  \\\n",
      "0            all  3083  143.0  2254         0.955673      0.577665  0.720075   \n",
      "1  discontinuous   128    NaN   260              NaN      0.329897       NaN   \n",
      "2   exact-meddra  2545    NaN  1618              NaN      0.611338       NaN   \n",
      "3        negated    19    NaN    13              NaN      0.593750       NaN   \n",
      "4     non-meddra   538    NaN   637              NaN      0.457872       NaN   \n",
      "\n",
      "   macro_precision  macro_recall  macro_f1  \n",
      "0         0.933304      0.660527   0.73411  \n",
      "1              NaN      0.369577       NaN  \n",
      "2              NaN      0.704971       NaN  \n",
      "3              NaN      0.623016       NaN  \n",
      "4              NaN      0.527547       NaN  \n"
     ]
    },
    {
     "name": "stderr",
     "output_type": "stream",
     "text": [
      "100%|██████████| 101/101 [00:06<00:00, 15.24it/s]\n"
     ]
    },
    {
     "name": "stdout",
     "output_type": "stream",
     "text": [
      "OpenAI_gpt-4-1106-preview_fatal-prompt-v2_no-system-prompt_temp0_train_run0\n",
      "        ade_type    tp     fp   fn  micro_precision  micro_recall  micro_f1  \\\n",
      "0            all  4460  178.0  877         0.961621      0.835675  0.894236   \n",
      "1  discontinuous   184    NaN  204              NaN      0.474227       NaN   \n",
      "2   exact-meddra  3746    NaN  417              NaN      0.899832       NaN   \n",
      "3        negated    25    NaN    7              NaN      0.781250       NaN   \n",
      "4     non-meddra   715    NaN  460              NaN      0.608511       NaN   \n",
      "\n",
      "   macro_precision  macro_recall  macro_f1  \n",
      "0         0.956018      0.871882  0.906223  \n",
      "1              NaN      0.450282       NaN  \n",
      "2              NaN      0.928735       NaN  \n",
      "3              NaN      0.777778       NaN  \n",
      "4              NaN      0.693977       NaN  \n"
     ]
    },
    {
     "name": "stderr",
     "output_type": "stream",
     "text": [
      "100%|██████████| 101/101 [00:06<00:00, 15.16it/s]"
     ]
    },
    {
     "name": "stdout",
     "output_type": "stream",
     "text": [
      "OpenAI_gpt-4-1106-preview_fatal-prompt-v2_no-system-prompt_temp0_train_run1\n",
      "        ade_type    tp     fp   fn  micro_precision  micro_recall  micro_f1  \\\n",
      "0            all  4446  167.0  891         0.963798      0.833052  0.893668   \n",
      "1  discontinuous   179    NaN  209              NaN      0.461340       NaN   \n",
      "2   exact-meddra  3727    NaN  436              NaN      0.895268       NaN   \n",
      "3        negated    24    NaN    8              NaN      0.750000       NaN   \n",
      "4     non-meddra   719    NaN  456              NaN      0.611915       NaN   \n",
      "\n",
      "   macro_precision  macro_recall  macro_f1  \n",
      "0         0.957266      0.865878  0.903949  \n",
      "1              NaN      0.448641       NaN  \n",
      "2              NaN      0.921725       NaN  \n",
      "3              NaN      0.730159       NaN  \n",
      "4              NaN      0.693704       NaN  \n"
     ]
    },
    {
     "name": "stderr",
     "output_type": "stream",
     "text": [
      "\n"
     ]
    }
   ],
   "source": [
    "# using lenient matching method 'longest common substring'\n",
    "for run_key, output in outputs.items():\n",
    "    granular_save_filename = 'results/{}_lenient_granular.csv'.format(run_key)\n",
    "    overall_save_file = 'results/{}_lenient_overall.csv'.format(run_key)\n",
    "    \n",
    "    results_granular = evaluation_granular(manual_ades, output, lenient=True)\n",
    "    overall_results = results_granular.groupby('ade_type')[['tp', 'fp', 'fn']].sum(min_count = 1).reset_index()\n",
    "    overall_results['micro_precision'] = overall_results['tp']/(overall_results['tp']+overall_results['fp'])\n",
    "    overall_results['micro_recall'] = overall_results['tp']/(overall_results['tp']+overall_results['fn'])\n",
    "    overall_results['micro_f1'] = (2 * overall_results['micro_precision'] * overall_results['micro_recall'])/(overall_results['micro_precision'] + overall_results['micro_recall']) # 2*tp_total/(2*tp_total+fp_total+fn_total)\n",
    "    macro_results = results_granular.groupby('ade_type')[['precision', 'recall', 'f1']].mean(numeric_only=True).reset_index()\n",
    "    overall_results['macro_precision'] = macro_results['precision']\n",
    "    overall_results['macro_recall'] = macro_results['recall']\n",
    "    overall_results['macro_f1'] = macro_results['f1']\n",
    "    \n",
    "    overall_results.to_csv(overall_save_file)\n",
    "    results_granular.to_csv(granular_save_filename)\n",
    "    \n",
    "    print(run_key)\n",
    "    print(overall_results)"
   ]
  },
  {
   "cell_type": "code",
   "execution_count": null,
   "id": "8b682911",
   "metadata": {},
   "outputs": [],
   "source": []
  }
 ],
 "metadata": {
  "kernelspec": {
   "display_name": "Python 3 (ipykernel)",
   "language": "python",
   "name": "python3"
  },
  "language_info": {
   "codemirror_mode": {
    "name": "ipython",
    "version": 3
   },
   "file_extension": ".py",
   "mimetype": "text/x-python",
   "name": "python",
   "nbconvert_exporter": "python",
   "pygments_lexer": "ipython3",
   "version": "3.10.0"
  }
 },
 "nbformat": 4,
 "nbformat_minor": 5
}
