{
 "cells": [
  {
   "cell_type": "code",
   "execution_count": 40,
   "metadata": {},
   "outputs": [],
   "source": [
    "import pandas as pd\n",
    "from tqdm import tqdm\n",
    "import numpy as np"
   ]
  },
  {
   "cell_type": "code",
   "execution_count": 43,
   "metadata": {},
   "outputs": [
    {
     "data": {
      "text/html": [
       "<div>\n",
       "<style scoped>\n",
       "    .dataframe tbody tr th:only-of-type {\n",
       "        vertical-align: middle;\n",
       "    }\n",
       "\n",
       "    .dataframe tbody tr th {\n",
       "        vertical-align: top;\n",
       "    }\n",
       "\n",
       "    .dataframe thead th {\n",
       "        text-align: right;\n",
       "    }\n",
       "</style>\n",
       "<table border=\"1\" class=\"dataframe\">\n",
       "  <thead>\n",
       "    <tr style=\"text-align: right;\">\n",
       "      <th></th>\n",
       "      <th>drug_name</th>\n",
       "      <th>section_name</th>\n",
       "      <th>gpt4_output</th>\n",
       "    </tr>\n",
       "  </thead>\n",
       "  <tbody>\n",
       "    <tr>\n",
       "      <th>0</th>\n",
       "      <td>KYPROLIS</td>\n",
       "      <td>adverse reactions</td>\n",
       "      <td>Cardiac Toxicities, Acute Renal Failure, Tumor...</td>\n",
       "    </tr>\n",
       "    <tr>\n",
       "      <th>1</th>\n",
       "      <td>KYPROLIS</td>\n",
       "      <td>warnings and precautions</td>\n",
       "      <td>Cardiac toxicities, cardiac failure, myocardia...</td>\n",
       "    </tr>\n",
       "    <tr>\n",
       "      <th>2</th>\n",
       "      <td>MULTAQ</td>\n",
       "      <td>adverse reactions</td>\n",
       "      <td>New or worsening heart failure, Liver Injury, ...</td>\n",
       "    </tr>\n",
       "    <tr>\n",
       "      <th>3</th>\n",
       "      <td>MULTAQ</td>\n",
       "      <td>boxed warnings</td>\n",
       "      <td>Increased risk of death, Stroke, Heart failure...</td>\n",
       "    </tr>\n",
       "    <tr>\n",
       "      <th>4</th>\n",
       "      <td>MULTAQ</td>\n",
       "      <td>warnings and precautions</td>\n",
       "      <td>Cardiac rhythm, Liver injury, Pulmonary toxici...</td>\n",
       "    </tr>\n",
       "  </tbody>\n",
       "</table>\n",
       "</div>"
      ],
      "text/plain": [
       "  drug_name              section_name  \\\n",
       "0  KYPROLIS         adverse reactions   \n",
       "1  KYPROLIS  warnings and precautions   \n",
       "2    MULTAQ         adverse reactions   \n",
       "3    MULTAQ            boxed warnings   \n",
       "4    MULTAQ  warnings and precautions   \n",
       "\n",
       "                                         gpt4_output  \n",
       "0  Cardiac Toxicities, Acute Renal Failure, Tumor...  \n",
       "1  Cardiac toxicities, cardiac failure, myocardia...  \n",
       "2  New or worsening heart failure, Liver Injury, ...  \n",
       "3  Increased risk of death, Stroke, Heart failure...  \n",
       "4  Cardiac rhythm, Liver injury, Pulmonary toxici...  "
      ]
     },
     "execution_count": 43,
     "metadata": {},
     "output_type": "execute_result"
    }
   ],
   "source": [
    "gpt_output = pd.read_csv('./train_drug_label_gpt4_output.csv')\n",
    "manual_ades = pd.read_csv('./train_drug_label_text_manual_ades.csv')\n",
    "gpt_output.head()"
   ]
  },
  {
   "cell_type": "code",
   "execution_count": 5,
   "metadata": {},
   "outputs": [],
   "source": [
    "# 10 random drugs\n",
    "drugs = gpt_output['drug_name'].unique()"
   ]
  },
  {
   "cell_type": "code",
   "execution_count": 59,
   "metadata": {},
   "outputs": [],
   "source": [
    "def evaluation(manual_ades, gpt_output, output_column, limit = 1000):\n",
    "    drugs = gpt_output['drug_name'].unique()\n",
    "    drugs_set = set()\n",
    "    results = []\n",
    "    for drug in tqdm(drugs):\n",
    "        drugs_set.add(drug)\n",
    "        if len(drugs_set) > limit:\n",
    "            break\n",
    "        \n",
    "        for section in gpt_output[gpt_output['drug_name'] == drug].section_name.values:\n",
    "            drug_df = manual_ades.query(\n",
    "                \"(drug_name == '{}') & (section_name == '{}')\".format(drug, section))\n",
    "            manual = set(drug_df['reaction_string'].to_list())\n",
    "            gpt_drug = (gpt_output[\n",
    "                (gpt_output['drug_name'] == drug)\n",
    "                &\n",
    "                (gpt_output['section_name'] == section)\n",
    "                ][output_column].astype(str)\n",
    "                .str.lower()\n",
    "                .str.replace('\\n-', ', ')\n",
    "                .str.split(\",\").tolist())\n",
    "        \n",
    "            try:\n",
    "                gpt_drug = [x.strip() for x in gpt_drug[0]]\n",
    "                gpt_drug = set(gpt_drug)\n",
    "            except:\n",
    "                results.append([drug, len(manual), len(gpt_drug), np.nan, np.nan,\n",
    "                                np.nan, np.nan, np.nan, np.nan])\n",
    "                continue\n",
    "            \n",
    "            if len(gpt_drug) == 0 or len(manual) == 0:\n",
    "                results.append([drug, len(manual), len(gpt_drug), np.nan, np.nan,\n",
    "                                np.nan, np.nan, np.nan, np.nan])\n",
    "                continue\n",
    "            \n",
    "            TP = len(manual.intersection(gpt_drug))\n",
    "            FP = len(gpt_drug.difference(manual))\n",
    "            FN = len(manual.difference(gpt_drug))\n",
    "            precision = TP/(TP+FP)\n",
    "            recall = TP/(TP+FN)\n",
    "            if precision != 0 and recall != 0:\n",
    "                f1 = (2 * precision * recall)/(precision + recall)# 2*TP/(2*TP+FP+FN)\n",
    "            else:\n",
    "                f1 = np.NAN\n",
    "\n",
    "            results.append([drug, len(manual), len(gpt_drug), TP, FP, FN, precision, recall, f1])\n",
    "    results = pd.DataFrame(results, columns=['drug_name', 'n_manual', 'n_gpt', 'tp', 'fp', 'fn', 'precision', 'recall', 'f1'])\n",
    "    return results"
   ]
  },
  {
   "cell_type": "code",
   "execution_count": 64,
   "metadata": {},
   "outputs": [
    {
     "name": "stderr",
     "output_type": "stream",
     "text": [
      "100%|██████████| 101/101 [00:00<00:00, 115.67it/s]\n"
     ]
    }
   ],
   "source": [
    "results = evaluation(manual_ades, gpt_output, 'gpt4_output')"
   ]
  },
  {
   "cell_type": "code",
   "execution_count": 65,
   "metadata": {},
   "outputs": [
    {
     "name": "stdout",
     "output_type": "stream",
     "text": [
      "precision: 0.6551868962620747\n",
      "recall: 0.19376474972053162\n",
      "f1: 0.299079754601227\n"
     ]
    }
   ],
   "source": [
    "[tp_total, fp_total, fn_total] =  results[['tp', 'fp', 'fn']].sum()\n",
    "precision = tp_total/(tp_total+fp_total)\n",
    "recall = tp_total/(tp_total+fn_total)\n",
    "f1 = 2*tp_total/(2*tp_total+fp_total+fn_total)\n",
    "print(\"precision: {}\\nrecall: {}\\nf1: {}\".format(precision, recall, f1))  "
   ]
  }
 ],
 "metadata": {
  "kernelspec": {
   "display_name": "base",
   "language": "python",
   "name": "python3"
  },
  "language_info": {
   "codemirror_mode": {
    "name": "ipython",
    "version": 3
   },
   "file_extension": ".py",
   "mimetype": "text/x-python",
   "name": "python",
   "nbconvert_exporter": "python",
   "pygments_lexer": "ipython3",
   "version": "3.9.13"
  }
 },
 "nbformat": 4,
 "nbformat_minor": 2
}
