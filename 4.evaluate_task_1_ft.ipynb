{
 "cells": [
  {
   "cell_type": "code",
   "execution_count": null,
   "metadata": {},
   "outputs": [],
   "source": [
    "import pandas as pd\n",
    "import os\n",
    "from tqdm import tqdm"
   ]
  },
  {
   "cell_type": "code",
   "execution_count": null,
   "metadata": {},
   "outputs": [],
   "source": [
    "# gpt_output = pd.read_csv('train_drug_label_gpt35_output_uog.csv')\n",
    "folder = os.getcwd() + '/'\n",
    "gpt_output = pd.read_csv(folder + 'train_drug_label_gpt35_finetuned_output_3.csv')\n",
    "manual_ades = pd.read_csv(folder + 'train_drug_label_text_manual_ades.csv')\n",
    "# manual_ades = pd.read_csv('train_manual_ades.csv')\n",
    "# test_df = pd.read_csv(folder + 'train_drug_label_text_subsections.csv')\n",
    "# manual_ades = test_df[test_df['section_name'] == 'adverse reactions']"
   ]
  },
  {
   "cell_type": "code",
   "execution_count": null,
   "metadata": {},
   "outputs": [],
   "source": [
    "gpt_output.head()"
   ]
  },
  {
   "cell_type": "code",
   "execution_count": null,
   "metadata": {},
   "outputs": [],
   "source": [
    "# Evaluation \n",
    "\n",
    "count = 0\n",
    "results = list()\n",
    "gpt_model = \"gpt4\"\n",
    "for drug in tqdm(drugs):\n",
    "    drug_df = manual_ades[manual_ades['drug_name'] == drug]\n",
    "    manual = set(drug_df['reaction_string'].str.lower())\n",
    "    gpt_drug = (gpt_output[\n",
    "        (gpt_output['drug_name'] == drug)\n",
    "        &\n",
    "        ((gpt_output['section_name'] == \"adverse reactions\"))\n",
    "        ][gpt_model + \"_output\"].astype(str)\n",
    "        .str.lower()\n",
    "        .str.replace('\\n-', ', ')\n",
    "        .str.split(\",\").tolist())\n",
    "    try:\n",
    "        gpt_drug = [item.strip() for row in gpt_drug for item in row]\n",
    "        gpt_drug = [item for item in gpt_drug if len(item) <= 71]\n",
    "        # gpt_drug = [x.strip() for x in gpt_drug[0]]\n",
    "        gpt_drug = set(gpt_drug)\n",
    "    except:\n",
    "        continue\n",
    "\n",
    "    TP = len(manual.intersection(gpt_drug))\n",
    "    FP = len(gpt_drug.difference(manual))\n",
    "    FN = len(manual.difference(gpt_drug))\n",
    "    if TP + FP == 0:\n",
    "        precision = 0\n",
    "    else:\n",
    "        precision = TP/(TP+FP)\n",
    "    recall = TP/(TP+FN)\n",
    "    if (precision + recall) != 0 :\n",
    "        f1 = (2 * precision * recall)/(precision + recall)# 2*TP/(2*TP+FP+FN)\n",
    "    else:\n",
    "        f1 = 0\n",
    "\n",
    "    results.append([drug, len(manual), len(gpt_drug), TP, FP, FN, precision, recall, f1])\n",
    "results = pd.DataFrame(results, columns=['drug_name', 'n_manual', 'n_gpt', 'tp', 'fp', 'fn', 'precision', 'recall', 'f1'])\n",
    "results.head()"
   ]
  },
  {
   "cell_type": "code",
   "execution_count": null,
   "metadata": {},
   "outputs": [],
   "source": [
    "[tp_total, fp_total, fn_total] =  results[['tp', 'fp', 'fn']].sum()\n",
    "precision = tp_total/(tp_total+fp_total)\n",
    "recall = tp_total/(tp_total+fn_total)\n",
    "f1 = 2*tp_total/(2*tp_total+fp_total+fn_total)\n",
    "print(\"Results\")\n",
    "print(\"precision: {}\\nrecall: {}\\nf1: {}\".format(precision, recall, f1))  "
   ]
  },
  {
   "cell_type": "code",
   "execution_count": null,
   "metadata": {},
   "outputs": [],
   "source": [
    "results_filt = results[results['f1'] > 0]\n",
    "results_filt.head()\n",
    "print(\"Number of drugs with f1 > 0:\", len(results_filt))\n",
    "print(\"Number of drugs:\", len(results))"
   ]
  },
  {
   "cell_type": "code",
   "execution_count": null,
   "metadata": {},
   "outputs": [],
   "source": [
    "[tp_total, fp_total, fn_total] =  results_filt[['tp', 'fp', 'fn']].sum()\n",
    "precision = tp_total/(tp_total+fp_total)\n",
    "recall = tp_total/(tp_total+fn_total)\n",
    "f1 = 2*tp_total/(2*tp_total+fp_total+fn_total)\n",
    "print(\"FILTERED RESULTS\")\n",
    "print(\"precision: {}\\nrecall: {}\\nf1: {}\".format(precision, recall, f1))  "
   ]
  },
  {
   "cell_type": "code",
   "execution_count": null,
   "metadata": {},
   "outputs": [],
   "source": [
    "results.to_csv(\"finetuned_results.csv\")"
   ]
  },
  {
   "cell_type": "code",
   "execution_count": null,
   "metadata": {},
   "outputs": [],
   "source": [
    "results_top = results.sort_values('recall')\n",
    "bottom = results_top[:10].drug_name.to_list()\n",
    "bottom"
   ]
  },
  {
   "cell_type": "code",
   "execution_count": null,
   "metadata": {},
   "outputs": [],
   "source": [
    "results = pd.read_csv('finetuned_results.csv')\n",
    "results_2 = results[results['f1'] > 0]\n",
    "results_2.sort_values('f1')"
   ]
  },
  {
   "cell_type": "code",
   "execution_count": null,
   "metadata": {},
   "outputs": [],
   "source": [
    "### Test one drug \n",
    "# gpt_output = []\n",
    "# drug_df = manual_ades[manual_ades['drug_name'] == \"FARXIGA\"]\n",
    "# manual = set(drug_df['reaction_string'].str.lower())\n",
    "# manual"
   ]
  },
  {
   "cell_type": "code",
   "execution_count": null,
   "metadata": {},
   "outputs": [],
   "source": [
    "drug = 'FARXIGA'\n",
    "TP = len(manual.intersection(gpt_output))\n",
    "FP = len(gpt_output.difference(manual))\n",
    "FN = len(manual.difference(gpt_output))\n",
    "if TP + FP == 0:\n",
    "        precision = 0\n",
    "else:\n",
    "    precision = TP/(TP+FP)\n",
    "recall = TP/(TP+FN)\n",
    "if (precision + recall) != 0 :\n",
    "    f1 = (2 * precision * recall)/(precision + recall)# 2*TP/(2*TP+FP+FN)\n",
    "else:\n",
    "    f1 = 0"
   ]
  },
  {
   "cell_type": "code",
   "execution_count": null,
   "metadata": {},
   "outputs": [],
   "source": [
    "results_ind = list()\n",
    "results_ind.append([drug, len(manual), len(gpt_output), TP, FP, FN, precision, recall, f1])\n",
    "results_ind = pd.DataFrame(results_3, columns=['drug_name', 'n_manual', 'n_gpt', 'tp', 'fp', 'fn', 'precision', 'recall', 'f1'])\n",
    "results_ind.head()"
   ]
  },
  {
   "cell_type": "code",
   "execution_count": null,
   "metadata": {},
   "outputs": [],
   "source": [
    "# ! pip install matplotlib\n",
    "import matplotlib.pyplot as plt\n",
    "import numpy as np\n",
    "\n",
    "# Sample data: Generating 1000 data points from a normal distribution\n",
    "\n",
    "# Creating the histogram\n",
    "plt.hist(results_top['f1'], bins=30, color='black', alpha = 0.5)\n",
    "plt.hist(results_top['recall'], bins=30, color='red', alpha = 0.5)\n",
    "plt.hist(results_top['precision'], bins=30, color='blue', alpha = 0.5)\n",
    "\n",
    "\n",
    "\n",
    "# Adding title and labels\n",
    "plt.title('Precision // Recall // F1')\n",
    "# plt.xlabel('Value')\n",
    "# plt.ylabel('Frequency')\n",
    "\n",
    "# Showing the plot\n",
    "plt.show()\n"
   ]
  },
  {
   "cell_type": "code",
   "execution_count": null,
   "metadata": {},
   "outputs": [],
   "source": [
    "prompt = \"run this script {}\"\n",
    "text = \"a + b\"\n",
    "print(prompt.format(text))"
   ]
  }
 ],
 "metadata": {
  "kernelspec": {
   "display_name": "Python 3 (ipykernel)",
   "language": "python",
   "name": "python3"
  },
  "language_info": {
   "codemirror_mode": {
    "name": "ipython",
    "version": 3
   },
   "file_extension": ".py",
   "mimetype": "text/x-python",
   "name": "python",
   "nbconvert_exporter": "python",
   "pygments_lexer": "ipython3",
   "version": "3.10.11"
  }
 },
 "nbformat": 4,
 "nbformat_minor": 4
}
