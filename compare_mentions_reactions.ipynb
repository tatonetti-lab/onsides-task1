{
 "cells": [
  {
   "cell_type": "code",
   "execution_count": 7,
   "metadata": {},
   "outputs": [],
   "source": [
    "import numpy as np\n",
    "import pandas as pd\n",
    "from glob import glob\n",
    "from tqdm import tqdm\n",
    "from bs4 import BeautifulSoup\n",
    "from collections import defaultdict"
   ]
  },
  {
   "cell_type": "code",
   "execution_count": 8,
   "metadata": {},
   "outputs": [],
   "source": [
    "folder = 'data/TAC2017/'"
   ]
  },
  {
   "cell_type": "code",
   "execution_count": 9,
   "metadata": {},
   "outputs": [
    {
     "name": "stderr",
     "output_type": "stream",
     "text": [
      "100%|██████████| 101/101 [00:00<00:00, 219.88it/s]\n"
     ]
    },
    {
     "data": {
      "text/plain": [
       "(101, 101)"
      ]
     },
     "execution_count": 9,
     "metadata": {},
     "output_type": "execute_result"
    }
   ],
   "source": [
    "train_labels = glob(folder+'train_xml/*')\n",
    "\n",
    "drug2mentions = defaultdict(set)\n",
    "drug2reactions = defaultdict(set)\n",
    "\n",
    "for label in tqdm(train_labels):\n",
    "    drug_name = label.split('/')[-1].split('.')[0]\n",
    "    with open(label, 'r') as f:\n",
    "        soup = BeautifulSoup(f, 'xml')\n",
    "    \n",
    "    for mention in soup.find_all('Mention'):\n",
    "        if mention['type'] == 'AdverseReaction':\n",
    "          section_name = mention['section']\n",
    "          mention_str = mention['str'].lower()\n",
    "          drug2mentions[drug_name].add(mention_str)\n",
    "    \n",
    "    for reaction in soup.find_all('Reaction'):\n",
    "        reaction_str = reaction['str']\n",
    "        # for norm in reaction.find_all('Normalization'):\n",
    "        #   try:\n",
    "        #     meddra_str = norm['meddra_pt']\n",
    "        #     meddra_id = norm['meddra_pt_id']\n",
    "        #   except:\n",
    "        #     meddra_str, meddra_id = None, None\n",
    "        #   try:\n",
    "        #     meddra_llt = norm['meddra_llt']\n",
    "        #     meddra_llt_id = norm['meddra_llt_id']\n",
    "        #   except:\n",
    "        #     meddra_llt, meddra_llt_id = None, None\n",
    "        # drug_label_text.append([drug_name, string, meddra_str, meddra_id, meddra_llt, meddra_llt_id])\n",
    "        drug2reactions[drug_name].add(reaction_str)\n",
    "\n",
    "len(drug2mentions), len(drug2reactions)"
   ]
  },
  {
   "cell_type": "code",
   "execution_count": 12,
   "metadata": {},
   "outputs": [
    {
     "name": "stdout",
     "output_type": "stream",
     "text": [
      "XEOMIN 81 72 9\n",
      "STRIBILD 136 135 1\n",
      "PRISTIQ 148 128 20\n",
      "TAFINLAR 158 155 3\n",
      "MULTAQ 57 56 1\n",
      "TANZEUM 60 54 6\n",
      "BELEODAQ 51 50 1\n",
      "HALAVEN 66 65 1\n",
      "XIAFLEX 95 94 1\n",
      "CIMZIA 172 146 26\n",
      "GRANIX 35 26 9\n",
      "JEVTANA 80 77 3\n",
      "ILARIS 61 59 2\n",
      "ARCAPTA 53 38 15\n",
      "POTIGA 108 107 1\n",
      "BREO 87 72 15\n",
      "NESINA 25 24 1\n",
      "EYLEA 30 29 1\n",
      "TECFIDERA 41 38 3\n",
      "TREANDA 154 149 5\n",
      "BOSULIF 105 104 1\n",
      "GILENYA 130 128 2\n",
      "XALKORI 99 96 3\n",
      "CLEVIPREX 19 17 2\n",
      "PROLIA 92 91 1\n",
      "FANAPT 214 196 18\n",
      "ONFI 63 62 1\n",
      "COMETRIQ 111 105 6\n",
      "NULOJIX 118 116 2\n",
      "GILOTRIF 80 79 1\n",
      "APTIOM 102 95 7\n",
      "DUAVEE 92 80 12\n",
      "TIVICAY 71 62 9\n",
      "TRULICITY 55 50 5\n",
      "TEFLARO 38 36 2\n",
      "JARDIANCE 69 68 1\n",
      "YERVOY 96 92 4\n",
      "GADAVIST 63 62 1\n",
      "OTEZLA 35 34 1\n",
      "FIRAZYR 11 9 2\n",
      "XTANDI 70 68 2\n",
      "AFINITOR 261 259 2\n",
      "FERRIPROX 97 93 4\n",
      "PRADAXA 72 70 2\n",
      "HORIZANT 62 57 5\n",
      "STENDRA 72 62 10\n",
      "ADCETRIS 91 88 3\n",
      "ZERBAXA 52 51 1\n",
      "ZYDELIG 73 72 1\n",
      "SIMPONI 128 115 13\n",
      "NATAZIA 101 74 27\n",
      "EDARBI 48 37 11\n",
      "IMBRUVICA 89 88 1\n",
      "DUREZOL 58 37 21\n",
      "ZYKADIA 92 91 1\n",
      "ERWINAZE 41 38 3\n",
      "SAPHRIS 216 187 29\n",
      "INLYTA 116 113 3\n"
     ]
    }
   ],
   "source": [
    "diffs_list = list()\n",
    "\n",
    "for drug in drug2mentions.keys():\n",
    "\n",
    "    setdiff = len(drug2mentions[drug]-drug2reactions[drug])\n",
    "    diff = len(drug2mentions[drug])-len(drug2reactions[drug])\n",
    "    diffs_list.append([drug, len(drug2mentions[drug]), len(drug2reactions[drug]), diff, setdiff])"
   ]
  },
  {
   "cell_type": "code",
   "execution_count": null,
   "metadata": {},
   "outputs": [],
   "source": []
  }
 ],
 "metadata": {
  "kernelspec": {
   "display_name": "Python 3",
   "language": "python",
   "name": "python3"
  },
  "language_info": {
   "codemirror_mode": {
    "name": "ipython",
    "version": 3
   },
   "file_extension": ".py",
   "mimetype": "text/x-python",
   "name": "python",
   "nbconvert_exporter": "python",
   "pygments_lexer": "ipython3",
   "version": "3.10.0"
  }
 },
 "nbformat": 4,
 "nbformat_minor": 2
}
