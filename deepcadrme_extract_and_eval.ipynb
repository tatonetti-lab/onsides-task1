{
 "cells": [
  {
   "cell_type": "code",
   "execution_count": 1,
   "metadata": {},
   "outputs": [],
   "source": [
    "import os\n",
    "import csv\n",
    "import numpy as np\n",
    "import pandas as pd\n",
    "\n",
    "from glob import glob\n",
    "from tqdm import tqdm\n",
    "from bs4 import BeautifulSoup\n",
    "from collections import defaultdict\n",
    "\n",
    "from evaluation_functions import evaluation_granular, evaluate\n"
   ]
  },
  {
   "cell_type": "code",
   "execution_count": 2,
   "metadata": {},
   "outputs": [],
   "source": [
    "section_names = {\n",
    "    'S1': 'adverse reactions',\n",
    "    'S2': 'boxed warnings',\n",
    "    'S3': 'warnings and precautions'\n",
    "}"
   ]
  },
  {
   "cell_type": "code",
   "execution_count": 3,
   "metadata": {},
   "outputs": [
    {
     "name": "stdout",
     "output_type": "stream",
     "text": [
      "deepcadrme_guess_ades.csv \u001b[1m\u001b[36mguess_xml_2\u001b[m\u001b[m               \u001b[1m\u001b[36mguess_xml_75\u001b[m\u001b[m\n",
      "\u001b[1m\u001b[36mguess_xml_10\u001b[m\u001b[m              \u001b[1m\u001b[36mguess_xml_25\u001b[m\u001b[m              \u001b[1m\u001b[36mguess_xml_98\u001b[m\u001b[m\n",
      "\u001b[1m\u001b[36mguess_xml_100\u001b[m\u001b[m             \u001b[1m\u001b[36mguess_xml_5\u001b[m\u001b[m\n",
      "\u001b[1m\u001b[36mguess_xml_15\u001b[m\u001b[m              \u001b[1m\u001b[36mguess_xml_50\u001b[m\u001b[m\n"
     ]
    }
   ],
   "source": [
    "folder = 'data/DeepCADRME/'\n",
    "size = 2\n",
    "!ls $folder"
   ]
  },
  {
   "cell_type": "code",
   "execution_count": 4,
   "metadata": {},
   "outputs": [
    {
     "name": "stderr",
     "output_type": "stream",
     "text": [
      "100%|██████████| 99/99 [00:00<00:00, 626.60it/s]\n"
     ]
    }
   ],
   "source": [
    "guess_labels = glob(folder+f\"guess_xml_{size}/*\")\n",
    "\n",
    "extractions = list()\n",
    "for label in tqdm(guess_labels):\n",
    "    drug_name = label.split('/')[-1].split('.')[0]\n",
    "    with open(label, 'r') as f:\n",
    "        soup = BeautifulSoup(f, 'xml')\n",
    "    \n",
    "    mentions = defaultdict(list)\n",
    "    for mention in soup.find_all('Mention'):\n",
    "        if mention['type'] == 'AdverseReaction':\n",
    "          section_name = mention['section']\n",
    "          mention_str = mention['str'].lower()\n",
    "          mentions[section_name].append(mention_str)\n",
    "    \n",
    "    for section_code, ades in mentions.items():\n",
    "      \n",
    "      extractions.append([drug_name, section_names[section_code], ', '.join(ades).replace(', ,', '')])\n",
    "\n",
    "extractions_df = pd.DataFrame(extractions, columns=['drug_name', 'section_name', 'gpt_output'])\n",
    "extractions_df.to_csv(os.path.join('results', f\"deepcadrme_{str(size).zfill(3)}_test.csv\"))"
   ]
  },
  {
   "cell_type": "code",
   "execution_count": 5,
   "metadata": {},
   "outputs": [],
   "source": [
    "# test\n",
    "drug_file = 'data/test_drug_label_text.csv'\n",
    "manual_file = 'data/test_drug_label_text_manual_ades.csv'\n",
    "\n",
    "# my_max = 10000\n",
    "\n",
    "drugs = pd.read_csv(drug_file)\n",
    "manual_ades = pd.read_csv(manual_file)\n",
    "set_type = drug_file.split('/')[1].split('_')[0] # assuming file follows format \"train_...\" or \"test....\""
   ]
  },
  {
   "cell_type": "code",
   "execution_count": 6,
   "metadata": {},
   "outputs": [],
   "source": [
    "outputs = dict()\n",
    "outputs[f\"deepcadrme_{str(size).zfill(3)}_test\"] = extractions_df"
   ]
  },
  {
   "cell_type": "code",
   "execution_count": 7,
   "metadata": {},
   "outputs": [
    {
     "name": "stderr",
     "output_type": "stream",
     "text": [
      "/Users/TatonettiN/Projects/onsides-task1/evaluation_functions.py:41: FutureWarning: The default value of regex will change from True to False in a future version. In addition, single character regular expressions will *not* be treated as literal strings when regex=True.\n",
      "  output['gpt_output'] = gpt_output['gpt_output'].str.lower().str.replace('.', '').str.replace('\\n-', ', ').str.split(', ')\n"
     ]
    },
    {
     "name": "stdout",
     "output_type": "stream",
     "text": [
      "Running strict evaluation and saving results to disk.\n",
      "deepcadrme_002_test\n",
      "saving results to results/deepcadrme_002_test_strict_granular.csv and results/deepcadrme_002_test_strict_overall.csv\n"
     ]
    },
    {
     "name": "stderr",
     "output_type": "stream",
     "text": [
      "100%|██████████| 99/99 [00:01<00:00, 82.14it/s]\n",
      "/Users/TatonettiN/Projects/onsides-task1/evaluation_functions.py:41: FutureWarning: The default value of regex will change from True to False in a future version. In addition, single character regular expressions will *not* be treated as literal strings when regex=True.\n",
      "  output['gpt_output'] = gpt_output['gpt_output'].str.lower().str.replace('.', '').str.replace('\\n-', ', ').str.split(', ')\n"
     ]
    },
    {
     "name": "stdout",
     "output_type": "stream",
     "text": [
      "Running lenient evaluation and saving results to disk.\n",
      "deepcadrme_002_test\n",
      "saving results to results/deepcadrme_002_test_lenient_granular.csv and results/deepcadrme_002_test_lenient_overall.csv\n"
     ]
    },
    {
     "name": "stderr",
     "output_type": "stream",
     "text": [
      "100%|██████████| 99/99 [00:07<00:00, 12.38it/s]\n"
     ]
    }
   ],
   "source": [
    "evaluate(outputs, manual_ades, 'strict')\n",
    "evaluate(outputs, manual_ades, 'lenient')"
   ]
  },
  {
   "cell_type": "code",
   "execution_count": null,
   "metadata": {},
   "outputs": [],
   "source": []
  }
 ],
 "metadata": {
  "kernelspec": {
   "display_name": "Python 3",
   "language": "python",
   "name": "python3"
  },
  "language_info": {
   "codemirror_mode": {
    "name": "ipython",
    "version": 3
   },
   "file_extension": ".py",
   "mimetype": "text/x-python",
   "name": "python",
   "nbconvert_exporter": "python",
   "pygments_lexer": "ipython3",
   "version": "3.10.0"
  }
 },
 "nbformat": 4,
 "nbformat_minor": 2
}
