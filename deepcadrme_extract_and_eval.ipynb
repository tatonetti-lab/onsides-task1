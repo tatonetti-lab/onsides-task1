{
 "cells": [
  {
   "cell_type": "code",
   "execution_count": 1,
   "metadata": {},
   "outputs": [],
   "source": [
    "import os\n",
    "import csv\n",
    "import numpy as np\n",
    "import pandas as pd\n",
    "\n",
    "from glob import glob\n",
    "from tqdm import tqdm\n",
    "from bs4 import BeautifulSoup\n",
    "from collections import defaultdict\n",
    "\n",
    "from evaluation_functions import evaluation_granular, evaluate\n"
   ]
  },
  {
   "cell_type": "code",
   "execution_count": 2,
   "metadata": {},
   "outputs": [],
   "source": [
    "section_names = {\n",
    "    'S1': 'adverse reactions',\n",
    "    'S2': 'boxed warnings',\n",
    "    'S3': 'warnings and precautions'\n",
    "}"
   ]
  },
  {
   "cell_type": "code",
   "execution_count": 3,
   "metadata": {},
   "outputs": [],
   "source": [
    "folder = 'data/DeepCADRME/'"
   ]
  },
  {
   "cell_type": "code",
   "execution_count": 4,
   "metadata": {},
   "outputs": [
    {
     "name": "stderr",
     "output_type": "stream",
     "text": [
      "100%|██████████| 99/99 [00:00<00:00, 547.11it/s]\n"
     ]
    }
   ],
   "source": [
    "guess_labels = glob(folder+'guess_xml/*')\n",
    "\n",
    "extractions = list()\n",
    "for label in tqdm(guess_labels):\n",
    "    drug_name = label.split('/')[-1].split('.')[0]\n",
    "    with open(label, 'r') as f:\n",
    "        soup = BeautifulSoup(f, 'xml')\n",
    "    \n",
    "    mentions = defaultdict(list)\n",
    "    for mention in soup.find_all('Mention'):\n",
    "        if mention['type'] == 'AdverseReaction':\n",
    "          section_name = mention['section']\n",
    "          mention_str = mention['str'].lower()\n",
    "          mentions[section_name].append(mention_str)\n",
    "    \n",
    "    for section_code, ades in mentions.items():\n",
    "      \n",
    "      extractions.append([drug_name, section_names[section_code], ', '.join(ades)])\n",
    "\n",
    "extractions_df = pd.DataFrame(extractions, columns=['drug_name', 'section_name', 'gpt_output'])\n",
    "extractions_df.to_csv(os.path.join(folder, 'deepcadrme_guess_ades.csv'))"
   ]
  },
  {
   "cell_type": "code",
   "execution_count": 5,
   "metadata": {},
   "outputs": [
    {
     "data": {
      "text/html": [
       "<div>\n",
       "<style scoped>\n",
       "    .dataframe tbody tr th:only-of-type {\n",
       "        vertical-align: middle;\n",
       "    }\n",
       "\n",
       "    .dataframe tbody tr th {\n",
       "        vertical-align: top;\n",
       "    }\n",
       "\n",
       "    .dataframe thead th {\n",
       "        text-align: right;\n",
       "    }\n",
       "</style>\n",
       "<table border=\"1\" class=\"dataframe\">\n",
       "  <thead>\n",
       "    <tr style=\"text-align: right;\">\n",
       "      <th></th>\n",
       "      <th>drug_name</th>\n",
       "      <th>section_name</th>\n",
       "      <th>gpt_output</th>\n",
       "    </tr>\n",
       "  </thead>\n",
       "  <tbody>\n",
       "    <tr>\n",
       "      <th>0</th>\n",
       "      <td>IMPAVIDO</td>\n",
       "      <td>adverse reactions</td>\n",
       "      <td>nausea, vomiting, diarrhea, headache, decrease...</td>\n",
       "    </tr>\n",
       "    <tr>\n",
       "      <th>1</th>\n",
       "      <td>IMPAVIDO</td>\n",
       "      <td>warnings and precautions</td>\n",
       "      <td>embryo fetal toxicity, testicular atrophy, imp...</td>\n",
       "    </tr>\n",
       "    <tr>\n",
       "      <th>2</th>\n",
       "      <td>IMPAVIDO</td>\n",
       "      <td>boxed warnings</td>\n",
       "      <td>embryo fetal toxicity, embryo fetal toxicity, ...</td>\n",
       "    </tr>\n",
       "    <tr>\n",
       "      <th>3</th>\n",
       "      <td>LIVALO</td>\n",
       "      <td>adverse reactions</td>\n",
       "      <td>rhabdomyolysis, myoglobinuria, acute renal fai...</td>\n",
       "    </tr>\n",
       "    <tr>\n",
       "      <th>4</th>\n",
       "      <td>LIVALO</td>\n",
       "      <td>boxed warnings</td>\n",
       "      <td>skeletal muscle effects, myopathy, rhabdomyoly...</td>\n",
       "    </tr>\n",
       "    <tr>\n",
       "      <th>...</th>\n",
       "      <td>...</td>\n",
       "      <td>...</td>\n",
       "      <td>...</td>\n",
       "    </tr>\n",
       "    <tr>\n",
       "      <th>231</th>\n",
       "      <td>ARZERRA</td>\n",
       "      <td>adverse reactions</td>\n",
       "      <td>infusion reactions, hepatitis b virus reactiva...</td>\n",
       "    </tr>\n",
       "    <tr>\n",
       "      <th>232</th>\n",
       "      <td>ARZERRA</td>\n",
       "      <td>warnings and precautions</td>\n",
       "      <td>infusion reactions, tumor lysis syndrome, cyto...</td>\n",
       "    </tr>\n",
       "    <tr>\n",
       "      <th>233</th>\n",
       "      <td>ARZERRA</td>\n",
       "      <td>boxed warnings</td>\n",
       "      <td>hepatitis virus hbv reactivation, hepatitis re...</td>\n",
       "    </tr>\n",
       "    <tr>\n",
       "      <th>234</th>\n",
       "      <td>ESBRIET</td>\n",
       "      <td>adverse reactions</td>\n",
       "      <td>liver enzyme elevations, photosensitivity reac...</td>\n",
       "    </tr>\n",
       "    <tr>\n",
       "      <th>235</th>\n",
       "      <td>ESBRIET</td>\n",
       "      <td>boxed warnings</td>\n",
       "      <td>elevated, bilirubin elevations, photosensitivi...</td>\n",
       "    </tr>\n",
       "  </tbody>\n",
       "</table>\n",
       "<p>236 rows × 3 columns</p>\n",
       "</div>"
      ],
      "text/plain": [
       "    drug_name              section_name  \\\n",
       "0    IMPAVIDO         adverse reactions   \n",
       "1    IMPAVIDO  warnings and precautions   \n",
       "2    IMPAVIDO            boxed warnings   \n",
       "3      LIVALO         adverse reactions   \n",
       "4      LIVALO            boxed warnings   \n",
       "..        ...                       ...   \n",
       "231   ARZERRA         adverse reactions   \n",
       "232   ARZERRA  warnings and precautions   \n",
       "233   ARZERRA            boxed warnings   \n",
       "234   ESBRIET         adverse reactions   \n",
       "235   ESBRIET            boxed warnings   \n",
       "\n",
       "                                            gpt_output  \n",
       "0    nausea, vomiting, diarrhea, headache, decrease...  \n",
       "1    embryo fetal toxicity, testicular atrophy, imp...  \n",
       "2    embryo fetal toxicity, embryo fetal toxicity, ...  \n",
       "3    rhabdomyolysis, myoglobinuria, acute renal fai...  \n",
       "4    skeletal muscle effects, myopathy, rhabdomyoly...  \n",
       "..                                                 ...  \n",
       "231  infusion reactions, hepatitis b virus reactiva...  \n",
       "232  infusion reactions, tumor lysis syndrome, cyto...  \n",
       "233  hepatitis virus hbv reactivation, hepatitis re...  \n",
       "234  liver enzyme elevations, photosensitivity reac...  \n",
       "235  elevated, bilirubin elevations, photosensitivi...  \n",
       "\n",
       "[236 rows x 3 columns]"
      ]
     },
     "execution_count": 5,
     "metadata": {},
     "output_type": "execute_result"
    }
   ],
   "source": [
    "extractions_df"
   ]
  },
  {
   "cell_type": "code",
   "execution_count": 6,
   "metadata": {},
   "outputs": [],
   "source": [
    "# test\n",
    "drug_file = 'data/test_drug_label_text.csv'\n",
    "manual_file = 'data/test_drug_label_text_manual_ades.csv'\n",
    "\n",
    "# my_max = 10000\n",
    "\n",
    "drugs = pd.read_csv(drug_file)\n",
    "manual_ades = pd.read_csv(manual_file)\n",
    "set_type = drug_file.split('/')[1].split('_')[0] # assuming file follows format \"train_...\" or \"test....\""
   ]
  },
  {
   "cell_type": "code",
   "execution_count": 7,
   "metadata": {},
   "outputs": [],
   "source": [
    "outputs = dict()\n",
    "outputs['deepcadrme_test'] = extractions_df"
   ]
  },
  {
   "cell_type": "code",
   "execution_count": 8,
   "metadata": {},
   "outputs": [
    {
     "name": "stdout",
     "output_type": "stream",
     "text": [
      "Running strict evaluation and saving results to disk.\n",
      "deepcadrme_test\n"
     ]
    },
    {
     "name": "stderr",
     "output_type": "stream",
     "text": [
      "100%|██████████| 99/99 [00:01<00:00, 50.82it/s]\n"
     ]
    },
    {
     "name": "stdout",
     "output_type": "stream",
     "text": [
      "Running lenient evaluation and saving results to disk.\n",
      "deepcadrme_test\n"
     ]
    },
    {
     "name": "stderr",
     "output_type": "stream",
     "text": [
      "100%|██████████| 99/99 [00:10<00:00,  9.10it/s]\n"
     ]
    }
   ],
   "source": [
    "evaluate(outputs, manual_ades, 'strict')\n",
    "evaluate(outputs, manual_ades, 'lenient')"
   ]
  },
  {
   "cell_type": "code",
   "execution_count": null,
   "metadata": {},
   "outputs": [],
   "source": []
  }
 ],
 "metadata": {
  "kernelspec": {
   "display_name": "Python 3",
   "language": "python",
   "name": "python3"
  },
  "language_info": {
   "codemirror_mode": {
    "name": "ipython",
    "version": 3
   },
   "file_extension": ".py",
   "mimetype": "text/x-python",
   "name": "python",
   "nbconvert_exporter": "python",
   "pygments_lexer": "ipython3",
   "version": "3.10.0"
  }
 },
 "nbformat": 4,
 "nbformat_minor": 2
}
