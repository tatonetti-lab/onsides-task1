{
 "cells": [
  {
   "cell_type": "code",
   "execution_count": 1,
   "metadata": {},
   "outputs": [],
   "source": [
    "from bs4 import BeautifulSoup\n",
    "import pandas as pd\n",
    "import numpy as np\n",
    "from glob import glob\n",
    "from tqdm import tqdm\n",
    "import re, ast\n",
    "#change to appropriate home folder\n",
    "folder = ''\n",
    "import warnings\n",
    "warnings.filterwarnings('ignore')\n",
    "type_str = 'test'"
   ]
  },
  {
   "cell_type": "code",
   "execution_count": 2,
   "metadata": {},
   "outputs": [],
   "source": [
    "#first try gpt3.5-turbo. change to appropriate apikey.\n",
    "openai_api = ''\n",
    "import os\n",
    "import openai\n",
    "from openai import OpenAI\n",
    "openai.organization = \"\"\n",
    "openai.api_key = openai_api\n"
   ]
  },
  {
   "cell_type": "code",
   "execution_count": 9,
   "metadata": {},
   "outputs": [
    {
     "data": {
      "text/html": [
       "<div>\n",
       "<style scoped>\n",
       "    .dataframe tbody tr th:only-of-type {\n",
       "        vertical-align: middle;\n",
       "    }\n",
       "\n",
       "    .dataframe tbody tr th {\n",
       "        vertical-align: top;\n",
       "    }\n",
       "\n",
       "    .dataframe thead th {\n",
       "        text-align: right;\n",
       "    }\n",
       "</style>\n",
       "<table border=\"1\" class=\"dataframe\">\n",
       "  <thead>\n",
       "    <tr style=\"text-align: right;\">\n",
       "      <th></th>\n",
       "      <th>drug_name</th>\n",
       "      <th>section_name</th>\n",
       "      <th>section_text</th>\n",
       "    </tr>\n",
       "  </thead>\n",
       "  <tbody>\n",
       "    <tr>\n",
       "      <th>0</th>\n",
       "      <td>IMPAVIDO</td>\n",
       "      <td>adverse reactions</td>\n",
       "      <td>6 ADVERSE REACTIONS\\n\\n  Because clinical ...</td>\n",
       "    </tr>\n",
       "  </tbody>\n",
       "</table>\n",
       "</div>"
      ],
      "text/plain": [
       "  drug_name       section_name  \\\n",
       "0  IMPAVIDO  adverse reactions   \n",
       "\n",
       "                                        section_text  \n",
       "0      6 ADVERSE REACTIONS\\n\\n  Because clinical ...  "
      ]
     },
     "execution_count": 9,
     "metadata": {},
     "output_type": "execute_result"
    }
   ],
   "source": [
    "drug_label_text = pd.read_csv(folder+'{}_drug_label_text.csv'.format(type_str))\n",
    "drug_label_text.head(1)"
   ]
  },
  {
   "cell_type": "code",
   "execution_count": 10,
   "metadata": {},
   "outputs": [
    {
     "name": "stdout",
     "output_type": "stream",
     "text": [
      "100897\n"
     ]
    },
    {
     "data": {
      "text/html": [
       "<div>\n",
       "<style scoped>\n",
       "    .dataframe tbody tr th:only-of-type {\n",
       "        vertical-align: middle;\n",
       "    }\n",
       "\n",
       "    .dataframe tbody tr th {\n",
       "        vertical-align: top;\n",
       "    }\n",
       "\n",
       "    .dataframe thead th {\n",
       "        text-align: right;\n",
       "    }\n",
       "</style>\n",
       "<table border=\"1\" class=\"dataframe\">\n",
       "  <thead>\n",
       "    <tr style=\"text-align: right;\">\n",
       "      <th></th>\n",
       "      <th>TTY</th>\n",
       "      <th>CODE</th>\n",
       "      <th>STR</th>\n",
       "      <th>LEN</th>\n",
       "    </tr>\n",
       "  </thead>\n",
       "  <tbody>\n",
       "    <tr>\n",
       "      <th>0</th>\n",
       "      <td>PT</td>\n",
       "      <td>10000647</td>\n",
       "      <td>acute abdomen</td>\n",
       "      <td>13</td>\n",
       "    </tr>\n",
       "  </tbody>\n",
       "</table>\n",
       "</div>"
      ],
      "text/plain": [
       "  TTY      CODE            STR  LEN\n",
       "0  PT  10000647  acute abdomen   13"
      ]
     },
     "execution_count": 10,
     "metadata": {},
     "output_type": "execute_result"
    }
   ],
   "source": [
    "#read in meddra vocabulary, and make dictionary\n",
    "meddra_df = pd.read_csv(folder+'umls_meddra_en.csv')\n",
    "meddra_df = meddra_df[['TTY', 'CODE', 'STR']].drop_duplicates()\n",
    "meddra_df = meddra_df[meddra_df.TTY.isin(['PT', 'LLT'])]\n",
    "meddra_df['STR'] = meddra_df.STR.apply(lambda x: x.lower())\n",
    "meddra_df['LEN'] = meddra_df.STR.apply(lambda x: len(x))\n",
    "meddra_df = meddra_df[meddra_df.LEN >= 5]\n",
    "meddra_dict = dict(zip(meddra_df.STR, meddra_df.CODE))\n",
    "print(meddra_df.shape[0])\n",
    "meddra_df.head(1)"
   ]
  },
  {
   "cell_type": "code",
   "execution_count": 11,
   "metadata": {},
   "outputs": [
    {
     "name": "stderr",
     "output_type": "stream",
     "text": [
      "100%|██████████| 237/237 [01:09<00:00,  3.43it/s]\n"
     ]
    }
   ],
   "source": [
    "found_ades = []\n",
    "meddra_names = meddra_df.STR.tolist()\n",
    "for ade_text in tqdm(drug_label_text.section_text.tolist()):\n",
    "  ar_text = ' '.join(ade_text.split()).lower()\n",
    "  found_terms = []\n",
    "  for concept_name in meddra_names:\n",
    "    if ar_text.find(concept_name) == -1:\n",
    "      continue\n",
    "    else:\n",
    "      found_terms.append(concept_name)\n",
    "  found_ades.append(found_terms)"
   ]
  },
  {
   "cell_type": "code",
   "execution_count": 12,
   "metadata": {},
   "outputs": [
    {
     "data": {
      "text/html": [
       "<div>\n",
       "<style scoped>\n",
       "    .dataframe tbody tr th:only-of-type {\n",
       "        vertical-align: middle;\n",
       "    }\n",
       "\n",
       "    .dataframe tbody tr th {\n",
       "        vertical-align: top;\n",
       "    }\n",
       "\n",
       "    .dataframe thead th {\n",
       "        text-align: right;\n",
       "    }\n",
       "</style>\n",
       "<table border=\"1\" class=\"dataframe\">\n",
       "  <thead>\n",
       "    <tr style=\"text-align: right;\">\n",
       "      <th></th>\n",
       "      <th>drug_name</th>\n",
       "      <th>section_name</th>\n",
       "      <th>section_text</th>\n",
       "      <th>str_match</th>\n",
       "      <th>gpt35_output</th>\n",
       "      <th>gpt4_output</th>\n",
       "    </tr>\n",
       "  </thead>\n",
       "  <tbody>\n",
       "    <tr>\n",
       "      <th>0</th>\n",
       "      <td>IMPAVIDO</td>\n",
       "      <td>adverse reactions</td>\n",
       "      <td>6 ADVERSE REACTIONS\\n\\n  Because clinical ...</td>\n",
       "      <td>[asthenia, dizziness, transaminases, swelling,...</td>\n",
       "      <td>The adverse drug event terms in the given text...</td>\n",
       "      <td>NaN</td>\n",
       "    </tr>\n",
       "    <tr>\n",
       "      <th>1</th>\n",
       "      <td>IMPAVIDO</td>\n",
       "      <td>boxed warnings</td>\n",
       "      <td>\\n\\n    BOXED WARNING: WARNING: EMBRYO-FETAL T...</td>\n",
       "      <td>[pregnancy test, pregnancy, pregnant, death, t...</td>\n",
       "      <td>fetal harm, teratogenicity, pregnancy test, re...</td>\n",
       "      <td>EMBRYO-FETAL TOXICITY, fetal harm, Fetal death...</td>\n",
       "    </tr>\n",
       "    <tr>\n",
       "      <th>2</th>\n",
       "      <td>IMPAVIDO</td>\n",
       "      <td>warnings and precautions</td>\n",
       "      <td>5 WARNINGS AND PRECAUTIONS\\n\\n\\n\\n   EXCER...</td>\n",
       "      <td>[transaminases, pregnant, leishmaniasis, cytop...</td>\n",
       "      <td>Embryo-Fetal Toxicity, Reproductive effects, R...</td>\n",
       "      <td>Embryo-Fetal Toxicity, Reproductive effects, R...</td>\n",
       "    </tr>\n",
       "    <tr>\n",
       "      <th>3</th>\n",
       "      <td>LIVALO</td>\n",
       "      <td>adverse reactions</td>\n",
       "      <td>6 ADVERSE REACTIONS\\n\\n  The following ser...</td>\n",
       "      <td>[asthenia, dizziness, cognitive impairment, tr...</td>\n",
       "      <td>Rhabdomyolysis, myoglobinuria, acute renal fai...</td>\n",
       "      <td>Rhabdomyolysis, myoglobinuria, acute renal fai...</td>\n",
       "    </tr>\n",
       "    <tr>\n",
       "      <th>4</th>\n",
       "      <td>LIVALO</td>\n",
       "      <td>warnings and precautions</td>\n",
       "      <td>5 WARNINGS AND PRECAUTIONS\\n\\n\\n\\n   EXCER...</td>\n",
       "      <td>[transaminases, muscle pain, trauma, rhabdomyo...</td>\n",
       "      <td>myopathy, rhabdomyolysis, hepatic transaminase...</td>\n",
       "      <td>Skeletal muscle effects, myopathy, rhabdomyoly...</td>\n",
       "    </tr>\n",
       "  </tbody>\n",
       "</table>\n",
       "</div>"
      ],
      "text/plain": [
       "  drug_name              section_name  \\\n",
       "0  IMPAVIDO         adverse reactions   \n",
       "1  IMPAVIDO            boxed warnings   \n",
       "2  IMPAVIDO  warnings and precautions   \n",
       "3    LIVALO         adverse reactions   \n",
       "4    LIVALO  warnings and precautions   \n",
       "\n",
       "                                        section_text  \\\n",
       "0      6 ADVERSE REACTIONS\\n\\n  Because clinical ...   \n",
       "1  \\n\\n    BOXED WARNING: WARNING: EMBRYO-FETAL T...   \n",
       "2      5 WARNINGS AND PRECAUTIONS\\n\\n\\n\\n   EXCER...   \n",
       "3      6 ADVERSE REACTIONS\\n\\n  The following ser...   \n",
       "4      5 WARNINGS AND PRECAUTIONS\\n\\n\\n\\n   EXCER...   \n",
       "\n",
       "                                           str_match  \\\n",
       "0  [asthenia, dizziness, transaminases, swelling,...   \n",
       "1  [pregnancy test, pregnancy, pregnant, death, t...   \n",
       "2  [transaminases, pregnant, leishmaniasis, cytop...   \n",
       "3  [asthenia, dizziness, cognitive impairment, tr...   \n",
       "4  [transaminases, muscle pain, trauma, rhabdomyo...   \n",
       "\n",
       "                                        gpt35_output  \\\n",
       "0  The adverse drug event terms in the given text...   \n",
       "1  fetal harm, teratogenicity, pregnancy test, re...   \n",
       "2  Embryo-Fetal Toxicity, Reproductive effects, R...   \n",
       "3  Rhabdomyolysis, myoglobinuria, acute renal fai...   \n",
       "4  myopathy, rhabdomyolysis, hepatic transaminase...   \n",
       "\n",
       "                                         gpt4_output  \n",
       "0                                                NaN  \n",
       "1  EMBRYO-FETAL TOXICITY, fetal harm, Fetal death...  \n",
       "2  Embryo-Fetal Toxicity, Reproductive effects, R...  \n",
       "3  Rhabdomyolysis, myoglobinuria, acute renal fai...  \n",
       "4  Skeletal muscle effects, myopathy, rhabdomyoly...  "
      ]
     },
     "execution_count": 12,
     "metadata": {},
     "output_type": "execute_result"
    }
   ],
   "source": [
    "drug_label_potential_df = drug_label_text.copy()\n",
    "drug_label_potential_df['str_match'] = [list(set(i)) for i in found_ades]\n",
    "gpt35_output = pd.read_csv(folder+'{}_drug_label_gpt35_output.csv'.format(type_str))\n",
    "drug_label_potential_df = drug_label_potential_df.merge(gpt35_output, on=['drug_name', 'section_name'], how = 'left')\n",
    "gpt4_output = pd.read_csv(folder+'{}_drug_label_gpt4_output.csv'.format(type_str))\n",
    "drug_label_potential_df = drug_label_potential_df.merge(gpt4_output, on=['drug_name', 'section_name'], how = 'left')\n",
    "drug_label_potential_df.to_csv(folder+'{}_drug_label_text_potential_terms.csv'.format(type_str), index=False)\n",
    "drug_label_potential_df.head()"
   ]
  },
  {
   "cell_type": "code",
   "execution_count": 4,
   "metadata": {},
   "outputs": [],
   "source": [
    "drug_label_potential_df = pd.read_csv(folder+'{}_drug_label_text_potential_terms.csv'.format(type_str))\n",
    "drug_label_potential_df['str_match'] = drug_label_potential_df['str_match'].apply(lambda x: ast.literal_eval(x))\n",
    "drug_label_potential_df['str_match_num'] = drug_label_potential_df['str_match'].apply(lambda x: len(x))"
   ]
  },
  {
   "cell_type": "code",
   "execution_count": 5,
   "metadata": {},
   "outputs": [
    {
     "data": {
      "text/plain": [
       "count    237.000000\n",
       "mean      47.704641\n",
       "std       38.882119\n",
       "min        0.000000\n",
       "25%       18.000000\n",
       "50%       40.000000\n",
       "75%       67.000000\n",
       "max      229.000000\n",
       "Name: str_match_num, dtype: float64"
      ]
     },
     "execution_count": 5,
     "metadata": {},
     "output_type": "execute_result"
    }
   ],
   "source": [
    "drug_label_potential_df['str_match_num'].describe()"
   ]
  }
 ],
 "metadata": {
  "kernelspec": {
   "display_name": "base",
   "language": "python",
   "name": "python3"
  },
  "language_info": {
   "codemirror_mode": {
    "name": "ipython",
    "version": 3
   },
   "file_extension": ".py",
   "mimetype": "text/x-python",
   "name": "python",
   "nbconvert_exporter": "python",
   "pygments_lexer": "ipython3",
   "version": "3.11.4"
  }
 },
 "nbformat": 4,
 "nbformat_minor": 2
}
