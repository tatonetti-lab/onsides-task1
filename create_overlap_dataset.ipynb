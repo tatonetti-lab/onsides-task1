{
 "cells": [
  {
   "cell_type": "code",
   "execution_count": 11,
   "metadata": {},
   "outputs": [],
   "source": [
    "from bs4 import BeautifulSoup\n",
    "import pandas as pd\n",
    "import numpy as np\n",
    "from glob import glob\n",
    "from tqdm import tqdm\n",
    "import re\n",
    "from math import floor\n",
    "from random import randint"
   ]
  },
  {
   "cell_type": "code",
   "execution_count": 2,
   "metadata": {},
   "outputs": [
    {
     "data": {
      "text/plain": [
       "True"
      ]
     },
     "execution_count": 2,
     "metadata": {},
     "output_type": "execute_result"
    }
   ],
   "source": [
    "import os\n",
    "os.path.exists('train_xml/')"
   ]
  },
  {
   "cell_type": "code",
   "execution_count": 3,
   "metadata": {},
   "outputs": [
    {
     "name": "stderr",
     "output_type": "stream",
     "text": [
      "  0%|          | 0/101 [00:00<?, ?it/s]"
     ]
    },
    {
     "name": "stderr",
     "output_type": "stream",
     "text": [
      "100%|██████████| 101/101 [00:00<00:00, 135.35it/s]\n"
     ]
    },
    {
     "data": {
      "text/html": [
       "<div>\n",
       "<style scoped>\n",
       "    .dataframe tbody tr th:only-of-type {\n",
       "        vertical-align: middle;\n",
       "    }\n",
       "\n",
       "    .dataframe tbody tr th {\n",
       "        vertical-align: top;\n",
       "    }\n",
       "\n",
       "    .dataframe thead th {\n",
       "        text-align: right;\n",
       "    }\n",
       "</style>\n",
       "<table border=\"1\" class=\"dataframe\">\n",
       "  <thead>\n",
       "    <tr style=\"text-align: right;\">\n",
       "      <th></th>\n",
       "      <th>drug_name</th>\n",
       "      <th>section</th>\n",
       "      <th>start</th>\n",
       "      <th>len</th>\n",
       "      <th>term</th>\n",
       "    </tr>\n",
       "  </thead>\n",
       "  <tbody>\n",
       "    <tr>\n",
       "      <th>11196</th>\n",
       "      <td>ADCETRIS</td>\n",
       "      <td>S1</td>\n",
       "      <td>17377</td>\n",
       "      <td>7</td>\n",
       "      <td>dyspnea</td>\n",
       "    </tr>\n",
       "    <tr>\n",
       "      <th>11052</th>\n",
       "      <td>ADCETRIS</td>\n",
       "      <td>S1</td>\n",
       "      <td>516</td>\n",
       "      <td>20</td>\n",
       "      <td>Tumor Lysis Syndrome</td>\n",
       "    </tr>\n",
       "    <tr>\n",
       "      <th>11053</th>\n",
       "      <td>ADCETRIS</td>\n",
       "      <td>S1</td>\n",
       "      <td>595</td>\n",
       "      <td>18</td>\n",
       "      <td>Increased Toxicity</td>\n",
       "    </tr>\n",
       "    <tr>\n",
       "      <th>11054</th>\n",
       "      <td>ADCETRIS</td>\n",
       "      <td>S1</td>\n",
       "      <td>715</td>\n",
       "      <td>18</td>\n",
       "      <td>Increased Toxicity</td>\n",
       "    </tr>\n",
       "    <tr>\n",
       "      <th>11055</th>\n",
       "      <td>ADCETRIS</td>\n",
       "      <td>S1</td>\n",
       "      <td>849</td>\n",
       "      <td>14</td>\n",
       "      <td>Hepatotoxicity</td>\n",
       "    </tr>\n",
       "  </tbody>\n",
       "</table>\n",
       "</div>"
      ],
      "text/plain": [
       "      drug_name section  start len                  term\n",
       "11196  ADCETRIS      S1  17377   7               dyspnea\n",
       "11052  ADCETRIS      S1    516  20  Tumor Lysis Syndrome\n",
       "11053  ADCETRIS      S1    595  18    Increased Toxicity\n",
       "11054  ADCETRIS      S1    715  18    Increased Toxicity\n",
       "11055  ADCETRIS      S1    849  14        Hepatotoxicity"
      ]
     },
     "execution_count": 3,
     "metadata": {},
     "output_type": "execute_result"
    }
   ],
   "source": [
    "train_labels = glob('train_xml/*.xml')\n",
    "drug_label_text = []\n",
    "for label in tqdm(train_labels):\n",
    "    drug_name = label.split('/')[-1].split('.')[0]\n",
    "    with open(label, 'r') as f:\n",
    "        soup = BeautifulSoup(f, 'xml')\n",
    "    for mention in soup.find_all('Mention'):\n",
    "        if mention['type'] == \"AdverseReaction\":\n",
    "            section = mention['section']\n",
    "            start = mention['start']\n",
    "            length = mention['len']\n",
    "            term = mention['str']\n",
    "\n",
    "            drug_label_text.append([drug_name, section, start, length, term])\n",
    "drug_label_text = pd.DataFrame(drug_label_text, columns=['drug_name', 'section', 'start', 'len', 'term'])\n",
    "drug_label_text.sort_values(by = 'drug_name').head()"
   ]
  },
  {
   "cell_type": "code",
   "execution_count": 4,
   "metadata": {},
   "outputs": [
    {
     "data": {
      "text/html": [
       "<div>\n",
       "<style scoped>\n",
       "    .dataframe tbody tr th:only-of-type {\n",
       "        vertical-align: middle;\n",
       "    }\n",
       "\n",
       "    .dataframe tbody tr th {\n",
       "        vertical-align: top;\n",
       "    }\n",
       "\n",
       "    .dataframe thead th {\n",
       "        text-align: right;\n",
       "    }\n",
       "</style>\n",
       "<table border=\"1\" class=\"dataframe\">\n",
       "  <thead>\n",
       "    <tr style=\"text-align: right;\">\n",
       "      <th></th>\n",
       "      <th>drug_name</th>\n",
       "      <th>section_name</th>\n",
       "      <th>section_text</th>\n",
       "    </tr>\n",
       "  </thead>\n",
       "  <tbody>\n",
       "    <tr>\n",
       "      <th>212</th>\n",
       "      <td>ADCETRIS</td>\n",
       "      <td>adverse reactions</td>\n",
       "      <td>6 ADVERSE REACTIONS\\n\\n  The following ser...</td>\n",
       "    </tr>\n",
       "    <tr>\n",
       "      <th>59</th>\n",
       "      <td>ADREVIEW</td>\n",
       "      <td>adverse reactions</td>\n",
       "      <td>6 ADVERSE REACTIONS\\n\\n  EXCERPT:   Seriou...</td>\n",
       "    </tr>\n",
       "    <tr>\n",
       "      <th>157</th>\n",
       "      <td>AFINITOR</td>\n",
       "      <td>adverse reactions</td>\n",
       "      <td>6     ADVERSE REACTIONS\\n\\n  The following...</td>\n",
       "    </tr>\n",
       "    <tr>\n",
       "      <th>237</th>\n",
       "      <td>AMPYRA</td>\n",
       "      <td>adverse reactions</td>\n",
       "      <td>6 ADVERSE REACTIONS\\n\\n  Because clinical ...</td>\n",
       "    </tr>\n",
       "    <tr>\n",
       "      <th>176</th>\n",
       "      <td>AMYVID</td>\n",
       "      <td>adverse reactions</td>\n",
       "      <td>6 ADVERSE REACTIONS\\n\\n  EXCERPT:   The mo...</td>\n",
       "    </tr>\n",
       "  </tbody>\n",
       "</table>\n",
       "</div>"
      ],
      "text/plain": [
       "    drug_name       section_name  \\\n",
       "212  ADCETRIS  adverse reactions   \n",
       "59   ADREVIEW  adverse reactions   \n",
       "157  AFINITOR  adverse reactions   \n",
       "237    AMPYRA  adverse reactions   \n",
       "176    AMYVID  adverse reactions   \n",
       "\n",
       "                                          section_text  \n",
       "212      6 ADVERSE REACTIONS\\n\\n  The following ser...  \n",
       "59       6 ADVERSE REACTIONS\\n\\n  EXCERPT:   Seriou...  \n",
       "157      6     ADVERSE REACTIONS\\n\\n  The following...  \n",
       "237      6 ADVERSE REACTIONS\\n\\n  Because clinical ...  \n",
       "176      6 ADVERSE REACTIONS\\n\\n  EXCERPT:   The mo...  "
      ]
     },
     "execution_count": 4,
     "metadata": {},
     "output_type": "execute_result"
    }
   ],
   "source": [
    "data = pd.read_csv('data/train_drug_label_text.csv').query('section_name == \"adverse reactions\"')\n",
    "data.sort_values(by = 'drug_name').head()"
   ]
  },
  {
   "cell_type": "code",
   "execution_count": 5,
   "metadata": {},
   "outputs": [
    {
     "data": {
      "text/plain": [
       "'Increased Toxicity'"
      ]
     },
     "execution_count": 5,
     "metadata": {},
     "output_type": "execute_result"
    }
   ],
   "source": [
    "data.section_text[212][595:(595+18)]"
   ]
  },
  {
   "cell_type": "code",
   "execution_count": 112,
   "metadata": {},
   "outputs": [
    {
     "name": "stdout",
     "output_type": "stream",
     "text": [
      "6\n",
      "10\n",
      "10\n",
      "12\n",
      "12\n",
      "12\n",
      "12\n",
      "12\n",
      "12\n",
      "13\n",
      "12\n",
      "12\n",
      "12\n",
      "13\n",
      "13\n",
      "13\n",
      "13\n",
      "13\n",
      "13\n",
      "12\n",
      "12\n",
      "12\n",
      "12\n",
      "12\n",
      "12\n",
      "12\n",
      "12\n",
      "12\n",
      "12\n",
      "12\n",
      "12\n",
      "12\n",
      "13\n",
      "13\n",
      "13\n",
      "2\n",
      "2\n"
     ]
    },
    {
     "ename": "ValueError",
     "evalue": "empty range for randrange() (1, 1, 0)",
     "output_type": "error",
     "traceback": [
      "\u001b[0;31m---------------------------------------------------------------------------\u001b[0m",
      "\u001b[0;31mValueError\u001b[0m                                Traceback (most recent call last)",
      "Cell \u001b[0;32mIn[112], line 27\u001b[0m\n\u001b[1;32m     25\u001b[0m     start_diff \u001b[38;5;241m=\u001b[39m randint(\u001b[38;5;241m0\u001b[39m, \u001b[38;5;28mlen\u001b[39m(term\u001b[38;5;241m.\u001b[39msplit())\u001b[38;5;241m-\u001b[39m\u001b[38;5;241m1\u001b[39m)\n\u001b[1;32m     26\u001b[0m     sub_term \u001b[38;5;241m=\u001b[39m term\u001b[38;5;241m.\u001b[39msplit()[start_diff:]\n\u001b[0;32m---> 27\u001b[0m     end_diff \u001b[38;5;241m=\u001b[39m randint(\u001b[38;5;241m1\u001b[39m, num_extra_words)\n\u001b[1;32m     28\u001b[0m     overlap_data\u001b[38;5;241m.\u001b[39mappend([drug, adverse_event,\n\u001b[1;32m     29\u001b[0m                           \u001b[38;5;124m'\u001b[39m\u001b[38;5;124m \u001b[39m\u001b[38;5;124m'\u001b[39m\u001b[38;5;241m.\u001b[39mjoin(sub_term \u001b[38;5;241m+\u001b[39m after[\u001b[38;5;241m0\u001b[39m:end_diff]), \u001b[38;5;241m1\u001b[39m])\n\u001b[1;32m     30\u001b[0m \u001b[38;5;28;01melse\u001b[39;00m:\n",
      "File \u001b[0;32m~/opt/anaconda3/envs/llm_cpus/lib/python3.11/random.py:362\u001b[0m, in \u001b[0;36mRandom.randint\u001b[0;34m(self, a, b)\u001b[0m\n\u001b[1;32m    358\u001b[0m \u001b[38;5;28;01mdef\u001b[39;00m \u001b[38;5;21mrandint\u001b[39m(\u001b[38;5;28mself\u001b[39m, a, b):\n\u001b[1;32m    359\u001b[0m \u001b[38;5;250m    \u001b[39m\u001b[38;5;124;03m\"\"\"Return random integer in range [a, b], including both end points.\u001b[39;00m\n\u001b[1;32m    360\u001b[0m \u001b[38;5;124;03m    \"\"\"\u001b[39;00m\n\u001b[0;32m--> 362\u001b[0m     \u001b[38;5;28;01mreturn\u001b[39;00m \u001b[38;5;28mself\u001b[39m\u001b[38;5;241m.\u001b[39mrandrange(a, b\u001b[38;5;241m+\u001b[39m\u001b[38;5;241m1\u001b[39m)\n",
      "File \u001b[0;32m~/opt/anaconda3/envs/llm_cpus/lib/python3.11/random.py:345\u001b[0m, in \u001b[0;36mRandom.randrange\u001b[0;34m(self, start, stop, step)\u001b[0m\n\u001b[1;32m    343\u001b[0m     \u001b[38;5;28;01mif\u001b[39;00m width \u001b[38;5;241m>\u001b[39m \u001b[38;5;241m0\u001b[39m:\n\u001b[1;32m    344\u001b[0m         \u001b[38;5;28;01mreturn\u001b[39;00m istart \u001b[38;5;241m+\u001b[39m \u001b[38;5;28mself\u001b[39m\u001b[38;5;241m.\u001b[39m_randbelow(width)\n\u001b[0;32m--> 345\u001b[0m     \u001b[38;5;28;01mraise\u001b[39;00m \u001b[38;5;167;01mValueError\u001b[39;00m(\u001b[38;5;124m\"\u001b[39m\u001b[38;5;124mempty range for randrange() (\u001b[39m\u001b[38;5;132;01m%d\u001b[39;00m\u001b[38;5;124m, \u001b[39m\u001b[38;5;132;01m%d\u001b[39;00m\u001b[38;5;124m, \u001b[39m\u001b[38;5;132;01m%d\u001b[39;00m\u001b[38;5;124m)\u001b[39m\u001b[38;5;124m\"\u001b[39m \u001b[38;5;241m%\u001b[39m (istart, istop, width))\n\u001b[1;32m    347\u001b[0m \u001b[38;5;66;03m# Non-unit step argument supplied.\u001b[39;00m\n\u001b[1;32m    348\u001b[0m \u001b[38;5;28;01mif\u001b[39;00m istep \u001b[38;5;241m>\u001b[39m \u001b[38;5;241m0\u001b[39m:\n",
      "\u001b[0;31mValueError\u001b[0m: empty range for randrange() (1, 1, 0)"
     ]
    }
   ],
   "source": [
    "count = 0\n",
    "overlap_data = []\n",
    "context_size = 100\n",
    "for row in drug_label_text.itertuples():\n",
    "    drug = row.drug_name\n",
    "    sub_data = data[data.drug_name == drug].section_text.values[0]\n",
    "    adverse_event = row.term\n",
    "    if len(row.start.split(',')) <= 1:\n",
    "        before = re.sub(r'[^A-Za-z ]+', '', \n",
    "        sub_data[int(row.start)-context_size:int(row.start)]).split()\n",
    "        after = re.sub(r'[^A-Za-z ]+', '',\n",
    "        sub_data[int(row.start)+int(row.len):int(row.start)+int(row.len)+context_size]).split()\n",
    "        term = sub_data[int(row.start):int(row.start)+int(row.len)]\n",
    "        num_overlap = randint(0, 10)\n",
    "        num_extra_words = min([5, len(before), len(after)])\n",
    "        for i in range(num_overlap):\n",
    "            option = randint(0, 5)\n",
    "            if option == 0: # start - X: end + Y\n",
    "                start_diff = randint(1, num_extra_words) * -1\n",
    "                end_diff = randint(0, num_extra_words)\n",
    "                overlap_data.append([drug, adverse_event,\n",
    "                                     ' '.join(before[start_diff:-1] + [term] + after[0:end_diff]), 1])\n",
    "            elif option == 1: # start + X: end + Y\n",
    "                if len(term.split()) > 1:\n",
    "                    start_diff = randint(0, len(term.split())-1)\n",
    "                    sub_term = term.split()[start_diff:]\n",
    "                    end_diff = randint(1, num_extra_words)\n",
    "                    overlap_data.append([drug, adverse_event,\n",
    "                                          ' '.join(sub_term + after[0:end_diff]), 1])\n",
    "                else:\n",
    "                    overlap_data.append([drug, adverse_event,\n",
    "                                        ' '.join([term] + after[0:end_diff]), 1])\n",
    "            elif option == 2: # start - X: end - Y\n",
    "                if len(term.split()) > 1:\n",
    "                    end_diff = randint(1, len(term.split())-1)\n",
    "                    sub_term = term.split()[:end_diff]\n",
    "                    start_diff = randint(1, num_extra_words)\n",
    "                    overlap_data.append([drug, adverse_event,\n",
    "                                          ' '.join(before[-start_diff:] + sub_term), 1])\n",
    "                else:\n",
    "                    overlap_data.append([drug, adverse_event,\n",
    "                                          ' '.join([term] + after[0:end_diff]), 1])\n",
    "            elif option in [3,4,5]: # no overlap\n",
    "                # either context after or context from before\n",
    "                before_or_after = randint(0, 1)\n",
    "                if before_or_after == 0:\n",
    "                    try:\n",
    "                        start = randint(1, (len(before))-1)\n",
    "                        end = randint(start, len(before))\n",
    "                        overlap_data.append([drug, adverse_event,\n",
    "                                            ' '.join(before[start:end]), 0])\n",
    "                    except:\n",
    "                        overlap_data.append([drug, adverse_event,\n",
    "                                            ' '.join(before), 0])\n",
    "                else:\n",
    "                    try:\n",
    "                        start = randint(0, len(after))\n",
    "                        end = randint(start, len(after))\n",
    "                        overlap_data.append([drug, adverse_event,\n",
    "                                            ' '.join(after[start:end]), 0])\n",
    "                    except:\n",
    "                        overlap_data.append([drug, adverse_event,\n",
    "                                            ' '.join(after), 0])"
   ]
  },
  {
   "cell_type": "code",
   "execution_count": null,
   "metadata": {},
   "outputs": [],
   "source": []
  }
 ],
 "metadata": {
  "kernelspec": {
   "display_name": "llm_cpus",
   "language": "python",
   "name": "python3"
  },
  "language_info": {
   "codemirror_mode": {
    "name": "ipython",
    "version": 3
   },
   "file_extension": ".py",
   "mimetype": "text/x-python",
   "name": "python",
   "nbconvert_exporter": "python",
   "pygments_lexer": "ipython3",
   "version": "3.11.7"
  }
 },
 "nbformat": 4,
 "nbformat_minor": 2
}
